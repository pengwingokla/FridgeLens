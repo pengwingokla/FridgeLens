{
 "cells": [
  {
   "cell_type": "code",
   "execution_count": 1,
   "metadata": {},
   "outputs": [],
   "source": [
    "import torch\n",
    "import torchvision"
   ]
  },
  {
   "cell_type": "code",
   "execution_count": 2,
   "metadata": {},
   "outputs": [],
   "source": [
    "from ultralytics import YOLO\n",
    "model = YOLO('yolov8n.pt')"
   ]
  },
  {
   "cell_type": "code",
   "execution_count": 2,
   "metadata": {},
   "outputs": [
    {
     "name": "stdout",
     "output_type": "stream",
     "text": [
      "New https://pypi.org/project/ultralytics/8.2.94 available 😃 Update with 'pip install -U ultralytics'\n",
      "Ultralytics YOLOv8.2.90 🚀 Python-3.8.19 torch-2.4.1 CPU (Apple M1 Pro)\n",
      "\u001b[34m\u001b[1mengine/trainer: \u001b[0mtask=detect, mode=train, model=yolov8n.pt, data=/Users/trangttdang/Downloads/food_data_1/data.yaml, epochs=50, time=None, patience=100, batch=16, imgsz=640, save=True, save_period=-1, cache=False, device=None, workers=8, project=None, name=train2, exist_ok=False, pretrained=True, optimizer=auto, verbose=True, seed=0, deterministic=True, single_cls=False, rect=False, cos_lr=False, close_mosaic=10, resume=False, amp=True, fraction=1.0, profile=False, freeze=None, multi_scale=False, overlap_mask=True, mask_ratio=4, dropout=0.0, val=True, split=val, save_json=False, save_hybrid=False, conf=None, iou=0.7, max_det=300, half=False, dnn=False, plots=True, source=None, vid_stride=1, stream_buffer=False, visualize=False, augment=False, agnostic_nms=False, classes=None, retina_masks=False, embed=None, show=False, save_frames=False, save_txt=False, save_conf=False, save_crop=False, show_labels=True, show_conf=True, show_boxes=True, line_width=None, format=torchscript, keras=False, optimize=False, int8=False, dynamic=False, simplify=False, opset=None, workspace=4, nms=False, lr0=0.01, lrf=0.01, momentum=0.937, weight_decay=0.0005, warmup_epochs=3.0, warmup_momentum=0.8, warmup_bias_lr=0.1, box=7.5, cls=0.5, dfl=1.5, pose=12.0, kobj=1.0, label_smoothing=0.0, nbs=64, hsv_h=0.015, hsv_s=0.7, hsv_v=0.4, degrees=0.0, translate=0.1, scale=0.5, shear=0.0, perspective=0.0, flipud=0.0, fliplr=0.5, bgr=0.0, mosaic=1.0, mixup=0.0, copy_paste=0.0, auto_augment=randaugment, erasing=0.4, crop_fraction=1.0, cfg=None, tracker=botsort.yaml, save_dir=runs/detect/train2\n",
      "Overriding model.yaml nc=80 with nc=101\n",
      "\n",
      "                   from  n    params  module                                       arguments                     \n",
      "  0                  -1  1       464  ultralytics.nn.modules.conv.Conv             [3, 16, 3, 2]                 \n",
      "  1                  -1  1      4672  ultralytics.nn.modules.conv.Conv             [16, 32, 3, 2]                \n",
      "  2                  -1  1      7360  ultralytics.nn.modules.block.C2f             [32, 32, 1, True]             \n",
      "  3                  -1  1     18560  ultralytics.nn.modules.conv.Conv             [32, 64, 3, 2]                \n",
      "  4                  -1  2     49664  ultralytics.nn.modules.block.C2f             [64, 64, 2, True]             \n",
      "  5                  -1  1     73984  ultralytics.nn.modules.conv.Conv             [64, 128, 3, 2]               \n",
      "  6                  -1  2    197632  ultralytics.nn.modules.block.C2f             [128, 128, 2, True]           \n",
      "  7                  -1  1    295424  ultralytics.nn.modules.conv.Conv             [128, 256, 3, 2]              \n",
      "  8                  -1  1    460288  ultralytics.nn.modules.block.C2f             [256, 256, 1, True]           \n",
      "  9                  -1  1    164608  ultralytics.nn.modules.block.SPPF            [256, 256, 5]                 \n",
      " 10                  -1  1         0  torch.nn.modules.upsampling.Upsample         [None, 2, 'nearest']          \n",
      " 11             [-1, 6]  1         0  ultralytics.nn.modules.conv.Concat           [1]                           \n",
      " 12                  -1  1    148224  ultralytics.nn.modules.block.C2f             [384, 128, 1]                 \n",
      " 13                  -1  1         0  torch.nn.modules.upsampling.Upsample         [None, 2, 'nearest']          \n",
      " 14             [-1, 4]  1         0  ultralytics.nn.modules.conv.Concat           [1]                           \n",
      " 15                  -1  1     37248  ultralytics.nn.modules.block.C2f             [192, 64, 1]                  \n",
      " 16                  -1  1     36992  ultralytics.nn.modules.conv.Conv             [64, 64, 3, 2]                \n",
      " 17            [-1, 12]  1         0  ultralytics.nn.modules.conv.Concat           [1]                           \n",
      " 18                  -1  1    123648  ultralytics.nn.modules.block.C2f             [192, 128, 1]                 \n",
      " 19                  -1  1    147712  ultralytics.nn.modules.conv.Conv             [128, 128, 3, 2]              \n",
      " 20             [-1, 9]  1         0  ultralytics.nn.modules.conv.Concat           [1]                           \n",
      " 21                  -1  1    493056  ultralytics.nn.modules.block.C2f             [384, 256, 1]                 \n",
      " 22        [15, 18, 21]  1   1086907  ultralytics.nn.modules.head.Detect           [101, [64, 128, 256]]         \n",
      "Model summary: 225 layers, 3,346,443 parameters, 3,346,427 gradients\n",
      "\n",
      "Transferred 319/355 items from pretrained weights\n",
      "Freezing layer 'model.22.dfl.conv.weight'\n"
     ]
    },
    {
     "name": "stderr",
     "output_type": "stream",
     "text": [
      "\u001b[34m\u001b[1mtrain: \u001b[0mScanning /Users/trangttdang/Downloads/food_data_1/train/labels... 4854 images, 0 backgrounds, 1134 corrupt: 100%|██████████| 5988/5988 [00:02<00:00, 2164.08it/s]"
     ]
    },
    {
     "name": "stdout",
     "output_type": "stream",
     "text": [
      "\u001b[34m\u001b[1mtrain: \u001b[0mWARNING ⚠️ /Users/trangttdang/Downloads/food_data_1/train/images/DSC_6048_JPG_jpg.rf.b75e0d6ca60a591722da2868e714874d.jpg: ignoring corrupt image/label: cannot identify image file '/Users/trangttdang/Downloads/food_data_1/train/images/DSC_6048_JPG_jpg.rf.b75e0d6ca60a591722da2868e714874d.jpg'\n",
      "\u001b[34m\u001b[1mtrain: \u001b[0mWARNING ⚠️ /Users/trangttdang/Downloads/food_data_1/train/images/DSC_6048_JPG_jpg.rf.b8c1c495071717321eefc545cb84e602.jpg: ignoring corrupt image/label: cannot identify image file '/Users/trangttdang/Downloads/food_data_1/train/images/DSC_6048_JPG_jpg.rf.b8c1c495071717321eefc545cb84e602.jpg'\n",
      "\u001b[34m\u001b[1mtrain: \u001b[0mWARNING ⚠️ /Users/trangttdang/Downloads/food_data_1/train/images/DSC_6048_JPG_jpg.rf.ee1c3d716bea57ca9a0cd7081dd091a5.jpg: ignoring corrupt image/label: cannot identify image file '/Users/trangttdang/Downloads/food_data_1/train/images/DSC_6048_JPG_jpg.rf.ee1c3d716bea57ca9a0cd7081dd091a5.jpg'\n",
      "\u001b[34m\u001b[1mtrain: \u001b[0mWARNING ⚠️ /Users/trangttdang/Downloads/food_data_1/train/images/DSC_6049_JPG_jpg.rf.16d280ee876f2e3ede896bbb73d11994.jpg: ignoring corrupt image/label: cannot identify image file '/Users/trangttdang/Downloads/food_data_1/train/images/DSC_6049_JPG_jpg.rf.16d280ee876f2e3ede896bbb73d11994.jpg'\n",
      "\u001b[34m\u001b[1mtrain: \u001b[0mWARNING ⚠️ /Users/trangttdang/Downloads/food_data_1/train/images/DSC_6049_JPG_jpg.rf.1d8d8bf82ad7a919e1211b046f168289.jpg: ignoring corrupt image/label: cannot identify image file '/Users/trangttdang/Downloads/food_data_1/train/images/DSC_6049_JPG_jpg.rf.1d8d8bf82ad7a919e1211b046f168289.jpg'\n",
      "\u001b[34m\u001b[1mtrain: \u001b[0mWARNING ⚠️ /Users/trangttdang/Downloads/food_data_1/train/images/DSC_6049_JPG_jpg.rf.20263a531efc083f9866eaa4c25dbd89.jpg: ignoring corrupt image/label: cannot identify image file '/Users/trangttdang/Downloads/food_data_1/train/images/DSC_6049_JPG_jpg.rf.20263a531efc083f9866eaa4c25dbd89.jpg'\n",
      "\u001b[34m\u001b[1mtrain: \u001b[0mWARNING ⚠️ /Users/trangttdang/Downloads/food_data_1/train/images/DSC_6049_JPG_jpg.rf.24145f9f8dc67c5a8966750db3c45b09.jpg: ignoring corrupt image/label: cannot identify image file '/Users/trangttdang/Downloads/food_data_1/train/images/DSC_6049_JPG_jpg.rf.24145f9f8dc67c5a8966750db3c45b09.jpg'\n",
      "\u001b[34m\u001b[1mtrain: \u001b[0mWARNING ⚠️ /Users/trangttdang/Downloads/food_data_1/train/images/DSC_6049_JPG_jpg.rf.5a27519cee3810c7e2318cfa3b3cc28b.jpg: ignoring corrupt image/label: cannot identify image file '/Users/trangttdang/Downloads/food_data_1/train/images/DSC_6049_JPG_jpg.rf.5a27519cee3810c7e2318cfa3b3cc28b.jpg'\n",
      "\u001b[34m\u001b[1mtrain: \u001b[0mWARNING ⚠️ /Users/trangttdang/Downloads/food_data_1/train/images/DSC_6049_JPG_jpg.rf.8322d404f35db1fd1281936f682a103f.jpg: ignoring corrupt image/label: cannot identify image file '/Users/trangttdang/Downloads/food_data_1/train/images/DSC_6049_JPG_jpg.rf.8322d404f35db1fd1281936f682a103f.jpg'\n",
      "\u001b[34m\u001b[1mtrain: \u001b[0mWARNING ⚠️ /Users/trangttdang/Downloads/food_data_1/train/images/DSC_6049_JPG_jpg.rf.84569dc6cf1d42248f61f5f0b7b633f0.jpg: ignoring corrupt image/label: cannot identify image file '/Users/trangttdang/Downloads/food_data_1/train/images/DSC_6049_JPG_jpg.rf.84569dc6cf1d42248f61f5f0b7b633f0.jpg'\n",
      "\u001b[34m\u001b[1mtrain: \u001b[0mWARNING ⚠️ /Users/trangttdang/Downloads/food_data_1/train/images/DSC_6049_JPG_jpg.rf.95b11e75c8b68b753a6720be3817695c.jpg: ignoring corrupt image/label: cannot identify image file '/Users/trangttdang/Downloads/food_data_1/train/images/DSC_6049_JPG_jpg.rf.95b11e75c8b68b753a6720be3817695c.jpg'\n",
      "\u001b[34m\u001b[1mtrain: \u001b[0mWARNING ⚠️ /Users/trangttdang/Downloads/food_data_1/train/images/DSC_6049_JPG_jpg.rf.a273f473ce00b8b4cfea075274464e3d.jpg: ignoring corrupt image/label: cannot identify image file '/Users/trangttdang/Downloads/food_data_1/train/images/DSC_6049_JPG_jpg.rf.a273f473ce00b8b4cfea075274464e3d.jpg'\n",
      "\u001b[34m\u001b[1mtrain: \u001b[0mWARNING ⚠️ /Users/trangttdang/Downloads/food_data_1/train/images/DSC_6050_JPG_jpg.rf.3b7eaf25bf6e7de798ce3b403fa7d5b0.jpg: ignoring corrupt image/label: cannot identify image file '/Users/trangttdang/Downloads/food_data_1/train/images/DSC_6050_JPG_jpg.rf.3b7eaf25bf6e7de798ce3b403fa7d5b0.jpg'\n",
      "\u001b[34m\u001b[1mtrain: \u001b[0mWARNING ⚠️ /Users/trangttdang/Downloads/food_data_1/train/images/DSC_6050_JPG_jpg.rf.5e51d42dd8c9f228385029f5eaf7e33d.jpg: ignoring corrupt image/label: cannot identify image file '/Users/trangttdang/Downloads/food_data_1/train/images/DSC_6050_JPG_jpg.rf.5e51d42dd8c9f228385029f5eaf7e33d.jpg'\n",
      "\u001b[34m\u001b[1mtrain: \u001b[0mWARNING ⚠️ /Users/trangttdang/Downloads/food_data_1/train/images/DSC_6050_JPG_jpg.rf.7ac98313443542e1ed6962cd1d5b99bc.jpg: ignoring corrupt image/label: cannot identify image file '/Users/trangttdang/Downloads/food_data_1/train/images/DSC_6050_JPG_jpg.rf.7ac98313443542e1ed6962cd1d5b99bc.jpg'\n",
      "\u001b[34m\u001b[1mtrain: \u001b[0mWARNING ⚠️ /Users/trangttdang/Downloads/food_data_1/train/images/DSC_6050_JPG_jpg.rf.925caef54133e058b80a547468971b1c.jpg: ignoring corrupt image/label: cannot identify image file '/Users/trangttdang/Downloads/food_data_1/train/images/DSC_6050_JPG_jpg.rf.925caef54133e058b80a547468971b1c.jpg'\n",
      "\u001b[34m\u001b[1mtrain: \u001b[0mWARNING ⚠️ /Users/trangttdang/Downloads/food_data_1/train/images/DSC_6050_JPG_jpg.rf.b5ead21cdf14ac5b825b14968b964090.jpg: ignoring corrupt image/label: cannot identify image file '/Users/trangttdang/Downloads/food_data_1/train/images/DSC_6050_JPG_jpg.rf.b5ead21cdf14ac5b825b14968b964090.jpg'\n",
      "\u001b[34m\u001b[1mtrain: \u001b[0mWARNING ⚠️ /Users/trangttdang/Downloads/food_data_1/train/images/DSC_6050_JPG_jpg.rf.c22bca73f94b4ea2b64985d97bd52831.jpg: ignoring corrupt image/label: cannot identify image file '/Users/trangttdang/Downloads/food_data_1/train/images/DSC_6050_JPG_jpg.rf.c22bca73f94b4ea2b64985d97bd52831.jpg'\n",
      "\u001b[34m\u001b[1mtrain: \u001b[0mWARNING ⚠️ /Users/trangttdang/Downloads/food_data_1/train/images/DSC_6050_JPG_jpg.rf.fcecaffe1393dcb194ac5c39bfdc6d0d.jpg: ignoring corrupt image/label: cannot identify image file '/Users/trangttdang/Downloads/food_data_1/train/images/DSC_6050_JPG_jpg.rf.fcecaffe1393dcb194ac5c39bfdc6d0d.jpg'\n",
      "\u001b[34m\u001b[1mtrain: \u001b[0mWARNING ⚠️ /Users/trangttdang/Downloads/food_data_1/train/images/DSC_6050_JPG_jpg.rf.ff66fa44ca62a56935b5b532c6d3187f.jpg: ignoring corrupt image/label: cannot identify image file '/Users/trangttdang/Downloads/food_data_1/train/images/DSC_6050_JPG_jpg.rf.ff66fa44ca62a56935b5b532c6d3187f.jpg'\n",
      "\u001b[34m\u001b[1mtrain: \u001b[0mWARNING ⚠️ /Users/trangttdang/Downloads/food_data_1/train/images/DSC_6052_JPG_jpg.rf.02eaf7fadd4a4b0d91f1dda05a296a26.jpg: ignoring corrupt image/label: cannot identify image file '/Users/trangttdang/Downloads/food_data_1/train/images/DSC_6052_JPG_jpg.rf.02eaf7fadd4a4b0d91f1dda05a296a26.jpg'\n",
      "\u001b[34m\u001b[1mtrain: \u001b[0mWARNING ⚠️ /Users/trangttdang/Downloads/food_data_1/train/images/DSC_6052_JPG_jpg.rf.45776fbf10ee09502f2fd50072e7c820.jpg: ignoring corrupt image/label: cannot identify image file '/Users/trangttdang/Downloads/food_data_1/train/images/DSC_6052_JPG_jpg.rf.45776fbf10ee09502f2fd50072e7c820.jpg'\n",
      "\u001b[34m\u001b[1mtrain: \u001b[0mWARNING ⚠️ /Users/trangttdang/Downloads/food_data_1/train/images/DSC_6052_JPG_jpg.rf.81d2b76afc5959a84277f61561b3cd87.jpg: ignoring corrupt image/label: cannot identify image file '/Users/trangttdang/Downloads/food_data_1/train/images/DSC_6052_JPG_jpg.rf.81d2b76afc5959a84277f61561b3cd87.jpg'\n",
      "\u001b[34m\u001b[1mtrain: \u001b[0mWARNING ⚠️ /Users/trangttdang/Downloads/food_data_1/train/images/DSC_6052_JPG_jpg.rf.8a7ed4827745790d4afb065097759a57.jpg: ignoring corrupt image/label: cannot identify image file '/Users/trangttdang/Downloads/food_data_1/train/images/DSC_6052_JPG_jpg.rf.8a7ed4827745790d4afb065097759a57.jpg'\n",
      "\u001b[34m\u001b[1mtrain: \u001b[0mWARNING ⚠️ /Users/trangttdang/Downloads/food_data_1/train/images/DSC_6052_JPG_jpg.rf.9f6441a7b5d4023f743a012a078631f7.jpg: ignoring corrupt image/label: cannot identify image file '/Users/trangttdang/Downloads/food_data_1/train/images/DSC_6052_JPG_jpg.rf.9f6441a7b5d4023f743a012a078631f7.jpg'\n",
      "\u001b[34m\u001b[1mtrain: \u001b[0mWARNING ⚠️ /Users/trangttdang/Downloads/food_data_1/train/images/DSC_6053_JPG_jpg.rf.853b0ce690145c95db3518aaae41028c.jpg: ignoring corrupt image/label: cannot identify image file '/Users/trangttdang/Downloads/food_data_1/train/images/DSC_6053_JPG_jpg.rf.853b0ce690145c95db3518aaae41028c.jpg'\n",
      "\u001b[34m\u001b[1mtrain: \u001b[0mWARNING ⚠️ /Users/trangttdang/Downloads/food_data_1/train/images/DSC_6053_JPG_jpg.rf.cdd7823f44f992314cb1e998c003a8a8.jpg: ignoring corrupt image/label: cannot identify image file '/Users/trangttdang/Downloads/food_data_1/train/images/DSC_6053_JPG_jpg.rf.cdd7823f44f992314cb1e998c003a8a8.jpg'\n",
      "\u001b[34m\u001b[1mtrain: \u001b[0mWARNING ⚠️ /Users/trangttdang/Downloads/food_data_1/train/images/DSC_6055_JPG_jpg.rf.658507477ea11b15da930ced0615d3aa.jpg: ignoring corrupt image/label: cannot identify image file '/Users/trangttdang/Downloads/food_data_1/train/images/DSC_6055_JPG_jpg.rf.658507477ea11b15da930ced0615d3aa.jpg'\n",
      "\u001b[34m\u001b[1mtrain: \u001b[0mWARNING ⚠️ /Users/trangttdang/Downloads/food_data_1/train/images/DSC_6055_JPG_jpg.rf.6f9c45004b868c1e06f971ab943ef97f.jpg: ignoring corrupt image/label: cannot identify image file '/Users/trangttdang/Downloads/food_data_1/train/images/DSC_6055_JPG_jpg.rf.6f9c45004b868c1e06f971ab943ef97f.jpg'\n",
      "\u001b[34m\u001b[1mtrain: \u001b[0mWARNING ⚠️ /Users/trangttdang/Downloads/food_data_1/train/images/DSC_6055_JPG_jpg.rf.7cab3dba920ddd3c0d0445dd794b6d28.jpg: ignoring corrupt image/label: cannot identify image file '/Users/trangttdang/Downloads/food_data_1/train/images/DSC_6055_JPG_jpg.rf.7cab3dba920ddd3c0d0445dd794b6d28.jpg'\n",
      "\u001b[34m\u001b[1mtrain: \u001b[0mWARNING ⚠️ /Users/trangttdang/Downloads/food_data_1/train/images/DSC_6055_JPG_jpg.rf.837f1b3b749d84a3b35da86a138588eb.jpg: corrupt JPEG restored and saved\n",
      "\u001b[34m\u001b[1mtrain: \u001b[0mWARNING ⚠️ /Users/trangttdang/Downloads/food_data_1/train/images/DSC_6055_JPG_jpg.rf.87dc7272b7dd965d8f5f8815e2708343.jpg: ignoring corrupt image/label: cannot identify image file '/Users/trangttdang/Downloads/food_data_1/train/images/DSC_6055_JPG_jpg.rf.87dc7272b7dd965d8f5f8815e2708343.jpg'\n",
      "\u001b[34m\u001b[1mtrain: \u001b[0mWARNING ⚠️ /Users/trangttdang/Downloads/food_data_1/train/images/DSC_6055_JPG_jpg.rf.8a85283a2fe8abbb5334a0535d09a89b.jpg: ignoring corrupt image/label: cannot identify image file '/Users/trangttdang/Downloads/food_data_1/train/images/DSC_6055_JPG_jpg.rf.8a85283a2fe8abbb5334a0535d09a89b.jpg'\n",
      "\u001b[34m\u001b[1mtrain: \u001b[0mWARNING ⚠️ /Users/trangttdang/Downloads/food_data_1/train/images/DSC_6055_JPG_jpg.rf.8f05765809f9d8a47638730f82bf1a06.jpg: ignoring corrupt image/label: cannot identify image file '/Users/trangttdang/Downloads/food_data_1/train/images/DSC_6055_JPG_jpg.rf.8f05765809f9d8a47638730f82bf1a06.jpg'\n",
      "\u001b[34m\u001b[1mtrain: \u001b[0mWARNING ⚠️ /Users/trangttdang/Downloads/food_data_1/train/images/DSC_6055_JPG_jpg.rf.d07689bec797a53dbdcdb4aad5305bc7.jpg: ignoring corrupt image/label: cannot identify image file '/Users/trangttdang/Downloads/food_data_1/train/images/DSC_6055_JPG_jpg.rf.d07689bec797a53dbdcdb4aad5305bc7.jpg'\n",
      "\u001b[34m\u001b[1mtrain: \u001b[0mWARNING ⚠️ /Users/trangttdang/Downloads/food_data_1/train/images/DSC_6056_JPG_jpg.rf.09b0dbd7db11d4f76f68945d6b1f10fb.jpg: ignoring corrupt image/label: cannot identify image file '/Users/trangttdang/Downloads/food_data_1/train/images/DSC_6056_JPG_jpg.rf.09b0dbd7db11d4f76f68945d6b1f10fb.jpg'\n",
      "\u001b[34m\u001b[1mtrain: \u001b[0mWARNING ⚠️ /Users/trangttdang/Downloads/food_data_1/train/images/DSC_6056_JPG_jpg.rf.0a85a69b1c2045b1e0f66eef9ca9fd25.jpg: ignoring corrupt image/label: cannot identify image file '/Users/trangttdang/Downloads/food_data_1/train/images/DSC_6056_JPG_jpg.rf.0a85a69b1c2045b1e0f66eef9ca9fd25.jpg'\n",
      "\u001b[34m\u001b[1mtrain: \u001b[0mWARNING ⚠️ /Users/trangttdang/Downloads/food_data_1/train/images/DSC_6056_JPG_jpg.rf.4d27f2640adb3e23e36c4c225da26862.jpg: ignoring corrupt image/label: cannot identify image file '/Users/trangttdang/Downloads/food_data_1/train/images/DSC_6056_JPG_jpg.rf.4d27f2640adb3e23e36c4c225da26862.jpg'\n",
      "\u001b[34m\u001b[1mtrain: \u001b[0mWARNING ⚠️ /Users/trangttdang/Downloads/food_data_1/train/images/DSC_6056_JPG_jpg.rf.bd4107e6a72f306c02bfcd348c7f5f02.jpg: ignoring corrupt image/label: cannot identify image file '/Users/trangttdang/Downloads/food_data_1/train/images/DSC_6056_JPG_jpg.rf.bd4107e6a72f306c02bfcd348c7f5f02.jpg'\n",
      "\u001b[34m\u001b[1mtrain: \u001b[0mWARNING ⚠️ /Users/trangttdang/Downloads/food_data_1/train/images/DSC_6056_JPG_jpg.rf.cd17520c8f0769f160c34e4ba0ba6b0d.jpg: ignoring corrupt image/label: cannot identify image file '/Users/trangttdang/Downloads/food_data_1/train/images/DSC_6056_JPG_jpg.rf.cd17520c8f0769f160c34e4ba0ba6b0d.jpg'\n",
      "\u001b[34m\u001b[1mtrain: \u001b[0mWARNING ⚠️ /Users/trangttdang/Downloads/food_data_1/train/images/DSC_6056_JPG_jpg.rf.d99e631f5f3ee830acef4bcd89cb671f.jpg: ignoring corrupt image/label: cannot identify image file '/Users/trangttdang/Downloads/food_data_1/train/images/DSC_6056_JPG_jpg.rf.d99e631f5f3ee830acef4bcd89cb671f.jpg'\n",
      "\u001b[34m\u001b[1mtrain: \u001b[0mWARNING ⚠️ /Users/trangttdang/Downloads/food_data_1/train/images/DSC_6058_JPG_jpg.rf.09a95ce903dd1944145d7c0902c34ec4.jpg: ignoring corrupt image/label: cannot identify image file '/Users/trangttdang/Downloads/food_data_1/train/images/DSC_6058_JPG_jpg.rf.09a95ce903dd1944145d7c0902c34ec4.jpg'\n",
      "\u001b[34m\u001b[1mtrain: \u001b[0mWARNING ⚠️ /Users/trangttdang/Downloads/food_data_1/train/images/DSC_6058_JPG_jpg.rf.1b0cfce6a2972c5e2cdbc569139b4c5a.jpg: ignoring corrupt image/label: cannot identify image file '/Users/trangttdang/Downloads/food_data_1/train/images/DSC_6058_JPG_jpg.rf.1b0cfce6a2972c5e2cdbc569139b4c5a.jpg'\n",
      "\u001b[34m\u001b[1mtrain: \u001b[0mWARNING ⚠️ /Users/trangttdang/Downloads/food_data_1/train/images/DSC_6058_JPG_jpg.rf.2453ba22b04e3dcd60e9e11d5a628fcd.jpg: ignoring corrupt image/label: cannot identify image file '/Users/trangttdang/Downloads/food_data_1/train/images/DSC_6058_JPG_jpg.rf.2453ba22b04e3dcd60e9e11d5a628fcd.jpg'\n",
      "\u001b[34m\u001b[1mtrain: \u001b[0mWARNING ⚠️ /Users/trangttdang/Downloads/food_data_1/train/images/DSC_6058_JPG_jpg.rf.5b7c27d5ea831d680ec7ed5e41f45b7f.jpg: ignoring corrupt image/label: cannot identify image file '/Users/trangttdang/Downloads/food_data_1/train/images/DSC_6058_JPG_jpg.rf.5b7c27d5ea831d680ec7ed5e41f45b7f.jpg'\n",
      "\u001b[34m\u001b[1mtrain: \u001b[0mWARNING ⚠️ /Users/trangttdang/Downloads/food_data_1/train/images/DSC_6058_JPG_jpg.rf.81a8c77819d9020ff75bcd48475ada81.jpg: ignoring corrupt image/label: cannot identify image file '/Users/trangttdang/Downloads/food_data_1/train/images/DSC_6058_JPG_jpg.rf.81a8c77819d9020ff75bcd48475ada81.jpg'\n",
      "\u001b[34m\u001b[1mtrain: \u001b[0mWARNING ⚠️ /Users/trangttdang/Downloads/food_data_1/train/images/DSC_6058_JPG_jpg.rf.a7e782a3963c6a5ce3377a5d7f0cc2ac.jpg: ignoring corrupt image/label: cannot identify image file '/Users/trangttdang/Downloads/food_data_1/train/images/DSC_6058_JPG_jpg.rf.a7e782a3963c6a5ce3377a5d7f0cc2ac.jpg'\n",
      "\u001b[34m\u001b[1mtrain: \u001b[0mWARNING ⚠️ /Users/trangttdang/Downloads/food_data_1/train/images/DSC_6058_JPG_jpg.rf.b03c5f5d2bfe456b588075cad316456f.jpg: ignoring corrupt image/label: cannot identify image file '/Users/trangttdang/Downloads/food_data_1/train/images/DSC_6058_JPG_jpg.rf.b03c5f5d2bfe456b588075cad316456f.jpg'\n",
      "\u001b[34m\u001b[1mtrain: \u001b[0mWARNING ⚠️ /Users/trangttdang/Downloads/food_data_1/train/images/DSC_6058_JPG_jpg.rf.ede5b38bac83932daa455cffdb470ceb.jpg: ignoring corrupt image/label: cannot identify image file '/Users/trangttdang/Downloads/food_data_1/train/images/DSC_6058_JPG_jpg.rf.ede5b38bac83932daa455cffdb470ceb.jpg'\n",
      "\u001b[34m\u001b[1mtrain: \u001b[0mWARNING ⚠️ /Users/trangttdang/Downloads/food_data_1/train/images/DSC_6058_JPG_jpg.rf.f3848d96aaff979a2116cea197b89cbd.jpg: ignoring corrupt image/label: cannot identify image file '/Users/trangttdang/Downloads/food_data_1/train/images/DSC_6058_JPG_jpg.rf.f3848d96aaff979a2116cea197b89cbd.jpg'\n",
      "\u001b[34m\u001b[1mtrain: \u001b[0mWARNING ⚠️ /Users/trangttdang/Downloads/food_data_1/train/images/DSC_6059_JPG_jpg.rf.2cbcacadd5f22a16d0b6d3bbb57e1b86.jpg: ignoring corrupt image/label: cannot identify image file '/Users/trangttdang/Downloads/food_data_1/train/images/DSC_6059_JPG_jpg.rf.2cbcacadd5f22a16d0b6d3bbb57e1b86.jpg'\n",
      "\u001b[34m\u001b[1mtrain: \u001b[0mWARNING ⚠️ /Users/trangttdang/Downloads/food_data_1/train/images/DSC_6059_JPG_jpg.rf.57e7a09b6b9a32110d3d3b227838b2ce.jpg: ignoring corrupt image/label: cannot identify image file '/Users/trangttdang/Downloads/food_data_1/train/images/DSC_6059_JPG_jpg.rf.57e7a09b6b9a32110d3d3b227838b2ce.jpg'\n",
      "\u001b[34m\u001b[1mtrain: \u001b[0mWARNING ⚠️ /Users/trangttdang/Downloads/food_data_1/train/images/DSC_6062_JPG_jpg.rf.02328e1adcb461e1c2f16713673d2b91.jpg: ignoring corrupt image/label: cannot identify image file '/Users/trangttdang/Downloads/food_data_1/train/images/DSC_6062_JPG_jpg.rf.02328e1adcb461e1c2f16713673d2b91.jpg'\n",
      "\u001b[34m\u001b[1mtrain: \u001b[0mWARNING ⚠️ /Users/trangttdang/Downloads/food_data_1/train/images/DSC_6062_JPG_jpg.rf.1fe043b911f5a536cfc18bb16e02e207.jpg: ignoring corrupt image/label: cannot identify image file '/Users/trangttdang/Downloads/food_data_1/train/images/DSC_6062_JPG_jpg.rf.1fe043b911f5a536cfc18bb16e02e207.jpg'\n",
      "\u001b[34m\u001b[1mtrain: \u001b[0mWARNING ⚠️ /Users/trangttdang/Downloads/food_data_1/train/images/DSC_6062_JPG_jpg.rf.2704792385abb76838734504d190c03b.jpg: ignoring corrupt image/label: cannot identify image file '/Users/trangttdang/Downloads/food_data_1/train/images/DSC_6062_JPG_jpg.rf.2704792385abb76838734504d190c03b.jpg'\n",
      "\u001b[34m\u001b[1mtrain: \u001b[0mWARNING ⚠️ /Users/trangttdang/Downloads/food_data_1/train/images/DSC_6062_JPG_jpg.rf.3fdbd1e650b9e6ee5788deb5f9c2625b.jpg: ignoring corrupt image/label: cannot identify image file '/Users/trangttdang/Downloads/food_data_1/train/images/DSC_6062_JPG_jpg.rf.3fdbd1e650b9e6ee5788deb5f9c2625b.jpg'\n",
      "\u001b[34m\u001b[1mtrain: \u001b[0mWARNING ⚠️ /Users/trangttdang/Downloads/food_data_1/train/images/DSC_6062_JPG_jpg.rf.74c24112ee5b4b198eb6e169e1f1109d.jpg: ignoring corrupt image/label: cannot identify image file '/Users/trangttdang/Downloads/food_data_1/train/images/DSC_6062_JPG_jpg.rf.74c24112ee5b4b198eb6e169e1f1109d.jpg'\n",
      "\u001b[34m\u001b[1mtrain: \u001b[0mWARNING ⚠️ /Users/trangttdang/Downloads/food_data_1/train/images/DSC_6062_JPG_jpg.rf.841fedd0b01c62004b14f081a595acd5.jpg: ignoring corrupt image/label: cannot identify image file '/Users/trangttdang/Downloads/food_data_1/train/images/DSC_6062_JPG_jpg.rf.841fedd0b01c62004b14f081a595acd5.jpg'\n",
      "\u001b[34m\u001b[1mtrain: \u001b[0mWARNING ⚠️ /Users/trangttdang/Downloads/food_data_1/train/images/DSC_6062_JPG_jpg.rf.ad7e06acc6f765044c132c6406c5ba3e.jpg: ignoring corrupt image/label: cannot identify image file '/Users/trangttdang/Downloads/food_data_1/train/images/DSC_6062_JPG_jpg.rf.ad7e06acc6f765044c132c6406c5ba3e.jpg'\n",
      "\u001b[34m\u001b[1mtrain: \u001b[0mWARNING ⚠️ /Users/trangttdang/Downloads/food_data_1/train/images/DSC_6062_JPG_jpg.rf.ca5be520014d784f3aabf0bc1884daee.jpg: ignoring corrupt image/label: cannot identify image file '/Users/trangttdang/Downloads/food_data_1/train/images/DSC_6062_JPG_jpg.rf.ca5be520014d784f3aabf0bc1884daee.jpg'\n",
      "\u001b[34m\u001b[1mtrain: \u001b[0mWARNING ⚠️ /Users/trangttdang/Downloads/food_data_1/train/images/DSC_6062_JPG_jpg.rf.f87777c76f3f7a712f51e912ed500fec.jpg: ignoring corrupt image/label: cannot identify image file '/Users/trangttdang/Downloads/food_data_1/train/images/DSC_6062_JPG_jpg.rf.f87777c76f3f7a712f51e912ed500fec.jpg'\n",
      "\u001b[34m\u001b[1mtrain: \u001b[0mWARNING ⚠️ /Users/trangttdang/Downloads/food_data_1/train/images/DSC_6063_JPG_jpg.rf.0cafd3af6defc83089d604e77d80fa35.jpg: ignoring corrupt image/label: cannot identify image file '/Users/trangttdang/Downloads/food_data_1/train/images/DSC_6063_JPG_jpg.rf.0cafd3af6defc83089d604e77d80fa35.jpg'\n",
      "\u001b[34m\u001b[1mtrain: \u001b[0mWARNING ⚠️ /Users/trangttdang/Downloads/food_data_1/train/images/DSC_6063_JPG_jpg.rf.0d3d5d1af1704b905bd43c84b47d5531.jpg: ignoring corrupt image/label: cannot identify image file '/Users/trangttdang/Downloads/food_data_1/train/images/DSC_6063_JPG_jpg.rf.0d3d5d1af1704b905bd43c84b47d5531.jpg'\n",
      "\u001b[34m\u001b[1mtrain: \u001b[0mWARNING ⚠️ /Users/trangttdang/Downloads/food_data_1/train/images/DSC_6063_JPG_jpg.rf.11dd73b15af438aad1ba5d8718c032cd.jpg: ignoring corrupt image/label: cannot identify image file '/Users/trangttdang/Downloads/food_data_1/train/images/DSC_6063_JPG_jpg.rf.11dd73b15af438aad1ba5d8718c032cd.jpg'\n",
      "\u001b[34m\u001b[1mtrain: \u001b[0mWARNING ⚠️ /Users/trangttdang/Downloads/food_data_1/train/images/DSC_6063_JPG_jpg.rf.486610bbe8e8c26fd9a1f5e18e8f055b.jpg: ignoring corrupt image/label: cannot identify image file '/Users/trangttdang/Downloads/food_data_1/train/images/DSC_6063_JPG_jpg.rf.486610bbe8e8c26fd9a1f5e18e8f055b.jpg'\n",
      "\u001b[34m\u001b[1mtrain: \u001b[0mWARNING ⚠️ /Users/trangttdang/Downloads/food_data_1/train/images/DSC_6063_JPG_jpg.rf.949596daf05751b1cdd1b72fb70b84a7.jpg: ignoring corrupt image/label: cannot identify image file '/Users/trangttdang/Downloads/food_data_1/train/images/DSC_6063_JPG_jpg.rf.949596daf05751b1cdd1b72fb70b84a7.jpg'\n",
      "\u001b[34m\u001b[1mtrain: \u001b[0mWARNING ⚠️ /Users/trangttdang/Downloads/food_data_1/train/images/DSC_6063_JPG_jpg.rf.a21a55f06e2ed9bd00667849fc06d48a.jpg: ignoring corrupt image/label: cannot identify image file '/Users/trangttdang/Downloads/food_data_1/train/images/DSC_6063_JPG_jpg.rf.a21a55f06e2ed9bd00667849fc06d48a.jpg'\n",
      "\u001b[34m\u001b[1mtrain: \u001b[0mWARNING ⚠️ /Users/trangttdang/Downloads/food_data_1/train/images/DSC_6063_JPG_jpg.rf.a52fa4f7c699e9437c0748ced105d04a.jpg: ignoring corrupt image/label: cannot identify image file '/Users/trangttdang/Downloads/food_data_1/train/images/DSC_6063_JPG_jpg.rf.a52fa4f7c699e9437c0748ced105d04a.jpg'\n",
      "\u001b[34m\u001b[1mtrain: \u001b[0mWARNING ⚠️ /Users/trangttdang/Downloads/food_data_1/train/images/DSC_6063_JPG_jpg.rf.af5eba0e24539d1e918a9bf9d7fd4500.jpg: ignoring corrupt image/label: cannot identify image file '/Users/trangttdang/Downloads/food_data_1/train/images/DSC_6063_JPG_jpg.rf.af5eba0e24539d1e918a9bf9d7fd4500.jpg'\n",
      "\u001b[34m\u001b[1mtrain: \u001b[0mWARNING ⚠️ /Users/trangttdang/Downloads/food_data_1/train/images/DSC_6063_JPG_jpg.rf.b3f8922ad43e1e14d2281d9d582ca5e7.jpg: ignoring corrupt image/label: cannot identify image file '/Users/trangttdang/Downloads/food_data_1/train/images/DSC_6063_JPG_jpg.rf.b3f8922ad43e1e14d2281d9d582ca5e7.jpg'\n",
      "\u001b[34m\u001b[1mtrain: \u001b[0mWARNING ⚠️ /Users/trangttdang/Downloads/food_data_1/train/images/DSC_6063_JPG_jpg.rf.e4a96c97f46b57ea284011d960aa8e97.jpg: ignoring corrupt image/label: cannot identify image file '/Users/trangttdang/Downloads/food_data_1/train/images/DSC_6063_JPG_jpg.rf.e4a96c97f46b57ea284011d960aa8e97.jpg'\n",
      "\u001b[34m\u001b[1mtrain: \u001b[0mWARNING ⚠️ /Users/trangttdang/Downloads/food_data_1/train/images/DSC_6064_JPG_jpg.rf.0981b949e91bf76a08b8b408b2fad9d5.jpg: ignoring corrupt image/label: cannot identify image file '/Users/trangttdang/Downloads/food_data_1/train/images/DSC_6064_JPG_jpg.rf.0981b949e91bf76a08b8b408b2fad9d5.jpg'\n",
      "\u001b[34m\u001b[1mtrain: \u001b[0mWARNING ⚠️ /Users/trangttdang/Downloads/food_data_1/train/images/DSC_6064_JPG_jpg.rf.1323a90ae95a2cfa6d6ef0b683955c80.jpg: ignoring corrupt image/label: cannot identify image file '/Users/trangttdang/Downloads/food_data_1/train/images/DSC_6064_JPG_jpg.rf.1323a90ae95a2cfa6d6ef0b683955c80.jpg'\n",
      "\u001b[34m\u001b[1mtrain: \u001b[0mWARNING ⚠️ /Users/trangttdang/Downloads/food_data_1/train/images/DSC_6064_JPG_jpg.rf.2f1a965f42452f4780017b7093898a18.jpg: ignoring corrupt image/label: cannot identify image file '/Users/trangttdang/Downloads/food_data_1/train/images/DSC_6064_JPG_jpg.rf.2f1a965f42452f4780017b7093898a18.jpg'\n",
      "\u001b[34m\u001b[1mtrain: \u001b[0mWARNING ⚠️ /Users/trangttdang/Downloads/food_data_1/train/images/DSC_6064_JPG_jpg.rf.5526b2326b47f100c7cc40bb2254c7dd.jpg: ignoring corrupt image/label: cannot identify image file '/Users/trangttdang/Downloads/food_data_1/train/images/DSC_6064_JPG_jpg.rf.5526b2326b47f100c7cc40bb2254c7dd.jpg'\n",
      "\u001b[34m\u001b[1mtrain: \u001b[0mWARNING ⚠️ /Users/trangttdang/Downloads/food_data_1/train/images/DSC_6064_JPG_jpg.rf.653b8622ef8a00634263c85391553d88.jpg: ignoring corrupt image/label: cannot identify image file '/Users/trangttdang/Downloads/food_data_1/train/images/DSC_6064_JPG_jpg.rf.653b8622ef8a00634263c85391553d88.jpg'\n",
      "\u001b[34m\u001b[1mtrain: \u001b[0mWARNING ⚠️ /Users/trangttdang/Downloads/food_data_1/train/images/DSC_6064_JPG_jpg.rf.88fa2f5834a47a4dd4d6febad2d37299.jpg: ignoring corrupt image/label: cannot identify image file '/Users/trangttdang/Downloads/food_data_1/train/images/DSC_6064_JPG_jpg.rf.88fa2f5834a47a4dd4d6febad2d37299.jpg'\n",
      "\u001b[34m\u001b[1mtrain: \u001b[0mWARNING ⚠️ /Users/trangttdang/Downloads/food_data_1/train/images/DSC_6064_JPG_jpg.rf.8dbd340becbfcffb808be9fe7cc87f6e.jpg: ignoring corrupt image/label: cannot identify image file '/Users/trangttdang/Downloads/food_data_1/train/images/DSC_6064_JPG_jpg.rf.8dbd340becbfcffb808be9fe7cc87f6e.jpg'\n",
      "\u001b[34m\u001b[1mtrain: \u001b[0mWARNING ⚠️ /Users/trangttdang/Downloads/food_data_1/train/images/DSC_6064_JPG_jpg.rf.a4880873cf91d6d83bb994b75c3d8973.jpg: ignoring corrupt image/label: cannot identify image file '/Users/trangttdang/Downloads/food_data_1/train/images/DSC_6064_JPG_jpg.rf.a4880873cf91d6d83bb994b75c3d8973.jpg'\n",
      "\u001b[34m\u001b[1mtrain: \u001b[0mWARNING ⚠️ /Users/trangttdang/Downloads/food_data_1/train/images/DSC_6064_JPG_jpg.rf.aad0307a458d1100ed6f6d4847eb7ced.jpg: ignoring corrupt image/label: cannot identify image file '/Users/trangttdang/Downloads/food_data_1/train/images/DSC_6064_JPG_jpg.rf.aad0307a458d1100ed6f6d4847eb7ced.jpg'\n",
      "\u001b[34m\u001b[1mtrain: \u001b[0mWARNING ⚠️ /Users/trangttdang/Downloads/food_data_1/train/images/DSC_6064_JPG_jpg.rf.ae55d808973d580e149688335af4f503.jpg: ignoring corrupt image/label: cannot identify image file '/Users/trangttdang/Downloads/food_data_1/train/images/DSC_6064_JPG_jpg.rf.ae55d808973d580e149688335af4f503.jpg'\n",
      "\u001b[34m\u001b[1mtrain: \u001b[0mWARNING ⚠️ /Users/trangttdang/Downloads/food_data_1/train/images/DSC_6064_JPG_jpg.rf.aedfb206508902e94a10c1e9db820e2a.jpg: ignoring corrupt image/label: cannot identify image file '/Users/trangttdang/Downloads/food_data_1/train/images/DSC_6064_JPG_jpg.rf.aedfb206508902e94a10c1e9db820e2a.jpg'\n",
      "\u001b[34m\u001b[1mtrain: \u001b[0mWARNING ⚠️ /Users/trangttdang/Downloads/food_data_1/train/images/DSC_6064_JPG_jpg.rf.ec9a0f5558db6bc10597eb014e12e1da.jpg: ignoring corrupt image/label: cannot identify image file '/Users/trangttdang/Downloads/food_data_1/train/images/DSC_6064_JPG_jpg.rf.ec9a0f5558db6bc10597eb014e12e1da.jpg'\n",
      "\u001b[34m\u001b[1mtrain: \u001b[0mWARNING ⚠️ /Users/trangttdang/Downloads/food_data_1/train/images/DSC_6065_JPG_jpg.rf.1ee7c731568f0648ca630dd2529f5193.jpg: ignoring corrupt image/label: cannot identify image file '/Users/trangttdang/Downloads/food_data_1/train/images/DSC_6065_JPG_jpg.rf.1ee7c731568f0648ca630dd2529f5193.jpg'\n",
      "\u001b[34m\u001b[1mtrain: \u001b[0mWARNING ⚠️ /Users/trangttdang/Downloads/food_data_1/train/images/DSC_6065_JPG_jpg.rf.32f04d4219337f123c11ec3c167bce09.jpg: ignoring corrupt image/label: cannot identify image file '/Users/trangttdang/Downloads/food_data_1/train/images/DSC_6065_JPG_jpg.rf.32f04d4219337f123c11ec3c167bce09.jpg'\n",
      "\u001b[34m\u001b[1mtrain: \u001b[0mWARNING ⚠️ /Users/trangttdang/Downloads/food_data_1/train/images/DSC_6065_JPG_jpg.rf.948cc63d7a24d74e255f22932b6d72d5.jpg: ignoring corrupt image/label: cannot identify image file '/Users/trangttdang/Downloads/food_data_1/train/images/DSC_6065_JPG_jpg.rf.948cc63d7a24d74e255f22932b6d72d5.jpg'\n",
      "\u001b[34m\u001b[1mtrain: \u001b[0mWARNING ⚠️ /Users/trangttdang/Downloads/food_data_1/train/images/DSC_6065_JPG_jpg.rf.9c90bc0d4ff9ba4f4418db9bcdc080aa.jpg: ignoring corrupt image/label: cannot identify image file '/Users/trangttdang/Downloads/food_data_1/train/images/DSC_6065_JPG_jpg.rf.9c90bc0d4ff9ba4f4418db9bcdc080aa.jpg'\n",
      "\u001b[34m\u001b[1mtrain: \u001b[0mWARNING ⚠️ /Users/trangttdang/Downloads/food_data_1/train/images/DSC_6065_JPG_jpg.rf.b43fb11a691ba2d05690359ff3dcd335.jpg: ignoring corrupt image/label: cannot identify image file '/Users/trangttdang/Downloads/food_data_1/train/images/DSC_6065_JPG_jpg.rf.b43fb11a691ba2d05690359ff3dcd335.jpg'\n",
      "\u001b[34m\u001b[1mtrain: \u001b[0mWARNING ⚠️ /Users/trangttdang/Downloads/food_data_1/train/images/DSC_6065_JPG_jpg.rf.d17c933059f0f15977756e5f003504b1.jpg: ignoring corrupt image/label: cannot identify image file '/Users/trangttdang/Downloads/food_data_1/train/images/DSC_6065_JPG_jpg.rf.d17c933059f0f15977756e5f003504b1.jpg'\n",
      "\u001b[34m\u001b[1mtrain: \u001b[0mWARNING ⚠️ /Users/trangttdang/Downloads/food_data_1/train/images/DSC_6065_JPG_jpg.rf.d7fcaa0def0f2bc8edde304574e7152e.jpg: ignoring corrupt image/label: cannot identify image file '/Users/trangttdang/Downloads/food_data_1/train/images/DSC_6065_JPG_jpg.rf.d7fcaa0def0f2bc8edde304574e7152e.jpg'\n",
      "\u001b[34m\u001b[1mtrain: \u001b[0mWARNING ⚠️ /Users/trangttdang/Downloads/food_data_1/train/images/DSC_6065_JPG_jpg.rf.e53a7e637bdd86159b4a65a7b540fd41.jpg: ignoring corrupt image/label: cannot identify image file '/Users/trangttdang/Downloads/food_data_1/train/images/DSC_6065_JPG_jpg.rf.e53a7e637bdd86159b4a65a7b540fd41.jpg'\n",
      "\u001b[34m\u001b[1mtrain: \u001b[0mWARNING ⚠️ /Users/trangttdang/Downloads/food_data_1/train/images/DSC_6065_JPG_jpg.rf.ff5a4ba6ec0fc31191b6bb1f23af4061.jpg: ignoring corrupt image/label: cannot identify image file '/Users/trangttdang/Downloads/food_data_1/train/images/DSC_6065_JPG_jpg.rf.ff5a4ba6ec0fc31191b6bb1f23af4061.jpg'\n",
      "\u001b[34m\u001b[1mtrain: \u001b[0mWARNING ⚠️ /Users/trangttdang/Downloads/food_data_1/train/images/DSC_6066_JPG_jpg.rf.14941af9d353dada3ae2a4c6f686bd72.jpg: ignoring corrupt image/label: cannot identify image file '/Users/trangttdang/Downloads/food_data_1/train/images/DSC_6066_JPG_jpg.rf.14941af9d353dada3ae2a4c6f686bd72.jpg'\n",
      "\u001b[34m\u001b[1mtrain: \u001b[0mWARNING ⚠️ /Users/trangttdang/Downloads/food_data_1/train/images/DSC_6066_JPG_jpg.rf.1fc10b55e4535acfa5025e556ab8b12b.jpg: ignoring corrupt image/label: cannot identify image file '/Users/trangttdang/Downloads/food_data_1/train/images/DSC_6066_JPG_jpg.rf.1fc10b55e4535acfa5025e556ab8b12b.jpg'\n",
      "\u001b[34m\u001b[1mtrain: \u001b[0mWARNING ⚠️ /Users/trangttdang/Downloads/food_data_1/train/images/DSC_6066_JPG_jpg.rf.413a0086329037a32814ebcd583beaa2.jpg: ignoring corrupt image/label: cannot identify image file '/Users/trangttdang/Downloads/food_data_1/train/images/DSC_6066_JPG_jpg.rf.413a0086329037a32814ebcd583beaa2.jpg'\n",
      "\u001b[34m\u001b[1mtrain: \u001b[0mWARNING ⚠️ /Users/trangttdang/Downloads/food_data_1/train/images/DSC_6066_JPG_jpg.rf.4d36e77fa6fefefe3d51088e1f2b4562.jpg: ignoring corrupt image/label: cannot identify image file '/Users/trangttdang/Downloads/food_data_1/train/images/DSC_6066_JPG_jpg.rf.4d36e77fa6fefefe3d51088e1f2b4562.jpg'\n",
      "\u001b[34m\u001b[1mtrain: \u001b[0mWARNING ⚠️ /Users/trangttdang/Downloads/food_data_1/train/images/DSC_6066_JPG_jpg.rf.78bf371322617ca20c82ba21ccce0697.jpg: ignoring corrupt image/label: cannot identify image file '/Users/trangttdang/Downloads/food_data_1/train/images/DSC_6066_JPG_jpg.rf.78bf371322617ca20c82ba21ccce0697.jpg'\n",
      "\u001b[34m\u001b[1mtrain: \u001b[0mWARNING ⚠️ /Users/trangttdang/Downloads/food_data_1/train/images/DSC_6066_JPG_jpg.rf.7ff0d8cceeddb689a371bf4aebde3047.jpg: ignoring corrupt image/label: cannot identify image file '/Users/trangttdang/Downloads/food_data_1/train/images/DSC_6066_JPG_jpg.rf.7ff0d8cceeddb689a371bf4aebde3047.jpg'\n",
      "\u001b[34m\u001b[1mtrain: \u001b[0mWARNING ⚠️ /Users/trangttdang/Downloads/food_data_1/train/images/DSC_6066_JPG_jpg.rf.c0b9744bd8cd1acf7be4a4957d5beca8.jpg: ignoring corrupt image/label: cannot identify image file '/Users/trangttdang/Downloads/food_data_1/train/images/DSC_6066_JPG_jpg.rf.c0b9744bd8cd1acf7be4a4957d5beca8.jpg'\n",
      "\u001b[34m\u001b[1mtrain: \u001b[0mWARNING ⚠️ /Users/trangttdang/Downloads/food_data_1/train/images/DSC_6066_JPG_jpg.rf.cc9977451a3e51c2fb3a42eb28486642.jpg: ignoring corrupt image/label: cannot identify image file '/Users/trangttdang/Downloads/food_data_1/train/images/DSC_6066_JPG_jpg.rf.cc9977451a3e51c2fb3a42eb28486642.jpg'\n",
      "\u001b[34m\u001b[1mtrain: \u001b[0mWARNING ⚠️ /Users/trangttdang/Downloads/food_data_1/train/images/DSC_6066_JPG_jpg.rf.e899b8aa70ce792ea6c700555c7247e5.jpg: ignoring corrupt image/label: cannot identify image file '/Users/trangttdang/Downloads/food_data_1/train/images/DSC_6066_JPG_jpg.rf.e899b8aa70ce792ea6c700555c7247e5.jpg'\n",
      "\u001b[34m\u001b[1mtrain: \u001b[0mWARNING ⚠️ /Users/trangttdang/Downloads/food_data_1/train/images/DSC_6066_JPG_jpg.rf.efff2e37f4726d2c0ba6dfe5e025539b.jpg: ignoring corrupt image/label: cannot identify image file '/Users/trangttdang/Downloads/food_data_1/train/images/DSC_6066_JPG_jpg.rf.efff2e37f4726d2c0ba6dfe5e025539b.jpg'\n",
      "\u001b[34m\u001b[1mtrain: \u001b[0mWARNING ⚠️ /Users/trangttdang/Downloads/food_data_1/train/images/DSC_6068_JPG_jpg.rf.22ff9224daeb05d52df90c160aa5d4d9.jpg: ignoring corrupt image/label: cannot identify image file '/Users/trangttdang/Downloads/food_data_1/train/images/DSC_6068_JPG_jpg.rf.22ff9224daeb05d52df90c160aa5d4d9.jpg'\n",
      "\u001b[34m\u001b[1mtrain: \u001b[0mWARNING ⚠️ /Users/trangttdang/Downloads/food_data_1/train/images/DSC_6068_JPG_jpg.rf.db492ba65341816b1d2196933bf54b98.jpg: ignoring corrupt image/label: cannot identify image file '/Users/trangttdang/Downloads/food_data_1/train/images/DSC_6068_JPG_jpg.rf.db492ba65341816b1d2196933bf54b98.jpg'\n",
      "\u001b[34m\u001b[1mtrain: \u001b[0mWARNING ⚠️ /Users/trangttdang/Downloads/food_data_1/train/images/DSC_6069_JPG_jpg.rf.1c806588a48adac9ee7814337be4b631.jpg: ignoring corrupt image/label: cannot identify image file '/Users/trangttdang/Downloads/food_data_1/train/images/DSC_6069_JPG_jpg.rf.1c806588a48adac9ee7814337be4b631.jpg'\n",
      "\u001b[34m\u001b[1mtrain: \u001b[0mWARNING ⚠️ /Users/trangttdang/Downloads/food_data_1/train/images/DSC_6069_JPG_jpg.rf.384fc4eeeb9bced623f8eac1d997f4e8.jpg: ignoring corrupt image/label: cannot identify image file '/Users/trangttdang/Downloads/food_data_1/train/images/DSC_6069_JPG_jpg.rf.384fc4eeeb9bced623f8eac1d997f4e8.jpg'\n",
      "\u001b[34m\u001b[1mtrain: \u001b[0mWARNING ⚠️ /Users/trangttdang/Downloads/food_data_1/train/images/DSC_6070_JPG_jpg.rf.8194ad7cee952531a5b6c8a0cb25c31b.jpg: ignoring corrupt image/label: cannot identify image file '/Users/trangttdang/Downloads/food_data_1/train/images/DSC_6070_JPG_jpg.rf.8194ad7cee952531a5b6c8a0cb25c31b.jpg'\n",
      "\u001b[34m\u001b[1mtrain: \u001b[0mWARNING ⚠️ /Users/trangttdang/Downloads/food_data_1/train/images/DSC_6070_JPG_jpg.rf.f1dcf9f0f7322c08f89fe154e4635f0b.jpg: ignoring corrupt image/label: cannot identify image file '/Users/trangttdang/Downloads/food_data_1/train/images/DSC_6070_JPG_jpg.rf.f1dcf9f0f7322c08f89fe154e4635f0b.jpg'\n",
      "\u001b[34m\u001b[1mtrain: \u001b[0mWARNING ⚠️ /Users/trangttdang/Downloads/food_data_1/train/images/DSC_6072_JPG_jpg.rf.0de52f98a19b8af80811e3017b37109b.jpg: ignoring corrupt image/label: cannot identify image file '/Users/trangttdang/Downloads/food_data_1/train/images/DSC_6072_JPG_jpg.rf.0de52f98a19b8af80811e3017b37109b.jpg'\n",
      "\u001b[34m\u001b[1mtrain: \u001b[0mWARNING ⚠️ /Users/trangttdang/Downloads/food_data_1/train/images/DSC_6072_JPG_jpg.rf.0fda5d1c9e7d97715c42a3dd02803fcf.jpg: ignoring corrupt image/label: cannot identify image file '/Users/trangttdang/Downloads/food_data_1/train/images/DSC_6072_JPG_jpg.rf.0fda5d1c9e7d97715c42a3dd02803fcf.jpg'\n",
      "\u001b[34m\u001b[1mtrain: \u001b[0mWARNING ⚠️ /Users/trangttdang/Downloads/food_data_1/train/images/DSC_6072_JPG_jpg.rf.1d838aa95dcc19b3ca408c011679a6d9.jpg: ignoring corrupt image/label: cannot identify image file '/Users/trangttdang/Downloads/food_data_1/train/images/DSC_6072_JPG_jpg.rf.1d838aa95dcc19b3ca408c011679a6d9.jpg'\n",
      "\u001b[34m\u001b[1mtrain: \u001b[0mWARNING ⚠️ /Users/trangttdang/Downloads/food_data_1/train/images/DSC_6072_JPG_jpg.rf.254e6d1d8ee1d5d2fc009e0f8c33472f.jpg: ignoring corrupt image/label: cannot identify image file '/Users/trangttdang/Downloads/food_data_1/train/images/DSC_6072_JPG_jpg.rf.254e6d1d8ee1d5d2fc009e0f8c33472f.jpg'\n",
      "\u001b[34m\u001b[1mtrain: \u001b[0mWARNING ⚠️ /Users/trangttdang/Downloads/food_data_1/train/images/DSC_6072_JPG_jpg.rf.7a738f20293bbb47d88a02ad7dda21f8.jpg: ignoring corrupt image/label: cannot identify image file '/Users/trangttdang/Downloads/food_data_1/train/images/DSC_6072_JPG_jpg.rf.7a738f20293bbb47d88a02ad7dda21f8.jpg'\n",
      "\u001b[34m\u001b[1mtrain: \u001b[0mWARNING ⚠️ /Users/trangttdang/Downloads/food_data_1/train/images/DSC_6072_JPG_jpg.rf.9617bc0105b935fa5f0081e22d184fb1.jpg: ignoring corrupt image/label: cannot identify image file '/Users/trangttdang/Downloads/food_data_1/train/images/DSC_6072_JPG_jpg.rf.9617bc0105b935fa5f0081e22d184fb1.jpg'\n",
      "\u001b[34m\u001b[1mtrain: \u001b[0mWARNING ⚠️ /Users/trangttdang/Downloads/food_data_1/train/images/DSC_6072_JPG_jpg.rf.97ac269bcfc05ac4e98ea4ba70d83581.jpg: ignoring corrupt image/label: cannot identify image file '/Users/trangttdang/Downloads/food_data_1/train/images/DSC_6072_JPG_jpg.rf.97ac269bcfc05ac4e98ea4ba70d83581.jpg'\n",
      "\u001b[34m\u001b[1mtrain: \u001b[0mWARNING ⚠️ /Users/trangttdang/Downloads/food_data_1/train/images/DSC_6072_JPG_jpg.rf.a35f1f03f8faba51fcfcfcbe047d91ed.jpg: ignoring corrupt image/label: cannot identify image file '/Users/trangttdang/Downloads/food_data_1/train/images/DSC_6072_JPG_jpg.rf.a35f1f03f8faba51fcfcfcbe047d91ed.jpg'\n",
      "\u001b[34m\u001b[1mtrain: \u001b[0mWARNING ⚠️ /Users/trangttdang/Downloads/food_data_1/train/images/DSC_6072_JPG_jpg.rf.a81c3fe1665cf388668805e2084233f1.jpg: ignoring corrupt image/label: cannot identify image file '/Users/trangttdang/Downloads/food_data_1/train/images/DSC_6072_JPG_jpg.rf.a81c3fe1665cf388668805e2084233f1.jpg'\n",
      "\u001b[34m\u001b[1mtrain: \u001b[0mWARNING ⚠️ /Users/trangttdang/Downloads/food_data_1/train/images/DSC_6072_JPG_jpg.rf.bc67646d007d28df91b209e344fb7755.jpg: ignoring corrupt image/label: cannot identify image file '/Users/trangttdang/Downloads/food_data_1/train/images/DSC_6072_JPG_jpg.rf.bc67646d007d28df91b209e344fb7755.jpg'\n",
      "\u001b[34m\u001b[1mtrain: \u001b[0mWARNING ⚠️ /Users/trangttdang/Downloads/food_data_1/train/images/DSC_6072_JPG_jpg.rf.caeda757925de1cbb75ef2a3856b5815.jpg: ignoring corrupt image/label: cannot identify image file '/Users/trangttdang/Downloads/food_data_1/train/images/DSC_6072_JPG_jpg.rf.caeda757925de1cbb75ef2a3856b5815.jpg'\n",
      "\u001b[34m\u001b[1mtrain: \u001b[0mWARNING ⚠️ /Users/trangttdang/Downloads/food_data_1/train/images/DSC_6072_JPG_jpg.rf.ddf880b7d14f497dd2ca7520d93d32f0.jpg: ignoring corrupt image/label: cannot identify image file '/Users/trangttdang/Downloads/food_data_1/train/images/DSC_6072_JPG_jpg.rf.ddf880b7d14f497dd2ca7520d93d32f0.jpg'\n",
      "\u001b[34m\u001b[1mtrain: \u001b[0mWARNING ⚠️ /Users/trangttdang/Downloads/food_data_1/train/images/DSC_6072_JPG_jpg.rf.de037e15789f7934c00e0de2c99257f8.jpg: ignoring corrupt image/label: cannot identify image file '/Users/trangttdang/Downloads/food_data_1/train/images/DSC_6072_JPG_jpg.rf.de037e15789f7934c00e0de2c99257f8.jpg'\n",
      "\u001b[34m\u001b[1mtrain: \u001b[0mWARNING ⚠️ /Users/trangttdang/Downloads/food_data_1/train/images/DSC_6073_JPG_jpg.rf.7d65df5578fba42f5e3577ff07ba7bb0.jpg: ignoring corrupt image/label: cannot identify image file '/Users/trangttdang/Downloads/food_data_1/train/images/DSC_6073_JPG_jpg.rf.7d65df5578fba42f5e3577ff07ba7bb0.jpg'\n",
      "\u001b[34m\u001b[1mtrain: \u001b[0mWARNING ⚠️ /Users/trangttdang/Downloads/food_data_1/train/images/DSC_6075_JPG_jpg.rf.5d3790e14f2150919730befc62967a58.jpg: ignoring corrupt image/label: cannot identify image file '/Users/trangttdang/Downloads/food_data_1/train/images/DSC_6075_JPG_jpg.rf.5d3790e14f2150919730befc62967a58.jpg'\n",
      "\u001b[34m\u001b[1mtrain: \u001b[0mWARNING ⚠️ /Users/trangttdang/Downloads/food_data_1/train/images/DSC_6077_JPG_jpg.rf.3c0e34f99ea48f416c0898ad38445487.jpg: ignoring corrupt image/label: cannot identify image file '/Users/trangttdang/Downloads/food_data_1/train/images/DSC_6077_JPG_jpg.rf.3c0e34f99ea48f416c0898ad38445487.jpg'\n",
      "\u001b[34m\u001b[1mtrain: \u001b[0mWARNING ⚠️ /Users/trangttdang/Downloads/food_data_1/train/images/DSC_6077_JPG_jpg.rf.3dd996f7b99dab6f2972f91e170617c5.jpg: ignoring corrupt image/label: cannot identify image file '/Users/trangttdang/Downloads/food_data_1/train/images/DSC_6077_JPG_jpg.rf.3dd996f7b99dab6f2972f91e170617c5.jpg'\n",
      "\u001b[34m\u001b[1mtrain: \u001b[0mWARNING ⚠️ /Users/trangttdang/Downloads/food_data_1/train/images/DSC_6077_JPG_jpg.rf.90a6429dab2cdf9448c518a36310348e.jpg: ignoring corrupt image/label: cannot identify image file '/Users/trangttdang/Downloads/food_data_1/train/images/DSC_6077_JPG_jpg.rf.90a6429dab2cdf9448c518a36310348e.jpg'\n",
      "\u001b[34m\u001b[1mtrain: \u001b[0mWARNING ⚠️ /Users/trangttdang/Downloads/food_data_1/train/images/DSC_6077_JPG_jpg.rf.99589adb216b3acc893994f8277d2281.jpg: ignoring corrupt image/label: cannot identify image file '/Users/trangttdang/Downloads/food_data_1/train/images/DSC_6077_JPG_jpg.rf.99589adb216b3acc893994f8277d2281.jpg'\n",
      "\u001b[34m\u001b[1mtrain: \u001b[0mWARNING ⚠️ /Users/trangttdang/Downloads/food_data_1/train/images/DSC_6077_JPG_jpg.rf.c4ed131047bef590f4217bc32b873d23.jpg: ignoring corrupt image/label: cannot identify image file '/Users/trangttdang/Downloads/food_data_1/train/images/DSC_6077_JPG_jpg.rf.c4ed131047bef590f4217bc32b873d23.jpg'\n",
      "\u001b[34m\u001b[1mtrain: \u001b[0mWARNING ⚠️ /Users/trangttdang/Downloads/food_data_1/train/images/DSC_6077_JPG_jpg.rf.f2cbfeb0ebc660b20450d2a20c036a86.jpg: ignoring corrupt image/label: cannot identify image file '/Users/trangttdang/Downloads/food_data_1/train/images/DSC_6077_JPG_jpg.rf.f2cbfeb0ebc660b20450d2a20c036a86.jpg'\n",
      "\u001b[34m\u001b[1mtrain: \u001b[0mWARNING ⚠️ /Users/trangttdang/Downloads/food_data_1/train/images/DSC_6078_JPG_jpg.rf.ce5e0a940ac65124294b9428ccbd96e7.jpg: ignoring corrupt image/label: cannot identify image file '/Users/trangttdang/Downloads/food_data_1/train/images/DSC_6078_JPG_jpg.rf.ce5e0a940ac65124294b9428ccbd96e7.jpg'\n",
      "\u001b[34m\u001b[1mtrain: \u001b[0mWARNING ⚠️ /Users/trangttdang/Downloads/food_data_1/train/images/DSC_6078_JPG_jpg.rf.db70f4fc2681d1a0311958f1d1363410.jpg: ignoring corrupt image/label: cannot identify image file '/Users/trangttdang/Downloads/food_data_1/train/images/DSC_6078_JPG_jpg.rf.db70f4fc2681d1a0311958f1d1363410.jpg'\n",
      "\u001b[34m\u001b[1mtrain: \u001b[0mWARNING ⚠️ /Users/trangttdang/Downloads/food_data_1/train/images/DSC_6079_JPG_jpg.rf.489b416ccdf08f73759e1233e4fc75be.jpg: ignoring corrupt image/label: cannot identify image file '/Users/trangttdang/Downloads/food_data_1/train/images/DSC_6079_JPG_jpg.rf.489b416ccdf08f73759e1233e4fc75be.jpg'\n",
      "\u001b[34m\u001b[1mtrain: \u001b[0mWARNING ⚠️ /Users/trangttdang/Downloads/food_data_1/train/images/DSC_6079_JPG_jpg.rf.c3b43a06a7941ea8d290b25925857bfa.jpg: ignoring corrupt image/label: cannot identify image file '/Users/trangttdang/Downloads/food_data_1/train/images/DSC_6079_JPG_jpg.rf.c3b43a06a7941ea8d290b25925857bfa.jpg'\n",
      "\u001b[34m\u001b[1mtrain: \u001b[0mWARNING ⚠️ /Users/trangttdang/Downloads/food_data_1/train/images/DSC_6085_JPG_jpg.rf.27a0df3d461f63b7e6f6af8057fc9b82.jpg: ignoring corrupt image/label: cannot identify image file '/Users/trangttdang/Downloads/food_data_1/train/images/DSC_6085_JPG_jpg.rf.27a0df3d461f63b7e6f6af8057fc9b82.jpg'\n",
      "\u001b[34m\u001b[1mtrain: \u001b[0mWARNING ⚠️ /Users/trangttdang/Downloads/food_data_1/train/images/DSC_6085_JPG_jpg.rf.4a55a5686b96a49fbdc8fa72e896f010.jpg: ignoring corrupt image/label: cannot identify image file '/Users/trangttdang/Downloads/food_data_1/train/images/DSC_6085_JPG_jpg.rf.4a55a5686b96a49fbdc8fa72e896f010.jpg'\n",
      "\u001b[34m\u001b[1mtrain: \u001b[0mWARNING ⚠️ /Users/trangttdang/Downloads/food_data_1/train/images/DSC_6091_JPG_jpg.rf.3bd845b04f85f5a97acd9500f0cde9d8.jpg: ignoring corrupt image/label: cannot identify image file '/Users/trangttdang/Downloads/food_data_1/train/images/DSC_6091_JPG_jpg.rf.3bd845b04f85f5a97acd9500f0cde9d8.jpg'\n",
      "\u001b[34m\u001b[1mtrain: \u001b[0mWARNING ⚠️ /Users/trangttdang/Downloads/food_data_1/train/images/DSC_6100_JPG_jpg.rf.dc2bfe40174763ba06bf8e6e9af91d16.jpg: ignoring corrupt image/label: cannot identify image file '/Users/trangttdang/Downloads/food_data_1/train/images/DSC_6100_JPG_jpg.rf.dc2bfe40174763ba06bf8e6e9af91d16.jpg'\n",
      "\u001b[34m\u001b[1mtrain: \u001b[0mWARNING ⚠️ /Users/trangttdang/Downloads/food_data_1/train/images/DSC_6102_JPG_jpg.rf.8421dcc2b4c5c49be429855d66289c17.jpg: ignoring corrupt image/label: cannot identify image file '/Users/trangttdang/Downloads/food_data_1/train/images/DSC_6102_JPG_jpg.rf.8421dcc2b4c5c49be429855d66289c17.jpg'\n",
      "\u001b[34m\u001b[1mtrain: \u001b[0mWARNING ⚠️ /Users/trangttdang/Downloads/food_data_1/train/images/DSC_6105_JPG_jpg.rf.1d1b5713cac71c3c3a3564a84c13bf43.jpg: ignoring corrupt image/label: cannot identify image file '/Users/trangttdang/Downloads/food_data_1/train/images/DSC_6105_JPG_jpg.rf.1d1b5713cac71c3c3a3564a84c13bf43.jpg'\n",
      "\u001b[34m\u001b[1mtrain: \u001b[0mWARNING ⚠️ /Users/trangttdang/Downloads/food_data_1/train/images/DSC_6105_JPG_jpg.rf.affa9a20afc3b3942285d58c25fe5167.jpg: ignoring corrupt image/label: cannot identify image file '/Users/trangttdang/Downloads/food_data_1/train/images/DSC_6105_JPG_jpg.rf.affa9a20afc3b3942285d58c25fe5167.jpg'\n",
      "\u001b[34m\u001b[1mtrain: \u001b[0mWARNING ⚠️ /Users/trangttdang/Downloads/food_data_1/train/images/DSC_6105_JPG_jpg.rf.b5a2c33797a55dd259dd0ae647795acb.jpg: ignoring corrupt image/label: cannot identify image file '/Users/trangttdang/Downloads/food_data_1/train/images/DSC_6105_JPG_jpg.rf.b5a2c33797a55dd259dd0ae647795acb.jpg'\n",
      "\u001b[34m\u001b[1mtrain: \u001b[0mWARNING ⚠️ /Users/trangttdang/Downloads/food_data_1/train/images/DSC_6105_JPG_jpg.rf.fb2e267290235fbb8a6e084b691abf13.jpg: ignoring corrupt image/label: cannot identify image file '/Users/trangttdang/Downloads/food_data_1/train/images/DSC_6105_JPG_jpg.rf.fb2e267290235fbb8a6e084b691abf13.jpg'\n",
      "\u001b[34m\u001b[1mtrain: \u001b[0mWARNING ⚠️ /Users/trangttdang/Downloads/food_data_1/train/images/DSC_6106_JPG_jpg.rf.d2062438c0ad8493e6ef5a1e68a0f755.jpg: ignoring corrupt image/label: cannot identify image file '/Users/trangttdang/Downloads/food_data_1/train/images/DSC_6106_JPG_jpg.rf.d2062438c0ad8493e6ef5a1e68a0f755.jpg'\n",
      "\u001b[34m\u001b[1mtrain: \u001b[0mWARNING ⚠️ /Users/trangttdang/Downloads/food_data_1/train/images/DSC_6107_JPG_jpg.rf.f6e5703e5e66bc8bb56afe2d08b05161.jpg: ignoring corrupt image/label: cannot identify image file '/Users/trangttdang/Downloads/food_data_1/train/images/DSC_6107_JPG_jpg.rf.f6e5703e5e66bc8bb56afe2d08b05161.jpg'\n",
      "\u001b[34m\u001b[1mtrain: \u001b[0mWARNING ⚠️ /Users/trangttdang/Downloads/food_data_1/train/images/DSC_6112_JPG_jpg.rf.4d025777a7982e7900930d8e0058cc14.jpg: ignoring corrupt image/label: cannot identify image file '/Users/trangttdang/Downloads/food_data_1/train/images/DSC_6112_JPG_jpg.rf.4d025777a7982e7900930d8e0058cc14.jpg'\n",
      "\u001b[34m\u001b[1mtrain: \u001b[0mWARNING ⚠️ /Users/trangttdang/Downloads/food_data_1/train/images/DSC_6112_JPG_jpg.rf.e16ab5af4a21f211eb3ca7329c55a258.jpg: ignoring corrupt image/label: cannot identify image file '/Users/trangttdang/Downloads/food_data_1/train/images/DSC_6112_JPG_jpg.rf.e16ab5af4a21f211eb3ca7329c55a258.jpg'\n",
      "\u001b[34m\u001b[1mtrain: \u001b[0mWARNING ⚠️ /Users/trangttdang/Downloads/food_data_1/train/images/DSC_6114_JPG_jpg.rf.03cfd81371bff03f43961a46d81f8f50.jpg: ignoring corrupt image/label: cannot identify image file '/Users/trangttdang/Downloads/food_data_1/train/images/DSC_6114_JPG_jpg.rf.03cfd81371bff03f43961a46d81f8f50.jpg'\n",
      "\u001b[34m\u001b[1mtrain: \u001b[0mWARNING ⚠️ /Users/trangttdang/Downloads/food_data_1/train/images/DSC_6114_JPG_jpg.rf.82489d01e29680515ebd7a163f8346fa.jpg: ignoring corrupt image/label: cannot identify image file '/Users/trangttdang/Downloads/food_data_1/train/images/DSC_6114_JPG_jpg.rf.82489d01e29680515ebd7a163f8346fa.jpg'\n",
      "\u001b[34m\u001b[1mtrain: \u001b[0mWARNING ⚠️ /Users/trangttdang/Downloads/food_data_1/train/images/DSC_6114_JPG_jpg.rf.86b7a3b5da700552bc1bd06947a283a5.jpg: ignoring corrupt image/label: cannot identify image file '/Users/trangttdang/Downloads/food_data_1/train/images/DSC_6114_JPG_jpg.rf.86b7a3b5da700552bc1bd06947a283a5.jpg'\n",
      "\u001b[34m\u001b[1mtrain: \u001b[0mWARNING ⚠️ /Users/trangttdang/Downloads/food_data_1/train/images/DSC_6114_JPG_jpg.rf.9b3e5be923653d5191df75f63f54ef06.jpg: ignoring corrupt image/label: cannot identify image file '/Users/trangttdang/Downloads/food_data_1/train/images/DSC_6114_JPG_jpg.rf.9b3e5be923653d5191df75f63f54ef06.jpg'\n",
      "\u001b[34m\u001b[1mtrain: \u001b[0mWARNING ⚠️ /Users/trangttdang/Downloads/food_data_1/train/images/DSC_6114_JPG_jpg.rf.9d685abced9905a9cd051bae9617561b.jpg: ignoring corrupt image/label: cannot identify image file '/Users/trangttdang/Downloads/food_data_1/train/images/DSC_6114_JPG_jpg.rf.9d685abced9905a9cd051bae9617561b.jpg'\n",
      "\u001b[34m\u001b[1mtrain: \u001b[0mWARNING ⚠️ /Users/trangttdang/Downloads/food_data_1/train/images/DSC_6116_JPG_jpg.rf.04c1fc22eaa223e015dadd5158e7ecfa.jpg: ignoring corrupt image/label: cannot identify image file '/Users/trangttdang/Downloads/food_data_1/train/images/DSC_6116_JPG_jpg.rf.04c1fc22eaa223e015dadd5158e7ecfa.jpg'\n",
      "\u001b[34m\u001b[1mtrain: \u001b[0mWARNING ⚠️ /Users/trangttdang/Downloads/food_data_1/train/images/DSC_6116_JPG_jpg.rf.c2bff6da6d855aeaec4d6fcd673de423.jpg: ignoring corrupt image/label: cannot identify image file '/Users/trangttdang/Downloads/food_data_1/train/images/DSC_6116_JPG_jpg.rf.c2bff6da6d855aeaec4d6fcd673de423.jpg'\n",
      "\u001b[34m\u001b[1mtrain: \u001b[0mWARNING ⚠️ /Users/trangttdang/Downloads/food_data_1/train/images/DSC_6117_JPG_jpg.rf.57cbfe9a4da508d533ecaa1238ad8f16.jpg: ignoring corrupt image/label: cannot identify image file '/Users/trangttdang/Downloads/food_data_1/train/images/DSC_6117_JPG_jpg.rf.57cbfe9a4da508d533ecaa1238ad8f16.jpg'\n",
      "\u001b[34m\u001b[1mtrain: \u001b[0mWARNING ⚠️ /Users/trangttdang/Downloads/food_data_1/train/images/DSC_6117_JPG_jpg.rf.e6e98b94c749ccda54cc116c04977cb3.jpg: ignoring corrupt image/label: cannot identify image file '/Users/trangttdang/Downloads/food_data_1/train/images/DSC_6117_JPG_jpg.rf.e6e98b94c749ccda54cc116c04977cb3.jpg'\n",
      "\u001b[34m\u001b[1mtrain: \u001b[0mWARNING ⚠️ /Users/trangttdang/Downloads/food_data_1/train/images/DSC_6119_JPG_jpg.rf.8f544fcb7ee6b8090361d9eba399de18.jpg: ignoring corrupt image/label: cannot identify image file '/Users/trangttdang/Downloads/food_data_1/train/images/DSC_6119_JPG_jpg.rf.8f544fcb7ee6b8090361d9eba399de18.jpg'\n",
      "\u001b[34m\u001b[1mtrain: \u001b[0mWARNING ⚠️ /Users/trangttdang/Downloads/food_data_1/train/images/DSC_6120_JPG_jpg.rf.11153d475d28b8a1f53093b004fd216e.jpg: ignoring corrupt image/label: cannot identify image file '/Users/trangttdang/Downloads/food_data_1/train/images/DSC_6120_JPG_jpg.rf.11153d475d28b8a1f53093b004fd216e.jpg'\n",
      "\u001b[34m\u001b[1mtrain: \u001b[0mWARNING ⚠️ /Users/trangttdang/Downloads/food_data_1/train/images/DSC_6120_JPG_jpg.rf.3b17b9d7c98e2ccf36f577d084f9db99.jpg: ignoring corrupt image/label: cannot identify image file '/Users/trangttdang/Downloads/food_data_1/train/images/DSC_6120_JPG_jpg.rf.3b17b9d7c98e2ccf36f577d084f9db99.jpg'\n",
      "\u001b[34m\u001b[1mtrain: \u001b[0mWARNING ⚠️ /Users/trangttdang/Downloads/food_data_1/train/images/DSC_6120_JPG_jpg.rf.99fdaa2d0e7aa0d51a7908c1191bc741.jpg: ignoring corrupt image/label: cannot identify image file '/Users/trangttdang/Downloads/food_data_1/train/images/DSC_6120_JPG_jpg.rf.99fdaa2d0e7aa0d51a7908c1191bc741.jpg'\n",
      "\u001b[34m\u001b[1mtrain: \u001b[0mWARNING ⚠️ /Users/trangttdang/Downloads/food_data_1/train/images/DSC_6121_JPG_jpg.rf.ab823bf6909d59f5f230f13c0fe57501.jpg: ignoring corrupt image/label: cannot identify image file '/Users/trangttdang/Downloads/food_data_1/train/images/DSC_6121_JPG_jpg.rf.ab823bf6909d59f5f230f13c0fe57501.jpg'\n",
      "\u001b[34m\u001b[1mtrain: \u001b[0mWARNING ⚠️ /Users/trangttdang/Downloads/food_data_1/train/images/DSC_6122_JPG_jpg.rf.1256dd3429d1fb4762e30d439017c6cd.jpg: ignoring corrupt image/label: cannot identify image file '/Users/trangttdang/Downloads/food_data_1/train/images/DSC_6122_JPG_jpg.rf.1256dd3429d1fb4762e30d439017c6cd.jpg'\n",
      "\u001b[34m\u001b[1mtrain: \u001b[0mWARNING ⚠️ /Users/trangttdang/Downloads/food_data_1/train/images/DSC_6122_JPG_jpg.rf.1cdfc0bbee3699d2ac3bb8acfc55c80f.jpg: ignoring corrupt image/label: cannot identify image file '/Users/trangttdang/Downloads/food_data_1/train/images/DSC_6122_JPG_jpg.rf.1cdfc0bbee3699d2ac3bb8acfc55c80f.jpg'\n",
      "\u001b[34m\u001b[1mtrain: \u001b[0mWARNING ⚠️ /Users/trangttdang/Downloads/food_data_1/train/images/DSC_6122_JPG_jpg.rf.463af594e131eeb5413671fd6cdd9e59.jpg: ignoring corrupt image/label: cannot identify image file '/Users/trangttdang/Downloads/food_data_1/train/images/DSC_6122_JPG_jpg.rf.463af594e131eeb5413671fd6cdd9e59.jpg'\n",
      "\u001b[34m\u001b[1mtrain: \u001b[0mWARNING ⚠️ /Users/trangttdang/Downloads/food_data_1/train/images/DSC_6122_JPG_jpg.rf.6b17d1b07a5e2364b783ca378c134813.jpg: ignoring corrupt image/label: cannot identify image file '/Users/trangttdang/Downloads/food_data_1/train/images/DSC_6122_JPG_jpg.rf.6b17d1b07a5e2364b783ca378c134813.jpg'\n",
      "\u001b[34m\u001b[1mtrain: \u001b[0mWARNING ⚠️ /Users/trangttdang/Downloads/food_data_1/train/images/DSC_6122_JPG_jpg.rf.8b7bd0041baf21aace4a5502181e7a98.jpg: ignoring corrupt image/label: cannot identify image file '/Users/trangttdang/Downloads/food_data_1/train/images/DSC_6122_JPG_jpg.rf.8b7bd0041baf21aace4a5502181e7a98.jpg'\n",
      "\u001b[34m\u001b[1mtrain: \u001b[0mWARNING ⚠️ /Users/trangttdang/Downloads/food_data_1/train/images/DSC_6122_JPG_jpg.rf.c26549282cb49d136c48b1a4f068bc36.jpg: ignoring corrupt image/label: cannot identify image file '/Users/trangttdang/Downloads/food_data_1/train/images/DSC_6122_JPG_jpg.rf.c26549282cb49d136c48b1a4f068bc36.jpg'\n",
      "\u001b[34m\u001b[1mtrain: \u001b[0mWARNING ⚠️ /Users/trangttdang/Downloads/food_data_1/train/images/DSC_6122_JPG_jpg.rf.c3aa9aef03c1f5cb52148e7c61962b5d.jpg: ignoring corrupt image/label: cannot identify image file '/Users/trangttdang/Downloads/food_data_1/train/images/DSC_6122_JPG_jpg.rf.c3aa9aef03c1f5cb52148e7c61962b5d.jpg'\n",
      "\u001b[34m\u001b[1mtrain: \u001b[0mWARNING ⚠️ /Users/trangttdang/Downloads/food_data_1/train/images/DSC_6123_JPG_jpg.rf.5c17076da5774321dccafcbc7c3fccd9.jpg: ignoring corrupt image/label: cannot identify image file '/Users/trangttdang/Downloads/food_data_1/train/images/DSC_6123_JPG_jpg.rf.5c17076da5774321dccafcbc7c3fccd9.jpg'\n",
      "\u001b[34m\u001b[1mtrain: \u001b[0mWARNING ⚠️ /Users/trangttdang/Downloads/food_data_1/train/images/DSC_6123_JPG_jpg.rf.7837580dcf6ae0d6e85daa4f8cbfa4c8.jpg: ignoring corrupt image/label: cannot identify image file '/Users/trangttdang/Downloads/food_data_1/train/images/DSC_6123_JPG_jpg.rf.7837580dcf6ae0d6e85daa4f8cbfa4c8.jpg'\n",
      "\u001b[34m\u001b[1mtrain: \u001b[0mWARNING ⚠️ /Users/trangttdang/Downloads/food_data_1/train/images/DSC_6123_JPG_jpg.rf.a1fdb299b7bad70848e8cea7afafd097.jpg: ignoring corrupt image/label: cannot identify image file '/Users/trangttdang/Downloads/food_data_1/train/images/DSC_6123_JPG_jpg.rf.a1fdb299b7bad70848e8cea7afafd097.jpg'\n",
      "\u001b[34m\u001b[1mtrain: \u001b[0mWARNING ⚠️ /Users/trangttdang/Downloads/food_data_1/train/images/DSC_6123_JPG_jpg.rf.d1f024354b44029b08e6beea336631b4.jpg: ignoring corrupt image/label: cannot identify image file '/Users/trangttdang/Downloads/food_data_1/train/images/DSC_6123_JPG_jpg.rf.d1f024354b44029b08e6beea336631b4.jpg'\n",
      "\u001b[34m\u001b[1mtrain: \u001b[0mWARNING ⚠️ /Users/trangttdang/Downloads/food_data_1/train/images/DSC_6123_JPG_jpg.rf.ed32a17fbbad1b17bbcf3cb52a539969.jpg: ignoring corrupt image/label: cannot identify image file '/Users/trangttdang/Downloads/food_data_1/train/images/DSC_6123_JPG_jpg.rf.ed32a17fbbad1b17bbcf3cb52a539969.jpg'\n",
      "\u001b[34m\u001b[1mtrain: \u001b[0mWARNING ⚠️ /Users/trangttdang/Downloads/food_data_1/train/images/DSC_6123_JPG_jpg.rf.faca9dc94a6f292e4ffb42f8f5af4ca9.jpg: ignoring corrupt image/label: cannot identify image file '/Users/trangttdang/Downloads/food_data_1/train/images/DSC_6123_JPG_jpg.rf.faca9dc94a6f292e4ffb42f8f5af4ca9.jpg'\n",
      "\u001b[34m\u001b[1mtrain: \u001b[0mWARNING ⚠️ /Users/trangttdang/Downloads/food_data_1/train/images/DSC_6124_JPG_jpg.rf.0a2d3cf351c2399030a9d41c1941f32b.jpg: ignoring corrupt image/label: cannot identify image file '/Users/trangttdang/Downloads/food_data_1/train/images/DSC_6124_JPG_jpg.rf.0a2d3cf351c2399030a9d41c1941f32b.jpg'\n",
      "\u001b[34m\u001b[1mtrain: \u001b[0mWARNING ⚠️ /Users/trangttdang/Downloads/food_data_1/train/images/DSC_6124_JPG_jpg.rf.192fa6a80e27f03d08991f46873ed06c.jpg: ignoring corrupt image/label: cannot identify image file '/Users/trangttdang/Downloads/food_data_1/train/images/DSC_6124_JPG_jpg.rf.192fa6a80e27f03d08991f46873ed06c.jpg'\n",
      "\u001b[34m\u001b[1mtrain: \u001b[0mWARNING ⚠️ /Users/trangttdang/Downloads/food_data_1/train/images/DSC_6124_JPG_jpg.rf.2feb27eda2567238a54804202954f626.jpg: ignoring corrupt image/label: cannot identify image file '/Users/trangttdang/Downloads/food_data_1/train/images/DSC_6124_JPG_jpg.rf.2feb27eda2567238a54804202954f626.jpg'\n",
      "\u001b[34m\u001b[1mtrain: \u001b[0mWARNING ⚠️ /Users/trangttdang/Downloads/food_data_1/train/images/DSC_6124_JPG_jpg.rf.364cddde7625f0927fca2171866855f2.jpg: ignoring corrupt image/label: cannot identify image file '/Users/trangttdang/Downloads/food_data_1/train/images/DSC_6124_JPG_jpg.rf.364cddde7625f0927fca2171866855f2.jpg'\n",
      "\u001b[34m\u001b[1mtrain: \u001b[0mWARNING ⚠️ /Users/trangttdang/Downloads/food_data_1/train/images/DSC_6124_JPG_jpg.rf.4359d12b54e0f403216d2dab09b18f87.jpg: ignoring corrupt image/label: cannot identify image file '/Users/trangttdang/Downloads/food_data_1/train/images/DSC_6124_JPG_jpg.rf.4359d12b54e0f403216d2dab09b18f87.jpg'\n",
      "\u001b[34m\u001b[1mtrain: \u001b[0mWARNING ⚠️ /Users/trangttdang/Downloads/food_data_1/train/images/DSC_6124_JPG_jpg.rf.4a51592b74ff1107033fa2919f4568e1.jpg: ignoring corrupt image/label: cannot identify image file '/Users/trangttdang/Downloads/food_data_1/train/images/DSC_6124_JPG_jpg.rf.4a51592b74ff1107033fa2919f4568e1.jpg'\n",
      "\u001b[34m\u001b[1mtrain: \u001b[0mWARNING ⚠️ /Users/trangttdang/Downloads/food_data_1/train/images/DSC_6124_JPG_jpg.rf.574ff5ef52a3a6509434b115b47160f1.jpg: ignoring corrupt image/label: cannot identify image file '/Users/trangttdang/Downloads/food_data_1/train/images/DSC_6124_JPG_jpg.rf.574ff5ef52a3a6509434b115b47160f1.jpg'\n",
      "\u001b[34m\u001b[1mtrain: \u001b[0mWARNING ⚠️ /Users/trangttdang/Downloads/food_data_1/train/images/DSC_6124_JPG_jpg.rf.7a91525811376eeb978b875135290d86.jpg: ignoring corrupt image/label: cannot identify image file '/Users/trangttdang/Downloads/food_data_1/train/images/DSC_6124_JPG_jpg.rf.7a91525811376eeb978b875135290d86.jpg'\n",
      "\u001b[34m\u001b[1mtrain: \u001b[0mWARNING ⚠️ /Users/trangttdang/Downloads/food_data_1/train/images/DSC_6124_JPG_jpg.rf.7ad18f37f8cdfb0e1f7c7d4507dd3d27.jpg: ignoring corrupt image/label: cannot identify image file '/Users/trangttdang/Downloads/food_data_1/train/images/DSC_6124_JPG_jpg.rf.7ad18f37f8cdfb0e1f7c7d4507dd3d27.jpg'\n",
      "\u001b[34m\u001b[1mtrain: \u001b[0mWARNING ⚠️ /Users/trangttdang/Downloads/food_data_1/train/images/DSC_6124_JPG_jpg.rf.806b291f646e4534ed529c948014d273.jpg: ignoring corrupt image/label: cannot identify image file '/Users/trangttdang/Downloads/food_data_1/train/images/DSC_6124_JPG_jpg.rf.806b291f646e4534ed529c948014d273.jpg'\n",
      "\u001b[34m\u001b[1mtrain: \u001b[0mWARNING ⚠️ /Users/trangttdang/Downloads/food_data_1/train/images/DSC_6124_JPG_jpg.rf.998bd08e24ee387b58ab3d4b8926dbb2.jpg: ignoring corrupt image/label: cannot identify image file '/Users/trangttdang/Downloads/food_data_1/train/images/DSC_6124_JPG_jpg.rf.998bd08e24ee387b58ab3d4b8926dbb2.jpg'\n",
      "\u001b[34m\u001b[1mtrain: \u001b[0mWARNING ⚠️ /Users/trangttdang/Downloads/food_data_1/train/images/DSC_6124_JPG_jpg.rf.9c6341f6eafc29653d2df47a45e8ef53.jpg: ignoring corrupt image/label: cannot identify image file '/Users/trangttdang/Downloads/food_data_1/train/images/DSC_6124_JPG_jpg.rf.9c6341f6eafc29653d2df47a45e8ef53.jpg'\n",
      "\u001b[34m\u001b[1mtrain: \u001b[0mWARNING ⚠️ /Users/trangttdang/Downloads/food_data_1/train/images/DSC_6124_JPG_jpg.rf.c109c6e075801136ec85056d8233e3bf.jpg: ignoring corrupt image/label: cannot identify image file '/Users/trangttdang/Downloads/food_data_1/train/images/DSC_6124_JPG_jpg.rf.c109c6e075801136ec85056d8233e3bf.jpg'\n",
      "\u001b[34m\u001b[1mtrain: \u001b[0mWARNING ⚠️ /Users/trangttdang/Downloads/food_data_1/train/images/DSC_6124_JPG_jpg.rf.e9b6755c3f25c58da262f11de463d393.jpg: ignoring corrupt image/label: cannot identify image file '/Users/trangttdang/Downloads/food_data_1/train/images/DSC_6124_JPG_jpg.rf.e9b6755c3f25c58da262f11de463d393.jpg'\n",
      "\u001b[34m\u001b[1mtrain: \u001b[0mWARNING ⚠️ /Users/trangttdang/Downloads/food_data_1/train/images/DSC_6124_JPG_jpg.rf.f06a165298bfa72978ff6b416c431589.jpg: ignoring corrupt image/label: cannot identify image file '/Users/trangttdang/Downloads/food_data_1/train/images/DSC_6124_JPG_jpg.rf.f06a165298bfa72978ff6b416c431589.jpg'\n",
      "\u001b[34m\u001b[1mtrain: \u001b[0mWARNING ⚠️ /Users/trangttdang/Downloads/food_data_1/train/images/DSC_6125_JPG_jpg.rf.01a0e40b9460f50dee4662e7989e6f88.jpg: ignoring corrupt image/label: cannot identify image file '/Users/trangttdang/Downloads/food_data_1/train/images/DSC_6125_JPG_jpg.rf.01a0e40b9460f50dee4662e7989e6f88.jpg'\n",
      "\u001b[34m\u001b[1mtrain: \u001b[0mWARNING ⚠️ /Users/trangttdang/Downloads/food_data_1/train/images/DSC_6125_JPG_jpg.rf.28e85776148b612b333c922ff7318d70.jpg: ignoring corrupt image/label: cannot identify image file '/Users/trangttdang/Downloads/food_data_1/train/images/DSC_6125_JPG_jpg.rf.28e85776148b612b333c922ff7318d70.jpg'\n",
      "\u001b[34m\u001b[1mtrain: \u001b[0mWARNING ⚠️ /Users/trangttdang/Downloads/food_data_1/train/images/DSC_6125_JPG_jpg.rf.5db4f52953d6795ddadc7561154269a2.jpg: ignoring corrupt image/label: cannot identify image file '/Users/trangttdang/Downloads/food_data_1/train/images/DSC_6125_JPG_jpg.rf.5db4f52953d6795ddadc7561154269a2.jpg'\n",
      "\u001b[34m\u001b[1mtrain: \u001b[0mWARNING ⚠️ /Users/trangttdang/Downloads/food_data_1/train/images/DSC_6125_JPG_jpg.rf.5eb1f1fa5d143d2f35798d6126e101d1.jpg: ignoring corrupt image/label: cannot identify image file '/Users/trangttdang/Downloads/food_data_1/train/images/DSC_6125_JPG_jpg.rf.5eb1f1fa5d143d2f35798d6126e101d1.jpg'\n",
      "\u001b[34m\u001b[1mtrain: \u001b[0mWARNING ⚠️ /Users/trangttdang/Downloads/food_data_1/train/images/DSC_6125_JPG_jpg.rf.72c35fb28e44eacc014e09a0722d65be.jpg: ignoring corrupt image/label: cannot identify image file '/Users/trangttdang/Downloads/food_data_1/train/images/DSC_6125_JPG_jpg.rf.72c35fb28e44eacc014e09a0722d65be.jpg'\n",
      "\u001b[34m\u001b[1mtrain: \u001b[0mWARNING ⚠️ /Users/trangttdang/Downloads/food_data_1/train/images/DSC_6125_JPG_jpg.rf.8ccddeb24f9c18029f8b33bc60f99680.jpg: ignoring corrupt image/label: cannot identify image file '/Users/trangttdang/Downloads/food_data_1/train/images/DSC_6125_JPG_jpg.rf.8ccddeb24f9c18029f8b33bc60f99680.jpg'\n",
      "\u001b[34m\u001b[1mtrain: \u001b[0mWARNING ⚠️ /Users/trangttdang/Downloads/food_data_1/train/images/DSC_6125_JPG_jpg.rf.d1dff2fbf7c27f22359524c471c1cbcf.jpg: ignoring corrupt image/label: cannot identify image file '/Users/trangttdang/Downloads/food_data_1/train/images/DSC_6125_JPG_jpg.rf.d1dff2fbf7c27f22359524c471c1cbcf.jpg'\n",
      "\u001b[34m\u001b[1mtrain: \u001b[0mWARNING ⚠️ /Users/trangttdang/Downloads/food_data_1/train/images/DSC_6125_JPG_jpg.rf.d5a851f72974f97dfcf5500fa5ce0345.jpg: ignoring corrupt image/label: cannot identify image file '/Users/trangttdang/Downloads/food_data_1/train/images/DSC_6125_JPG_jpg.rf.d5a851f72974f97dfcf5500fa5ce0345.jpg'\n",
      "\u001b[34m\u001b[1mtrain: \u001b[0mWARNING ⚠️ /Users/trangttdang/Downloads/food_data_1/train/images/DSC_6125_JPG_jpg.rf.de8aa5f9626aec10389ccb2635748a5b.jpg: ignoring corrupt image/label: cannot identify image file '/Users/trangttdang/Downloads/food_data_1/train/images/DSC_6125_JPG_jpg.rf.de8aa5f9626aec10389ccb2635748a5b.jpg'\n",
      "\u001b[34m\u001b[1mtrain: \u001b[0mWARNING ⚠️ /Users/trangttdang/Downloads/food_data_1/train/images/DSC_6126_JPG_jpg.rf.0b2380fe4825fd71c48ee7e78188652d.jpg: ignoring corrupt image/label: cannot identify image file '/Users/trangttdang/Downloads/food_data_1/train/images/DSC_6126_JPG_jpg.rf.0b2380fe4825fd71c48ee7e78188652d.jpg'\n",
      "\u001b[34m\u001b[1mtrain: \u001b[0mWARNING ⚠️ /Users/trangttdang/Downloads/food_data_1/train/images/DSC_6126_JPG_jpg.rf.2ddc43a495edfeb5aeb45e393b77ec96.jpg: ignoring corrupt image/label: cannot identify image file '/Users/trangttdang/Downloads/food_data_1/train/images/DSC_6126_JPG_jpg.rf.2ddc43a495edfeb5aeb45e393b77ec96.jpg'\n",
      "\u001b[34m\u001b[1mtrain: \u001b[0mWARNING ⚠️ /Users/trangttdang/Downloads/food_data_1/train/images/DSC_6126_JPG_jpg.rf.5a979028de062cc6663bea7c70f5df70.jpg: ignoring corrupt image/label: cannot identify image file '/Users/trangttdang/Downloads/food_data_1/train/images/DSC_6126_JPG_jpg.rf.5a979028de062cc6663bea7c70f5df70.jpg'\n",
      "\u001b[34m\u001b[1mtrain: \u001b[0mWARNING ⚠️ /Users/trangttdang/Downloads/food_data_1/train/images/DSC_6126_JPG_jpg.rf.65bbd6f706bc31b2bbf48f22fe24fae0.jpg: ignoring corrupt image/label: cannot identify image file '/Users/trangttdang/Downloads/food_data_1/train/images/DSC_6126_JPG_jpg.rf.65bbd6f706bc31b2bbf48f22fe24fae0.jpg'\n",
      "\u001b[34m\u001b[1mtrain: \u001b[0mWARNING ⚠️ /Users/trangttdang/Downloads/food_data_1/train/images/DSC_6126_JPG_jpg.rf.768aeb035256a4b972851330b3ae53a7.jpg: ignoring corrupt image/label: cannot identify image file '/Users/trangttdang/Downloads/food_data_1/train/images/DSC_6126_JPG_jpg.rf.768aeb035256a4b972851330b3ae53a7.jpg'\n",
      "\u001b[34m\u001b[1mtrain: \u001b[0mWARNING ⚠️ /Users/trangttdang/Downloads/food_data_1/train/images/DSC_6126_JPG_jpg.rf.c5c356038954a898ecaeefcc3698f1f8.jpg: ignoring corrupt image/label: cannot identify image file '/Users/trangttdang/Downloads/food_data_1/train/images/DSC_6126_JPG_jpg.rf.c5c356038954a898ecaeefcc3698f1f8.jpg'\n",
      "\u001b[34m\u001b[1mtrain: \u001b[0mWARNING ⚠️ /Users/trangttdang/Downloads/food_data_1/train/images/DSC_6126_JPG_jpg.rf.e78078cca4011eb629b0f5b00f47dc73.jpg: ignoring corrupt image/label: cannot identify image file '/Users/trangttdang/Downloads/food_data_1/train/images/DSC_6126_JPG_jpg.rf.e78078cca4011eb629b0f5b00f47dc73.jpg'\n",
      "\u001b[34m\u001b[1mtrain: \u001b[0mWARNING ⚠️ /Users/trangttdang/Downloads/food_data_1/train/images/DSC_6127_JPG_jpg.rf.1972398e0a0ac626a8cf74d84a1275d2.jpg: ignoring corrupt image/label: cannot identify image file '/Users/trangttdang/Downloads/food_data_1/train/images/DSC_6127_JPG_jpg.rf.1972398e0a0ac626a8cf74d84a1275d2.jpg'\n",
      "\u001b[34m\u001b[1mtrain: \u001b[0mWARNING ⚠️ /Users/trangttdang/Downloads/food_data_1/train/images/DSC_6127_JPG_jpg.rf.4064d80c68f61133bc690e0a5355d617.jpg: ignoring corrupt image/label: cannot identify image file '/Users/trangttdang/Downloads/food_data_1/train/images/DSC_6127_JPG_jpg.rf.4064d80c68f61133bc690e0a5355d617.jpg'\n",
      "\u001b[34m\u001b[1mtrain: \u001b[0mWARNING ⚠️ /Users/trangttdang/Downloads/food_data_1/train/images/DSC_6127_JPG_jpg.rf.7ed46f0b0678610a46978aae6e4da22d.jpg: ignoring corrupt image/label: cannot identify image file '/Users/trangttdang/Downloads/food_data_1/train/images/DSC_6127_JPG_jpg.rf.7ed46f0b0678610a46978aae6e4da22d.jpg'\n",
      "\u001b[34m\u001b[1mtrain: \u001b[0mWARNING ⚠️ /Users/trangttdang/Downloads/food_data_1/train/images/DSC_6127_JPG_jpg.rf.9e0d9a98c83d7a410a5a11470976fc9e.jpg: ignoring corrupt image/label: cannot identify image file '/Users/trangttdang/Downloads/food_data_1/train/images/DSC_6127_JPG_jpg.rf.9e0d9a98c83d7a410a5a11470976fc9e.jpg'\n",
      "\u001b[34m\u001b[1mtrain: \u001b[0mWARNING ⚠️ /Users/trangttdang/Downloads/food_data_1/train/images/DSC_6127_JPG_jpg.rf.ad2c76a8b6709fae3fe4fd6db679395e.jpg: ignoring corrupt image/label: cannot identify image file '/Users/trangttdang/Downloads/food_data_1/train/images/DSC_6127_JPG_jpg.rf.ad2c76a8b6709fae3fe4fd6db679395e.jpg'\n",
      "\u001b[34m\u001b[1mtrain: \u001b[0mWARNING ⚠️ /Users/trangttdang/Downloads/food_data_1/train/images/DSC_6127_JPG_jpg.rf.e9bcbbf90f80333951456d3848f08cfd.jpg: ignoring corrupt image/label: cannot identify image file '/Users/trangttdang/Downloads/food_data_1/train/images/DSC_6127_JPG_jpg.rf.e9bcbbf90f80333951456d3848f08cfd.jpg'\n",
      "\u001b[34m\u001b[1mtrain: \u001b[0mWARNING ⚠️ /Users/trangttdang/Downloads/food_data_1/train/images/DSC_6128_JPG_jpg.rf.00758907b5f4b7a3d0c06777c4574a02.jpg: ignoring corrupt image/label: cannot identify image file '/Users/trangttdang/Downloads/food_data_1/train/images/DSC_6128_JPG_jpg.rf.00758907b5f4b7a3d0c06777c4574a02.jpg'\n",
      "\u001b[34m\u001b[1mtrain: \u001b[0mWARNING ⚠️ /Users/trangttdang/Downloads/food_data_1/train/images/DSC_6128_JPG_jpg.rf.2e22c70b7823666b0fafcc7f6a4fb87c.jpg: ignoring corrupt image/label: cannot identify image file '/Users/trangttdang/Downloads/food_data_1/train/images/DSC_6128_JPG_jpg.rf.2e22c70b7823666b0fafcc7f6a4fb87c.jpg'\n",
      "\u001b[34m\u001b[1mtrain: \u001b[0mWARNING ⚠️ /Users/trangttdang/Downloads/food_data_1/train/images/DSC_6128_JPG_jpg.rf.3d7b739f228d96e95600786d9de550fe.jpg: ignoring corrupt image/label: cannot identify image file '/Users/trangttdang/Downloads/food_data_1/train/images/DSC_6128_JPG_jpg.rf.3d7b739f228d96e95600786d9de550fe.jpg'\n",
      "\u001b[34m\u001b[1mtrain: \u001b[0mWARNING ⚠️ /Users/trangttdang/Downloads/food_data_1/train/images/DSC_6129_JPG_jpg.rf.3977855e86be37444776152e241c8f5d.jpg: ignoring corrupt image/label: cannot identify image file '/Users/trangttdang/Downloads/food_data_1/train/images/DSC_6129_JPG_jpg.rf.3977855e86be37444776152e241c8f5d.jpg'\n",
      "\u001b[34m\u001b[1mtrain: \u001b[0mWARNING ⚠️ /Users/trangttdang/Downloads/food_data_1/train/images/DSC_6129_JPG_jpg.rf.4006938a22df36e829de20c5ff8631cd.jpg: ignoring corrupt image/label: cannot identify image file '/Users/trangttdang/Downloads/food_data_1/train/images/DSC_6129_JPG_jpg.rf.4006938a22df36e829de20c5ff8631cd.jpg'\n",
      "\u001b[34m\u001b[1mtrain: \u001b[0mWARNING ⚠️ /Users/trangttdang/Downloads/food_data_1/train/images/DSC_6129_JPG_jpg.rf.61c0c2b4cb4fcdec8f92db1b6fa59a79.jpg: ignoring corrupt image/label: cannot identify image file '/Users/trangttdang/Downloads/food_data_1/train/images/DSC_6129_JPG_jpg.rf.61c0c2b4cb4fcdec8f92db1b6fa59a79.jpg'\n",
      "\u001b[34m\u001b[1mtrain: \u001b[0mWARNING ⚠️ /Users/trangttdang/Downloads/food_data_1/train/images/DSC_6129_JPG_jpg.rf.75daa82b6b41d80d30411539ccf1f442.jpg: ignoring corrupt image/label: cannot identify image file '/Users/trangttdang/Downloads/food_data_1/train/images/DSC_6129_JPG_jpg.rf.75daa82b6b41d80d30411539ccf1f442.jpg'\n",
      "\u001b[34m\u001b[1mtrain: \u001b[0mWARNING ⚠️ /Users/trangttdang/Downloads/food_data_1/train/images/DSC_6129_JPG_jpg.rf.ae28eb7e33b8bef3b8c85eaff5a49a8e.jpg: ignoring corrupt image/label: cannot identify image file '/Users/trangttdang/Downloads/food_data_1/train/images/DSC_6129_JPG_jpg.rf.ae28eb7e33b8bef3b8c85eaff5a49a8e.jpg'\n",
      "\u001b[34m\u001b[1mtrain: \u001b[0mWARNING ⚠️ /Users/trangttdang/Downloads/food_data_1/train/images/DSC_6129_JPG_jpg.rf.df132e68a6276fea2e4804a7e57786bd.jpg: ignoring corrupt image/label: cannot identify image file '/Users/trangttdang/Downloads/food_data_1/train/images/DSC_6129_JPG_jpg.rf.df132e68a6276fea2e4804a7e57786bd.jpg'\n",
      "\u001b[34m\u001b[1mtrain: \u001b[0mWARNING ⚠️ /Users/trangttdang/Downloads/food_data_1/train/images/DSC_6130_JPG_jpg.rf.3517160ca742e73cf62201feb2618ae4.jpg: ignoring corrupt image/label: cannot identify image file '/Users/trangttdang/Downloads/food_data_1/train/images/DSC_6130_JPG_jpg.rf.3517160ca742e73cf62201feb2618ae4.jpg'\n",
      "\u001b[34m\u001b[1mtrain: \u001b[0mWARNING ⚠️ /Users/trangttdang/Downloads/food_data_1/train/images/DSC_6130_JPG_jpg.rf.538257d6524b59b735c124aa104b00d8.jpg: ignoring corrupt image/label: cannot identify image file '/Users/trangttdang/Downloads/food_data_1/train/images/DSC_6130_JPG_jpg.rf.538257d6524b59b735c124aa104b00d8.jpg'\n",
      "\u001b[34m\u001b[1mtrain: \u001b[0mWARNING ⚠️ /Users/trangttdang/Downloads/food_data_1/train/images/DSC_6130_JPG_jpg.rf.7100f6a02826f82ab60b4b8506275b17.jpg: ignoring corrupt image/label: cannot identify image file '/Users/trangttdang/Downloads/food_data_1/train/images/DSC_6130_JPG_jpg.rf.7100f6a02826f82ab60b4b8506275b17.jpg'\n",
      "\u001b[34m\u001b[1mtrain: \u001b[0mWARNING ⚠️ /Users/trangttdang/Downloads/food_data_1/train/images/DSC_6131_JPG_jpg.rf.1f8b1c5f14f2825a4797c30eaf7c22a4.jpg: ignoring corrupt image/label: cannot identify image file '/Users/trangttdang/Downloads/food_data_1/train/images/DSC_6131_JPG_jpg.rf.1f8b1c5f14f2825a4797c30eaf7c22a4.jpg'\n",
      "\u001b[34m\u001b[1mtrain: \u001b[0mWARNING ⚠️ /Users/trangttdang/Downloads/food_data_1/train/images/DSC_6131_JPG_jpg.rf.3afb0f4c5af7c3a3de03542f9924fc2e.jpg: ignoring corrupt image/label: cannot identify image file '/Users/trangttdang/Downloads/food_data_1/train/images/DSC_6131_JPG_jpg.rf.3afb0f4c5af7c3a3de03542f9924fc2e.jpg'\n",
      "\u001b[34m\u001b[1mtrain: \u001b[0mWARNING ⚠️ /Users/trangttdang/Downloads/food_data_1/train/images/DSC_6131_JPG_jpg.rf.6877b5c9a816bfb866712ee59e36c030.jpg: ignoring corrupt image/label: cannot identify image file '/Users/trangttdang/Downloads/food_data_1/train/images/DSC_6131_JPG_jpg.rf.6877b5c9a816bfb866712ee59e36c030.jpg'\n",
      "\u001b[34m\u001b[1mtrain: \u001b[0mWARNING ⚠️ /Users/trangttdang/Downloads/food_data_1/train/images/DSC_6131_JPG_jpg.rf.7ebdc7968e80a4c3d74bb7d57b0b10ec.jpg: ignoring corrupt image/label: cannot identify image file '/Users/trangttdang/Downloads/food_data_1/train/images/DSC_6131_JPG_jpg.rf.7ebdc7968e80a4c3d74bb7d57b0b10ec.jpg'\n",
      "\u001b[34m\u001b[1mtrain: \u001b[0mWARNING ⚠️ /Users/trangttdang/Downloads/food_data_1/train/images/DSC_6131_JPG_jpg.rf.88a44715072a690784533dc317cfb8a3.jpg: ignoring corrupt image/label: cannot identify image file '/Users/trangttdang/Downloads/food_data_1/train/images/DSC_6131_JPG_jpg.rf.88a44715072a690784533dc317cfb8a3.jpg'\n",
      "\u001b[34m\u001b[1mtrain: \u001b[0mWARNING ⚠️ /Users/trangttdang/Downloads/food_data_1/train/images/DSC_6131_JPG_jpg.rf.cbfbcf9baf57546b35c3bb20c6d6163d.jpg: ignoring corrupt image/label: cannot identify image file '/Users/trangttdang/Downloads/food_data_1/train/images/DSC_6131_JPG_jpg.rf.cbfbcf9baf57546b35c3bb20c6d6163d.jpg'\n",
      "\u001b[34m\u001b[1mtrain: \u001b[0mWARNING ⚠️ /Users/trangttdang/Downloads/food_data_1/train/images/DSC_6131_JPG_jpg.rf.d6e3972c9872a66d59d2b9f08d224366.jpg: ignoring corrupt image/label: cannot identify image file '/Users/trangttdang/Downloads/food_data_1/train/images/DSC_6131_JPG_jpg.rf.d6e3972c9872a66d59d2b9f08d224366.jpg'\n",
      "\u001b[34m\u001b[1mtrain: \u001b[0mWARNING ⚠️ /Users/trangttdang/Downloads/food_data_1/train/images/DSC_6131_JPG_jpg.rf.dc966bb79f6f1dc181fd520cae7a278a.jpg: ignoring corrupt image/label: cannot identify image file '/Users/trangttdang/Downloads/food_data_1/train/images/DSC_6131_JPG_jpg.rf.dc966bb79f6f1dc181fd520cae7a278a.jpg'\n",
      "\u001b[34m\u001b[1mtrain: \u001b[0mWARNING ⚠️ /Users/trangttdang/Downloads/food_data_1/train/images/DSC_6131_JPG_jpg.rf.ee1d18e59620f3a408985cfc0c7498b0.jpg: ignoring corrupt image/label: cannot identify image file '/Users/trangttdang/Downloads/food_data_1/train/images/DSC_6131_JPG_jpg.rf.ee1d18e59620f3a408985cfc0c7498b0.jpg'\n",
      "\u001b[34m\u001b[1mtrain: \u001b[0mWARNING ⚠️ /Users/trangttdang/Downloads/food_data_1/train/images/DSC_6132_JPG_jpg.rf.1d32d2948ef3c69289fecfe320158cc3.jpg: ignoring corrupt image/label: cannot identify image file '/Users/trangttdang/Downloads/food_data_1/train/images/DSC_6132_JPG_jpg.rf.1d32d2948ef3c69289fecfe320158cc3.jpg'\n",
      "\u001b[34m\u001b[1mtrain: \u001b[0mWARNING ⚠️ /Users/trangttdang/Downloads/food_data_1/train/images/DSC_6132_JPG_jpg.rf.2f8c92ce340057bec8d1e5a69962a91d.jpg: ignoring corrupt image/label: cannot identify image file '/Users/trangttdang/Downloads/food_data_1/train/images/DSC_6132_JPG_jpg.rf.2f8c92ce340057bec8d1e5a69962a91d.jpg'\n",
      "\u001b[34m\u001b[1mtrain: \u001b[0mWARNING ⚠️ /Users/trangttdang/Downloads/food_data_1/train/images/DSC_6132_JPG_jpg.rf.45d64611699114025ed7908bbad26a7c.jpg: ignoring corrupt image/label: cannot identify image file '/Users/trangttdang/Downloads/food_data_1/train/images/DSC_6132_JPG_jpg.rf.45d64611699114025ed7908bbad26a7c.jpg'\n",
      "\u001b[34m\u001b[1mtrain: \u001b[0mWARNING ⚠️ /Users/trangttdang/Downloads/food_data_1/train/images/DSC_6132_JPG_jpg.rf.58e739a72669468bba0d0005da177ad9.jpg: ignoring corrupt image/label: cannot identify image file '/Users/trangttdang/Downloads/food_data_1/train/images/DSC_6132_JPG_jpg.rf.58e739a72669468bba0d0005da177ad9.jpg'\n",
      "\u001b[34m\u001b[1mtrain: \u001b[0mWARNING ⚠️ /Users/trangttdang/Downloads/food_data_1/train/images/DSC_6132_JPG_jpg.rf.703fb4d2c38886a2ccdef5f8c6f51145.jpg: ignoring corrupt image/label: cannot identify image file '/Users/trangttdang/Downloads/food_data_1/train/images/DSC_6132_JPG_jpg.rf.703fb4d2c38886a2ccdef5f8c6f51145.jpg'\n",
      "\u001b[34m\u001b[1mtrain: \u001b[0mWARNING ⚠️ /Users/trangttdang/Downloads/food_data_1/train/images/DSC_6132_JPG_jpg.rf.93fe1f2cc671e8ecdf49771139aaa660.jpg: ignoring corrupt image/label: cannot identify image file '/Users/trangttdang/Downloads/food_data_1/train/images/DSC_6132_JPG_jpg.rf.93fe1f2cc671e8ecdf49771139aaa660.jpg'\n",
      "\u001b[34m\u001b[1mtrain: \u001b[0mWARNING ⚠️ /Users/trangttdang/Downloads/food_data_1/train/images/DSC_6132_JPG_jpg.rf.bb0368a1dc2262dac69d65fc3e6e5408.jpg: ignoring corrupt image/label: cannot identify image file '/Users/trangttdang/Downloads/food_data_1/train/images/DSC_6132_JPG_jpg.rf.bb0368a1dc2262dac69d65fc3e6e5408.jpg'\n",
      "\u001b[34m\u001b[1mtrain: \u001b[0mWARNING ⚠️ /Users/trangttdang/Downloads/food_data_1/train/images/DSC_6132_JPG_jpg.rf.d6dbf651371fb00917ddce5cb1c57ad1.jpg: ignoring corrupt image/label: cannot identify image file '/Users/trangttdang/Downloads/food_data_1/train/images/DSC_6132_JPG_jpg.rf.d6dbf651371fb00917ddce5cb1c57ad1.jpg'\n",
      "\u001b[34m\u001b[1mtrain: \u001b[0mWARNING ⚠️ /Users/trangttdang/Downloads/food_data_1/train/images/DSC_6132_JPG_jpg.rf.f7cfe53df71a9188a6c85f18b34854b5.jpg: ignoring corrupt image/label: cannot identify image file '/Users/trangttdang/Downloads/food_data_1/train/images/DSC_6132_JPG_jpg.rf.f7cfe53df71a9188a6c85f18b34854b5.jpg'\n",
      "\u001b[34m\u001b[1mtrain: \u001b[0mWARNING ⚠️ /Users/trangttdang/Downloads/food_data_1/train/images/DSC_6133_JPG_jpg.rf.7e1f835e91b71e98ba05110fe018022a.jpg: ignoring corrupt image/label: cannot identify image file '/Users/trangttdang/Downloads/food_data_1/train/images/DSC_6133_JPG_jpg.rf.7e1f835e91b71e98ba05110fe018022a.jpg'\n",
      "\u001b[34m\u001b[1mtrain: \u001b[0mWARNING ⚠️ /Users/trangttdang/Downloads/food_data_1/train/images/DSC_6133_JPG_jpg.rf.84e4a9f4234cca91bf1462b2bb2d206e.jpg: ignoring corrupt image/label: cannot identify image file '/Users/trangttdang/Downloads/food_data_1/train/images/DSC_6133_JPG_jpg.rf.84e4a9f4234cca91bf1462b2bb2d206e.jpg'\n",
      "\u001b[34m\u001b[1mtrain: \u001b[0mWARNING ⚠️ /Users/trangttdang/Downloads/food_data_1/train/images/DSC_6133_JPG_jpg.rf.b056a699df762cf8100b0dd93b2d491f.jpg: ignoring corrupt image/label: cannot identify image file '/Users/trangttdang/Downloads/food_data_1/train/images/DSC_6133_JPG_jpg.rf.b056a699df762cf8100b0dd93b2d491f.jpg'\n",
      "\u001b[34m\u001b[1mtrain: \u001b[0mWARNING ⚠️ /Users/trangttdang/Downloads/food_data_1/train/images/DSC_6133_JPG_jpg.rf.faf9e55f4797097fb0a6413ab008f5a4.jpg: ignoring corrupt image/label: cannot identify image file '/Users/trangttdang/Downloads/food_data_1/train/images/DSC_6133_JPG_jpg.rf.faf9e55f4797097fb0a6413ab008f5a4.jpg'\n",
      "\u001b[34m\u001b[1mtrain: \u001b[0mWARNING ⚠️ /Users/trangttdang/Downloads/food_data_1/train/images/DSC_6134_JPG_jpg.rf.0ee059a75deda10f89658fc8c4e143f1.jpg: ignoring corrupt image/label: cannot identify image file '/Users/trangttdang/Downloads/food_data_1/train/images/DSC_6134_JPG_jpg.rf.0ee059a75deda10f89658fc8c4e143f1.jpg'\n",
      "\u001b[34m\u001b[1mtrain: \u001b[0mWARNING ⚠️ /Users/trangttdang/Downloads/food_data_1/train/images/DSC_6134_JPG_jpg.rf.2f417f64e876f4df5298c7392c42fa16.jpg: ignoring corrupt image/label: cannot identify image file '/Users/trangttdang/Downloads/food_data_1/train/images/DSC_6134_JPG_jpg.rf.2f417f64e876f4df5298c7392c42fa16.jpg'\n",
      "\u001b[34m\u001b[1mtrain: \u001b[0mWARNING ⚠️ /Users/trangttdang/Downloads/food_data_1/train/images/DSC_6134_JPG_jpg.rf.3bd63d72af24f241c741ace39a59eba0.jpg: ignoring corrupt image/label: cannot identify image file '/Users/trangttdang/Downloads/food_data_1/train/images/DSC_6134_JPG_jpg.rf.3bd63d72af24f241c741ace39a59eba0.jpg'\n",
      "\u001b[34m\u001b[1mtrain: \u001b[0mWARNING ⚠️ /Users/trangttdang/Downloads/food_data_1/train/images/DSC_6134_JPG_jpg.rf.5eb6817518779ceeee3a6bd0400e6f7d.jpg: ignoring corrupt image/label: cannot identify image file '/Users/trangttdang/Downloads/food_data_1/train/images/DSC_6134_JPG_jpg.rf.5eb6817518779ceeee3a6bd0400e6f7d.jpg'\n",
      "\u001b[34m\u001b[1mtrain: \u001b[0mWARNING ⚠️ /Users/trangttdang/Downloads/food_data_1/train/images/DSC_6134_JPG_jpg.rf.79ce13e96353d5edb4b1e28c4be832a9.jpg: ignoring corrupt image/label: cannot identify image file '/Users/trangttdang/Downloads/food_data_1/train/images/DSC_6134_JPG_jpg.rf.79ce13e96353d5edb4b1e28c4be832a9.jpg'\n",
      "\u001b[34m\u001b[1mtrain: \u001b[0mWARNING ⚠️ /Users/trangttdang/Downloads/food_data_1/train/images/DSC_6134_JPG_jpg.rf.9462a7c7b59884bd586bd1a0910fde28.jpg: ignoring corrupt image/label: cannot identify image file '/Users/trangttdang/Downloads/food_data_1/train/images/DSC_6134_JPG_jpg.rf.9462a7c7b59884bd586bd1a0910fde28.jpg'\n",
      "\u001b[34m\u001b[1mtrain: \u001b[0mWARNING ⚠️ /Users/trangttdang/Downloads/food_data_1/train/images/DSC_6134_JPG_jpg.rf.a89f7131a7094f266068066d3e82c1e0.jpg: corrupt JPEG restored and saved\n",
      "\u001b[34m\u001b[1mtrain: \u001b[0mWARNING ⚠️ /Users/trangttdang/Downloads/food_data_1/train/images/DSC_6134_JPG_jpg.rf.e6bee9547c8333d56cdf83877e966933.jpg: ignoring corrupt image/label: cannot identify image file '/Users/trangttdang/Downloads/food_data_1/train/images/DSC_6134_JPG_jpg.rf.e6bee9547c8333d56cdf83877e966933.jpg'\n",
      "\u001b[34m\u001b[1mtrain: \u001b[0mWARNING ⚠️ /Users/trangttdang/Downloads/food_data_1/train/images/DSC_6134_JPG_jpg.rf.f8a7839656b99a7d1d11ab8ef6f2915b.jpg: ignoring corrupt image/label: cannot identify image file '/Users/trangttdang/Downloads/food_data_1/train/images/DSC_6134_JPG_jpg.rf.f8a7839656b99a7d1d11ab8ef6f2915b.jpg'\n",
      "\u001b[34m\u001b[1mtrain: \u001b[0mWARNING ⚠️ /Users/trangttdang/Downloads/food_data_1/train/images/DSC_6135_JPG_jpg.rf.7de1a8fe053174b1378bd669cdb45f05.jpg: ignoring corrupt image/label: cannot identify image file '/Users/trangttdang/Downloads/food_data_1/train/images/DSC_6135_JPG_jpg.rf.7de1a8fe053174b1378bd669cdb45f05.jpg'\n",
      "\u001b[34m\u001b[1mtrain: \u001b[0mWARNING ⚠️ /Users/trangttdang/Downloads/food_data_1/train/images/DSC_6135_JPG_jpg.rf.961f7d512ce545738e01ad0bbc3f0e66.jpg: ignoring corrupt image/label: cannot identify image file '/Users/trangttdang/Downloads/food_data_1/train/images/DSC_6135_JPG_jpg.rf.961f7d512ce545738e01ad0bbc3f0e66.jpg'\n",
      "\u001b[34m\u001b[1mtrain: \u001b[0mWARNING ⚠️ /Users/trangttdang/Downloads/food_data_1/train/images/DSC_6135_JPG_jpg.rf.e676064174f7f1425ec9cd83382f01d1.jpg: ignoring corrupt image/label: cannot identify image file '/Users/trangttdang/Downloads/food_data_1/train/images/DSC_6135_JPG_jpg.rf.e676064174f7f1425ec9cd83382f01d1.jpg'\n",
      "\u001b[34m\u001b[1mtrain: \u001b[0mWARNING ⚠️ /Users/trangttdang/Downloads/food_data_1/train/images/DSC_6136_JPG_jpg.rf.44d13583f44358b3f214e1925f62d7e5.jpg: ignoring corrupt image/label: cannot identify image file '/Users/trangttdang/Downloads/food_data_1/train/images/DSC_6136_JPG_jpg.rf.44d13583f44358b3f214e1925f62d7e5.jpg'\n",
      "\u001b[34m\u001b[1mtrain: \u001b[0mWARNING ⚠️ /Users/trangttdang/Downloads/food_data_1/train/images/DSC_6136_JPG_jpg.rf.7533380a7d0d7b92408083d35b637fd1.jpg: ignoring corrupt image/label: cannot identify image file '/Users/trangttdang/Downloads/food_data_1/train/images/DSC_6136_JPG_jpg.rf.7533380a7d0d7b92408083d35b637fd1.jpg'\n",
      "\u001b[34m\u001b[1mtrain: \u001b[0mWARNING ⚠️ /Users/trangttdang/Downloads/food_data_1/train/images/DSC_6136_JPG_jpg.rf.939f6788d59b385c9a6c2f81ae47cdd1.jpg: ignoring corrupt image/label: cannot identify image file '/Users/trangttdang/Downloads/food_data_1/train/images/DSC_6136_JPG_jpg.rf.939f6788d59b385c9a6c2f81ae47cdd1.jpg'\n",
      "\u001b[34m\u001b[1mtrain: \u001b[0mWARNING ⚠️ /Users/trangttdang/Downloads/food_data_1/train/images/DSC_6136_JPG_jpg.rf.e3759047bca5959ad6cde7428dec9bd8.jpg: ignoring corrupt image/label: cannot identify image file '/Users/trangttdang/Downloads/food_data_1/train/images/DSC_6136_JPG_jpg.rf.e3759047bca5959ad6cde7428dec9bd8.jpg'\n",
      "\u001b[34m\u001b[1mtrain: \u001b[0mWARNING ⚠️ /Users/trangttdang/Downloads/food_data_1/train/images/DSC_6136_JPG_jpg.rf.f1c99aa43ef8fc70ddb9c25950a7b1c9.jpg: ignoring corrupt image/label: cannot identify image file '/Users/trangttdang/Downloads/food_data_1/train/images/DSC_6136_JPG_jpg.rf.f1c99aa43ef8fc70ddb9c25950a7b1c9.jpg'\n",
      "\u001b[34m\u001b[1mtrain: \u001b[0mWARNING ⚠️ /Users/trangttdang/Downloads/food_data_1/train/images/DSC_6137_JPG_jpg.rf.045509a39691697e136c8f589526451a.jpg: ignoring corrupt image/label: cannot identify image file '/Users/trangttdang/Downloads/food_data_1/train/images/DSC_6137_JPG_jpg.rf.045509a39691697e136c8f589526451a.jpg'\n",
      "\u001b[34m\u001b[1mtrain: \u001b[0mWARNING ⚠️ /Users/trangttdang/Downloads/food_data_1/train/images/DSC_6137_JPG_jpg.rf.66ba4b333cf4214090f36689511add3a.jpg: ignoring corrupt image/label: cannot identify image file '/Users/trangttdang/Downloads/food_data_1/train/images/DSC_6137_JPG_jpg.rf.66ba4b333cf4214090f36689511add3a.jpg'\n",
      "\u001b[34m\u001b[1mtrain: \u001b[0mWARNING ⚠️ /Users/trangttdang/Downloads/food_data_1/train/images/DSC_6137_JPG_jpg.rf.9065127b840edc33dd696f2c8a54523a.jpg: ignoring corrupt image/label: cannot identify image file '/Users/trangttdang/Downloads/food_data_1/train/images/DSC_6137_JPG_jpg.rf.9065127b840edc33dd696f2c8a54523a.jpg'\n",
      "\u001b[34m\u001b[1mtrain: \u001b[0mWARNING ⚠️ /Users/trangttdang/Downloads/food_data_1/train/images/DSC_6137_JPG_jpg.rf.921c83a60bfdc20a77861902ebc058c8.jpg: ignoring corrupt image/label: cannot identify image file '/Users/trangttdang/Downloads/food_data_1/train/images/DSC_6137_JPG_jpg.rf.921c83a60bfdc20a77861902ebc058c8.jpg'\n",
      "\u001b[34m\u001b[1mtrain: \u001b[0mWARNING ⚠️ /Users/trangttdang/Downloads/food_data_1/train/images/DSC_6137_JPG_jpg.rf.acae317e87a176590cf89e60f4bc769a.jpg: ignoring corrupt image/label: cannot identify image file '/Users/trangttdang/Downloads/food_data_1/train/images/DSC_6137_JPG_jpg.rf.acae317e87a176590cf89e60f4bc769a.jpg'\n",
      "\u001b[34m\u001b[1mtrain: \u001b[0mWARNING ⚠️ /Users/trangttdang/Downloads/food_data_1/train/images/DSC_6137_JPG_jpg.rf.bdb629eb3d0c7d0764315a4de6a2dd38.jpg: ignoring corrupt image/label: cannot identify image file '/Users/trangttdang/Downloads/food_data_1/train/images/DSC_6137_JPG_jpg.rf.bdb629eb3d0c7d0764315a4de6a2dd38.jpg'\n",
      "\u001b[34m\u001b[1mtrain: \u001b[0mWARNING ⚠️ /Users/trangttdang/Downloads/food_data_1/train/images/DSC_6137_JPG_jpg.rf.fb95c93c34ae02279ad126a337f9c353.jpg: ignoring corrupt image/label: cannot identify image file '/Users/trangttdang/Downloads/food_data_1/train/images/DSC_6137_JPG_jpg.rf.fb95c93c34ae02279ad126a337f9c353.jpg'\n",
      "\u001b[34m\u001b[1mtrain: \u001b[0mWARNING ⚠️ /Users/trangttdang/Downloads/food_data_1/train/images/DSC_6137_JPG_jpg.rf.fc21698c886bca3b2781211df248fad0.jpg: ignoring corrupt image/label: cannot identify image file '/Users/trangttdang/Downloads/food_data_1/train/images/DSC_6137_JPG_jpg.rf.fc21698c886bca3b2781211df248fad0.jpg'\n",
      "\u001b[34m\u001b[1mtrain: \u001b[0mWARNING ⚠️ /Users/trangttdang/Downloads/food_data_1/train/images/DSC_6138_JPG_jpg.rf.0b513cc0abaebda3370312aaae576b2d.jpg: ignoring corrupt image/label: cannot identify image file '/Users/trangttdang/Downloads/food_data_1/train/images/DSC_6138_JPG_jpg.rf.0b513cc0abaebda3370312aaae576b2d.jpg'\n",
      "\u001b[34m\u001b[1mtrain: \u001b[0mWARNING ⚠️ /Users/trangttdang/Downloads/food_data_1/train/images/DSC_6138_JPG_jpg.rf.2f65c2e40c906718bbf923bbc08a8c28.jpg: ignoring corrupt image/label: cannot identify image file '/Users/trangttdang/Downloads/food_data_1/train/images/DSC_6138_JPG_jpg.rf.2f65c2e40c906718bbf923bbc08a8c28.jpg'\n",
      "\u001b[34m\u001b[1mtrain: \u001b[0mWARNING ⚠️ /Users/trangttdang/Downloads/food_data_1/train/images/DSC_6138_JPG_jpg.rf.355b9ce249cee26f28572c5124c0583e.jpg: ignoring corrupt image/label: cannot identify image file '/Users/trangttdang/Downloads/food_data_1/train/images/DSC_6138_JPG_jpg.rf.355b9ce249cee26f28572c5124c0583e.jpg'\n",
      "\u001b[34m\u001b[1mtrain: \u001b[0mWARNING ⚠️ /Users/trangttdang/Downloads/food_data_1/train/images/DSC_6138_JPG_jpg.rf.3a317b360605e62efdfe194eb8963ba9.jpg: ignoring corrupt image/label: cannot identify image file '/Users/trangttdang/Downloads/food_data_1/train/images/DSC_6138_JPG_jpg.rf.3a317b360605e62efdfe194eb8963ba9.jpg'\n",
      "\u001b[34m\u001b[1mtrain: \u001b[0mWARNING ⚠️ /Users/trangttdang/Downloads/food_data_1/train/images/DSC_6138_JPG_jpg.rf.4510adda7cecdc183048050659fc6cd1.jpg: ignoring corrupt image/label: cannot identify image file '/Users/trangttdang/Downloads/food_data_1/train/images/DSC_6138_JPG_jpg.rf.4510adda7cecdc183048050659fc6cd1.jpg'\n",
      "\u001b[34m\u001b[1mtrain: \u001b[0mWARNING ⚠️ /Users/trangttdang/Downloads/food_data_1/train/images/DSC_6138_JPG_jpg.rf.4e4e4e57e5a55baf53ebb038edc0bb9c.jpg: ignoring corrupt image/label: cannot identify image file '/Users/trangttdang/Downloads/food_data_1/train/images/DSC_6138_JPG_jpg.rf.4e4e4e57e5a55baf53ebb038edc0bb9c.jpg'\n",
      "\u001b[34m\u001b[1mtrain: \u001b[0mWARNING ⚠️ /Users/trangttdang/Downloads/food_data_1/train/images/DSC_6138_JPG_jpg.rf.651096755e5d73a40e1a98e8722fadc6.jpg: ignoring corrupt image/label: cannot identify image file '/Users/trangttdang/Downloads/food_data_1/train/images/DSC_6138_JPG_jpg.rf.651096755e5d73a40e1a98e8722fadc6.jpg'\n",
      "\u001b[34m\u001b[1mtrain: \u001b[0mWARNING ⚠️ /Users/trangttdang/Downloads/food_data_1/train/images/DSC_6138_JPG_jpg.rf.a0275c4eddf2c1143451424172df0833.jpg: ignoring corrupt image/label: cannot identify image file '/Users/trangttdang/Downloads/food_data_1/train/images/DSC_6138_JPG_jpg.rf.a0275c4eddf2c1143451424172df0833.jpg'\n",
      "\u001b[34m\u001b[1mtrain: \u001b[0mWARNING ⚠️ /Users/trangttdang/Downloads/food_data_1/train/images/DSC_6138_JPG_jpg.rf.cf7983d019275f554035e03ce637f0aa.jpg: ignoring corrupt image/label: cannot identify image file '/Users/trangttdang/Downloads/food_data_1/train/images/DSC_6138_JPG_jpg.rf.cf7983d019275f554035e03ce637f0aa.jpg'\n",
      "\u001b[34m\u001b[1mtrain: \u001b[0mWARNING ⚠️ /Users/trangttdang/Downloads/food_data_1/train/images/DSC_6139_JPG_jpg.rf.984c8bd74b416a807d4f1729f5529533.jpg: ignoring corrupt image/label: image file is truncated (36 bytes not processed)\n",
      "\u001b[34m\u001b[1mtrain: \u001b[0mWARNING ⚠️ /Users/trangttdang/Downloads/food_data_1/train/images/DSC_6139_JPG_jpg.rf.dff8d39f9727eaae0b88959a1bd28b00.jpg: ignoring corrupt image/label: cannot identify image file '/Users/trangttdang/Downloads/food_data_1/train/images/DSC_6139_JPG_jpg.rf.dff8d39f9727eaae0b88959a1bd28b00.jpg'\n",
      "\u001b[34m\u001b[1mtrain: \u001b[0mWARNING ⚠️ /Users/trangttdang/Downloads/food_data_1/train/images/DSC_6139_JPG_jpg.rf.e0a66ad606a88d31cabf165485197337.jpg: ignoring corrupt image/label: cannot identify image file '/Users/trangttdang/Downloads/food_data_1/train/images/DSC_6139_JPG_jpg.rf.e0a66ad606a88d31cabf165485197337.jpg'\n",
      "\u001b[34m\u001b[1mtrain: \u001b[0mWARNING ⚠️ /Users/trangttdang/Downloads/food_data_1/train/images/DSC_6139_JPG_jpg.rf.eb0501a8d0f265912da1f3bb739022e4.jpg: ignoring corrupt image/label: cannot identify image file '/Users/trangttdang/Downloads/food_data_1/train/images/DSC_6139_JPG_jpg.rf.eb0501a8d0f265912da1f3bb739022e4.jpg'\n",
      "\u001b[34m\u001b[1mtrain: \u001b[0mWARNING ⚠️ /Users/trangttdang/Downloads/food_data_1/train/images/DSC_6142_JPG_jpg.rf.04bee425ca2fd8280af080c8b75bff07.jpg: ignoring corrupt image/label: cannot identify image file '/Users/trangttdang/Downloads/food_data_1/train/images/DSC_6142_JPG_jpg.rf.04bee425ca2fd8280af080c8b75bff07.jpg'\n",
      "\u001b[34m\u001b[1mtrain: \u001b[0mWARNING ⚠️ /Users/trangttdang/Downloads/food_data_1/train/images/DSC_6142_JPG_jpg.rf.24d2b42114cd65150608f86b31218ce0.jpg: ignoring corrupt image/label: cannot identify image file '/Users/trangttdang/Downloads/food_data_1/train/images/DSC_6142_JPG_jpg.rf.24d2b42114cd65150608f86b31218ce0.jpg'\n",
      "\u001b[34m\u001b[1mtrain: \u001b[0mWARNING ⚠️ /Users/trangttdang/Downloads/food_data_1/train/images/DSC_6142_JPG_jpg.rf.2acedc22700a76c704379f5e9fe62bb8.jpg: ignoring corrupt image/label: cannot identify image file '/Users/trangttdang/Downloads/food_data_1/train/images/DSC_6142_JPG_jpg.rf.2acedc22700a76c704379f5e9fe62bb8.jpg'\n",
      "\u001b[34m\u001b[1mtrain: \u001b[0mWARNING ⚠️ /Users/trangttdang/Downloads/food_data_1/train/images/DSC_6142_JPG_jpg.rf.8085f5c49c8c4881fe90e26999140366.jpg: ignoring corrupt image/label: cannot identify image file '/Users/trangttdang/Downloads/food_data_1/train/images/DSC_6142_JPG_jpg.rf.8085f5c49c8c4881fe90e26999140366.jpg'\n",
      "\u001b[34m\u001b[1mtrain: \u001b[0mWARNING ⚠️ /Users/trangttdang/Downloads/food_data_1/train/images/DSC_6143_JPG_jpg.rf.1ebdc8f57005537b07650032493ddd63.jpg: ignoring corrupt image/label: cannot identify image file '/Users/trangttdang/Downloads/food_data_1/train/images/DSC_6143_JPG_jpg.rf.1ebdc8f57005537b07650032493ddd63.jpg'\n",
      "\u001b[34m\u001b[1mtrain: \u001b[0mWARNING ⚠️ /Users/trangttdang/Downloads/food_data_1/train/images/DSC_6143_JPG_jpg.rf.270b1804f122f7b090c055e1e6afaf67.jpg: ignoring corrupt image/label: cannot identify image file '/Users/trangttdang/Downloads/food_data_1/train/images/DSC_6143_JPG_jpg.rf.270b1804f122f7b090c055e1e6afaf67.jpg'\n",
      "\u001b[34m\u001b[1mtrain: \u001b[0mWARNING ⚠️ /Users/trangttdang/Downloads/food_data_1/train/images/DSC_6143_JPG_jpg.rf.2c7cb4c16b425ab421631db65bbd50b5.jpg: ignoring corrupt image/label: cannot identify image file '/Users/trangttdang/Downloads/food_data_1/train/images/DSC_6143_JPG_jpg.rf.2c7cb4c16b425ab421631db65bbd50b5.jpg'\n",
      "\u001b[34m\u001b[1mtrain: \u001b[0mWARNING ⚠️ /Users/trangttdang/Downloads/food_data_1/train/images/DSC_6143_JPG_jpg.rf.5f4c3fc483cb4599749de8c663f4648e.jpg: ignoring corrupt image/label: cannot identify image file '/Users/trangttdang/Downloads/food_data_1/train/images/DSC_6143_JPG_jpg.rf.5f4c3fc483cb4599749de8c663f4648e.jpg'\n",
      "\u001b[34m\u001b[1mtrain: \u001b[0mWARNING ⚠️ /Users/trangttdang/Downloads/food_data_1/train/images/DSC_6143_JPG_jpg.rf.917d7b19f48dac99e9a2a6c840e7ece8.jpg: ignoring corrupt image/label: cannot identify image file '/Users/trangttdang/Downloads/food_data_1/train/images/DSC_6143_JPG_jpg.rf.917d7b19f48dac99e9a2a6c840e7ece8.jpg'\n",
      "\u001b[34m\u001b[1mtrain: \u001b[0mWARNING ⚠️ /Users/trangttdang/Downloads/food_data_1/train/images/DSC_6143_JPG_jpg.rf.9f1db7409f7eb95eefe08e7e1617d2e8.jpg: ignoring corrupt image/label: cannot identify image file '/Users/trangttdang/Downloads/food_data_1/train/images/DSC_6143_JPG_jpg.rf.9f1db7409f7eb95eefe08e7e1617d2e8.jpg'\n",
      "\u001b[34m\u001b[1mtrain: \u001b[0mWARNING ⚠️ /Users/trangttdang/Downloads/food_data_1/train/images/DSC_6143_JPG_jpg.rf.be8d3170e58a601dcf302ad7364ef456.jpg: ignoring corrupt image/label: cannot identify image file '/Users/trangttdang/Downloads/food_data_1/train/images/DSC_6143_JPG_jpg.rf.be8d3170e58a601dcf302ad7364ef456.jpg'\n",
      "\u001b[34m\u001b[1mtrain: \u001b[0mWARNING ⚠️ /Users/trangttdang/Downloads/food_data_1/train/images/DSC_6143_JPG_jpg.rf.c97f35ff11412c59d1b3962ae2fc2e5a.jpg: ignoring corrupt image/label: cannot identify image file '/Users/trangttdang/Downloads/food_data_1/train/images/DSC_6143_JPG_jpg.rf.c97f35ff11412c59d1b3962ae2fc2e5a.jpg'\n",
      "\u001b[34m\u001b[1mtrain: \u001b[0mWARNING ⚠️ /Users/trangttdang/Downloads/food_data_1/train/images/DSC_6143_JPG_jpg.rf.d02e552caebac3ab8290f578f5bec464.jpg: ignoring corrupt image/label: cannot identify image file '/Users/trangttdang/Downloads/food_data_1/train/images/DSC_6143_JPG_jpg.rf.d02e552caebac3ab8290f578f5bec464.jpg'\n",
      "\u001b[34m\u001b[1mtrain: \u001b[0mWARNING ⚠️ /Users/trangttdang/Downloads/food_data_1/train/images/DSC_6143_JPG_jpg.rf.d987e68a373422c70091fd0d0d6e3e47.jpg: ignoring corrupt image/label: cannot identify image file '/Users/trangttdang/Downloads/food_data_1/train/images/DSC_6143_JPG_jpg.rf.d987e68a373422c70091fd0d0d6e3e47.jpg'\n",
      "\u001b[34m\u001b[1mtrain: \u001b[0mWARNING ⚠️ /Users/trangttdang/Downloads/food_data_1/train/images/DSC_6143_JPG_jpg.rf.f4e156484a2b84170bac40eca2c93db3.jpg: ignoring corrupt image/label: cannot identify image file '/Users/trangttdang/Downloads/food_data_1/train/images/DSC_6143_JPG_jpg.rf.f4e156484a2b84170bac40eca2c93db3.jpg'\n",
      "\u001b[34m\u001b[1mtrain: \u001b[0mWARNING ⚠️ /Users/trangttdang/Downloads/food_data_1/train/images/DSC_6144_JPG_jpg.rf.04610610b7cecb38cfea320e996c186a.jpg: ignoring corrupt image/label: cannot identify image file '/Users/trangttdang/Downloads/food_data_1/train/images/DSC_6144_JPG_jpg.rf.04610610b7cecb38cfea320e996c186a.jpg'\n",
      "\u001b[34m\u001b[1mtrain: \u001b[0mWARNING ⚠️ /Users/trangttdang/Downloads/food_data_1/train/images/DSC_6144_JPG_jpg.rf.11390700f3e1926d7f0a1461614bb417.jpg: ignoring corrupt image/label: cannot identify image file '/Users/trangttdang/Downloads/food_data_1/train/images/DSC_6144_JPG_jpg.rf.11390700f3e1926d7f0a1461614bb417.jpg'\n",
      "\u001b[34m\u001b[1mtrain: \u001b[0mWARNING ⚠️ /Users/trangttdang/Downloads/food_data_1/train/images/DSC_6144_JPG_jpg.rf.1f32c8746238023500de7341b1f462e2.jpg: ignoring corrupt image/label: cannot identify image file '/Users/trangttdang/Downloads/food_data_1/train/images/DSC_6144_JPG_jpg.rf.1f32c8746238023500de7341b1f462e2.jpg'\n",
      "\u001b[34m\u001b[1mtrain: \u001b[0mWARNING ⚠️ /Users/trangttdang/Downloads/food_data_1/train/images/DSC_6144_JPG_jpg.rf.35436abf8d97107d54851dc6ccab93be.jpg: ignoring corrupt image/label: cannot identify image file '/Users/trangttdang/Downloads/food_data_1/train/images/DSC_6144_JPG_jpg.rf.35436abf8d97107d54851dc6ccab93be.jpg'\n",
      "\u001b[34m\u001b[1mtrain: \u001b[0mWARNING ⚠️ /Users/trangttdang/Downloads/food_data_1/train/images/DSC_6144_JPG_jpg.rf.6bbb5450b342c5f478c52b377d9b76f2.jpg: ignoring corrupt image/label: cannot identify image file '/Users/trangttdang/Downloads/food_data_1/train/images/DSC_6144_JPG_jpg.rf.6bbb5450b342c5f478c52b377d9b76f2.jpg'\n",
      "\u001b[34m\u001b[1mtrain: \u001b[0mWARNING ⚠️ /Users/trangttdang/Downloads/food_data_1/train/images/DSC_6144_JPG_jpg.rf.8db789992c695d2926b410c2d958189c.jpg: ignoring corrupt image/label: image file is truncated (31 bytes not processed)\n",
      "\u001b[34m\u001b[1mtrain: \u001b[0mWARNING ⚠️ /Users/trangttdang/Downloads/food_data_1/train/images/DSC_6144_JPG_jpg.rf.92074a70e674c1c8df5868057b6ec24e.jpg: ignoring corrupt image/label: cannot identify image file '/Users/trangttdang/Downloads/food_data_1/train/images/DSC_6144_JPG_jpg.rf.92074a70e674c1c8df5868057b6ec24e.jpg'\n",
      "\u001b[34m\u001b[1mtrain: \u001b[0mWARNING ⚠️ /Users/trangttdang/Downloads/food_data_1/train/images/DSC_6144_JPG_jpg.rf.934178ab21f4c08605e4d70dd0ba27f5.jpg: ignoring corrupt image/label: cannot identify image file '/Users/trangttdang/Downloads/food_data_1/train/images/DSC_6144_JPG_jpg.rf.934178ab21f4c08605e4d70dd0ba27f5.jpg'\n",
      "\u001b[34m\u001b[1mtrain: \u001b[0mWARNING ⚠️ /Users/trangttdang/Downloads/food_data_1/train/images/DSC_6144_JPG_jpg.rf.a9e2a06d616213197120b0159e1e670c.jpg: ignoring corrupt image/label: cannot identify image file '/Users/trangttdang/Downloads/food_data_1/train/images/DSC_6144_JPG_jpg.rf.a9e2a06d616213197120b0159e1e670c.jpg'\n",
      "\u001b[34m\u001b[1mtrain: \u001b[0mWARNING ⚠️ /Users/trangttdang/Downloads/food_data_1/train/images/DSC_6144_JPG_jpg.rf.cecee477fcb62d41cff219bd231b9b52.jpg: ignoring corrupt image/label: cannot identify image file '/Users/trangttdang/Downloads/food_data_1/train/images/DSC_6144_JPG_jpg.rf.cecee477fcb62d41cff219bd231b9b52.jpg'\n",
      "\u001b[34m\u001b[1mtrain: \u001b[0mWARNING ⚠️ /Users/trangttdang/Downloads/food_data_1/train/images/DSC_6144_JPG_jpg.rf.e36e692131674ea4f763c1a436d22bd2.jpg: ignoring corrupt image/label: cannot identify image file '/Users/trangttdang/Downloads/food_data_1/train/images/DSC_6144_JPG_jpg.rf.e36e692131674ea4f763c1a436d22bd2.jpg'\n",
      "\u001b[34m\u001b[1mtrain: \u001b[0mWARNING ⚠️ /Users/trangttdang/Downloads/food_data_1/train/images/DSC_6146_JPG_jpg.rf.58ccb553e2dcea45fd18ef1e05824cfc.jpg: ignoring corrupt image/label: cannot identify image file '/Users/trangttdang/Downloads/food_data_1/train/images/DSC_6146_JPG_jpg.rf.58ccb553e2dcea45fd18ef1e05824cfc.jpg'\n",
      "\u001b[34m\u001b[1mtrain: \u001b[0mWARNING ⚠️ /Users/trangttdang/Downloads/food_data_1/train/images/DSC_6146_JPG_jpg.rf.8c9707fa2e8c0e39ba072733f956e97b.jpg: ignoring corrupt image/label: cannot identify image file '/Users/trangttdang/Downloads/food_data_1/train/images/DSC_6146_JPG_jpg.rf.8c9707fa2e8c0e39ba072733f956e97b.jpg'\n",
      "\u001b[34m\u001b[1mtrain: \u001b[0mWARNING ⚠️ /Users/trangttdang/Downloads/food_data_1/train/images/DSC_6146_JPG_jpg.rf.985301df1dfb05654957cbce62c98050.jpg: ignoring corrupt image/label: cannot identify image file '/Users/trangttdang/Downloads/food_data_1/train/images/DSC_6146_JPG_jpg.rf.985301df1dfb05654957cbce62c98050.jpg'\n",
      "\u001b[34m\u001b[1mtrain: \u001b[0mWARNING ⚠️ /Users/trangttdang/Downloads/food_data_1/train/images/DSC_6146_JPG_jpg.rf.ae1f31b6cdfe4402b6e3d18490a3eed9.jpg: ignoring corrupt image/label: cannot identify image file '/Users/trangttdang/Downloads/food_data_1/train/images/DSC_6146_JPG_jpg.rf.ae1f31b6cdfe4402b6e3d18490a3eed9.jpg'\n",
      "\u001b[34m\u001b[1mtrain: \u001b[0mWARNING ⚠️ /Users/trangttdang/Downloads/food_data_1/train/images/DSC_6146_JPG_jpg.rf.d4a934b3cb37c1bee014bc61c5ce98a9.jpg: ignoring corrupt image/label: cannot identify image file '/Users/trangttdang/Downloads/food_data_1/train/images/DSC_6146_JPG_jpg.rf.d4a934b3cb37c1bee014bc61c5ce98a9.jpg'\n",
      "\u001b[34m\u001b[1mtrain: \u001b[0mWARNING ⚠️ /Users/trangttdang/Downloads/food_data_1/train/images/DSC_6147_JPG_jpg.rf.21b1364583b0cfecd6ae9fdc93c38e72.jpg: ignoring corrupt image/label: cannot identify image file '/Users/trangttdang/Downloads/food_data_1/train/images/DSC_6147_JPG_jpg.rf.21b1364583b0cfecd6ae9fdc93c38e72.jpg'\n",
      "\u001b[34m\u001b[1mtrain: \u001b[0mWARNING ⚠️ /Users/trangttdang/Downloads/food_data_1/train/images/DSC_6147_JPG_jpg.rf.274d827325b65d2b3419f21063e89af4.jpg: ignoring corrupt image/label: cannot identify image file '/Users/trangttdang/Downloads/food_data_1/train/images/DSC_6147_JPG_jpg.rf.274d827325b65d2b3419f21063e89af4.jpg'\n",
      "\u001b[34m\u001b[1mtrain: \u001b[0mWARNING ⚠️ /Users/trangttdang/Downloads/food_data_1/train/images/DSC_6147_JPG_jpg.rf.4b22bced88d15e7a0c745a2f4c68558e.jpg: ignoring corrupt image/label: cannot identify image file '/Users/trangttdang/Downloads/food_data_1/train/images/DSC_6147_JPG_jpg.rf.4b22bced88d15e7a0c745a2f4c68558e.jpg'\n",
      "\u001b[34m\u001b[1mtrain: \u001b[0mWARNING ⚠️ /Users/trangttdang/Downloads/food_data_1/train/images/DSC_6147_JPG_jpg.rf.7f57952198bd7628e8889593c2f1da22.jpg: ignoring corrupt image/label: cannot identify image file '/Users/trangttdang/Downloads/food_data_1/train/images/DSC_6147_JPG_jpg.rf.7f57952198bd7628e8889593c2f1da22.jpg'\n",
      "\u001b[34m\u001b[1mtrain: \u001b[0mWARNING ⚠️ /Users/trangttdang/Downloads/food_data_1/train/images/DSC_6147_JPG_jpg.rf.8a26527c8c7eb33307efb90f3ce91142.jpg: ignoring corrupt image/label: cannot identify image file '/Users/trangttdang/Downloads/food_data_1/train/images/DSC_6147_JPG_jpg.rf.8a26527c8c7eb33307efb90f3ce91142.jpg'\n",
      "\u001b[34m\u001b[1mtrain: \u001b[0mWARNING ⚠️ /Users/trangttdang/Downloads/food_data_1/train/images/DSC_6147_JPG_jpg.rf.b2b825823baba226284a658b61e19a78.jpg: ignoring corrupt image/label: cannot identify image file '/Users/trangttdang/Downloads/food_data_1/train/images/DSC_6147_JPG_jpg.rf.b2b825823baba226284a658b61e19a78.jpg'\n",
      "\u001b[34m\u001b[1mtrain: \u001b[0mWARNING ⚠️ /Users/trangttdang/Downloads/food_data_1/train/images/DSC_6147_JPG_jpg.rf.f34f1745c81ba894fc8209e623274b52.jpg: ignoring corrupt image/label: cannot identify image file '/Users/trangttdang/Downloads/food_data_1/train/images/DSC_6147_JPG_jpg.rf.f34f1745c81ba894fc8209e623274b52.jpg'\n",
      "\u001b[34m\u001b[1mtrain: \u001b[0mWARNING ⚠️ /Users/trangttdang/Downloads/food_data_1/train/images/DSC_6148_JPG_jpg.rf.0bcc8b1a018d9119acd3b633093ba363.jpg: ignoring corrupt image/label: cannot identify image file '/Users/trangttdang/Downloads/food_data_1/train/images/DSC_6148_JPG_jpg.rf.0bcc8b1a018d9119acd3b633093ba363.jpg'\n",
      "\u001b[34m\u001b[1mtrain: \u001b[0mWARNING ⚠️ /Users/trangttdang/Downloads/food_data_1/train/images/DSC_6148_JPG_jpg.rf.129de35197e7546d21c4c59f26be9ddf.jpg: ignoring corrupt image/label: cannot identify image file '/Users/trangttdang/Downloads/food_data_1/train/images/DSC_6148_JPG_jpg.rf.129de35197e7546d21c4c59f26be9ddf.jpg'\n",
      "\u001b[34m\u001b[1mtrain: \u001b[0mWARNING ⚠️ /Users/trangttdang/Downloads/food_data_1/train/images/DSC_6148_JPG_jpg.rf.3d742ae4d6a6473cc9c2786b27fe3863.jpg: ignoring corrupt image/label: cannot identify image file '/Users/trangttdang/Downloads/food_data_1/train/images/DSC_6148_JPG_jpg.rf.3d742ae4d6a6473cc9c2786b27fe3863.jpg'\n",
      "\u001b[34m\u001b[1mtrain: \u001b[0mWARNING ⚠️ /Users/trangttdang/Downloads/food_data_1/train/images/DSC_6148_JPG_jpg.rf.5908673db24ac2cfe3615fcea24ca646.jpg: ignoring corrupt image/label: cannot identify image file '/Users/trangttdang/Downloads/food_data_1/train/images/DSC_6148_JPG_jpg.rf.5908673db24ac2cfe3615fcea24ca646.jpg'\n",
      "\u001b[34m\u001b[1mtrain: \u001b[0mWARNING ⚠️ /Users/trangttdang/Downloads/food_data_1/train/images/DSC_6148_JPG_jpg.rf.6a472028987b437b00513f860aa76856.jpg: ignoring corrupt image/label: cannot identify image file '/Users/trangttdang/Downloads/food_data_1/train/images/DSC_6148_JPG_jpg.rf.6a472028987b437b00513f860aa76856.jpg'\n",
      "\u001b[34m\u001b[1mtrain: \u001b[0mWARNING ⚠️ /Users/trangttdang/Downloads/food_data_1/train/images/DSC_6149_JPG_jpg.rf.015a29e9734f3e059ebf9f84c08f9786.jpg: ignoring corrupt image/label: cannot identify image file '/Users/trangttdang/Downloads/food_data_1/train/images/DSC_6149_JPG_jpg.rf.015a29e9734f3e059ebf9f84c08f9786.jpg'\n",
      "\u001b[34m\u001b[1mtrain: \u001b[0mWARNING ⚠️ /Users/trangttdang/Downloads/food_data_1/train/images/DSC_6149_JPG_jpg.rf.3d6b7da1c49946bc2d96a2f42c4d681b.jpg: ignoring corrupt image/label: cannot identify image file '/Users/trangttdang/Downloads/food_data_1/train/images/DSC_6149_JPG_jpg.rf.3d6b7da1c49946bc2d96a2f42c4d681b.jpg'\n",
      "\u001b[34m\u001b[1mtrain: \u001b[0mWARNING ⚠️ /Users/trangttdang/Downloads/food_data_1/train/images/DSC_6149_JPG_jpg.rf.55564767217b3c8b90987ee7ce78cd05.jpg: ignoring corrupt image/label: cannot identify image file '/Users/trangttdang/Downloads/food_data_1/train/images/DSC_6149_JPG_jpg.rf.55564767217b3c8b90987ee7ce78cd05.jpg'\n",
      "\u001b[34m\u001b[1mtrain: \u001b[0mWARNING ⚠️ /Users/trangttdang/Downloads/food_data_1/train/images/DSC_6149_JPG_jpg.rf.649f8c84f7ac51b08d3f27816b17297b.jpg: ignoring corrupt image/label: cannot identify image file '/Users/trangttdang/Downloads/food_data_1/train/images/DSC_6149_JPG_jpg.rf.649f8c84f7ac51b08d3f27816b17297b.jpg'\n",
      "\u001b[34m\u001b[1mtrain: \u001b[0mWARNING ⚠️ /Users/trangttdang/Downloads/food_data_1/train/images/DSC_6149_JPG_jpg.rf.6c90947538696dfe0020ae8b6e848ed3.jpg: ignoring corrupt image/label: cannot identify image file '/Users/trangttdang/Downloads/food_data_1/train/images/DSC_6149_JPG_jpg.rf.6c90947538696dfe0020ae8b6e848ed3.jpg'\n",
      "\u001b[34m\u001b[1mtrain: \u001b[0mWARNING ⚠️ /Users/trangttdang/Downloads/food_data_1/train/images/DSC_6149_JPG_jpg.rf.a05e94a569e922b7d6f084e4d722f09b.jpg: ignoring corrupt image/label: cannot identify image file '/Users/trangttdang/Downloads/food_data_1/train/images/DSC_6149_JPG_jpg.rf.a05e94a569e922b7d6f084e4d722f09b.jpg'\n",
      "\u001b[34m\u001b[1mtrain: \u001b[0mWARNING ⚠️ /Users/trangttdang/Downloads/food_data_1/train/images/DSC_6149_JPG_jpg.rf.b3de34fc5fd82622793412c85024a679.jpg: ignoring corrupt image/label: cannot identify image file '/Users/trangttdang/Downloads/food_data_1/train/images/DSC_6149_JPG_jpg.rf.b3de34fc5fd82622793412c85024a679.jpg'\n",
      "\u001b[34m\u001b[1mtrain: \u001b[0mWARNING ⚠️ /Users/trangttdang/Downloads/food_data_1/train/images/DSC_6149_JPG_jpg.rf.b7ec629aaea715905d0e459931a9838a.jpg: ignoring corrupt image/label: cannot identify image file '/Users/trangttdang/Downloads/food_data_1/train/images/DSC_6149_JPG_jpg.rf.b7ec629aaea715905d0e459931a9838a.jpg'\n",
      "\u001b[34m\u001b[1mtrain: \u001b[0mWARNING ⚠️ /Users/trangttdang/Downloads/food_data_1/train/images/DSC_6149_JPG_jpg.rf.c6a78c5458564106a9f90a5be813e6be.jpg: ignoring corrupt image/label: cannot identify image file '/Users/trangttdang/Downloads/food_data_1/train/images/DSC_6149_JPG_jpg.rf.c6a78c5458564106a9f90a5be813e6be.jpg'\n",
      "\u001b[34m\u001b[1mtrain: \u001b[0mWARNING ⚠️ /Users/trangttdang/Downloads/food_data_1/train/images/DSC_6149_JPG_jpg.rf.cf4b7faa54db449cdcc9bc201f98b936.jpg: ignoring corrupt image/label: cannot identify image file '/Users/trangttdang/Downloads/food_data_1/train/images/DSC_6149_JPG_jpg.rf.cf4b7faa54db449cdcc9bc201f98b936.jpg'\n",
      "\u001b[34m\u001b[1mtrain: \u001b[0mWARNING ⚠️ /Users/trangttdang/Downloads/food_data_1/train/images/DSC_6149_JPG_jpg.rf.e0b0f4e7810506b2a3a0f2db64e980bc.jpg: ignoring corrupt image/label: cannot identify image file '/Users/trangttdang/Downloads/food_data_1/train/images/DSC_6149_JPG_jpg.rf.e0b0f4e7810506b2a3a0f2db64e980bc.jpg'\n",
      "\u001b[34m\u001b[1mtrain: \u001b[0mWARNING ⚠️ /Users/trangttdang/Downloads/food_data_1/train/images/DSC_6150_JPG_jpg.rf.2e615b9dedd689eb9ff169ca5826da2c.jpg: ignoring corrupt image/label: cannot identify image file '/Users/trangttdang/Downloads/food_data_1/train/images/DSC_6150_JPG_jpg.rf.2e615b9dedd689eb9ff169ca5826da2c.jpg'\n",
      "\u001b[34m\u001b[1mtrain: \u001b[0mWARNING ⚠️ /Users/trangttdang/Downloads/food_data_1/train/images/DSC_6150_JPG_jpg.rf.36d1329c03e737f371272fcc9ed4cad9.jpg: ignoring corrupt image/label: cannot identify image file '/Users/trangttdang/Downloads/food_data_1/train/images/DSC_6150_JPG_jpg.rf.36d1329c03e737f371272fcc9ed4cad9.jpg'\n",
      "\u001b[34m\u001b[1mtrain: \u001b[0mWARNING ⚠️ /Users/trangttdang/Downloads/food_data_1/train/images/DSC_6150_JPG_jpg.rf.3dfb776c56aa09546e1eb7132a346ff3.jpg: ignoring corrupt image/label: cannot identify image file '/Users/trangttdang/Downloads/food_data_1/train/images/DSC_6150_JPG_jpg.rf.3dfb776c56aa09546e1eb7132a346ff3.jpg'\n",
      "\u001b[34m\u001b[1mtrain: \u001b[0mWARNING ⚠️ /Users/trangttdang/Downloads/food_data_1/train/images/DSC_6150_JPG_jpg.rf.3e4a82dffc4cabed9b2d9d84ccd54d00.jpg: ignoring corrupt image/label: cannot identify image file '/Users/trangttdang/Downloads/food_data_1/train/images/DSC_6150_JPG_jpg.rf.3e4a82dffc4cabed9b2d9d84ccd54d00.jpg'\n",
      "\u001b[34m\u001b[1mtrain: \u001b[0mWARNING ⚠️ /Users/trangttdang/Downloads/food_data_1/train/images/DSC_6150_JPG_jpg.rf.41a7d9cab0a842112e1aaab583c6a1cf.jpg: ignoring corrupt image/label: cannot identify image file '/Users/trangttdang/Downloads/food_data_1/train/images/DSC_6150_JPG_jpg.rf.41a7d9cab0a842112e1aaab583c6a1cf.jpg'\n",
      "\u001b[34m\u001b[1mtrain: \u001b[0mWARNING ⚠️ /Users/trangttdang/Downloads/food_data_1/train/images/DSC_6150_JPG_jpg.rf.5419fd8dea96accba3d20cdc53fd1319.jpg: ignoring corrupt image/label: cannot identify image file '/Users/trangttdang/Downloads/food_data_1/train/images/DSC_6150_JPG_jpg.rf.5419fd8dea96accba3d20cdc53fd1319.jpg'\n",
      "\u001b[34m\u001b[1mtrain: \u001b[0mWARNING ⚠️ /Users/trangttdang/Downloads/food_data_1/train/images/DSC_6150_JPG_jpg.rf.746909e38ff23cf5d6047f87d54d7306.jpg: ignoring corrupt image/label: cannot identify image file '/Users/trangttdang/Downloads/food_data_1/train/images/DSC_6150_JPG_jpg.rf.746909e38ff23cf5d6047f87d54d7306.jpg'\n",
      "\u001b[34m\u001b[1mtrain: \u001b[0mWARNING ⚠️ /Users/trangttdang/Downloads/food_data_1/train/images/DSC_6150_JPG_jpg.rf.8fb55f6b7eaea65534cc962a972af21d.jpg: ignoring corrupt image/label: cannot identify image file '/Users/trangttdang/Downloads/food_data_1/train/images/DSC_6150_JPG_jpg.rf.8fb55f6b7eaea65534cc962a972af21d.jpg'\n",
      "\u001b[34m\u001b[1mtrain: \u001b[0mWARNING ⚠️ /Users/trangttdang/Downloads/food_data_1/train/images/DSC_6150_JPG_jpg.rf.bc47e5819f429b2b70eb8f6a3a846ff5.jpg: corrupt JPEG restored and saved\n",
      "\u001b[34m\u001b[1mtrain: \u001b[0mWARNING ⚠️ /Users/trangttdang/Downloads/food_data_1/train/images/DSC_6150_JPG_jpg.rf.ca4522c1014516d27720cf08936f9a68.jpg: ignoring corrupt image/label: cannot identify image file '/Users/trangttdang/Downloads/food_data_1/train/images/DSC_6150_JPG_jpg.rf.ca4522c1014516d27720cf08936f9a68.jpg'\n",
      "\u001b[34m\u001b[1mtrain: \u001b[0mWARNING ⚠️ /Users/trangttdang/Downloads/food_data_1/train/images/DSC_6150_JPG_jpg.rf.deb54e628ca6f12000fc7ffb20eb11c6.jpg: ignoring corrupt image/label: cannot identify image file '/Users/trangttdang/Downloads/food_data_1/train/images/DSC_6150_JPG_jpg.rf.deb54e628ca6f12000fc7ffb20eb11c6.jpg'\n",
      "\u001b[34m\u001b[1mtrain: \u001b[0mWARNING ⚠️ /Users/trangttdang/Downloads/food_data_1/train/images/DSC_6151_JPG_jpg.rf.3823de22ab3a4cf0ccb393223aa180e3.jpg: ignoring corrupt image/label: cannot identify image file '/Users/trangttdang/Downloads/food_data_1/train/images/DSC_6151_JPG_jpg.rf.3823de22ab3a4cf0ccb393223aa180e3.jpg'\n",
      "\u001b[34m\u001b[1mtrain: \u001b[0mWARNING ⚠️ /Users/trangttdang/Downloads/food_data_1/train/images/DSC_6151_JPG_jpg.rf.67dc2a973542174df17904144e226fbf.jpg: ignoring corrupt image/label: cannot identify image file '/Users/trangttdang/Downloads/food_data_1/train/images/DSC_6151_JPG_jpg.rf.67dc2a973542174df17904144e226fbf.jpg'\n",
      "\u001b[34m\u001b[1mtrain: \u001b[0mWARNING ⚠️ /Users/trangttdang/Downloads/food_data_1/train/images/DSC_6151_JPG_jpg.rf.7a8ca99e115997771b055ffb86bddbfd.jpg: ignoring corrupt image/label: cannot identify image file '/Users/trangttdang/Downloads/food_data_1/train/images/DSC_6151_JPG_jpg.rf.7a8ca99e115997771b055ffb86bddbfd.jpg'\n",
      "\u001b[34m\u001b[1mtrain: \u001b[0mWARNING ⚠️ /Users/trangttdang/Downloads/food_data_1/train/images/DSC_6151_JPG_jpg.rf.8898c62fd6c650c56f8eecc11f717c4b.jpg: ignoring corrupt image/label: cannot identify image file '/Users/trangttdang/Downloads/food_data_1/train/images/DSC_6151_JPG_jpg.rf.8898c62fd6c650c56f8eecc11f717c4b.jpg'\n",
      "\u001b[34m\u001b[1mtrain: \u001b[0mWARNING ⚠️ /Users/trangttdang/Downloads/food_data_1/train/images/DSC_6151_JPG_jpg.rf.a5f2f25655fb651a301edd889f871d99.jpg: ignoring corrupt image/label: cannot identify image file '/Users/trangttdang/Downloads/food_data_1/train/images/DSC_6151_JPG_jpg.rf.a5f2f25655fb651a301edd889f871d99.jpg'\n",
      "\u001b[34m\u001b[1mtrain: \u001b[0mWARNING ⚠️ /Users/trangttdang/Downloads/food_data_1/train/images/DSC_6151_JPG_jpg.rf.cb524e6accc250796b98fd299ef4bf12.jpg: ignoring corrupt image/label: cannot identify image file '/Users/trangttdang/Downloads/food_data_1/train/images/DSC_6151_JPG_jpg.rf.cb524e6accc250796b98fd299ef4bf12.jpg'\n",
      "\u001b[34m\u001b[1mtrain: \u001b[0mWARNING ⚠️ /Users/trangttdang/Downloads/food_data_1/train/images/DSC_6151_JPG_jpg.rf.f1d9bb98ebdfc4fb0adf2e7d12003d45.jpg: ignoring corrupt image/label: cannot identify image file '/Users/trangttdang/Downloads/food_data_1/train/images/DSC_6151_JPG_jpg.rf.f1d9bb98ebdfc4fb0adf2e7d12003d45.jpg'\n",
      "\u001b[34m\u001b[1mtrain: \u001b[0mWARNING ⚠️ /Users/trangttdang/Downloads/food_data_1/train/images/DSC_6152_JPG_jpg.rf.7ba16caf7b34772490627480c1683b73.jpg: ignoring corrupt image/label: cannot identify image file '/Users/trangttdang/Downloads/food_data_1/train/images/DSC_6152_JPG_jpg.rf.7ba16caf7b34772490627480c1683b73.jpg'\n",
      "\u001b[34m\u001b[1mtrain: \u001b[0mWARNING ⚠️ /Users/trangttdang/Downloads/food_data_1/train/images/DSC_6152_JPG_jpg.rf.7eebc31b140fbbd7a314692e06db2385.jpg: ignoring corrupt image/label: cannot identify image file '/Users/trangttdang/Downloads/food_data_1/train/images/DSC_6152_JPG_jpg.rf.7eebc31b140fbbd7a314692e06db2385.jpg'\n",
      "\u001b[34m\u001b[1mtrain: \u001b[0mWARNING ⚠️ /Users/trangttdang/Downloads/food_data_1/train/images/DSC_6152_JPG_jpg.rf.80e6aa95761a02ca16f2ae02c0e4b3e7.jpg: ignoring corrupt image/label: cannot identify image file '/Users/trangttdang/Downloads/food_data_1/train/images/DSC_6152_JPG_jpg.rf.80e6aa95761a02ca16f2ae02c0e4b3e7.jpg'\n",
      "\u001b[34m\u001b[1mtrain: \u001b[0mWARNING ⚠️ /Users/trangttdang/Downloads/food_data_1/train/images/DSC_6152_JPG_jpg.rf.9ceb4d5c2d5f3ff1677b0c00b6127238.jpg: ignoring corrupt image/label: cannot identify image file '/Users/trangttdang/Downloads/food_data_1/train/images/DSC_6152_JPG_jpg.rf.9ceb4d5c2d5f3ff1677b0c00b6127238.jpg'\n",
      "\u001b[34m\u001b[1mtrain: \u001b[0mWARNING ⚠️ /Users/trangttdang/Downloads/food_data_1/train/images/DSC_6152_JPG_jpg.rf.f6a0aa461f96d2d13f7f9fabc1254c17.jpg: ignoring corrupt image/label: cannot identify image file '/Users/trangttdang/Downloads/food_data_1/train/images/DSC_6152_JPG_jpg.rf.f6a0aa461f96d2d13f7f9fabc1254c17.jpg'\n",
      "\u001b[34m\u001b[1mtrain: \u001b[0mWARNING ⚠️ /Users/trangttdang/Downloads/food_data_1/train/images/DSC_6153_JPG_jpg.rf.49f8e78b8a33e4102d7264d15b5d786e.jpg: ignoring corrupt image/label: cannot identify image file '/Users/trangttdang/Downloads/food_data_1/train/images/DSC_6153_JPG_jpg.rf.49f8e78b8a33e4102d7264d15b5d786e.jpg'\n",
      "\u001b[34m\u001b[1mtrain: \u001b[0mWARNING ⚠️ /Users/trangttdang/Downloads/food_data_1/train/images/DSC_6153_JPG_jpg.rf.5e234d1faafadc2017d4984a7095b2bb.jpg: ignoring corrupt image/label: cannot identify image file '/Users/trangttdang/Downloads/food_data_1/train/images/DSC_6153_JPG_jpg.rf.5e234d1faafadc2017d4984a7095b2bb.jpg'\n",
      "\u001b[34m\u001b[1mtrain: \u001b[0mWARNING ⚠️ /Users/trangttdang/Downloads/food_data_1/train/images/DSC_6153_JPG_jpg.rf.627be42ae2bdf8b923be5b6909451683.jpg: ignoring corrupt image/label: cannot identify image file '/Users/trangttdang/Downloads/food_data_1/train/images/DSC_6153_JPG_jpg.rf.627be42ae2bdf8b923be5b6909451683.jpg'\n",
      "\u001b[34m\u001b[1mtrain: \u001b[0mWARNING ⚠️ /Users/trangttdang/Downloads/food_data_1/train/images/DSC_6153_JPG_jpg.rf.b0197757b73a883a5124c5aad1011530.jpg: ignoring corrupt image/label: cannot identify image file '/Users/trangttdang/Downloads/food_data_1/train/images/DSC_6153_JPG_jpg.rf.b0197757b73a883a5124c5aad1011530.jpg'\n",
      "\u001b[34m\u001b[1mtrain: \u001b[0mWARNING ⚠️ /Users/trangttdang/Downloads/food_data_1/train/images/DSC_6153_JPG_jpg.rf.da66d9ee141a83b52f9cb16aad06e8dd.jpg: ignoring corrupt image/label: cannot identify image file '/Users/trangttdang/Downloads/food_data_1/train/images/DSC_6153_JPG_jpg.rf.da66d9ee141a83b52f9cb16aad06e8dd.jpg'\n",
      "\u001b[34m\u001b[1mtrain: \u001b[0mWARNING ⚠️ /Users/trangttdang/Downloads/food_data_1/train/images/DSC_6153_JPG_jpg.rf.deeb198139e7f70ceab7ed6c299f1e4e.jpg: corrupt JPEG restored and saved\n",
      "\u001b[34m\u001b[1mtrain: \u001b[0mWARNING ⚠️ /Users/trangttdang/Downloads/food_data_1/train/images/DSC_6153_JPG_jpg.rf.e7294d04a7406d93366a2563d10b02a3.jpg: ignoring corrupt image/label: image file is truncated (40 bytes not processed)\n",
      "\u001b[34m\u001b[1mtrain: \u001b[0mWARNING ⚠️ /Users/trangttdang/Downloads/food_data_1/train/images/DSC_6153_JPG_jpg.rf.f926896278a6e82cd8d5ce2425d189df.jpg: ignoring corrupt image/label: cannot identify image file '/Users/trangttdang/Downloads/food_data_1/train/images/DSC_6153_JPG_jpg.rf.f926896278a6e82cd8d5ce2425d189df.jpg'\n",
      "\u001b[34m\u001b[1mtrain: \u001b[0mWARNING ⚠️ /Users/trangttdang/Downloads/food_data_1/train/images/DSC_6154_JPG_jpg.rf.34a0433900b9f73a2d8fcc7579f14eee.jpg: ignoring corrupt image/label: cannot identify image file '/Users/trangttdang/Downloads/food_data_1/train/images/DSC_6154_JPG_jpg.rf.34a0433900b9f73a2d8fcc7579f14eee.jpg'\n",
      "\u001b[34m\u001b[1mtrain: \u001b[0mWARNING ⚠️ /Users/trangttdang/Downloads/food_data_1/train/images/DSC_6154_JPG_jpg.rf.38eebf6e74023eecc99d137024f5f680.jpg: ignoring corrupt image/label: cannot identify image file '/Users/trangttdang/Downloads/food_data_1/train/images/DSC_6154_JPG_jpg.rf.38eebf6e74023eecc99d137024f5f680.jpg'\n",
      "\u001b[34m\u001b[1mtrain: \u001b[0mWARNING ⚠️ /Users/trangttdang/Downloads/food_data_1/train/images/DSC_6154_JPG_jpg.rf.65d1c19191c8c3e1acbb04c0849dfbab.jpg: ignoring corrupt image/label: cannot identify image file '/Users/trangttdang/Downloads/food_data_1/train/images/DSC_6154_JPG_jpg.rf.65d1c19191c8c3e1acbb04c0849dfbab.jpg'\n",
      "\u001b[34m\u001b[1mtrain: \u001b[0mWARNING ⚠️ /Users/trangttdang/Downloads/food_data_1/train/images/DSC_6154_JPG_jpg.rf.9f095c35c80153cd02c201396607a542.jpg: ignoring corrupt image/label: cannot identify image file '/Users/trangttdang/Downloads/food_data_1/train/images/DSC_6154_JPG_jpg.rf.9f095c35c80153cd02c201396607a542.jpg'\n",
      "\u001b[34m\u001b[1mtrain: \u001b[0mWARNING ⚠️ /Users/trangttdang/Downloads/food_data_1/train/images/DSC_6154_JPG_jpg.rf.aff3c84bb2663035b9f8196e3371ca2e.jpg: ignoring corrupt image/label: cannot identify image file '/Users/trangttdang/Downloads/food_data_1/train/images/DSC_6154_JPG_jpg.rf.aff3c84bb2663035b9f8196e3371ca2e.jpg'\n",
      "\u001b[34m\u001b[1mtrain: \u001b[0mWARNING ⚠️ /Users/trangttdang/Downloads/food_data_1/train/images/DSC_6154_JPG_jpg.rf.d57ebedbc3105684a3fd12ded80eb926.jpg: ignoring corrupt image/label: cannot identify image file '/Users/trangttdang/Downloads/food_data_1/train/images/DSC_6154_JPG_jpg.rf.d57ebedbc3105684a3fd12ded80eb926.jpg'\n",
      "\u001b[34m\u001b[1mtrain: \u001b[0mWARNING ⚠️ /Users/trangttdang/Downloads/food_data_1/train/images/DSC_6155_JPG_jpg.rf.09ae887ce298f3550cf43a4e0d375206.jpg: ignoring corrupt image/label: cannot identify image file '/Users/trangttdang/Downloads/food_data_1/train/images/DSC_6155_JPG_jpg.rf.09ae887ce298f3550cf43a4e0d375206.jpg'\n",
      "\u001b[34m\u001b[1mtrain: \u001b[0mWARNING ⚠️ /Users/trangttdang/Downloads/food_data_1/train/images/DSC_6155_JPG_jpg.rf.43baf765b0cae7390e7a87baf89eff6e.jpg: ignoring corrupt image/label: cannot identify image file '/Users/trangttdang/Downloads/food_data_1/train/images/DSC_6155_JPG_jpg.rf.43baf765b0cae7390e7a87baf89eff6e.jpg'\n",
      "\u001b[34m\u001b[1mtrain: \u001b[0mWARNING ⚠️ /Users/trangttdang/Downloads/food_data_1/train/images/DSC_6155_JPG_jpg.rf.452b274a9152c67e3ed181eb674c06f1.jpg: ignoring corrupt image/label: cannot identify image file '/Users/trangttdang/Downloads/food_data_1/train/images/DSC_6155_JPG_jpg.rf.452b274a9152c67e3ed181eb674c06f1.jpg'\n",
      "\u001b[34m\u001b[1mtrain: \u001b[0mWARNING ⚠️ /Users/trangttdang/Downloads/food_data_1/train/images/DSC_6155_JPG_jpg.rf.558a1284c091aa40fd88632bee959af2.jpg: ignoring corrupt image/label: cannot identify image file '/Users/trangttdang/Downloads/food_data_1/train/images/DSC_6155_JPG_jpg.rf.558a1284c091aa40fd88632bee959af2.jpg'\n",
      "\u001b[34m\u001b[1mtrain: \u001b[0mWARNING ⚠️ /Users/trangttdang/Downloads/food_data_1/train/images/DSC_6155_JPG_jpg.rf.60bd09dfcde85702ba37bda9111f7384.jpg: ignoring corrupt image/label: cannot identify image file '/Users/trangttdang/Downloads/food_data_1/train/images/DSC_6155_JPG_jpg.rf.60bd09dfcde85702ba37bda9111f7384.jpg'\n",
      "\u001b[34m\u001b[1mtrain: \u001b[0mWARNING ⚠️ /Users/trangttdang/Downloads/food_data_1/train/images/DSC_6155_JPG_jpg.rf.616444a6f87d80a0fade571d4a142a4a.jpg: ignoring corrupt image/label: cannot identify image file '/Users/trangttdang/Downloads/food_data_1/train/images/DSC_6155_JPG_jpg.rf.616444a6f87d80a0fade571d4a142a4a.jpg'\n",
      "\u001b[34m\u001b[1mtrain: \u001b[0mWARNING ⚠️ /Users/trangttdang/Downloads/food_data_1/train/images/DSC_6155_JPG_jpg.rf.6709d5e4a857c0c3dc2e1941b4d7eff6.jpg: ignoring corrupt image/label: cannot identify image file '/Users/trangttdang/Downloads/food_data_1/train/images/DSC_6155_JPG_jpg.rf.6709d5e4a857c0c3dc2e1941b4d7eff6.jpg'\n",
      "\u001b[34m\u001b[1mtrain: \u001b[0mWARNING ⚠️ /Users/trangttdang/Downloads/food_data_1/train/images/DSC_6155_JPG_jpg.rf.73512998b3a1c5ec0349c4b3e5ff4a6b.jpg: ignoring corrupt image/label: cannot identify image file '/Users/trangttdang/Downloads/food_data_1/train/images/DSC_6155_JPG_jpg.rf.73512998b3a1c5ec0349c4b3e5ff4a6b.jpg'\n",
      "\u001b[34m\u001b[1mtrain: \u001b[0mWARNING ⚠️ /Users/trangttdang/Downloads/food_data_1/train/images/DSC_6155_JPG_jpg.rf.858cb1336667bf539f3ee686dd4934ba.jpg: ignoring corrupt image/label: cannot identify image file '/Users/trangttdang/Downloads/food_data_1/train/images/DSC_6155_JPG_jpg.rf.858cb1336667bf539f3ee686dd4934ba.jpg'\n",
      "\u001b[34m\u001b[1mtrain: \u001b[0mWARNING ⚠️ /Users/trangttdang/Downloads/food_data_1/train/images/DSC_6155_JPG_jpg.rf.896ce8dfef4d62cf5a83d503404eec2a.jpg: ignoring corrupt image/label: cannot identify image file '/Users/trangttdang/Downloads/food_data_1/train/images/DSC_6155_JPG_jpg.rf.896ce8dfef4d62cf5a83d503404eec2a.jpg'\n",
      "\u001b[34m\u001b[1mtrain: \u001b[0mWARNING ⚠️ /Users/trangttdang/Downloads/food_data_1/train/images/DSC_6155_JPG_jpg.rf.94b77ae957e5e3d38c94b7632188dc29.jpg: ignoring corrupt image/label: cannot identify image file '/Users/trangttdang/Downloads/food_data_1/train/images/DSC_6155_JPG_jpg.rf.94b77ae957e5e3d38c94b7632188dc29.jpg'\n",
      "\u001b[34m\u001b[1mtrain: \u001b[0mWARNING ⚠️ /Users/trangttdang/Downloads/food_data_1/train/images/DSC_6155_JPG_jpg.rf.fca4787963f5329fa6f47abb255acc0a.jpg: ignoring corrupt image/label: cannot identify image file '/Users/trangttdang/Downloads/food_data_1/train/images/DSC_6155_JPG_jpg.rf.fca4787963f5329fa6f47abb255acc0a.jpg'\n",
      "\u001b[34m\u001b[1mtrain: \u001b[0mWARNING ⚠️ /Users/trangttdang/Downloads/food_data_1/train/images/DSC_6156_JPG_jpg.rf.3a4f9c55abc7fb09db341db84c81a478.jpg: ignoring corrupt image/label: cannot identify image file '/Users/trangttdang/Downloads/food_data_1/train/images/DSC_6156_JPG_jpg.rf.3a4f9c55abc7fb09db341db84c81a478.jpg'\n",
      "\u001b[34m\u001b[1mtrain: \u001b[0mWARNING ⚠️ /Users/trangttdang/Downloads/food_data_1/train/images/DSC_6157_JPG_jpg.rf.830d81b25bbaea72a193d78ecaf92429.jpg: ignoring corrupt image/label: image file is truncated (54 bytes not processed)\n",
      "\u001b[34m\u001b[1mtrain: \u001b[0mWARNING ⚠️ /Users/trangttdang/Downloads/food_data_1/train/images/DSC_6157_JPG_jpg.rf.92c69b094f520bfb6d7841e4aad422ab.jpg: ignoring corrupt image/label: cannot identify image file '/Users/trangttdang/Downloads/food_data_1/train/images/DSC_6157_JPG_jpg.rf.92c69b094f520bfb6d7841e4aad422ab.jpg'\n",
      "\u001b[34m\u001b[1mtrain: \u001b[0mWARNING ⚠️ /Users/trangttdang/Downloads/food_data_1/train/images/DSC_6157_JPG_jpg.rf.bffab1ded975b662737d2a20e4a7e7a1.jpg: ignoring corrupt image/label: cannot identify image file '/Users/trangttdang/Downloads/food_data_1/train/images/DSC_6157_JPG_jpg.rf.bffab1ded975b662737d2a20e4a7e7a1.jpg'\n",
      "\u001b[34m\u001b[1mtrain: \u001b[0mWARNING ⚠️ /Users/trangttdang/Downloads/food_data_1/train/images/DSC_6157_JPG_jpg.rf.c16451e3969fcebbb20326140e1df919.jpg: ignoring corrupt image/label: cannot identify image file '/Users/trangttdang/Downloads/food_data_1/train/images/DSC_6157_JPG_jpg.rf.c16451e3969fcebbb20326140e1df919.jpg'\n",
      "\u001b[34m\u001b[1mtrain: \u001b[0mWARNING ⚠️ /Users/trangttdang/Downloads/food_data_1/train/images/DSC_6158_JPG_jpg.rf.0463947a0963f686babd3ed45d137328.jpg: ignoring corrupt image/label: cannot identify image file '/Users/trangttdang/Downloads/food_data_1/train/images/DSC_6158_JPG_jpg.rf.0463947a0963f686babd3ed45d137328.jpg'\n",
      "\u001b[34m\u001b[1mtrain: \u001b[0mWARNING ⚠️ /Users/trangttdang/Downloads/food_data_1/train/images/DSC_6158_JPG_jpg.rf.ac44d4a30681188a1b9fc36a1753134d.jpg: ignoring corrupt image/label: image file is truncated (6 bytes not processed)\n",
      "\u001b[34m\u001b[1mtrain: \u001b[0mWARNING ⚠️ /Users/trangttdang/Downloads/food_data_1/train/images/DSC_6159_JPG_jpg.rf.d7013d8d05768be42b9924f6a1e5b461.jpg: ignoring corrupt image/label: cannot identify image file '/Users/trangttdang/Downloads/food_data_1/train/images/DSC_6159_JPG_jpg.rf.d7013d8d05768be42b9924f6a1e5b461.jpg'\n",
      "\u001b[34m\u001b[1mtrain: \u001b[0mWARNING ⚠️ /Users/trangttdang/Downloads/food_data_1/train/images/DSC_6162_JPG_jpg.rf.13b83254fde93897520801187afc409b.jpg: ignoring corrupt image/label: cannot identify image file '/Users/trangttdang/Downloads/food_data_1/train/images/DSC_6162_JPG_jpg.rf.13b83254fde93897520801187afc409b.jpg'\n",
      "\u001b[34m\u001b[1mtrain: \u001b[0mWARNING ⚠️ /Users/trangttdang/Downloads/food_data_1/train/images/DSC_6162_JPG_jpg.rf.389797d92e497c9ba0c341cf05157696.jpg: ignoring corrupt image/label: cannot identify image file '/Users/trangttdang/Downloads/food_data_1/train/images/DSC_6162_JPG_jpg.rf.389797d92e497c9ba0c341cf05157696.jpg'\n",
      "\u001b[34m\u001b[1mtrain: \u001b[0mWARNING ⚠️ /Users/trangttdang/Downloads/food_data_1/train/images/DSC_6162_JPG_jpg.rf.3b18ccf328846b5b4e0e0dd79da037c8.jpg: ignoring corrupt image/label: cannot identify image file '/Users/trangttdang/Downloads/food_data_1/train/images/DSC_6162_JPG_jpg.rf.3b18ccf328846b5b4e0e0dd79da037c8.jpg'\n",
      "\u001b[34m\u001b[1mtrain: \u001b[0mWARNING ⚠️ /Users/trangttdang/Downloads/food_data_1/train/images/DSC_6162_JPG_jpg.rf.44445de818a691228ebeae2b3b605992.jpg: ignoring corrupt image/label: cannot identify image file '/Users/trangttdang/Downloads/food_data_1/train/images/DSC_6162_JPG_jpg.rf.44445de818a691228ebeae2b3b605992.jpg'\n",
      "\u001b[34m\u001b[1mtrain: \u001b[0mWARNING ⚠️ /Users/trangttdang/Downloads/food_data_1/train/images/DSC_6162_JPG_jpg.rf.895e0deec3f338e322f8b4e76e6a3705.jpg: ignoring corrupt image/label: cannot identify image file '/Users/trangttdang/Downloads/food_data_1/train/images/DSC_6162_JPG_jpg.rf.895e0deec3f338e322f8b4e76e6a3705.jpg'\n",
      "\u001b[34m\u001b[1mtrain: \u001b[0mWARNING ⚠️ /Users/trangttdang/Downloads/food_data_1/train/images/DSC_6162_JPG_jpg.rf.a539489bfae1b2e226272a5e2ca13509.jpg: ignoring corrupt image/label: cannot identify image file '/Users/trangttdang/Downloads/food_data_1/train/images/DSC_6162_JPG_jpg.rf.a539489bfae1b2e226272a5e2ca13509.jpg'\n",
      "\u001b[34m\u001b[1mtrain: \u001b[0mWARNING ⚠️ /Users/trangttdang/Downloads/food_data_1/train/images/DSC_6162_JPG_jpg.rf.b170528534276112aafd39f2cbcb8a9a.jpg: ignoring corrupt image/label: cannot identify image file '/Users/trangttdang/Downloads/food_data_1/train/images/DSC_6162_JPG_jpg.rf.b170528534276112aafd39f2cbcb8a9a.jpg'\n",
      "\u001b[34m\u001b[1mtrain: \u001b[0mWARNING ⚠️ /Users/trangttdang/Downloads/food_data_1/train/images/DSC_6162_JPG_jpg.rf.c0c88f5d8558dc82ed0507482432d416.jpg: ignoring corrupt image/label: cannot identify image file '/Users/trangttdang/Downloads/food_data_1/train/images/DSC_6162_JPG_jpg.rf.c0c88f5d8558dc82ed0507482432d416.jpg'\n",
      "\u001b[34m\u001b[1mtrain: \u001b[0mWARNING ⚠️ /Users/trangttdang/Downloads/food_data_1/train/images/DSC_6162_JPG_jpg.rf.c697cc41dcc1a7b352752287d1a0676d.jpg: ignoring corrupt image/label: cannot identify image file '/Users/trangttdang/Downloads/food_data_1/train/images/DSC_6162_JPG_jpg.rf.c697cc41dcc1a7b352752287d1a0676d.jpg'\n",
      "\u001b[34m\u001b[1mtrain: \u001b[0mWARNING ⚠️ /Users/trangttdang/Downloads/food_data_1/train/images/DSC_6162_JPG_jpg.rf.d18e887fe230b13bec83e390d36c87c8.jpg: ignoring corrupt image/label: cannot identify image file '/Users/trangttdang/Downloads/food_data_1/train/images/DSC_6162_JPG_jpg.rf.d18e887fe230b13bec83e390d36c87c8.jpg'\n",
      "\u001b[34m\u001b[1mtrain: \u001b[0mWARNING ⚠️ /Users/trangttdang/Downloads/food_data_1/train/images/DSC_6162_JPG_jpg.rf.e56ebabe4b0c5a1bf7eb64834b3978c6.jpg: ignoring corrupt image/label: cannot identify image file '/Users/trangttdang/Downloads/food_data_1/train/images/DSC_6162_JPG_jpg.rf.e56ebabe4b0c5a1bf7eb64834b3978c6.jpg'\n",
      "\u001b[34m\u001b[1mtrain: \u001b[0mWARNING ⚠️ /Users/trangttdang/Downloads/food_data_1/train/images/DSC_6164_JPG_jpg.rf.1c747a8d7e083c536cf17b147984667e.jpg: ignoring corrupt image/label: cannot identify image file '/Users/trangttdang/Downloads/food_data_1/train/images/DSC_6164_JPG_jpg.rf.1c747a8d7e083c536cf17b147984667e.jpg'\n",
      "\u001b[34m\u001b[1mtrain: \u001b[0mWARNING ⚠️ /Users/trangttdang/Downloads/food_data_1/train/images/DSC_6164_JPG_jpg.rf.318074984c12d103186b7635ddafd496.jpg: ignoring corrupt image/label: cannot identify image file '/Users/trangttdang/Downloads/food_data_1/train/images/DSC_6164_JPG_jpg.rf.318074984c12d103186b7635ddafd496.jpg'\n",
      "\u001b[34m\u001b[1mtrain: \u001b[0mWARNING ⚠️ /Users/trangttdang/Downloads/food_data_1/train/images/DSC_6164_JPG_jpg.rf.d55d2f71536b9755c72af7b0af93742e.jpg: ignoring corrupt image/label: cannot identify image file '/Users/trangttdang/Downloads/food_data_1/train/images/DSC_6164_JPG_jpg.rf.d55d2f71536b9755c72af7b0af93742e.jpg'\n",
      "\u001b[34m\u001b[1mtrain: \u001b[0mWARNING ⚠️ /Users/trangttdang/Downloads/food_data_1/train/images/DSC_6166_JPG_jpg.rf.13816940774ecbdb8b1af65ad27625f3.jpg: ignoring corrupt image/label: cannot identify image file '/Users/trangttdang/Downloads/food_data_1/train/images/DSC_6166_JPG_jpg.rf.13816940774ecbdb8b1af65ad27625f3.jpg'\n",
      "\u001b[34m\u001b[1mtrain: \u001b[0mWARNING ⚠️ /Users/trangttdang/Downloads/food_data_1/train/images/DSC_6166_JPG_jpg.rf.94dba2c2b74c8c19261d9cc25d5d24f8.jpg: ignoring corrupt image/label: cannot identify image file '/Users/trangttdang/Downloads/food_data_1/train/images/DSC_6166_JPG_jpg.rf.94dba2c2b74c8c19261d9cc25d5d24f8.jpg'\n",
      "\u001b[34m\u001b[1mtrain: \u001b[0mWARNING ⚠️ /Users/trangttdang/Downloads/food_data_1/train/images/DSC_6166_JPG_jpg.rf.ba8929d89b5666ef5703e7326477d9b9.jpg: ignoring corrupt image/label: cannot identify image file '/Users/trangttdang/Downloads/food_data_1/train/images/DSC_6166_JPG_jpg.rf.ba8929d89b5666ef5703e7326477d9b9.jpg'\n",
      "\u001b[34m\u001b[1mtrain: \u001b[0mWARNING ⚠️ /Users/trangttdang/Downloads/food_data_1/train/images/DSC_6167_JPG_jpg.rf.1a9d00dce7d48643c524c1185493d343.jpg: ignoring corrupt image/label: cannot identify image file '/Users/trangttdang/Downloads/food_data_1/train/images/DSC_6167_JPG_jpg.rf.1a9d00dce7d48643c524c1185493d343.jpg'\n",
      "\u001b[34m\u001b[1mtrain: \u001b[0mWARNING ⚠️ /Users/trangttdang/Downloads/food_data_1/train/images/DSC_6167_JPG_jpg.rf.24f7041cc292177b0817aa8ef3f2d125.jpg: ignoring corrupt image/label: cannot identify image file '/Users/trangttdang/Downloads/food_data_1/train/images/DSC_6167_JPG_jpg.rf.24f7041cc292177b0817aa8ef3f2d125.jpg'\n",
      "\u001b[34m\u001b[1mtrain: \u001b[0mWARNING ⚠️ /Users/trangttdang/Downloads/food_data_1/train/images/DSC_6167_JPG_jpg.rf.2ef6dfec672e591418e06df2f2ed94c5.jpg: ignoring corrupt image/label: cannot identify image file '/Users/trangttdang/Downloads/food_data_1/train/images/DSC_6167_JPG_jpg.rf.2ef6dfec672e591418e06df2f2ed94c5.jpg'\n",
      "\u001b[34m\u001b[1mtrain: \u001b[0mWARNING ⚠️ /Users/trangttdang/Downloads/food_data_1/train/images/DSC_6167_JPG_jpg.rf.44246e7ff3f2381b9f66ab0cfcafb5e7.jpg: ignoring corrupt image/label: cannot identify image file '/Users/trangttdang/Downloads/food_data_1/train/images/DSC_6167_JPG_jpg.rf.44246e7ff3f2381b9f66ab0cfcafb5e7.jpg'\n",
      "\u001b[34m\u001b[1mtrain: \u001b[0mWARNING ⚠️ /Users/trangttdang/Downloads/food_data_1/train/images/DSC_6167_JPG_jpg.rf.5a2e43fa4b6247377b44305086ccbc0e.jpg: ignoring corrupt image/label: cannot identify image file '/Users/trangttdang/Downloads/food_data_1/train/images/DSC_6167_JPG_jpg.rf.5a2e43fa4b6247377b44305086ccbc0e.jpg'\n",
      "\u001b[34m\u001b[1mtrain: \u001b[0mWARNING ⚠️ /Users/trangttdang/Downloads/food_data_1/train/images/DSC_6167_JPG_jpg.rf.6dd70eb21bf1431ca97d2788424f46bd.jpg: ignoring corrupt image/label: cannot identify image file '/Users/trangttdang/Downloads/food_data_1/train/images/DSC_6167_JPG_jpg.rf.6dd70eb21bf1431ca97d2788424f46bd.jpg'\n",
      "\u001b[34m\u001b[1mtrain: \u001b[0mWARNING ⚠️ /Users/trangttdang/Downloads/food_data_1/train/images/DSC_6167_JPG_jpg.rf.917c5f6a169bc64b9f8ffc8d65a24882.jpg: ignoring corrupt image/label: cannot identify image file '/Users/trangttdang/Downloads/food_data_1/train/images/DSC_6167_JPG_jpg.rf.917c5f6a169bc64b9f8ffc8d65a24882.jpg'\n",
      "\u001b[34m\u001b[1mtrain: \u001b[0mWARNING ⚠️ /Users/trangttdang/Downloads/food_data_1/train/images/DSC_6167_JPG_jpg.rf.a57151b41b8ed38301e4c22ffe3406f0.jpg: ignoring corrupt image/label: cannot identify image file '/Users/trangttdang/Downloads/food_data_1/train/images/DSC_6167_JPG_jpg.rf.a57151b41b8ed38301e4c22ffe3406f0.jpg'\n",
      "\u001b[34m\u001b[1mtrain: \u001b[0mWARNING ⚠️ /Users/trangttdang/Downloads/food_data_1/train/images/DSC_6167_JPG_jpg.rf.de2f553f57e5681be141a7faa11ae2df.jpg: ignoring corrupt image/label: cannot identify image file '/Users/trangttdang/Downloads/food_data_1/train/images/DSC_6167_JPG_jpg.rf.de2f553f57e5681be141a7faa11ae2df.jpg'\n",
      "\u001b[34m\u001b[1mtrain: \u001b[0mWARNING ⚠️ /Users/trangttdang/Downloads/food_data_1/train/images/DSC_6167_JPG_jpg.rf.ec4e0e7e787cd529edfbecaaa400c46b.jpg: ignoring corrupt image/label: cannot identify image file '/Users/trangttdang/Downloads/food_data_1/train/images/DSC_6167_JPG_jpg.rf.ec4e0e7e787cd529edfbecaaa400c46b.jpg'\n",
      "\u001b[34m\u001b[1mtrain: \u001b[0mWARNING ⚠️ /Users/trangttdang/Downloads/food_data_1/train/images/DSC_6169_JPG_jpg.rf.afd89ae1f243c225f584d9aa7fea31b3.jpg: ignoring corrupt image/label: image file is truncated (56 bytes not processed)\n",
      "\u001b[34m\u001b[1mtrain: \u001b[0mWARNING ⚠️ /Users/trangttdang/Downloads/food_data_1/train/images/DSC_6169_JPG_jpg.rf.c496261afe85ed13c4b1901e1832788d.jpg: ignoring corrupt image/label: cannot identify image file '/Users/trangttdang/Downloads/food_data_1/train/images/DSC_6169_JPG_jpg.rf.c496261afe85ed13c4b1901e1832788d.jpg'\n",
      "\u001b[34m\u001b[1mtrain: \u001b[0mWARNING ⚠️ /Users/trangttdang/Downloads/food_data_1/train/images/DSC_6169_JPG_jpg.rf.ed74071731e5a6a00801367f3c464b1b.jpg: ignoring corrupt image/label: cannot identify image file '/Users/trangttdang/Downloads/food_data_1/train/images/DSC_6169_JPG_jpg.rf.ed74071731e5a6a00801367f3c464b1b.jpg'\n",
      "\u001b[34m\u001b[1mtrain: \u001b[0mWARNING ⚠️ /Users/trangttdang/Downloads/food_data_1/train/images/DSC_6170_JPG_jpg.rf.c5d9a56e68278117e4d4d33316b38c9b.jpg: ignoring corrupt image/label: cannot identify image file '/Users/trangttdang/Downloads/food_data_1/train/images/DSC_6170_JPG_jpg.rf.c5d9a56e68278117e4d4d33316b38c9b.jpg'\n",
      "\u001b[34m\u001b[1mtrain: \u001b[0mWARNING ⚠️ /Users/trangttdang/Downloads/food_data_1/train/images/DSC_6170_JPG_jpg.rf.d8e8f7a7ceb3657305a011c250638051.jpg: ignoring corrupt image/label: cannot identify image file '/Users/trangttdang/Downloads/food_data_1/train/images/DSC_6170_JPG_jpg.rf.d8e8f7a7ceb3657305a011c250638051.jpg'\n",
      "\u001b[34m\u001b[1mtrain: \u001b[0mWARNING ⚠️ /Users/trangttdang/Downloads/food_data_1/train/images/DSC_6175_JPG_jpg.rf.25dff680251497ca1f20231d1f396d00.jpg: ignoring corrupt image/label: cannot identify image file '/Users/trangttdang/Downloads/food_data_1/train/images/DSC_6175_JPG_jpg.rf.25dff680251497ca1f20231d1f396d00.jpg'\n",
      "\u001b[34m\u001b[1mtrain: \u001b[0mWARNING ⚠️ /Users/trangttdang/Downloads/food_data_1/train/images/DSC_6175_JPG_jpg.rf.3f935b1235309c928859c61181d40dcd.jpg: ignoring corrupt image/label: cannot identify image file '/Users/trangttdang/Downloads/food_data_1/train/images/DSC_6175_JPG_jpg.rf.3f935b1235309c928859c61181d40dcd.jpg'\n",
      "\u001b[34m\u001b[1mtrain: \u001b[0mWARNING ⚠️ /Users/trangttdang/Downloads/food_data_1/train/images/DSC_6175_JPG_jpg.rf.4022d684e829c07dae1a87c3fa1d65af.jpg: ignoring corrupt image/label: cannot identify image file '/Users/trangttdang/Downloads/food_data_1/train/images/DSC_6175_JPG_jpg.rf.4022d684e829c07dae1a87c3fa1d65af.jpg'\n",
      "\u001b[34m\u001b[1mtrain: \u001b[0mWARNING ⚠️ /Users/trangttdang/Downloads/food_data_1/train/images/DSC_6175_JPG_jpg.rf.4f493b05f4195d6abb0c87228b0ab101.jpg: ignoring corrupt image/label: cannot identify image file '/Users/trangttdang/Downloads/food_data_1/train/images/DSC_6175_JPG_jpg.rf.4f493b05f4195d6abb0c87228b0ab101.jpg'\n",
      "\u001b[34m\u001b[1mtrain: \u001b[0mWARNING ⚠️ /Users/trangttdang/Downloads/food_data_1/train/images/DSC_6175_JPG_jpg.rf.602ef1490867bd7f646a4c2041b08033.jpg: ignoring corrupt image/label: cannot identify image file '/Users/trangttdang/Downloads/food_data_1/train/images/DSC_6175_JPG_jpg.rf.602ef1490867bd7f646a4c2041b08033.jpg'\n",
      "\u001b[34m\u001b[1mtrain: \u001b[0mWARNING ⚠️ /Users/trangttdang/Downloads/food_data_1/train/images/DSC_6175_JPG_jpg.rf.77ac635b84865220e3556d659f9cf45f.jpg: ignoring corrupt image/label: cannot identify image file '/Users/trangttdang/Downloads/food_data_1/train/images/DSC_6175_JPG_jpg.rf.77ac635b84865220e3556d659f9cf45f.jpg'\n",
      "\u001b[34m\u001b[1mtrain: \u001b[0mWARNING ⚠️ /Users/trangttdang/Downloads/food_data_1/train/images/DSC_6175_JPG_jpg.rf.7db31ebd16f572f53ad16260ab5c5930.jpg: ignoring corrupt image/label: cannot identify image file '/Users/trangttdang/Downloads/food_data_1/train/images/DSC_6175_JPG_jpg.rf.7db31ebd16f572f53ad16260ab5c5930.jpg'\n",
      "\u001b[34m\u001b[1mtrain: \u001b[0mWARNING ⚠️ /Users/trangttdang/Downloads/food_data_1/train/images/DSC_6175_JPG_jpg.rf.9e42a4c1fce186839c1c9fbfcbf01cf9.jpg: ignoring corrupt image/label: cannot identify image file '/Users/trangttdang/Downloads/food_data_1/train/images/DSC_6175_JPG_jpg.rf.9e42a4c1fce186839c1c9fbfcbf01cf9.jpg'\n",
      "\u001b[34m\u001b[1mtrain: \u001b[0mWARNING ⚠️ /Users/trangttdang/Downloads/food_data_1/train/images/DSC_6175_JPG_jpg.rf.9e90f1d70220fe46a2c1f967b4c851f6.jpg: ignoring corrupt image/label: cannot identify image file '/Users/trangttdang/Downloads/food_data_1/train/images/DSC_6175_JPG_jpg.rf.9e90f1d70220fe46a2c1f967b4c851f6.jpg'\n",
      "\u001b[34m\u001b[1mtrain: \u001b[0mWARNING ⚠️ /Users/trangttdang/Downloads/food_data_1/train/images/DSC_6175_JPG_jpg.rf.ff0a830c29068f0a1b23f07e9934769b.jpg: ignoring corrupt image/label: cannot identify image file '/Users/trangttdang/Downloads/food_data_1/train/images/DSC_6175_JPG_jpg.rf.ff0a830c29068f0a1b23f07e9934769b.jpg'\n",
      "\u001b[34m\u001b[1mtrain: \u001b[0mWARNING ⚠️ /Users/trangttdang/Downloads/food_data_1/train/images/DSC_6180_JPG_jpg.rf.0bbc4efa26ab9570c57639a19b76d4d6.jpg: ignoring corrupt image/label: cannot identify image file '/Users/trangttdang/Downloads/food_data_1/train/images/DSC_6180_JPG_jpg.rf.0bbc4efa26ab9570c57639a19b76d4d6.jpg'\n",
      "\u001b[34m\u001b[1mtrain: \u001b[0mWARNING ⚠️ /Users/trangttdang/Downloads/food_data_1/train/images/DSC_6180_JPG_jpg.rf.604db21a7a96590340682f5d7e547ec0.jpg: ignoring corrupt image/label: cannot identify image file '/Users/trangttdang/Downloads/food_data_1/train/images/DSC_6180_JPG_jpg.rf.604db21a7a96590340682f5d7e547ec0.jpg'\n",
      "\u001b[34m\u001b[1mtrain: \u001b[0mWARNING ⚠️ /Users/trangttdang/Downloads/food_data_1/train/images/DSC_6180_JPG_jpg.rf.bdb022ec5bacd86b6204423650508d21.jpg: ignoring corrupt image/label: cannot identify image file '/Users/trangttdang/Downloads/food_data_1/train/images/DSC_6180_JPG_jpg.rf.bdb022ec5bacd86b6204423650508d21.jpg'\n",
      "\u001b[34m\u001b[1mtrain: \u001b[0mWARNING ⚠️ /Users/trangttdang/Downloads/food_data_1/train/images/DSC_6181_JPG_jpg.rf.05b29c291a58ee3570cd256580110b65.jpg: ignoring corrupt image/label: cannot identify image file '/Users/trangttdang/Downloads/food_data_1/train/images/DSC_6181_JPG_jpg.rf.05b29c291a58ee3570cd256580110b65.jpg'\n",
      "\u001b[34m\u001b[1mtrain: \u001b[0mWARNING ⚠️ /Users/trangttdang/Downloads/food_data_1/train/images/DSC_6181_JPG_jpg.rf.3c592d87855d73655cd41f76a38df001.jpg: ignoring corrupt image/label: cannot identify image file '/Users/trangttdang/Downloads/food_data_1/train/images/DSC_6181_JPG_jpg.rf.3c592d87855d73655cd41f76a38df001.jpg'\n",
      "\u001b[34m\u001b[1mtrain: \u001b[0mWARNING ⚠️ /Users/trangttdang/Downloads/food_data_1/train/images/DSC_6181_JPG_jpg.rf.4249954e5c01d6853998883c3f781693.jpg: ignoring corrupt image/label: cannot identify image file '/Users/trangttdang/Downloads/food_data_1/train/images/DSC_6181_JPG_jpg.rf.4249954e5c01d6853998883c3f781693.jpg'\n",
      "\u001b[34m\u001b[1mtrain: \u001b[0mWARNING ⚠️ /Users/trangttdang/Downloads/food_data_1/train/images/DSC_6181_JPG_jpg.rf.584a54cacb638be1ec6a32732bc2684e.jpg: ignoring corrupt image/label: cannot identify image file '/Users/trangttdang/Downloads/food_data_1/train/images/DSC_6181_JPG_jpg.rf.584a54cacb638be1ec6a32732bc2684e.jpg'\n",
      "\u001b[34m\u001b[1mtrain: \u001b[0mWARNING ⚠️ /Users/trangttdang/Downloads/food_data_1/train/images/DSC_6181_JPG_jpg.rf.76cf32f098f192420d6669fef6240917.jpg: ignoring corrupt image/label: cannot identify image file '/Users/trangttdang/Downloads/food_data_1/train/images/DSC_6181_JPG_jpg.rf.76cf32f098f192420d6669fef6240917.jpg'\n",
      "\u001b[34m\u001b[1mtrain: \u001b[0mWARNING ⚠️ /Users/trangttdang/Downloads/food_data_1/train/images/DSC_6183_JPG_jpg.rf.3f0e562f714ae5f4fa55600b957b3c30.jpg: ignoring corrupt image/label: cannot identify image file '/Users/trangttdang/Downloads/food_data_1/train/images/DSC_6183_JPG_jpg.rf.3f0e562f714ae5f4fa55600b957b3c30.jpg'\n",
      "\u001b[34m\u001b[1mtrain: \u001b[0mWARNING ⚠️ /Users/trangttdang/Downloads/food_data_1/train/images/DSC_6183_JPG_jpg.rf.4df29f9677684bf0556de5e64999e3c2.jpg: ignoring corrupt image/label: cannot identify image file '/Users/trangttdang/Downloads/food_data_1/train/images/DSC_6183_JPG_jpg.rf.4df29f9677684bf0556de5e64999e3c2.jpg'\n",
      "\u001b[34m\u001b[1mtrain: \u001b[0mWARNING ⚠️ /Users/trangttdang/Downloads/food_data_1/train/images/DSC_6183_JPG_jpg.rf.7374a943b88ee3d88c9276022184c691.jpg: ignoring corrupt image/label: cannot identify image file '/Users/trangttdang/Downloads/food_data_1/train/images/DSC_6183_JPG_jpg.rf.7374a943b88ee3d88c9276022184c691.jpg'\n",
      "\u001b[34m\u001b[1mtrain: \u001b[0mWARNING ⚠️ /Users/trangttdang/Downloads/food_data_1/train/images/DSC_6183_JPG_jpg.rf.bffb1af013802123775f147df4975de7.jpg: ignoring corrupt image/label: cannot identify image file '/Users/trangttdang/Downloads/food_data_1/train/images/DSC_6183_JPG_jpg.rf.bffb1af013802123775f147df4975de7.jpg'\n",
      "\u001b[34m\u001b[1mtrain: \u001b[0mWARNING ⚠️ /Users/trangttdang/Downloads/food_data_1/train/images/DSC_6183_JPG_jpg.rf.d2d85457067d2117e7f2cd4e301403b0.jpg: ignoring corrupt image/label: cannot identify image file '/Users/trangttdang/Downloads/food_data_1/train/images/DSC_6183_JPG_jpg.rf.d2d85457067d2117e7f2cd4e301403b0.jpg'\n",
      "\u001b[34m\u001b[1mtrain: \u001b[0mWARNING ⚠️ /Users/trangttdang/Downloads/food_data_1/train/images/DSC_6184_JPG_jpg.rf.11f57c38389aa9a58c65daba09d938b3.jpg: ignoring corrupt image/label: cannot identify image file '/Users/trangttdang/Downloads/food_data_1/train/images/DSC_6184_JPG_jpg.rf.11f57c38389aa9a58c65daba09d938b3.jpg'\n",
      "\u001b[34m\u001b[1mtrain: \u001b[0mWARNING ⚠️ /Users/trangttdang/Downloads/food_data_1/train/images/DSC_6184_JPG_jpg.rf.4a5074b2405f39974b5de02c44ed82c8.jpg: ignoring corrupt image/label: cannot identify image file '/Users/trangttdang/Downloads/food_data_1/train/images/DSC_6184_JPG_jpg.rf.4a5074b2405f39974b5de02c44ed82c8.jpg'\n",
      "\u001b[34m\u001b[1mtrain: \u001b[0mWARNING ⚠️ /Users/trangttdang/Downloads/food_data_1/train/images/DSC_6184_JPG_jpg.rf.943feb5f3a2eb59ef7cd7803b714cb79.jpg: ignoring corrupt image/label: cannot identify image file '/Users/trangttdang/Downloads/food_data_1/train/images/DSC_6184_JPG_jpg.rf.943feb5f3a2eb59ef7cd7803b714cb79.jpg'\n",
      "\u001b[34m\u001b[1mtrain: \u001b[0mWARNING ⚠️ /Users/trangttdang/Downloads/food_data_1/train/images/DSC_6185_JPG_jpg.rf.0f83aa71c425a6c043f1acab360bc3cb.jpg: ignoring corrupt image/label: cannot identify image file '/Users/trangttdang/Downloads/food_data_1/train/images/DSC_6185_JPG_jpg.rf.0f83aa71c425a6c043f1acab360bc3cb.jpg'\n",
      "\u001b[34m\u001b[1mtrain: \u001b[0mWARNING ⚠️ /Users/trangttdang/Downloads/food_data_1/train/images/DSC_6186_JPG_jpg.rf.107b8c12963de3b66156935226e543b1.jpg: ignoring corrupt image/label: cannot identify image file '/Users/trangttdang/Downloads/food_data_1/train/images/DSC_6186_JPG_jpg.rf.107b8c12963de3b66156935226e543b1.jpg'\n",
      "\u001b[34m\u001b[1mtrain: \u001b[0mWARNING ⚠️ /Users/trangttdang/Downloads/food_data_1/train/images/DSC_6186_JPG_jpg.rf.2365b115166b719e14004fe49e5d1b4b.jpg: ignoring corrupt image/label: cannot identify image file '/Users/trangttdang/Downloads/food_data_1/train/images/DSC_6186_JPG_jpg.rf.2365b115166b719e14004fe49e5d1b4b.jpg'\n",
      "\u001b[34m\u001b[1mtrain: \u001b[0mWARNING ⚠️ /Users/trangttdang/Downloads/food_data_1/train/images/DSC_6186_JPG_jpg.rf.30f8b7844809ffe31504f3c45a115e33.jpg: ignoring corrupt image/label: cannot identify image file '/Users/trangttdang/Downloads/food_data_1/train/images/DSC_6186_JPG_jpg.rf.30f8b7844809ffe31504f3c45a115e33.jpg'\n",
      "\u001b[34m\u001b[1mtrain: \u001b[0mWARNING ⚠️ /Users/trangttdang/Downloads/food_data_1/train/images/DSC_6186_JPG_jpg.rf.3c28199441749412b787f7e575a6caeb.jpg: ignoring corrupt image/label: cannot identify image file '/Users/trangttdang/Downloads/food_data_1/train/images/DSC_6186_JPG_jpg.rf.3c28199441749412b787f7e575a6caeb.jpg'\n",
      "\u001b[34m\u001b[1mtrain: \u001b[0mWARNING ⚠️ /Users/trangttdang/Downloads/food_data_1/train/images/DSC_6186_JPG_jpg.rf.7cac46cfc17887106d4ddfcfab1c77ee.jpg: ignoring corrupt image/label: cannot identify image file '/Users/trangttdang/Downloads/food_data_1/train/images/DSC_6186_JPG_jpg.rf.7cac46cfc17887106d4ddfcfab1c77ee.jpg'\n",
      "\u001b[34m\u001b[1mtrain: \u001b[0mWARNING ⚠️ /Users/trangttdang/Downloads/food_data_1/train/images/DSC_6186_JPG_jpg.rf.d3daaefb66d7840069e337a357fa506c.jpg: corrupt JPEG restored and saved\n",
      "\u001b[34m\u001b[1mtrain: \u001b[0mWARNING ⚠️ /Users/trangttdang/Downloads/food_data_1/train/images/DSC_6186_JPG_jpg.rf.d6b95ed4e836c5339ffd6ac3f5c78899.jpg: ignoring corrupt image/label: cannot identify image file '/Users/trangttdang/Downloads/food_data_1/train/images/DSC_6186_JPG_jpg.rf.d6b95ed4e836c5339ffd6ac3f5c78899.jpg'\n",
      "\u001b[34m\u001b[1mtrain: \u001b[0mWARNING ⚠️ /Users/trangttdang/Downloads/food_data_1/train/images/DSC_6186_JPG_jpg.rf.da943d461097aafda0191597fd7eb19b.jpg: ignoring corrupt image/label: cannot identify image file '/Users/trangttdang/Downloads/food_data_1/train/images/DSC_6186_JPG_jpg.rf.da943d461097aafda0191597fd7eb19b.jpg'\n",
      "\u001b[34m\u001b[1mtrain: \u001b[0mWARNING ⚠️ /Users/trangttdang/Downloads/food_data_1/train/images/DSC_6186_JPG_jpg.rf.e1e7251d7f5d55b1f56ee91211fa4da5.jpg: ignoring corrupt image/label: cannot identify image file '/Users/trangttdang/Downloads/food_data_1/train/images/DSC_6186_JPG_jpg.rf.e1e7251d7f5d55b1f56ee91211fa4da5.jpg'\n",
      "\u001b[34m\u001b[1mtrain: \u001b[0mWARNING ⚠️ /Users/trangttdang/Downloads/food_data_1/train/images/DSC_6186_JPG_jpg.rf.e52e0c7f45f6cb51bece19a6ccf6d65d.jpg: ignoring corrupt image/label: cannot identify image file '/Users/trangttdang/Downloads/food_data_1/train/images/DSC_6186_JPG_jpg.rf.e52e0c7f45f6cb51bece19a6ccf6d65d.jpg'\n",
      "\u001b[34m\u001b[1mtrain: \u001b[0mWARNING ⚠️ /Users/trangttdang/Downloads/food_data_1/train/images/DSC_6186_JPG_jpg.rf.fcd492bd2d8b16bb174887218b30bf98.jpg: ignoring corrupt image/label: cannot identify image file '/Users/trangttdang/Downloads/food_data_1/train/images/DSC_6186_JPG_jpg.rf.fcd492bd2d8b16bb174887218b30bf98.jpg'\n",
      "\u001b[34m\u001b[1mtrain: \u001b[0mWARNING ⚠️ /Users/trangttdang/Downloads/food_data_1/train/images/DSC_6187_JPG_jpg.rf.a0aa78d208b484a379228bfd0091dc9c.jpg: ignoring corrupt image/label: cannot identify image file '/Users/trangttdang/Downloads/food_data_1/train/images/DSC_6187_JPG_jpg.rf.a0aa78d208b484a379228bfd0091dc9c.jpg'\n",
      "\u001b[34m\u001b[1mtrain: \u001b[0mWARNING ⚠️ /Users/trangttdang/Downloads/food_data_1/train/images/DSC_6188_JPG_jpg.rf.0818bfe2e07ba90970d72704e044e187.jpg: ignoring corrupt image/label: cannot identify image file '/Users/trangttdang/Downloads/food_data_1/train/images/DSC_6188_JPG_jpg.rf.0818bfe2e07ba90970d72704e044e187.jpg'\n",
      "\u001b[34m\u001b[1mtrain: \u001b[0mWARNING ⚠️ /Users/trangttdang/Downloads/food_data_1/train/images/DSC_6188_JPG_jpg.rf.6547329a25ef26db3ab07f9282a619d8.jpg: ignoring corrupt image/label: cannot identify image file '/Users/trangttdang/Downloads/food_data_1/train/images/DSC_6188_JPG_jpg.rf.6547329a25ef26db3ab07f9282a619d8.jpg'\n",
      "\u001b[34m\u001b[1mtrain: \u001b[0mWARNING ⚠️ /Users/trangttdang/Downloads/food_data_1/train/images/DSC_6188_JPG_jpg.rf.901a9c8a048e47ab2a25aae3cf93e3aa.jpg: ignoring corrupt image/label: cannot identify image file '/Users/trangttdang/Downloads/food_data_1/train/images/DSC_6188_JPG_jpg.rf.901a9c8a048e47ab2a25aae3cf93e3aa.jpg'\n",
      "\u001b[34m\u001b[1mtrain: \u001b[0mWARNING ⚠️ /Users/trangttdang/Downloads/food_data_1/train/images/DSC_6188_JPG_jpg.rf.ecc97a55f7659705de4b14b8285d966e.jpg: ignoring corrupt image/label: cannot identify image file '/Users/trangttdang/Downloads/food_data_1/train/images/DSC_6188_JPG_jpg.rf.ecc97a55f7659705de4b14b8285d966e.jpg'\n",
      "\u001b[34m\u001b[1mtrain: \u001b[0mWARNING ⚠️ /Users/trangttdang/Downloads/food_data_1/train/images/DSC_6189_JPG_jpg.rf.15a22accb6de387a4cc39ee7ded4fb9b.jpg: ignoring corrupt image/label: cannot identify image file '/Users/trangttdang/Downloads/food_data_1/train/images/DSC_6189_JPG_jpg.rf.15a22accb6de387a4cc39ee7ded4fb9b.jpg'\n",
      "\u001b[34m\u001b[1mtrain: \u001b[0mWARNING ⚠️ /Users/trangttdang/Downloads/food_data_1/train/images/DSC_6189_JPG_jpg.rf.5c4ddb85a3b94dba602e7aced1c422f7.jpg: ignoring corrupt image/label: cannot identify image file '/Users/trangttdang/Downloads/food_data_1/train/images/DSC_6189_JPG_jpg.rf.5c4ddb85a3b94dba602e7aced1c422f7.jpg'\n",
      "\u001b[34m\u001b[1mtrain: \u001b[0mWARNING ⚠️ /Users/trangttdang/Downloads/food_data_1/train/images/DSC_6189_JPG_jpg.rf.621864336b1df5483c451a099bec32d3.jpg: ignoring corrupt image/label: cannot identify image file '/Users/trangttdang/Downloads/food_data_1/train/images/DSC_6189_JPG_jpg.rf.621864336b1df5483c451a099bec32d3.jpg'\n",
      "\u001b[34m\u001b[1mtrain: \u001b[0mWARNING ⚠️ /Users/trangttdang/Downloads/food_data_1/train/images/DSC_6189_JPG_jpg.rf.83802241f6dcaa48a4e39da2bc3e6120.jpg: ignoring corrupt image/label: cannot identify image file '/Users/trangttdang/Downloads/food_data_1/train/images/DSC_6189_JPG_jpg.rf.83802241f6dcaa48a4e39da2bc3e6120.jpg'\n",
      "\u001b[34m\u001b[1mtrain: \u001b[0mWARNING ⚠️ /Users/trangttdang/Downloads/food_data_1/train/images/DSC_6190_JPG_jpg.rf.056f35a6e63c92fb28770fe1d7dac0db.jpg: ignoring corrupt image/label: cannot identify image file '/Users/trangttdang/Downloads/food_data_1/train/images/DSC_6190_JPG_jpg.rf.056f35a6e63c92fb28770fe1d7dac0db.jpg'\n",
      "\u001b[34m\u001b[1mtrain: \u001b[0mWARNING ⚠️ /Users/trangttdang/Downloads/food_data_1/train/images/DSC_6190_JPG_jpg.rf.12ab5693c7d8d26c37ca64a6d689dac3.jpg: ignoring corrupt image/label: cannot identify image file '/Users/trangttdang/Downloads/food_data_1/train/images/DSC_6190_JPG_jpg.rf.12ab5693c7d8d26c37ca64a6d689dac3.jpg'\n",
      "\u001b[34m\u001b[1mtrain: \u001b[0mWARNING ⚠️ /Users/trangttdang/Downloads/food_data_1/train/images/DSC_6190_JPG_jpg.rf.18d7459da8cb397af67fc9f66b19ec94.jpg: ignoring corrupt image/label: cannot identify image file '/Users/trangttdang/Downloads/food_data_1/train/images/DSC_6190_JPG_jpg.rf.18d7459da8cb397af67fc9f66b19ec94.jpg'\n",
      "\u001b[34m\u001b[1mtrain: \u001b[0mWARNING ⚠️ /Users/trangttdang/Downloads/food_data_1/train/images/DSC_6190_JPG_jpg.rf.251120e7c4845813264b8db1148a2985.jpg: ignoring corrupt image/label: cannot identify image file '/Users/trangttdang/Downloads/food_data_1/train/images/DSC_6190_JPG_jpg.rf.251120e7c4845813264b8db1148a2985.jpg'\n",
      "\u001b[34m\u001b[1mtrain: \u001b[0mWARNING ⚠️ /Users/trangttdang/Downloads/food_data_1/train/images/DSC_6190_JPG_jpg.rf.3051a27506bce9e0e8b8942fe9aaba0a.jpg: ignoring corrupt image/label: cannot identify image file '/Users/trangttdang/Downloads/food_data_1/train/images/DSC_6190_JPG_jpg.rf.3051a27506bce9e0e8b8942fe9aaba0a.jpg'\n",
      "\u001b[34m\u001b[1mtrain: \u001b[0mWARNING ⚠️ /Users/trangttdang/Downloads/food_data_1/train/images/DSC_6190_JPG_jpg.rf.454b8a98eba23a55603b5b9c8df864cf.jpg: ignoring corrupt image/label: cannot identify image file '/Users/trangttdang/Downloads/food_data_1/train/images/DSC_6190_JPG_jpg.rf.454b8a98eba23a55603b5b9c8df864cf.jpg'\n",
      "\u001b[34m\u001b[1mtrain: \u001b[0mWARNING ⚠️ /Users/trangttdang/Downloads/food_data_1/train/images/DSC_6190_JPG_jpg.rf.4dc970d1a47ebd108ff55c0bf0d91e56.jpg: ignoring corrupt image/label: cannot identify image file '/Users/trangttdang/Downloads/food_data_1/train/images/DSC_6190_JPG_jpg.rf.4dc970d1a47ebd108ff55c0bf0d91e56.jpg'\n",
      "\u001b[34m\u001b[1mtrain: \u001b[0mWARNING ⚠️ /Users/trangttdang/Downloads/food_data_1/train/images/DSC_6190_JPG_jpg.rf.5862cea639c8e4ae92f8ff37cdd72e43.jpg: ignoring corrupt image/label: cannot identify image file '/Users/trangttdang/Downloads/food_data_1/train/images/DSC_6190_JPG_jpg.rf.5862cea639c8e4ae92f8ff37cdd72e43.jpg'\n",
      "\u001b[34m\u001b[1mtrain: \u001b[0mWARNING ⚠️ /Users/trangttdang/Downloads/food_data_1/train/images/DSC_6190_JPG_jpg.rf.81da97ab309076425bd665f4f54249e4.jpg: ignoring corrupt image/label: cannot identify image file '/Users/trangttdang/Downloads/food_data_1/train/images/DSC_6190_JPG_jpg.rf.81da97ab309076425bd665f4f54249e4.jpg'\n",
      "\u001b[34m\u001b[1mtrain: \u001b[0mWARNING ⚠️ /Users/trangttdang/Downloads/food_data_1/train/images/DSC_6190_JPG_jpg.rf.a2340471e9591bde4b8c52b27a9f0a9c.jpg: ignoring corrupt image/label: cannot identify image file '/Users/trangttdang/Downloads/food_data_1/train/images/DSC_6190_JPG_jpg.rf.a2340471e9591bde4b8c52b27a9f0a9c.jpg'\n",
      "\u001b[34m\u001b[1mtrain: \u001b[0mWARNING ⚠️ /Users/trangttdang/Downloads/food_data_1/train/images/DSC_6190_JPG_jpg.rf.b1c88d7654a86b80b27d8653d1388e5c.jpg: ignoring corrupt image/label: cannot identify image file '/Users/trangttdang/Downloads/food_data_1/train/images/DSC_6190_JPG_jpg.rf.b1c88d7654a86b80b27d8653d1388e5c.jpg'\n",
      "\u001b[34m\u001b[1mtrain: \u001b[0mWARNING ⚠️ /Users/trangttdang/Downloads/food_data_1/train/images/DSC_6190_JPG_jpg.rf.b612ad8263e87f903221a855543098bc.jpg: ignoring corrupt image/label: cannot identify image file '/Users/trangttdang/Downloads/food_data_1/train/images/DSC_6190_JPG_jpg.rf.b612ad8263e87f903221a855543098bc.jpg'\n",
      "\u001b[34m\u001b[1mtrain: \u001b[0mWARNING ⚠️ /Users/trangttdang/Downloads/food_data_1/train/images/DSC_6190_JPG_jpg.rf.e6c0c91b37513bf5cb570055faf89303.jpg: ignoring corrupt image/label: cannot identify image file '/Users/trangttdang/Downloads/food_data_1/train/images/DSC_6190_JPG_jpg.rf.e6c0c91b37513bf5cb570055faf89303.jpg'\n",
      "\u001b[34m\u001b[1mtrain: \u001b[0mWARNING ⚠️ /Users/trangttdang/Downloads/food_data_1/train/images/DSC_6191_JPG_jpg.rf.48a53e0fc264a924553c8d8e3f06c1b4.jpg: ignoring corrupt image/label: cannot identify image file '/Users/trangttdang/Downloads/food_data_1/train/images/DSC_6191_JPG_jpg.rf.48a53e0fc264a924553c8d8e3f06c1b4.jpg'\n",
      "\u001b[34m\u001b[1mtrain: \u001b[0mWARNING ⚠️ /Users/trangttdang/Downloads/food_data_1/train/images/DSC_6191_JPG_jpg.rf.648063b5b3a265a31a3bbe7595a9ff08.jpg: ignoring corrupt image/label: cannot identify image file '/Users/trangttdang/Downloads/food_data_1/train/images/DSC_6191_JPG_jpg.rf.648063b5b3a265a31a3bbe7595a9ff08.jpg'\n",
      "\u001b[34m\u001b[1mtrain: \u001b[0mWARNING ⚠️ /Users/trangttdang/Downloads/food_data_1/train/images/DSC_6191_JPG_jpg.rf.6db8fbbe1ebec323109ab0ddd0b1d5d8.jpg: ignoring corrupt image/label: cannot identify image file '/Users/trangttdang/Downloads/food_data_1/train/images/DSC_6191_JPG_jpg.rf.6db8fbbe1ebec323109ab0ddd0b1d5d8.jpg'\n",
      "\u001b[34m\u001b[1mtrain: \u001b[0mWARNING ⚠️ /Users/trangttdang/Downloads/food_data_1/train/images/DSC_6191_JPG_jpg.rf.9089cdaedf26cf67a9eda124b38405e6.jpg: ignoring corrupt image/label: cannot identify image file '/Users/trangttdang/Downloads/food_data_1/train/images/DSC_6191_JPG_jpg.rf.9089cdaedf26cf67a9eda124b38405e6.jpg'\n",
      "\u001b[34m\u001b[1mtrain: \u001b[0mWARNING ⚠️ /Users/trangttdang/Downloads/food_data_1/train/images/DSC_6192_JPG_jpg.rf.2eb27aaeeb4ad6a97f3f81a15f3ad278.jpg: corrupt JPEG restored and saved\n",
      "\u001b[34m\u001b[1mtrain: \u001b[0mWARNING ⚠️ /Users/trangttdang/Downloads/food_data_1/train/images/DSC_6192_JPG_jpg.rf.3daa49e5c45f126ddff5e1ec640d4f08.jpg: ignoring corrupt image/label: cannot identify image file '/Users/trangttdang/Downloads/food_data_1/train/images/DSC_6192_JPG_jpg.rf.3daa49e5c45f126ddff5e1ec640d4f08.jpg'\n",
      "\u001b[34m\u001b[1mtrain: \u001b[0mWARNING ⚠️ /Users/trangttdang/Downloads/food_data_1/train/images/DSC_6192_JPG_jpg.rf.7a94a11e6c65f2a6ea451f7c6f08d92e.jpg: ignoring corrupt image/label: cannot identify image file '/Users/trangttdang/Downloads/food_data_1/train/images/DSC_6192_JPG_jpg.rf.7a94a11e6c65f2a6ea451f7c6f08d92e.jpg'\n",
      "\u001b[34m\u001b[1mtrain: \u001b[0mWARNING ⚠️ /Users/trangttdang/Downloads/food_data_1/train/images/DSC_6192_JPG_jpg.rf.7e28cf73d2baeafd223814100863a566.jpg: ignoring corrupt image/label: cannot identify image file '/Users/trangttdang/Downloads/food_data_1/train/images/DSC_6192_JPG_jpg.rf.7e28cf73d2baeafd223814100863a566.jpg'\n",
      "\u001b[34m\u001b[1mtrain: \u001b[0mWARNING ⚠️ /Users/trangttdang/Downloads/food_data_1/train/images/DSC_6192_JPG_jpg.rf.b589648a956c2201f4e43a01b741b46d.jpg: ignoring corrupt image/label: cannot identify image file '/Users/trangttdang/Downloads/food_data_1/train/images/DSC_6192_JPG_jpg.rf.b589648a956c2201f4e43a01b741b46d.jpg'\n",
      "\u001b[34m\u001b[1mtrain: \u001b[0mWARNING ⚠️ /Users/trangttdang/Downloads/food_data_1/train/images/DSC_6192_JPG_jpg.rf.df12a477f5a988da834eae9e1315cc24.jpg: ignoring corrupt image/label: cannot identify image file '/Users/trangttdang/Downloads/food_data_1/train/images/DSC_6192_JPG_jpg.rf.df12a477f5a988da834eae9e1315cc24.jpg'\n",
      "\u001b[34m\u001b[1mtrain: \u001b[0mWARNING ⚠️ /Users/trangttdang/Downloads/food_data_1/train/images/DSC_6193_JPG_jpg.rf.296f0ecb27c9cb1e3521d68bbd13d1b5.jpg: corrupt JPEG restored and saved\n",
      "\u001b[34m\u001b[1mtrain: \u001b[0mWARNING ⚠️ /Users/trangttdang/Downloads/food_data_1/train/images/DSC_6193_JPG_jpg.rf.382c7947eb46742048c2d17c7b81cdcf.jpg: ignoring corrupt image/label: cannot identify image file '/Users/trangttdang/Downloads/food_data_1/train/images/DSC_6193_JPG_jpg.rf.382c7947eb46742048c2d17c7b81cdcf.jpg'\n",
      "\u001b[34m\u001b[1mtrain: \u001b[0mWARNING ⚠️ /Users/trangttdang/Downloads/food_data_1/train/images/DSC_6193_JPG_jpg.rf.9e0642b5296a0e1b33313782997cea76.jpg: ignoring corrupt image/label: cannot identify image file '/Users/trangttdang/Downloads/food_data_1/train/images/DSC_6193_JPG_jpg.rf.9e0642b5296a0e1b33313782997cea76.jpg'\n",
      "\u001b[34m\u001b[1mtrain: \u001b[0mWARNING ⚠️ /Users/trangttdang/Downloads/food_data_1/train/images/DSC_6194_JPG_jpg.rf.48041674dd06b92ee9e75b37d248a5ae.jpg: ignoring corrupt image/label: cannot identify image file '/Users/trangttdang/Downloads/food_data_1/train/images/DSC_6194_JPG_jpg.rf.48041674dd06b92ee9e75b37d248a5ae.jpg'\n",
      "\u001b[34m\u001b[1mtrain: \u001b[0mWARNING ⚠️ /Users/trangttdang/Downloads/food_data_1/train/images/DSC_6194_JPG_jpg.rf.5c5c56d7c0806b687baa1a40fdac681c.jpg: ignoring corrupt image/label: cannot identify image file '/Users/trangttdang/Downloads/food_data_1/train/images/DSC_6194_JPG_jpg.rf.5c5c56d7c0806b687baa1a40fdac681c.jpg'\n",
      "\u001b[34m\u001b[1mtrain: \u001b[0mWARNING ⚠️ /Users/trangttdang/Downloads/food_data_1/train/images/DSC_6194_JPG_jpg.rf.a42fd56fce615337dd790b6250049717.jpg: ignoring corrupt image/label: cannot identify image file '/Users/trangttdang/Downloads/food_data_1/train/images/DSC_6194_JPG_jpg.rf.a42fd56fce615337dd790b6250049717.jpg'\n",
      "\u001b[34m\u001b[1mtrain: \u001b[0mWARNING ⚠️ /Users/trangttdang/Downloads/food_data_1/train/images/DSC_6194_JPG_jpg.rf.e19861bf84ffbb77d0a0aa3075768af8.jpg: ignoring corrupt image/label: cannot identify image file '/Users/trangttdang/Downloads/food_data_1/train/images/DSC_6194_JPG_jpg.rf.e19861bf84ffbb77d0a0aa3075768af8.jpg'\n",
      "\u001b[34m\u001b[1mtrain: \u001b[0mWARNING ⚠️ /Users/trangttdang/Downloads/food_data_1/train/images/DSC_6194_JPG_jpg.rf.e1d4a6853d0856d9e602bbdea14f7741.jpg: ignoring corrupt image/label: cannot identify image file '/Users/trangttdang/Downloads/food_data_1/train/images/DSC_6194_JPG_jpg.rf.e1d4a6853d0856d9e602bbdea14f7741.jpg'\n",
      "\u001b[34m\u001b[1mtrain: \u001b[0mWARNING ⚠️ /Users/trangttdang/Downloads/food_data_1/train/images/DSC_6194_JPG_jpg.rf.fe60d23cca4fc3d82345f63834fb8e47.jpg: ignoring corrupt image/label: cannot identify image file '/Users/trangttdang/Downloads/food_data_1/train/images/DSC_6194_JPG_jpg.rf.fe60d23cca4fc3d82345f63834fb8e47.jpg'\n",
      "\u001b[34m\u001b[1mtrain: \u001b[0mWARNING ⚠️ /Users/trangttdang/Downloads/food_data_1/train/images/DSC_6195_JPG_jpg.rf.0c59baf4b4434f8d9487c7ac9e3aca60.jpg: ignoring corrupt image/label: cannot identify image file '/Users/trangttdang/Downloads/food_data_1/train/images/DSC_6195_JPG_jpg.rf.0c59baf4b4434f8d9487c7ac9e3aca60.jpg'\n",
      "\u001b[34m\u001b[1mtrain: \u001b[0mWARNING ⚠️ /Users/trangttdang/Downloads/food_data_1/train/images/DSC_6195_JPG_jpg.rf.1c53bdf93c3ed66c0e2bc5a03526572b.jpg: ignoring corrupt image/label: cannot identify image file '/Users/trangttdang/Downloads/food_data_1/train/images/DSC_6195_JPG_jpg.rf.1c53bdf93c3ed66c0e2bc5a03526572b.jpg'\n",
      "\u001b[34m\u001b[1mtrain: \u001b[0mWARNING ⚠️ /Users/trangttdang/Downloads/food_data_1/train/images/DSC_6195_JPG_jpg.rf.81faea37155314595aa76e75da6233f7.jpg: ignoring corrupt image/label: cannot identify image file '/Users/trangttdang/Downloads/food_data_1/train/images/DSC_6195_JPG_jpg.rf.81faea37155314595aa76e75da6233f7.jpg'\n",
      "\u001b[34m\u001b[1mtrain: \u001b[0mWARNING ⚠️ /Users/trangttdang/Downloads/food_data_1/train/images/DSC_6195_JPG_jpg.rf.b1d28839aea06db2b9c308707713b59e.jpg: ignoring corrupt image/label: cannot identify image file '/Users/trangttdang/Downloads/food_data_1/train/images/DSC_6195_JPG_jpg.rf.b1d28839aea06db2b9c308707713b59e.jpg'\n",
      "\u001b[34m\u001b[1mtrain: \u001b[0mWARNING ⚠️ /Users/trangttdang/Downloads/food_data_1/train/images/DSC_6195_JPG_jpg.rf.b6a6279e5add0822a51382d3fa933b44.jpg: ignoring corrupt image/label: cannot identify image file '/Users/trangttdang/Downloads/food_data_1/train/images/DSC_6195_JPG_jpg.rf.b6a6279e5add0822a51382d3fa933b44.jpg'\n",
      "\u001b[34m\u001b[1mtrain: \u001b[0mWARNING ⚠️ /Users/trangttdang/Downloads/food_data_1/train/images/DSC_6195_JPG_jpg.rf.c6aa85cd6faa2a4bc8f3b67dadb78463.jpg: ignoring corrupt image/label: cannot identify image file '/Users/trangttdang/Downloads/food_data_1/train/images/DSC_6195_JPG_jpg.rf.c6aa85cd6faa2a4bc8f3b67dadb78463.jpg'\n",
      "\u001b[34m\u001b[1mtrain: \u001b[0mWARNING ⚠️ /Users/trangttdang/Downloads/food_data_1/train/images/DSC_6196_JPG_jpg.rf.16f91ad9cf5d7db4150ddcb1c65b2365.jpg: ignoring corrupt image/label: cannot identify image file '/Users/trangttdang/Downloads/food_data_1/train/images/DSC_6196_JPG_jpg.rf.16f91ad9cf5d7db4150ddcb1c65b2365.jpg'\n",
      "\u001b[34m\u001b[1mtrain: \u001b[0mWARNING ⚠️ /Users/trangttdang/Downloads/food_data_1/train/images/DSC_6196_JPG_jpg.rf.20810bd98acc9361a6c87e56b1a65697.jpg: ignoring corrupt image/label: cannot identify image file '/Users/trangttdang/Downloads/food_data_1/train/images/DSC_6196_JPG_jpg.rf.20810bd98acc9361a6c87e56b1a65697.jpg'\n",
      "\u001b[34m\u001b[1mtrain: \u001b[0mWARNING ⚠️ /Users/trangttdang/Downloads/food_data_1/train/images/DSC_6196_JPG_jpg.rf.434ec4a72c7e49df43190519cb61a7f3.jpg: ignoring corrupt image/label: cannot identify image file '/Users/trangttdang/Downloads/food_data_1/train/images/DSC_6196_JPG_jpg.rf.434ec4a72c7e49df43190519cb61a7f3.jpg'\n",
      "\u001b[34m\u001b[1mtrain: \u001b[0mWARNING ⚠️ /Users/trangttdang/Downloads/food_data_1/train/images/DSC_6196_JPG_jpg.rf.519419818f6d5226ac06f7990b8b9d01.jpg: ignoring corrupt image/label: cannot identify image file '/Users/trangttdang/Downloads/food_data_1/train/images/DSC_6196_JPG_jpg.rf.519419818f6d5226ac06f7990b8b9d01.jpg'\n",
      "\u001b[34m\u001b[1mtrain: \u001b[0mWARNING ⚠️ /Users/trangttdang/Downloads/food_data_1/train/images/DSC_6196_JPG_jpg.rf.623a77472b03166e53c052901abb7fbe.jpg: ignoring corrupt image/label: cannot identify image file '/Users/trangttdang/Downloads/food_data_1/train/images/DSC_6196_JPG_jpg.rf.623a77472b03166e53c052901abb7fbe.jpg'\n",
      "\u001b[34m\u001b[1mtrain: \u001b[0mWARNING ⚠️ /Users/trangttdang/Downloads/food_data_1/train/images/DSC_6196_JPG_jpg.rf.732d490694bc26e8ec8edaaad670a16b.jpg: ignoring corrupt image/label: cannot identify image file '/Users/trangttdang/Downloads/food_data_1/train/images/DSC_6196_JPG_jpg.rf.732d490694bc26e8ec8edaaad670a16b.jpg'\n",
      "\u001b[34m\u001b[1mtrain: \u001b[0mWARNING ⚠️ /Users/trangttdang/Downloads/food_data_1/train/images/DSC_6196_JPG_jpg.rf.77c11e589da9351e0463d266c87dd72c.jpg: ignoring corrupt image/label: cannot identify image file '/Users/trangttdang/Downloads/food_data_1/train/images/DSC_6196_JPG_jpg.rf.77c11e589da9351e0463d266c87dd72c.jpg'\n",
      "\u001b[34m\u001b[1mtrain: \u001b[0mWARNING ⚠️ /Users/trangttdang/Downloads/food_data_1/train/images/DSC_6196_JPG_jpg.rf.8e538fa022a689b669a3fc62d9cab5bd.jpg: ignoring corrupt image/label: cannot identify image file '/Users/trangttdang/Downloads/food_data_1/train/images/DSC_6196_JPG_jpg.rf.8e538fa022a689b669a3fc62d9cab5bd.jpg'\n",
      "\u001b[34m\u001b[1mtrain: \u001b[0mWARNING ⚠️ /Users/trangttdang/Downloads/food_data_1/train/images/DSC_6196_JPG_jpg.rf.b3c859f93e00f69663d9adaecf6e529e.jpg: ignoring corrupt image/label: cannot identify image file '/Users/trangttdang/Downloads/food_data_1/train/images/DSC_6196_JPG_jpg.rf.b3c859f93e00f69663d9adaecf6e529e.jpg'\n",
      "\u001b[34m\u001b[1mtrain: \u001b[0mWARNING ⚠️ /Users/trangttdang/Downloads/food_data_1/train/images/DSC_6196_JPG_jpg.rf.d5744d98fb1746a01041b4ea7c218ffa.jpg: ignoring corrupt image/label: cannot identify image file '/Users/trangttdang/Downloads/food_data_1/train/images/DSC_6196_JPG_jpg.rf.d5744d98fb1746a01041b4ea7c218ffa.jpg'\n",
      "\u001b[34m\u001b[1mtrain: \u001b[0mWARNING ⚠️ /Users/trangttdang/Downloads/food_data_1/train/images/DSC_6196_JPG_jpg.rf.e7b381bfffd3df8a0665d20593c7f27e.jpg: ignoring corrupt image/label: cannot identify image file '/Users/trangttdang/Downloads/food_data_1/train/images/DSC_6196_JPG_jpg.rf.e7b381bfffd3df8a0665d20593c7f27e.jpg'\n",
      "\u001b[34m\u001b[1mtrain: \u001b[0mWARNING ⚠️ /Users/trangttdang/Downloads/food_data_1/train/images/DSC_6196_JPG_jpg.rf.e93949b1d8a1ea57b4322b9c1b3312fb.jpg: ignoring corrupt image/label: cannot identify image file '/Users/trangttdang/Downloads/food_data_1/train/images/DSC_6196_JPG_jpg.rf.e93949b1d8a1ea57b4322b9c1b3312fb.jpg'\n",
      "\u001b[34m\u001b[1mtrain: \u001b[0mWARNING ⚠️ /Users/trangttdang/Downloads/food_data_1/train/images/DSC_6197_JPG_jpg.rf.9617dfded70b73a868bccd35f1229865.jpg: ignoring corrupt image/label: cannot identify image file '/Users/trangttdang/Downloads/food_data_1/train/images/DSC_6197_JPG_jpg.rf.9617dfded70b73a868bccd35f1229865.jpg'\n",
      "\u001b[34m\u001b[1mtrain: \u001b[0mWARNING ⚠️ /Users/trangttdang/Downloads/food_data_1/train/images/DSC_6197_JPG_jpg.rf.9f8c3e23eb58e8a61d00916c8f8f1567.jpg: ignoring corrupt image/label: cannot identify image file '/Users/trangttdang/Downloads/food_data_1/train/images/DSC_6197_JPG_jpg.rf.9f8c3e23eb58e8a61d00916c8f8f1567.jpg'\n",
      "\u001b[34m\u001b[1mtrain: \u001b[0mWARNING ⚠️ /Users/trangttdang/Downloads/food_data_1/train/images/DSC_6197_JPG_jpg.rf.a571ef371237400ea9132c132b4f79a3.jpg: ignoring corrupt image/label: cannot identify image file '/Users/trangttdang/Downloads/food_data_1/train/images/DSC_6197_JPG_jpg.rf.a571ef371237400ea9132c132b4f79a3.jpg'\n",
      "\u001b[34m\u001b[1mtrain: \u001b[0mWARNING ⚠️ /Users/trangttdang/Downloads/food_data_1/train/images/DSC_6197_JPG_jpg.rf.c1e8a912d56a984acad5f17aff537849.jpg: ignoring corrupt image/label: cannot identify image file '/Users/trangttdang/Downloads/food_data_1/train/images/DSC_6197_JPG_jpg.rf.c1e8a912d56a984acad5f17aff537849.jpg'\n",
      "\u001b[34m\u001b[1mtrain: \u001b[0mWARNING ⚠️ /Users/trangttdang/Downloads/food_data_1/train/images/DSC_6197_JPG_jpg.rf.c9745466b6e467af08720a073974dab0.jpg: ignoring corrupt image/label: cannot identify image file '/Users/trangttdang/Downloads/food_data_1/train/images/DSC_6197_JPG_jpg.rf.c9745466b6e467af08720a073974dab0.jpg'\n",
      "\u001b[34m\u001b[1mtrain: \u001b[0mWARNING ⚠️ /Users/trangttdang/Downloads/food_data_1/train/images/DSC_6197_JPG_jpg.rf.e901ad3539e91a4ccf47aaada5cb442e.jpg: ignoring corrupt image/label: cannot identify image file '/Users/trangttdang/Downloads/food_data_1/train/images/DSC_6197_JPG_jpg.rf.e901ad3539e91a4ccf47aaada5cb442e.jpg'\n",
      "\u001b[34m\u001b[1mtrain: \u001b[0mWARNING ⚠️ /Users/trangttdang/Downloads/food_data_1/train/images/DSC_6199_JPG_jpg.rf.0cf64cfb90af51c0c1f02e6ccd2bd932.jpg: ignoring corrupt image/label: cannot identify image file '/Users/trangttdang/Downloads/food_data_1/train/images/DSC_6199_JPG_jpg.rf.0cf64cfb90af51c0c1f02e6ccd2bd932.jpg'\n",
      "\u001b[34m\u001b[1mtrain: \u001b[0mWARNING ⚠️ /Users/trangttdang/Downloads/food_data_1/train/images/DSC_6199_JPG_jpg.rf.0fbf3ee2d5d2b23fe25d982e4d46a870.jpg: ignoring corrupt image/label: cannot identify image file '/Users/trangttdang/Downloads/food_data_1/train/images/DSC_6199_JPG_jpg.rf.0fbf3ee2d5d2b23fe25d982e4d46a870.jpg'\n",
      "\u001b[34m\u001b[1mtrain: \u001b[0mWARNING ⚠️ /Users/trangttdang/Downloads/food_data_1/train/images/DSC_6199_JPG_jpg.rf.1d974c3db478c75c9a269c046a7a8a54.jpg: ignoring corrupt image/label: cannot identify image file '/Users/trangttdang/Downloads/food_data_1/train/images/DSC_6199_JPG_jpg.rf.1d974c3db478c75c9a269c046a7a8a54.jpg'\n",
      "\u001b[34m\u001b[1mtrain: \u001b[0mWARNING ⚠️ /Users/trangttdang/Downloads/food_data_1/train/images/DSC_6199_JPG_jpg.rf.22f9f7f7dc1f8390956b3d5473c9250c.jpg: ignoring corrupt image/label: cannot identify image file '/Users/trangttdang/Downloads/food_data_1/train/images/DSC_6199_JPG_jpg.rf.22f9f7f7dc1f8390956b3d5473c9250c.jpg'\n",
      "\u001b[34m\u001b[1mtrain: \u001b[0mWARNING ⚠️ /Users/trangttdang/Downloads/food_data_1/train/images/DSC_6199_JPG_jpg.rf.2ca58fdfc1904f9c4c2b9da031c52d9c.jpg: ignoring corrupt image/label: cannot identify image file '/Users/trangttdang/Downloads/food_data_1/train/images/DSC_6199_JPG_jpg.rf.2ca58fdfc1904f9c4c2b9da031c52d9c.jpg'\n",
      "\u001b[34m\u001b[1mtrain: \u001b[0mWARNING ⚠️ /Users/trangttdang/Downloads/food_data_1/train/images/DSC_6199_JPG_jpg.rf.3492f66b3ca888aa06e40366bf6a7931.jpg: ignoring corrupt image/label: cannot identify image file '/Users/trangttdang/Downloads/food_data_1/train/images/DSC_6199_JPG_jpg.rf.3492f66b3ca888aa06e40366bf6a7931.jpg'\n",
      "\u001b[34m\u001b[1mtrain: \u001b[0mWARNING ⚠️ /Users/trangttdang/Downloads/food_data_1/train/images/DSC_6199_JPG_jpg.rf.5d8895cd460604c10ca95affc2e289bf.jpg: ignoring corrupt image/label: cannot identify image file '/Users/trangttdang/Downloads/food_data_1/train/images/DSC_6199_JPG_jpg.rf.5d8895cd460604c10ca95affc2e289bf.jpg'\n",
      "\u001b[34m\u001b[1mtrain: \u001b[0mWARNING ⚠️ /Users/trangttdang/Downloads/food_data_1/train/images/DSC_6199_JPG_jpg.rf.6c3839eff30788feef5ccbfbdec7451e.jpg: ignoring corrupt image/label: cannot identify image file '/Users/trangttdang/Downloads/food_data_1/train/images/DSC_6199_JPG_jpg.rf.6c3839eff30788feef5ccbfbdec7451e.jpg'\n",
      "\u001b[34m\u001b[1mtrain: \u001b[0mWARNING ⚠️ /Users/trangttdang/Downloads/food_data_1/train/images/DSC_6199_JPG_jpg.rf.7398c4da25d0ad1b366c9b976bdd372d.jpg: ignoring corrupt image/label: cannot identify image file '/Users/trangttdang/Downloads/food_data_1/train/images/DSC_6199_JPG_jpg.rf.7398c4da25d0ad1b366c9b976bdd372d.jpg'\n",
      "\u001b[34m\u001b[1mtrain: \u001b[0mWARNING ⚠️ /Users/trangttdang/Downloads/food_data_1/train/images/DSC_6199_JPG_jpg.rf.b91cd8aef6566a79c579d5b4fc5699ce.jpg: ignoring corrupt image/label: cannot identify image file '/Users/trangttdang/Downloads/food_data_1/train/images/DSC_6199_JPG_jpg.rf.b91cd8aef6566a79c579d5b4fc5699ce.jpg'\n",
      "\u001b[34m\u001b[1mtrain: \u001b[0mWARNING ⚠️ /Users/trangttdang/Downloads/food_data_1/train/images/DSC_6199_JPG_jpg.rf.d3b05870d0df850180d5b7b4b8b1cda3.jpg: ignoring corrupt image/label: cannot identify image file '/Users/trangttdang/Downloads/food_data_1/train/images/DSC_6199_JPG_jpg.rf.d3b05870d0df850180d5b7b4b8b1cda3.jpg'\n",
      "\u001b[34m\u001b[1mtrain: \u001b[0mWARNING ⚠️ /Users/trangttdang/Downloads/food_data_1/train/images/DSC_6199_JPG_jpg.rf.f24bd65772c55482f243f49420496ee7.jpg: ignoring corrupt image/label: cannot identify image file '/Users/trangttdang/Downloads/food_data_1/train/images/DSC_6199_JPG_jpg.rf.f24bd65772c55482f243f49420496ee7.jpg'\n",
      "\u001b[34m\u001b[1mtrain: \u001b[0mWARNING ⚠️ /Users/trangttdang/Downloads/food_data_1/train/images/DSC_6200_JPG_jpg.rf.098f28950fef653b08d66c5f23c3ef8e.jpg: ignoring corrupt image/label: cannot identify image file '/Users/trangttdang/Downloads/food_data_1/train/images/DSC_6200_JPG_jpg.rf.098f28950fef653b08d66c5f23c3ef8e.jpg'\n",
      "\u001b[34m\u001b[1mtrain: \u001b[0mWARNING ⚠️ /Users/trangttdang/Downloads/food_data_1/train/images/DSC_6200_JPG_jpg.rf.09df79a5b809e1d570c2938a7f74dec8.jpg: ignoring corrupt image/label: cannot identify image file '/Users/trangttdang/Downloads/food_data_1/train/images/DSC_6200_JPG_jpg.rf.09df79a5b809e1d570c2938a7f74dec8.jpg'\n",
      "\u001b[34m\u001b[1mtrain: \u001b[0mWARNING ⚠️ /Users/trangttdang/Downloads/food_data_1/train/images/DSC_6200_JPG_jpg.rf.4c7c1660b85cdc529db42dd32bb1925a.jpg: ignoring corrupt image/label: cannot identify image file '/Users/trangttdang/Downloads/food_data_1/train/images/DSC_6200_JPG_jpg.rf.4c7c1660b85cdc529db42dd32bb1925a.jpg'\n",
      "\u001b[34m\u001b[1mtrain: \u001b[0mWARNING ⚠️ /Users/trangttdang/Downloads/food_data_1/train/images/DSC_6200_JPG_jpg.rf.4d16dd1fcbe0f81b5dced3467a852072.jpg: ignoring corrupt image/label: cannot identify image file '/Users/trangttdang/Downloads/food_data_1/train/images/DSC_6200_JPG_jpg.rf.4d16dd1fcbe0f81b5dced3467a852072.jpg'\n",
      "\u001b[34m\u001b[1mtrain: \u001b[0mWARNING ⚠️ /Users/trangttdang/Downloads/food_data_1/train/images/DSC_6200_JPG_jpg.rf.62876a70417179b64ece475e68e095a8.jpg: ignoring corrupt image/label: cannot identify image file '/Users/trangttdang/Downloads/food_data_1/train/images/DSC_6200_JPG_jpg.rf.62876a70417179b64ece475e68e095a8.jpg'\n",
      "\u001b[34m\u001b[1mtrain: \u001b[0mWARNING ⚠️ /Users/trangttdang/Downloads/food_data_1/train/images/DSC_6200_JPG_jpg.rf.62b8a00be78054587a9557a3e1706062.jpg: ignoring corrupt image/label: cannot identify image file '/Users/trangttdang/Downloads/food_data_1/train/images/DSC_6200_JPG_jpg.rf.62b8a00be78054587a9557a3e1706062.jpg'\n",
      "\u001b[34m\u001b[1mtrain: \u001b[0mWARNING ⚠️ /Users/trangttdang/Downloads/food_data_1/train/images/DSC_6200_JPG_jpg.rf.695fc19d9d5ee7132040cce2d5dbaaff.jpg: ignoring corrupt image/label: cannot identify image file '/Users/trangttdang/Downloads/food_data_1/train/images/DSC_6200_JPG_jpg.rf.695fc19d9d5ee7132040cce2d5dbaaff.jpg'\n",
      "\u001b[34m\u001b[1mtrain: \u001b[0mWARNING ⚠️ /Users/trangttdang/Downloads/food_data_1/train/images/DSC_6200_JPG_jpg.rf.70c3d0e05ff30f716a96e796257ef2c1.jpg: ignoring corrupt image/label: cannot identify image file '/Users/trangttdang/Downloads/food_data_1/train/images/DSC_6200_JPG_jpg.rf.70c3d0e05ff30f716a96e796257ef2c1.jpg'\n",
      "\u001b[34m\u001b[1mtrain: \u001b[0mWARNING ⚠️ /Users/trangttdang/Downloads/food_data_1/train/images/DSC_6200_JPG_jpg.rf.e3d3c7d31b0043fe928f6f0a57da3148.jpg: corrupt JPEG restored and saved\n",
      "\u001b[34m\u001b[1mtrain: \u001b[0mWARNING ⚠️ /Users/trangttdang/Downloads/food_data_1/train/images/DSC_6201_JPG_jpg.rf.0fafddf36a770cf7a61550ac9f8612e8.jpg: ignoring corrupt image/label: cannot identify image file '/Users/trangttdang/Downloads/food_data_1/train/images/DSC_6201_JPG_jpg.rf.0fafddf36a770cf7a61550ac9f8612e8.jpg'\n",
      "\u001b[34m\u001b[1mtrain: \u001b[0mWARNING ⚠️ /Users/trangttdang/Downloads/food_data_1/train/images/DSC_6201_JPG_jpg.rf.5f12606509146dd63d3f587f8039459e.jpg: ignoring corrupt image/label: cannot identify image file '/Users/trangttdang/Downloads/food_data_1/train/images/DSC_6201_JPG_jpg.rf.5f12606509146dd63d3f587f8039459e.jpg'\n",
      "\u001b[34m\u001b[1mtrain: \u001b[0mWARNING ⚠️ /Users/trangttdang/Downloads/food_data_1/train/images/DSC_6201_JPG_jpg.rf.6772bca9969c43b502cd53d33ef3ffdc.jpg: ignoring corrupt image/label: cannot identify image file '/Users/trangttdang/Downloads/food_data_1/train/images/DSC_6201_JPG_jpg.rf.6772bca9969c43b502cd53d33ef3ffdc.jpg'\n",
      "\u001b[34m\u001b[1mtrain: \u001b[0mWARNING ⚠️ /Users/trangttdang/Downloads/food_data_1/train/images/DSC_6201_JPG_jpg.rf.8facc00ff9c0266ed28b705d7dcc4b1d.jpg: corrupt JPEG restored and saved\n",
      "\u001b[34m\u001b[1mtrain: \u001b[0mWARNING ⚠️ /Users/trangttdang/Downloads/food_data_1/train/images/DSC_6201_JPG_jpg.rf.9f2e6f1904a96bb69e276469d5b9a721.jpg: ignoring corrupt image/label: cannot identify image file '/Users/trangttdang/Downloads/food_data_1/train/images/DSC_6201_JPG_jpg.rf.9f2e6f1904a96bb69e276469d5b9a721.jpg'\n",
      "\u001b[34m\u001b[1mtrain: \u001b[0mWARNING ⚠️ /Users/trangttdang/Downloads/food_data_1/train/images/DSC_6201_JPG_jpg.rf.b3e1a4cb5009dde9220390aaca7a35f8.jpg: ignoring corrupt image/label: cannot identify image file '/Users/trangttdang/Downloads/food_data_1/train/images/DSC_6201_JPG_jpg.rf.b3e1a4cb5009dde9220390aaca7a35f8.jpg'\n",
      "\u001b[34m\u001b[1mtrain: \u001b[0mWARNING ⚠️ /Users/trangttdang/Downloads/food_data_1/train/images/DSC_6201_JPG_jpg.rf.d9c8e9d30f7d582b514147db4011869c.jpg: ignoring corrupt image/label: cannot identify image file '/Users/trangttdang/Downloads/food_data_1/train/images/DSC_6201_JPG_jpg.rf.d9c8e9d30f7d582b514147db4011869c.jpg'\n",
      "\u001b[34m\u001b[1mtrain: \u001b[0mWARNING ⚠️ /Users/trangttdang/Downloads/food_data_1/train/images/DSC_6201_JPG_jpg.rf.de491f9cb7162ffa28bc37f5a7c58ba6.jpg: ignoring corrupt image/label: image file is truncated (71 bytes not processed)\n",
      "\u001b[34m\u001b[1mtrain: \u001b[0mWARNING ⚠️ /Users/trangttdang/Downloads/food_data_1/train/images/DSC_6203_JPG_jpg.rf.065eb95d3569ec80ad9a52e8c245133a.jpg: ignoring corrupt image/label: cannot identify image file '/Users/trangttdang/Downloads/food_data_1/train/images/DSC_6203_JPG_jpg.rf.065eb95d3569ec80ad9a52e8c245133a.jpg'\n",
      "\u001b[34m\u001b[1mtrain: \u001b[0mWARNING ⚠️ /Users/trangttdang/Downloads/food_data_1/train/images/DSC_6203_JPG_jpg.rf.377f2bf99b953238adb77d515995a020.jpg: ignoring corrupt image/label: cannot identify image file '/Users/trangttdang/Downloads/food_data_1/train/images/DSC_6203_JPG_jpg.rf.377f2bf99b953238adb77d515995a020.jpg'\n",
      "\u001b[34m\u001b[1mtrain: \u001b[0mWARNING ⚠️ /Users/trangttdang/Downloads/food_data_1/train/images/DSC_6203_JPG_jpg.rf.3fd49fd8317c255cf2e110475bcae132.jpg: ignoring corrupt image/label: cannot identify image file '/Users/trangttdang/Downloads/food_data_1/train/images/DSC_6203_JPG_jpg.rf.3fd49fd8317c255cf2e110475bcae132.jpg'\n",
      "\u001b[34m\u001b[1mtrain: \u001b[0mWARNING ⚠️ /Users/trangttdang/Downloads/food_data_1/train/images/DSC_6203_JPG_jpg.rf.4ca5b8b8e761730564add1a085136795.jpg: ignoring corrupt image/label: cannot identify image file '/Users/trangttdang/Downloads/food_data_1/train/images/DSC_6203_JPG_jpg.rf.4ca5b8b8e761730564add1a085136795.jpg'\n",
      "\u001b[34m\u001b[1mtrain: \u001b[0mWARNING ⚠️ /Users/trangttdang/Downloads/food_data_1/train/images/DSC_6203_JPG_jpg.rf.53cae715828a1e96cf5b9f9e35635684.jpg: ignoring corrupt image/label: cannot identify image file '/Users/trangttdang/Downloads/food_data_1/train/images/DSC_6203_JPG_jpg.rf.53cae715828a1e96cf5b9f9e35635684.jpg'\n",
      "\u001b[34m\u001b[1mtrain: \u001b[0mWARNING ⚠️ /Users/trangttdang/Downloads/food_data_1/train/images/DSC_6203_JPG_jpg.rf.655f7aff75888f2d02cf8e297017c714.jpg: ignoring corrupt image/label: cannot identify image file '/Users/trangttdang/Downloads/food_data_1/train/images/DSC_6203_JPG_jpg.rf.655f7aff75888f2d02cf8e297017c714.jpg'\n",
      "\u001b[34m\u001b[1mtrain: \u001b[0mWARNING ⚠️ /Users/trangttdang/Downloads/food_data_1/train/images/DSC_6203_JPG_jpg.rf.6ce39d97abfca3458fd753298e479328.jpg: ignoring corrupt image/label: cannot identify image file '/Users/trangttdang/Downloads/food_data_1/train/images/DSC_6203_JPG_jpg.rf.6ce39d97abfca3458fd753298e479328.jpg'\n",
      "\u001b[34m\u001b[1mtrain: \u001b[0mWARNING ⚠️ /Users/trangttdang/Downloads/food_data_1/train/images/DSC_6203_JPG_jpg.rf.84a53cde434d26d71f317feb6b4167ac.jpg: ignoring corrupt image/label: cannot identify image file '/Users/trangttdang/Downloads/food_data_1/train/images/DSC_6203_JPG_jpg.rf.84a53cde434d26d71f317feb6b4167ac.jpg'\n",
      "\u001b[34m\u001b[1mtrain: \u001b[0mWARNING ⚠️ /Users/trangttdang/Downloads/food_data_1/train/images/DSC_6203_JPG_jpg.rf.99c6397ce1c7e9dc4786a5ef76203706.jpg: ignoring corrupt image/label: cannot identify image file '/Users/trangttdang/Downloads/food_data_1/train/images/DSC_6203_JPG_jpg.rf.99c6397ce1c7e9dc4786a5ef76203706.jpg'\n",
      "\u001b[34m\u001b[1mtrain: \u001b[0mWARNING ⚠️ /Users/trangttdang/Downloads/food_data_1/train/images/DSC_6203_JPG_jpg.rf.9db4b74179e3815a7f931a6f7eae30c7.jpg: ignoring corrupt image/label: cannot identify image file '/Users/trangttdang/Downloads/food_data_1/train/images/DSC_6203_JPG_jpg.rf.9db4b74179e3815a7f931a6f7eae30c7.jpg'\n",
      "\u001b[34m\u001b[1mtrain: \u001b[0mWARNING ⚠️ /Users/trangttdang/Downloads/food_data_1/train/images/DSC_6203_JPG_jpg.rf.ad2fc7d63066af2d4c9c0faf300752b8.jpg: ignoring corrupt image/label: cannot identify image file '/Users/trangttdang/Downloads/food_data_1/train/images/DSC_6203_JPG_jpg.rf.ad2fc7d63066af2d4c9c0faf300752b8.jpg'\n",
      "\u001b[34m\u001b[1mtrain: \u001b[0mWARNING ⚠️ /Users/trangttdang/Downloads/food_data_1/train/images/DSC_6203_JPG_jpg.rf.c09afb5c1a7e451800bf4cf043d4a56d.jpg: ignoring corrupt image/label: cannot identify image file '/Users/trangttdang/Downloads/food_data_1/train/images/DSC_6203_JPG_jpg.rf.c09afb5c1a7e451800bf4cf043d4a56d.jpg'\n",
      "\u001b[34m\u001b[1mtrain: \u001b[0mWARNING ⚠️ /Users/trangttdang/Downloads/food_data_1/train/images/DSC_6203_JPG_jpg.rf.d3ffce8c2f0fb9a0555d03753baa2f65.jpg: ignoring corrupt image/label: cannot identify image file '/Users/trangttdang/Downloads/food_data_1/train/images/DSC_6203_JPG_jpg.rf.d3ffce8c2f0fb9a0555d03753baa2f65.jpg'\n",
      "\u001b[34m\u001b[1mtrain: \u001b[0mWARNING ⚠️ /Users/trangttdang/Downloads/food_data_1/train/images/DSC_6203_JPG_jpg.rf.db3b474188c2482d6d613f12b95c0cca.jpg: ignoring corrupt image/label: cannot identify image file '/Users/trangttdang/Downloads/food_data_1/train/images/DSC_6203_JPG_jpg.rf.db3b474188c2482d6d613f12b95c0cca.jpg'\n",
      "\u001b[34m\u001b[1mtrain: \u001b[0mWARNING ⚠️ /Users/trangttdang/Downloads/food_data_1/train/images/DSC_6203_JPG_jpg.rf.ff5c280245418a6856312856b6c31302.jpg: ignoring corrupt image/label: cannot identify image file '/Users/trangttdang/Downloads/food_data_1/train/images/DSC_6203_JPG_jpg.rf.ff5c280245418a6856312856b6c31302.jpg'\n",
      "\u001b[34m\u001b[1mtrain: \u001b[0mWARNING ⚠️ /Users/trangttdang/Downloads/food_data_1/train/images/DSC_6204_JPG_jpg.rf.27b56849b1fd2eec70df4c2732d3b59b.jpg: ignoring corrupt image/label: cannot identify image file '/Users/trangttdang/Downloads/food_data_1/train/images/DSC_6204_JPG_jpg.rf.27b56849b1fd2eec70df4c2732d3b59b.jpg'\n",
      "\u001b[34m\u001b[1mtrain: \u001b[0mWARNING ⚠️ /Users/trangttdang/Downloads/food_data_1/train/images/DSC_6204_JPG_jpg.rf.42a354d768f6870bf447ad46d6b186e5.jpg: ignoring corrupt image/label: cannot identify image file '/Users/trangttdang/Downloads/food_data_1/train/images/DSC_6204_JPG_jpg.rf.42a354d768f6870bf447ad46d6b186e5.jpg'\n",
      "\u001b[34m\u001b[1mtrain: \u001b[0mWARNING ⚠️ /Users/trangttdang/Downloads/food_data_1/train/images/DSC_6204_JPG_jpg.rf.660710a79214abeb1bed54bc2430f614.jpg: ignoring corrupt image/label: cannot identify image file '/Users/trangttdang/Downloads/food_data_1/train/images/DSC_6204_JPG_jpg.rf.660710a79214abeb1bed54bc2430f614.jpg'\n",
      "\u001b[34m\u001b[1mtrain: \u001b[0mWARNING ⚠️ /Users/trangttdang/Downloads/food_data_1/train/images/DSC_6204_JPG_jpg.rf.71acf3968789e366cb8bbcb4085dbd64.jpg: ignoring corrupt image/label: cannot identify image file '/Users/trangttdang/Downloads/food_data_1/train/images/DSC_6204_JPG_jpg.rf.71acf3968789e366cb8bbcb4085dbd64.jpg'\n",
      "\u001b[34m\u001b[1mtrain: \u001b[0mWARNING ⚠️ /Users/trangttdang/Downloads/food_data_1/train/images/DSC_6204_JPG_jpg.rf.914feb2c2e416aa85298d2bbd1aeba4c.jpg: ignoring corrupt image/label: cannot identify image file '/Users/trangttdang/Downloads/food_data_1/train/images/DSC_6204_JPG_jpg.rf.914feb2c2e416aa85298d2bbd1aeba4c.jpg'\n",
      "\u001b[34m\u001b[1mtrain: \u001b[0mWARNING ⚠️ /Users/trangttdang/Downloads/food_data_1/train/images/DSC_6204_JPG_jpg.rf.d1c9ed66f027b08bcd9b6d438a1803ca.jpg: ignoring corrupt image/label: cannot identify image file '/Users/trangttdang/Downloads/food_data_1/train/images/DSC_6204_JPG_jpg.rf.d1c9ed66f027b08bcd9b6d438a1803ca.jpg'\n",
      "\u001b[34m\u001b[1mtrain: \u001b[0mWARNING ⚠️ /Users/trangttdang/Downloads/food_data_1/train/images/DSC_6204_JPG_jpg.rf.d917401ad75aaf3c4f6ee8275aa932b6.jpg: ignoring corrupt image/label: cannot identify image file '/Users/trangttdang/Downloads/food_data_1/train/images/DSC_6204_JPG_jpg.rf.d917401ad75aaf3c4f6ee8275aa932b6.jpg'\n",
      "\u001b[34m\u001b[1mtrain: \u001b[0mWARNING ⚠️ /Users/trangttdang/Downloads/food_data_1/train/images/DSC_6204_JPG_jpg.rf.f0e1cb95283d32a067c89ad9694f5b4c.jpg: ignoring corrupt image/label: cannot identify image file '/Users/trangttdang/Downloads/food_data_1/train/images/DSC_6204_JPG_jpg.rf.f0e1cb95283d32a067c89ad9694f5b4c.jpg'\n",
      "\u001b[34m\u001b[1mtrain: \u001b[0mWARNING ⚠️ /Users/trangttdang/Downloads/food_data_1/train/images/DSC_6205_JPG_jpg.rf.05ee318b477ea33afe2253107b28b8c0.jpg: ignoring corrupt image/label: cannot identify image file '/Users/trangttdang/Downloads/food_data_1/train/images/DSC_6205_JPG_jpg.rf.05ee318b477ea33afe2253107b28b8c0.jpg'\n",
      "\u001b[34m\u001b[1mtrain: \u001b[0mWARNING ⚠️ /Users/trangttdang/Downloads/food_data_1/train/images/DSC_6205_JPG_jpg.rf.08c02c5109ae2ad6de3480f5b6733b64.jpg: ignoring corrupt image/label: cannot identify image file '/Users/trangttdang/Downloads/food_data_1/train/images/DSC_6205_JPG_jpg.rf.08c02c5109ae2ad6de3480f5b6733b64.jpg'\n",
      "\u001b[34m\u001b[1mtrain: \u001b[0mWARNING ⚠️ /Users/trangttdang/Downloads/food_data_1/train/images/DSC_6205_JPG_jpg.rf.6549bcc91168c5f63205c7200a5e846e.jpg: ignoring corrupt image/label: cannot identify image file '/Users/trangttdang/Downloads/food_data_1/train/images/DSC_6205_JPG_jpg.rf.6549bcc91168c5f63205c7200a5e846e.jpg'\n",
      "\u001b[34m\u001b[1mtrain: \u001b[0mWARNING ⚠️ /Users/trangttdang/Downloads/food_data_1/train/images/DSC_6205_JPG_jpg.rf.89adce0d7b325a3bbd97cb2e5c94a639.jpg: ignoring corrupt image/label: cannot identify image file '/Users/trangttdang/Downloads/food_data_1/train/images/DSC_6205_JPG_jpg.rf.89adce0d7b325a3bbd97cb2e5c94a639.jpg'\n",
      "\u001b[34m\u001b[1mtrain: \u001b[0mWARNING ⚠️ /Users/trangttdang/Downloads/food_data_1/train/images/DSC_6205_JPG_jpg.rf.fa5f643c297f4a918a7570ee5423dd5b.jpg: ignoring corrupt image/label: cannot identify image file '/Users/trangttdang/Downloads/food_data_1/train/images/DSC_6205_JPG_jpg.rf.fa5f643c297f4a918a7570ee5423dd5b.jpg'\n",
      "\u001b[34m\u001b[1mtrain: \u001b[0mWARNING ⚠️ /Users/trangttdang/Downloads/food_data_1/train/images/DSC_6206_JPG_jpg.rf.6593673832599bffa3b19a11c973625f.jpg: ignoring corrupt image/label: cannot identify image file '/Users/trangttdang/Downloads/food_data_1/train/images/DSC_6206_JPG_jpg.rf.6593673832599bffa3b19a11c973625f.jpg'\n",
      "\u001b[34m\u001b[1mtrain: \u001b[0mWARNING ⚠️ /Users/trangttdang/Downloads/food_data_1/train/images/DSC_6206_JPG_jpg.rf.8231e16cf985741032ab0d28fdd330d0.jpg: ignoring corrupt image/label: image file is truncated (42 bytes not processed)\n",
      "\u001b[34m\u001b[1mtrain: \u001b[0mWARNING ⚠️ /Users/trangttdang/Downloads/food_data_1/train/images/DSC_6206_JPG_jpg.rf.8ec001a79efb7503c45e2b9c4ef137c5.jpg: ignoring corrupt image/label: cannot identify image file '/Users/trangttdang/Downloads/food_data_1/train/images/DSC_6206_JPG_jpg.rf.8ec001a79efb7503c45e2b9c4ef137c5.jpg'\n",
      "\u001b[34m\u001b[1mtrain: \u001b[0mWARNING ⚠️ /Users/trangttdang/Downloads/food_data_1/train/images/DSC_6206_JPG_jpg.rf.920853b54f7bf11af6ac4008f52477be.jpg: ignoring corrupt image/label: cannot identify image file '/Users/trangttdang/Downloads/food_data_1/train/images/DSC_6206_JPG_jpg.rf.920853b54f7bf11af6ac4008f52477be.jpg'\n",
      "\u001b[34m\u001b[1mtrain: \u001b[0mWARNING ⚠️ /Users/trangttdang/Downloads/food_data_1/train/images/IMG-7450_jpg.rf.58ba6e9ce4ad728ae29532e890b683e0.jpg: ignoring corrupt image/label: cannot identify image file '/Users/trangttdang/Downloads/food_data_1/train/images/IMG-7450_jpg.rf.58ba6e9ce4ad728ae29532e890b683e0.jpg'\n",
      "\u001b[34m\u001b[1mtrain: \u001b[0mWARNING ⚠️ /Users/trangttdang/Downloads/food_data_1/train/images/IMG-7450_jpg.rf.d4f0599949fb127c96687e00c7f6b8be.jpg: ignoring corrupt image/label: image file is truncated (89 bytes not processed)\n",
      "\u001b[34m\u001b[1mtrain: \u001b[0mWARNING ⚠️ /Users/trangttdang/Downloads/food_data_1/train/images/IMG-7450_jpg.rf.ee49066ce25afa6cb7e76388fdbff1ba.jpg: ignoring corrupt image/label: cannot identify image file '/Users/trangttdang/Downloads/food_data_1/train/images/IMG-7450_jpg.rf.ee49066ce25afa6cb7e76388fdbff1ba.jpg'\n",
      "\u001b[34m\u001b[1mtrain: \u001b[0mWARNING ⚠️ /Users/trangttdang/Downloads/food_data_1/train/images/IMG-7450_jpg.rf.fdeaeaa377a2cdfce11be67bd8abca15.jpg: ignoring corrupt image/label: cannot identify image file '/Users/trangttdang/Downloads/food_data_1/train/images/IMG-7450_jpg.rf.fdeaeaa377a2cdfce11be67bd8abca15.jpg'\n",
      "\u001b[34m\u001b[1mtrain: \u001b[0mWARNING ⚠️ /Users/trangttdang/Downloads/food_data_1/train/images/IMG-7451_jpg.rf.098803943cf42f0eb79f9b8b501e0cf1.jpg: ignoring corrupt image/label: image file is truncated (56 bytes not processed)\n",
      "\u001b[34m\u001b[1mtrain: \u001b[0mWARNING ⚠️ /Users/trangttdang/Downloads/food_data_1/train/images/IMG-7451_jpg.rf.1010cc04cc3975c419c4311775793314.jpg: ignoring corrupt image/label: image file is truncated (65 bytes not processed)\n",
      "\u001b[34m\u001b[1mtrain: \u001b[0mWARNING ⚠️ /Users/trangttdang/Downloads/food_data_1/train/images/IMG-7451_jpg.rf.260edb706309c0da8dfeb5cd20aa43a9.jpg: ignoring corrupt image/label: cannot identify image file '/Users/trangttdang/Downloads/food_data_1/train/images/IMG-7451_jpg.rf.260edb706309c0da8dfeb5cd20aa43a9.jpg'\n",
      "\u001b[34m\u001b[1mtrain: \u001b[0mWARNING ⚠️ /Users/trangttdang/Downloads/food_data_1/train/images/IMG-7451_jpg.rf.524167f7c86e44ab4e37c2c74ba24bb3.jpg: ignoring corrupt image/label: image file is truncated (64 bytes not processed)\n",
      "\u001b[34m\u001b[1mtrain: \u001b[0mWARNING ⚠️ /Users/trangttdang/Downloads/food_data_1/train/images/IMG-7451_jpg.rf.5e02a4886b7fda0ccaa18dfd109a558c.jpg: ignoring corrupt image/label: cannot identify image file '/Users/trangttdang/Downloads/food_data_1/train/images/IMG-7451_jpg.rf.5e02a4886b7fda0ccaa18dfd109a558c.jpg'\n",
      "\u001b[34m\u001b[1mtrain: \u001b[0mWARNING ⚠️ /Users/trangttdang/Downloads/food_data_1/train/images/IMG-7451_jpg.rf.83c8b9e7ae2b99a7fe4eb72858b6c638.jpg: ignoring corrupt image/label: cannot identify image file '/Users/trangttdang/Downloads/food_data_1/train/images/IMG-7451_jpg.rf.83c8b9e7ae2b99a7fe4eb72858b6c638.jpg'\n",
      "\u001b[34m\u001b[1mtrain: \u001b[0mWARNING ⚠️ /Users/trangttdang/Downloads/food_data_1/train/images/IMG-7453_jpg.rf.e3d721a76bb7e4feac55c58e73146b21.jpg: ignoring corrupt image/label: cannot identify image file '/Users/trangttdang/Downloads/food_data_1/train/images/IMG-7453_jpg.rf.e3d721a76bb7e4feac55c58e73146b21.jpg'\n",
      "\u001b[34m\u001b[1mtrain: \u001b[0mWARNING ⚠️ /Users/trangttdang/Downloads/food_data_1/train/images/IMG-7475_jpg.rf.aee4453ba94c475fa1708ae9ccebbb82.jpg: ignoring corrupt image/label: cannot identify image file '/Users/trangttdang/Downloads/food_data_1/train/images/IMG-7475_jpg.rf.aee4453ba94c475fa1708ae9ccebbb82.jpg'\n",
      "\u001b[34m\u001b[1mtrain: \u001b[0mWARNING ⚠️ /Users/trangttdang/Downloads/food_data_1/train/images/IMG-7475_jpg.rf.be2c1ddae32c9831fcb496126020a62a.jpg: ignoring corrupt image/label: cannot identify image file '/Users/trangttdang/Downloads/food_data_1/train/images/IMG-7475_jpg.rf.be2c1ddae32c9831fcb496126020a62a.jpg'\n",
      "\u001b[34m\u001b[1mtrain: \u001b[0mWARNING ⚠️ /Users/trangttdang/Downloads/food_data_1/train/images/IMG-7476_jpg.rf.3af13a18ade77973b9305673ebfac3ff.jpg: ignoring corrupt image/label: cannot identify image file '/Users/trangttdang/Downloads/food_data_1/train/images/IMG-7476_jpg.rf.3af13a18ade77973b9305673ebfac3ff.jpg'\n",
      "\u001b[34m\u001b[1mtrain: \u001b[0mWARNING ⚠️ /Users/trangttdang/Downloads/food_data_1/train/images/IMG_6367_JPG_jpg.rf.17a3367f9d08dd7c2dac406aadd625a4.jpg: ignoring corrupt image/label: cannot identify image file '/Users/trangttdang/Downloads/food_data_1/train/images/IMG_6367_JPG_jpg.rf.17a3367f9d08dd7c2dac406aadd625a4.jpg'\n",
      "\u001b[34m\u001b[1mtrain: \u001b[0mWARNING ⚠️ /Users/trangttdang/Downloads/food_data_1/train/images/IMG_6367_JPG_jpg.rf.1cbdde6e79027e4e742a67596347315a.jpg: ignoring corrupt image/label: cannot identify image file '/Users/trangttdang/Downloads/food_data_1/train/images/IMG_6367_JPG_jpg.rf.1cbdde6e79027e4e742a67596347315a.jpg'\n",
      "\u001b[34m\u001b[1mtrain: \u001b[0mWARNING ⚠️ /Users/trangttdang/Downloads/food_data_1/train/images/IMG_6367_JPG_jpg.rf.24969719761cafc6c15918f847b3ed20.jpg: ignoring corrupt image/label: cannot identify image file '/Users/trangttdang/Downloads/food_data_1/train/images/IMG_6367_JPG_jpg.rf.24969719761cafc6c15918f847b3ed20.jpg'\n",
      "\u001b[34m\u001b[1mtrain: \u001b[0mWARNING ⚠️ /Users/trangttdang/Downloads/food_data_1/train/images/IMG_6367_JPG_jpg.rf.41e29792ec8d20f16e33d6898801280a.jpg: ignoring corrupt image/label: cannot identify image file '/Users/trangttdang/Downloads/food_data_1/train/images/IMG_6367_JPG_jpg.rf.41e29792ec8d20f16e33d6898801280a.jpg'\n",
      "\u001b[34m\u001b[1mtrain: \u001b[0mWARNING ⚠️ /Users/trangttdang/Downloads/food_data_1/train/images/IMG_6367_JPG_jpg.rf.4905ef5b393578783f71db53feecf0aa.jpg: ignoring corrupt image/label: cannot identify image file '/Users/trangttdang/Downloads/food_data_1/train/images/IMG_6367_JPG_jpg.rf.4905ef5b393578783f71db53feecf0aa.jpg'\n",
      "\u001b[34m\u001b[1mtrain: \u001b[0mWARNING ⚠️ /Users/trangttdang/Downloads/food_data_1/train/images/IMG_6367_JPG_jpg.rf.67ff4f8545f41b48456b39a2bb60e921.jpg: ignoring corrupt image/label: cannot identify image file '/Users/trangttdang/Downloads/food_data_1/train/images/IMG_6367_JPG_jpg.rf.67ff4f8545f41b48456b39a2bb60e921.jpg'\n",
      "\u001b[34m\u001b[1mtrain: \u001b[0mWARNING ⚠️ /Users/trangttdang/Downloads/food_data_1/train/images/IMG_6367_JPG_jpg.rf.7a96738c45a23195229f38566023e053.jpg: ignoring corrupt image/label: cannot identify image file '/Users/trangttdang/Downloads/food_data_1/train/images/IMG_6367_JPG_jpg.rf.7a96738c45a23195229f38566023e053.jpg'\n",
      "\u001b[34m\u001b[1mtrain: \u001b[0mWARNING ⚠️ /Users/trangttdang/Downloads/food_data_1/train/images/IMG_6398_JPG_jpg.rf.e9717a84fbb956e03adac6c6aab2041b.jpg: ignoring corrupt image/label: cannot identify image file '/Users/trangttdang/Downloads/food_data_1/train/images/IMG_6398_JPG_jpg.rf.e9717a84fbb956e03adac6c6aab2041b.jpg'\n",
      "\u001b[34m\u001b[1mtrain: \u001b[0mWARNING ⚠️ /Users/trangttdang/Downloads/food_data_1/train/images/IMG_6398_JPG_jpg.rf.ebd5132db8fba1387378c351630034cd.jpg: ignoring corrupt image/label: cannot identify image file '/Users/trangttdang/Downloads/food_data_1/train/images/IMG_6398_JPG_jpg.rf.ebd5132db8fba1387378c351630034cd.jpg'\n",
      "\u001b[34m\u001b[1mtrain: \u001b[0mWARNING ⚠️ /Users/trangttdang/Downloads/food_data_1/train/images/IMG_6398_JPG_jpg.rf.eda4cda31ef825c3ceef8eea21d1e1c8.jpg: ignoring corrupt image/label: cannot identify image file '/Users/trangttdang/Downloads/food_data_1/train/images/IMG_6398_JPG_jpg.rf.eda4cda31ef825c3ceef8eea21d1e1c8.jpg'\n",
      "\u001b[34m\u001b[1mtrain: \u001b[0mWARNING ⚠️ /Users/trangttdang/Downloads/food_data_1/train/images/IMG_6405_JPG_jpg.rf.00a051f6d3dabfc1bb091bd58d4bb452.jpg: ignoring corrupt image/label: cannot identify image file '/Users/trangttdang/Downloads/food_data_1/train/images/IMG_6405_JPG_jpg.rf.00a051f6d3dabfc1bb091bd58d4bb452.jpg'\n",
      "\u001b[34m\u001b[1mtrain: \u001b[0mWARNING ⚠️ /Users/trangttdang/Downloads/food_data_1/train/images/IMG_6405_JPG_jpg.rf.23bd44654bab64c375e23b02f3ee84f3.jpg: ignoring corrupt image/label: image file is truncated (54 bytes not processed)\n",
      "\u001b[34m\u001b[1mtrain: \u001b[0mWARNING ⚠️ /Users/trangttdang/Downloads/food_data_1/train/images/IMG_6405_JPG_jpg.rf.63f2e98ccda4e0e41db1da7d93c9ed6a.jpg: ignoring corrupt image/label: cannot identify image file '/Users/trangttdang/Downloads/food_data_1/train/images/IMG_6405_JPG_jpg.rf.63f2e98ccda4e0e41db1da7d93c9ed6a.jpg'\n",
      "\u001b[34m\u001b[1mtrain: \u001b[0mWARNING ⚠️ /Users/trangttdang/Downloads/food_data_1/train/images/IMG_6405_JPG_jpg.rf.7796de380ac6cc1da12069bb8019f64e.jpg: ignoring corrupt image/label: cannot identify image file '/Users/trangttdang/Downloads/food_data_1/train/images/IMG_6405_JPG_jpg.rf.7796de380ac6cc1da12069bb8019f64e.jpg'\n",
      "\u001b[34m\u001b[1mtrain: \u001b[0mWARNING ⚠️ /Users/trangttdang/Downloads/food_data_1/train/images/IMG_6405_JPG_jpg.rf.7cbdc697e0aa2ac70aab04c5e00e2f00.jpg: ignoring corrupt image/label: cannot identify image file '/Users/trangttdang/Downloads/food_data_1/train/images/IMG_6405_JPG_jpg.rf.7cbdc697e0aa2ac70aab04c5e00e2f00.jpg'\n",
      "\u001b[34m\u001b[1mtrain: \u001b[0mWARNING ⚠️ /Users/trangttdang/Downloads/food_data_1/train/images/IMG_6405_JPG_jpg.rf.9f92915ced24a2a939e9e4534c728246.jpg: ignoring corrupt image/label: cannot identify image file '/Users/trangttdang/Downloads/food_data_1/train/images/IMG_6405_JPG_jpg.rf.9f92915ced24a2a939e9e4534c728246.jpg'\n",
      "\u001b[34m\u001b[1mtrain: \u001b[0mWARNING ⚠️ /Users/trangttdang/Downloads/food_data_1/train/images/IMG_6405_JPG_jpg.rf.c38b2d0974e6ce5a1faa2d25a78aebbd.jpg: ignoring corrupt image/label: cannot identify image file '/Users/trangttdang/Downloads/food_data_1/train/images/IMG_6405_JPG_jpg.rf.c38b2d0974e6ce5a1faa2d25a78aebbd.jpg'\n",
      "\u001b[34m\u001b[1mtrain: \u001b[0mWARNING ⚠️ /Users/trangttdang/Downloads/food_data_1/train/images/IMG_6406_JPG_jpg.rf.2182dfe34f84baed21480879d58c0ed6.jpg: ignoring corrupt image/label: cannot identify image file '/Users/trangttdang/Downloads/food_data_1/train/images/IMG_6406_JPG_jpg.rf.2182dfe34f84baed21480879d58c0ed6.jpg'\n",
      "\u001b[34m\u001b[1mtrain: \u001b[0mWARNING ⚠️ /Users/trangttdang/Downloads/food_data_1/train/images/IMG_6406_JPG_jpg.rf.27cc9025244f3c3ca4ae195d38a6e6d9.jpg: ignoring corrupt image/label: cannot identify image file '/Users/trangttdang/Downloads/food_data_1/train/images/IMG_6406_JPG_jpg.rf.27cc9025244f3c3ca4ae195d38a6e6d9.jpg'\n",
      "\u001b[34m\u001b[1mtrain: \u001b[0mWARNING ⚠️ /Users/trangttdang/Downloads/food_data_1/train/images/IMG_6406_JPG_jpg.rf.31f778c3c81236c48349dca9e8e70c43.jpg: ignoring corrupt image/label: cannot identify image file '/Users/trangttdang/Downloads/food_data_1/train/images/IMG_6406_JPG_jpg.rf.31f778c3c81236c48349dca9e8e70c43.jpg'\n",
      "\u001b[34m\u001b[1mtrain: \u001b[0mWARNING ⚠️ /Users/trangttdang/Downloads/food_data_1/train/images/IMG_6406_JPG_jpg.rf.34f493b835e369b0429dff4d3aa5f300.jpg: ignoring corrupt image/label: cannot identify image file '/Users/trangttdang/Downloads/food_data_1/train/images/IMG_6406_JPG_jpg.rf.34f493b835e369b0429dff4d3aa5f300.jpg'\n",
      "\u001b[34m\u001b[1mtrain: \u001b[0mWARNING ⚠️ /Users/trangttdang/Downloads/food_data_1/train/images/IMG_6406_JPG_jpg.rf.41fde2ee7417aeaa55a4bb984745a9a2.jpg: ignoring corrupt image/label: cannot identify image file '/Users/trangttdang/Downloads/food_data_1/train/images/IMG_6406_JPG_jpg.rf.41fde2ee7417aeaa55a4bb984745a9a2.jpg'\n",
      "\u001b[34m\u001b[1mtrain: \u001b[0mWARNING ⚠️ /Users/trangttdang/Downloads/food_data_1/train/images/IMG_6406_JPG_jpg.rf.4428d6b5c4df603dd8c163d66e9e716d.jpg: ignoring corrupt image/label: cannot identify image file '/Users/trangttdang/Downloads/food_data_1/train/images/IMG_6406_JPG_jpg.rf.4428d6b5c4df603dd8c163d66e9e716d.jpg'\n",
      "\u001b[34m\u001b[1mtrain: \u001b[0mWARNING ⚠️ /Users/trangttdang/Downloads/food_data_1/train/images/IMG_6406_JPG_jpg.rf.6dff0220198a165d9dea7e8971020abd.jpg: ignoring corrupt image/label: cannot identify image file '/Users/trangttdang/Downloads/food_data_1/train/images/IMG_6406_JPG_jpg.rf.6dff0220198a165d9dea7e8971020abd.jpg'\n",
      "\u001b[34m\u001b[1mtrain: \u001b[0mWARNING ⚠️ /Users/trangttdang/Downloads/food_data_1/train/images/IMG_6406_JPG_jpg.rf.7ecb819751082046a3a5bdd6e9151f45.jpg: ignoring corrupt image/label: cannot identify image file '/Users/trangttdang/Downloads/food_data_1/train/images/IMG_6406_JPG_jpg.rf.7ecb819751082046a3a5bdd6e9151f45.jpg'\n",
      "\u001b[34m\u001b[1mtrain: \u001b[0mWARNING ⚠️ /Users/trangttdang/Downloads/food_data_1/train/images/IMG_6406_JPG_jpg.rf.8a97478337eab269178ded0df9d1c617.jpg: ignoring corrupt image/label: cannot identify image file '/Users/trangttdang/Downloads/food_data_1/train/images/IMG_6406_JPG_jpg.rf.8a97478337eab269178ded0df9d1c617.jpg'\n",
      "\u001b[34m\u001b[1mtrain: \u001b[0mWARNING ⚠️ /Users/trangttdang/Downloads/food_data_1/train/images/IMG_6406_JPG_jpg.rf.ac68c4591d17a55e20a6b7f1da7c2695.jpg: ignoring corrupt image/label: cannot identify image file '/Users/trangttdang/Downloads/food_data_1/train/images/IMG_6406_JPG_jpg.rf.ac68c4591d17a55e20a6b7f1da7c2695.jpg'\n",
      "\u001b[34m\u001b[1mtrain: \u001b[0mWARNING ⚠️ /Users/trangttdang/Downloads/food_data_1/train/images/IMG_6406_JPG_jpg.rf.b5977d248467bc64d908875b27f86848.jpg: ignoring corrupt image/label: cannot identify image file '/Users/trangttdang/Downloads/food_data_1/train/images/IMG_6406_JPG_jpg.rf.b5977d248467bc64d908875b27f86848.jpg'\n",
      "\u001b[34m\u001b[1mtrain: \u001b[0mWARNING ⚠️ /Users/trangttdang/Downloads/food_data_1/train/images/IMG_6406_JPG_jpg.rf.c218b6be8a8f13f1c4797c7e1a51ce81.jpg: ignoring corrupt image/label: cannot identify image file '/Users/trangttdang/Downloads/food_data_1/train/images/IMG_6406_JPG_jpg.rf.c218b6be8a8f13f1c4797c7e1a51ce81.jpg'\n",
      "\u001b[34m\u001b[1mtrain: \u001b[0mWARNING ⚠️ /Users/trangttdang/Downloads/food_data_1/train/images/IMG_6406_JPG_jpg.rf.d366da6eca35ef0f62a3becb3cc8935e.jpg: ignoring corrupt image/label: cannot identify image file '/Users/trangttdang/Downloads/food_data_1/train/images/IMG_6406_JPG_jpg.rf.d366da6eca35ef0f62a3becb3cc8935e.jpg'\n",
      "\u001b[34m\u001b[1mtrain: \u001b[0mWARNING ⚠️ /Users/trangttdang/Downloads/food_data_1/train/images/IMG_6406_JPG_jpg.rf.ebad42f614e27fa8594a61ad14bc144b.jpg: ignoring corrupt image/label: cannot identify image file '/Users/trangttdang/Downloads/food_data_1/train/images/IMG_6406_JPG_jpg.rf.ebad42f614e27fa8594a61ad14bc144b.jpg'\n",
      "\u001b[34m\u001b[1mtrain: \u001b[0mWARNING ⚠️ /Users/trangttdang/Downloads/food_data_1/train/images/IMG_6408_JPG_jpg.rf.2317432a01ecdeb7f2fdc27a8ecf4957.jpg: ignoring corrupt image/label: cannot identify image file '/Users/trangttdang/Downloads/food_data_1/train/images/IMG_6408_JPG_jpg.rf.2317432a01ecdeb7f2fdc27a8ecf4957.jpg'\n",
      "\u001b[34m\u001b[1mtrain: \u001b[0mWARNING ⚠️ /Users/trangttdang/Downloads/food_data_1/train/images/IMG_6408_JPG_jpg.rf.332508c0a1ac99650ae39471e358d41b.jpg: ignoring corrupt image/label: cannot identify image file '/Users/trangttdang/Downloads/food_data_1/train/images/IMG_6408_JPG_jpg.rf.332508c0a1ac99650ae39471e358d41b.jpg'\n",
      "\u001b[34m\u001b[1mtrain: \u001b[0mWARNING ⚠️ /Users/trangttdang/Downloads/food_data_1/train/images/IMG_6408_JPG_jpg.rf.358e8b178dc661b39106f3a6e9cb3da0.jpg: ignoring corrupt image/label: cannot identify image file '/Users/trangttdang/Downloads/food_data_1/train/images/IMG_6408_JPG_jpg.rf.358e8b178dc661b39106f3a6e9cb3da0.jpg'\n",
      "\u001b[34m\u001b[1mtrain: \u001b[0mWARNING ⚠️ /Users/trangttdang/Downloads/food_data_1/train/images/IMG_6408_JPG_jpg.rf.3ecd6a9fcb1f9a9299bdedbab3968304.jpg: ignoring corrupt image/label: cannot identify image file '/Users/trangttdang/Downloads/food_data_1/train/images/IMG_6408_JPG_jpg.rf.3ecd6a9fcb1f9a9299bdedbab3968304.jpg'\n",
      "\u001b[34m\u001b[1mtrain: \u001b[0mWARNING ⚠️ /Users/trangttdang/Downloads/food_data_1/train/images/IMG_6408_JPG_jpg.rf.60a3a93a5ac61ef298779d345f112ada.jpg: ignoring corrupt image/label: cannot identify image file '/Users/trangttdang/Downloads/food_data_1/train/images/IMG_6408_JPG_jpg.rf.60a3a93a5ac61ef298779d345f112ada.jpg'\n",
      "\u001b[34m\u001b[1mtrain: \u001b[0mWARNING ⚠️ /Users/trangttdang/Downloads/food_data_1/train/images/IMG_6408_JPG_jpg.rf.6aab9cc0d92334035f0c36d6c5595b54.jpg: ignoring corrupt image/label: cannot identify image file '/Users/trangttdang/Downloads/food_data_1/train/images/IMG_6408_JPG_jpg.rf.6aab9cc0d92334035f0c36d6c5595b54.jpg'\n",
      "\u001b[34m\u001b[1mtrain: \u001b[0mWARNING ⚠️ /Users/trangttdang/Downloads/food_data_1/train/images/IMG_6409_JPG_jpg.rf.c5e16927f2a417f2add404d989fcd8cc.jpg: ignoring corrupt image/label: cannot identify image file '/Users/trangttdang/Downloads/food_data_1/train/images/IMG_6409_JPG_jpg.rf.c5e16927f2a417f2add404d989fcd8cc.jpg'\n",
      "\u001b[34m\u001b[1mtrain: \u001b[0mWARNING ⚠️ /Users/trangttdang/Downloads/food_data_1/train/images/IMG_6409_JPG_jpg.rf.c95f8f8b1bb1db3c639a71b9aeffd087.jpg: ignoring corrupt image/label: cannot identify image file '/Users/trangttdang/Downloads/food_data_1/train/images/IMG_6409_JPG_jpg.rf.c95f8f8b1bb1db3c639a71b9aeffd087.jpg'\n",
      "\u001b[34m\u001b[1mtrain: \u001b[0mWARNING ⚠️ /Users/trangttdang/Downloads/food_data_1/train/images/IMG_6409_JPG_jpg.rf.f79bd34cd4d972a8f02a0120d15526bb.jpg: ignoring corrupt image/label: cannot identify image file '/Users/trangttdang/Downloads/food_data_1/train/images/IMG_6409_JPG_jpg.rf.f79bd34cd4d972a8f02a0120d15526bb.jpg'\n",
      "\u001b[34m\u001b[1mtrain: \u001b[0mWARNING ⚠️ /Users/trangttdang/Downloads/food_data_1/train/images/IMG_6409_JPG_jpg.rf.f7f2d0c5c592ca1e802182ee6c69d276.jpg: ignoring corrupt image/label: cannot identify image file '/Users/trangttdang/Downloads/food_data_1/train/images/IMG_6409_JPG_jpg.rf.f7f2d0c5c592ca1e802182ee6c69d276.jpg'\n",
      "\u001b[34m\u001b[1mtrain: \u001b[0mWARNING ⚠️ /Users/trangttdang/Downloads/food_data_1/train/images/IMG_6410_JPG_jpg.rf.8347ce6fc9e73d4dd7698b9e171526f2.jpg: ignoring corrupt image/label: cannot identify image file '/Users/trangttdang/Downloads/food_data_1/train/images/IMG_6410_JPG_jpg.rf.8347ce6fc9e73d4dd7698b9e171526f2.jpg'\n",
      "\u001b[34m\u001b[1mtrain: \u001b[0mWARNING ⚠️ /Users/trangttdang/Downloads/food_data_1/train/images/IMG_6413_JPG_jpg.rf.1926f268bbee93d975486f6b2b716e5b.jpg: ignoring corrupt image/label: cannot identify image file '/Users/trangttdang/Downloads/food_data_1/train/images/IMG_6413_JPG_jpg.rf.1926f268bbee93d975486f6b2b716e5b.jpg'\n",
      "\u001b[34m\u001b[1mtrain: \u001b[0mWARNING ⚠️ /Users/trangttdang/Downloads/food_data_1/train/images/IMG_6413_JPG_jpg.rf.20d92db222bf08585b15ae610b6f9a0c.jpg: ignoring corrupt image/label: cannot identify image file '/Users/trangttdang/Downloads/food_data_1/train/images/IMG_6413_JPG_jpg.rf.20d92db222bf08585b15ae610b6f9a0c.jpg'\n",
      "\u001b[34m\u001b[1mtrain: \u001b[0mWARNING ⚠️ /Users/trangttdang/Downloads/food_data_1/train/images/IMG_6413_JPG_jpg.rf.2912d3653599a69154a7d182be13067b.jpg: ignoring corrupt image/label: cannot identify image file '/Users/trangttdang/Downloads/food_data_1/train/images/IMG_6413_JPG_jpg.rf.2912d3653599a69154a7d182be13067b.jpg'\n",
      "\u001b[34m\u001b[1mtrain: \u001b[0mWARNING ⚠️ /Users/trangttdang/Downloads/food_data_1/train/images/IMG_6413_JPG_jpg.rf.499be42ea3c39dd99b216e489f24fe59.jpg: ignoring corrupt image/label: cannot identify image file '/Users/trangttdang/Downloads/food_data_1/train/images/IMG_6413_JPG_jpg.rf.499be42ea3c39dd99b216e489f24fe59.jpg'\n",
      "\u001b[34m\u001b[1mtrain: \u001b[0mWARNING ⚠️ /Users/trangttdang/Downloads/food_data_1/train/images/IMG_6413_JPG_jpg.rf.e1d8b97deb2296695ee3fbf7434c0b15.jpg: ignoring corrupt image/label: cannot identify image file '/Users/trangttdang/Downloads/food_data_1/train/images/IMG_6413_JPG_jpg.rf.e1d8b97deb2296695ee3fbf7434c0b15.jpg'\n",
      "\u001b[34m\u001b[1mtrain: \u001b[0mWARNING ⚠️ /Users/trangttdang/Downloads/food_data_1/train/images/IMG_6413_JPG_jpg.rf.f64a54d90b0b60316f64ced8bdde7930.jpg: ignoring corrupt image/label: cannot identify image file '/Users/trangttdang/Downloads/food_data_1/train/images/IMG_6413_JPG_jpg.rf.f64a54d90b0b60316f64ced8bdde7930.jpg'\n",
      "\u001b[34m\u001b[1mtrain: \u001b[0mWARNING ⚠️ /Users/trangttdang/Downloads/food_data_1/train/images/IMG_6416_JPG_jpg.rf.0e958ce267ad40b3acd3dfc6bc4ac82b.jpg: ignoring corrupt image/label: cannot identify image file '/Users/trangttdang/Downloads/food_data_1/train/images/IMG_6416_JPG_jpg.rf.0e958ce267ad40b3acd3dfc6bc4ac82b.jpg'\n",
      "\u001b[34m\u001b[1mtrain: \u001b[0mWARNING ⚠️ /Users/trangttdang/Downloads/food_data_1/train/images/IMG_6416_JPG_jpg.rf.11d78348101dbbbfa309ba17af4f51fc.jpg: ignoring corrupt image/label: cannot identify image file '/Users/trangttdang/Downloads/food_data_1/train/images/IMG_6416_JPG_jpg.rf.11d78348101dbbbfa309ba17af4f51fc.jpg'\n",
      "\u001b[34m\u001b[1mtrain: \u001b[0mWARNING ⚠️ /Users/trangttdang/Downloads/food_data_1/train/images/IMG_6416_JPG_jpg.rf.16468bc6c7f4eba40ad82b847f63a48a.jpg: ignoring corrupt image/label: cannot identify image file '/Users/trangttdang/Downloads/food_data_1/train/images/IMG_6416_JPG_jpg.rf.16468bc6c7f4eba40ad82b847f63a48a.jpg'\n",
      "\u001b[34m\u001b[1mtrain: \u001b[0mWARNING ⚠️ /Users/trangttdang/Downloads/food_data_1/train/images/IMG_6416_JPG_jpg.rf.183d25778e3c1a95555e7b24e6e77f3b.jpg: ignoring corrupt image/label: cannot identify image file '/Users/trangttdang/Downloads/food_data_1/train/images/IMG_6416_JPG_jpg.rf.183d25778e3c1a95555e7b24e6e77f3b.jpg'\n",
      "\u001b[34m\u001b[1mtrain: \u001b[0mWARNING ⚠️ /Users/trangttdang/Downloads/food_data_1/train/images/IMG_6416_JPG_jpg.rf.406e600121ec571b5aa130e89b97a72e.jpg: ignoring corrupt image/label: cannot identify image file '/Users/trangttdang/Downloads/food_data_1/train/images/IMG_6416_JPG_jpg.rf.406e600121ec571b5aa130e89b97a72e.jpg'\n",
      "\u001b[34m\u001b[1mtrain: \u001b[0mWARNING ⚠️ /Users/trangttdang/Downloads/food_data_1/train/images/IMG_6416_JPG_jpg.rf.413c61a0f9a6ed9d0530ecd4734f66ed.jpg: ignoring corrupt image/label: cannot identify image file '/Users/trangttdang/Downloads/food_data_1/train/images/IMG_6416_JPG_jpg.rf.413c61a0f9a6ed9d0530ecd4734f66ed.jpg'\n",
      "\u001b[34m\u001b[1mtrain: \u001b[0mWARNING ⚠️ /Users/trangttdang/Downloads/food_data_1/train/images/IMG_6416_JPG_jpg.rf.670254041f89db1adddc4e6d29a853df.jpg: ignoring corrupt image/label: cannot identify image file '/Users/trangttdang/Downloads/food_data_1/train/images/IMG_6416_JPG_jpg.rf.670254041f89db1adddc4e6d29a853df.jpg'\n",
      "\u001b[34m\u001b[1mtrain: \u001b[0mWARNING ⚠️ /Users/trangttdang/Downloads/food_data_1/train/images/IMG_6416_JPG_jpg.rf.8fb169a46ea94d9ab2c7ccc9f6c21cb8.jpg: ignoring corrupt image/label: cannot identify image file '/Users/trangttdang/Downloads/food_data_1/train/images/IMG_6416_JPG_jpg.rf.8fb169a46ea94d9ab2c7ccc9f6c21cb8.jpg'\n",
      "\u001b[34m\u001b[1mtrain: \u001b[0mWARNING ⚠️ /Users/trangttdang/Downloads/food_data_1/train/images/IMG_6416_JPG_jpg.rf.98053f9f7e4422aa0917a92f41f21728.jpg: ignoring corrupt image/label: cannot identify image file '/Users/trangttdang/Downloads/food_data_1/train/images/IMG_6416_JPG_jpg.rf.98053f9f7e4422aa0917a92f41f21728.jpg'\n",
      "\u001b[34m\u001b[1mtrain: \u001b[0mWARNING ⚠️ /Users/trangttdang/Downloads/food_data_1/train/images/IMG_6417_JPG_jpg.rf.5848d1a7d276b3f06791845af003e1fc.jpg: ignoring corrupt image/label: cannot identify image file '/Users/trangttdang/Downloads/food_data_1/train/images/IMG_6417_JPG_jpg.rf.5848d1a7d276b3f06791845af003e1fc.jpg'\n",
      "\u001b[34m\u001b[1mtrain: \u001b[0mWARNING ⚠️ /Users/trangttdang/Downloads/food_data_1/train/images/IMG_6417_JPG_jpg.rf.65026a004b8fd7f3243d962630c6d488.jpg: ignoring corrupt image/label: cannot identify image file '/Users/trangttdang/Downloads/food_data_1/train/images/IMG_6417_JPG_jpg.rf.65026a004b8fd7f3243d962630c6d488.jpg'\n",
      "\u001b[34m\u001b[1mtrain: \u001b[0mWARNING ⚠️ /Users/trangttdang/Downloads/food_data_1/train/images/IMG_6417_JPG_jpg.rf.a8af7bf49138d4e8fb2858152252f89c.jpg: ignoring corrupt image/label: cannot identify image file '/Users/trangttdang/Downloads/food_data_1/train/images/IMG_6417_JPG_jpg.rf.a8af7bf49138d4e8fb2858152252f89c.jpg'\n",
      "\u001b[34m\u001b[1mtrain: \u001b[0mWARNING ⚠️ /Users/trangttdang/Downloads/food_data_1/train/images/IMG_6417_JPG_jpg.rf.fe2a0d8b64b05e28853be06173edf4e8.jpg: ignoring corrupt image/label: cannot identify image file '/Users/trangttdang/Downloads/food_data_1/train/images/IMG_6417_JPG_jpg.rf.fe2a0d8b64b05e28853be06173edf4e8.jpg'\n",
      "\u001b[34m\u001b[1mtrain: \u001b[0mWARNING ⚠️ /Users/trangttdang/Downloads/food_data_1/train/images/IMG_6418_JPG_jpg.rf.0cea3c7d74e7c2a6914a2e9754dce59d.jpg: ignoring corrupt image/label: cannot identify image file '/Users/trangttdang/Downloads/food_data_1/train/images/IMG_6418_JPG_jpg.rf.0cea3c7d74e7c2a6914a2e9754dce59d.jpg'\n",
      "\u001b[34m\u001b[1mtrain: \u001b[0mWARNING ⚠️ /Users/trangttdang/Downloads/food_data_1/train/images/IMG_6418_JPG_jpg.rf.11f5ed48b9732fe71a74a1b4bebce39a.jpg: ignoring corrupt image/label: cannot identify image file '/Users/trangttdang/Downloads/food_data_1/train/images/IMG_6418_JPG_jpg.rf.11f5ed48b9732fe71a74a1b4bebce39a.jpg'\n",
      "\u001b[34m\u001b[1mtrain: \u001b[0mWARNING ⚠️ /Users/trangttdang/Downloads/food_data_1/train/images/IMG_6418_JPG_jpg.rf.1489bc01065bcc0e559617f3d5599559.jpg: ignoring corrupt image/label: cannot identify image file '/Users/trangttdang/Downloads/food_data_1/train/images/IMG_6418_JPG_jpg.rf.1489bc01065bcc0e559617f3d5599559.jpg'\n",
      "\u001b[34m\u001b[1mtrain: \u001b[0mWARNING ⚠️ /Users/trangttdang/Downloads/food_data_1/train/images/IMG_6418_JPG_jpg.rf.19d7ad16d4f1649d126dd5103a2b0d34.jpg: ignoring corrupt image/label: cannot identify image file '/Users/trangttdang/Downloads/food_data_1/train/images/IMG_6418_JPG_jpg.rf.19d7ad16d4f1649d126dd5103a2b0d34.jpg'\n",
      "\u001b[34m\u001b[1mtrain: \u001b[0mWARNING ⚠️ /Users/trangttdang/Downloads/food_data_1/train/images/IMG_6418_JPG_jpg.rf.3209288dc9bc30c82303840adf0829de.jpg: ignoring corrupt image/label: cannot identify image file '/Users/trangttdang/Downloads/food_data_1/train/images/IMG_6418_JPG_jpg.rf.3209288dc9bc30c82303840adf0829de.jpg'\n",
      "\u001b[34m\u001b[1mtrain: \u001b[0mWARNING ⚠️ /Users/trangttdang/Downloads/food_data_1/train/images/IMG_6418_JPG_jpg.rf.3b9287cd0993b597befbc0be69a2e366.jpg: ignoring corrupt image/label: cannot identify image file '/Users/trangttdang/Downloads/food_data_1/train/images/IMG_6418_JPG_jpg.rf.3b9287cd0993b597befbc0be69a2e366.jpg'\n",
      "\u001b[34m\u001b[1mtrain: \u001b[0mWARNING ⚠️ /Users/trangttdang/Downloads/food_data_1/train/images/IMG_6418_JPG_jpg.rf.3cdcb695e2ec34d6b68f40aea3417183.jpg: ignoring corrupt image/label: cannot identify image file '/Users/trangttdang/Downloads/food_data_1/train/images/IMG_6418_JPG_jpg.rf.3cdcb695e2ec34d6b68f40aea3417183.jpg'\n",
      "\u001b[34m\u001b[1mtrain: \u001b[0mWARNING ⚠️ /Users/trangttdang/Downloads/food_data_1/train/images/IMG_6418_JPG_jpg.rf.5df846954e53d03311eb47a15664f213.jpg: ignoring corrupt image/label: cannot identify image file '/Users/trangttdang/Downloads/food_data_1/train/images/IMG_6418_JPG_jpg.rf.5df846954e53d03311eb47a15664f213.jpg'\n",
      "\u001b[34m\u001b[1mtrain: \u001b[0mWARNING ⚠️ /Users/trangttdang/Downloads/food_data_1/train/images/IMG_6418_JPG_jpg.rf.8429984d637177bea36d0743c9125d67.jpg: ignoring corrupt image/label: cannot identify image file '/Users/trangttdang/Downloads/food_data_1/train/images/IMG_6418_JPG_jpg.rf.8429984d637177bea36d0743c9125d67.jpg'\n",
      "\u001b[34m\u001b[1mtrain: \u001b[0mWARNING ⚠️ /Users/trangttdang/Downloads/food_data_1/train/images/IMG_6418_JPG_jpg.rf.8704ad22fc91e12764d7579f013a0613.jpg: ignoring corrupt image/label: cannot identify image file '/Users/trangttdang/Downloads/food_data_1/train/images/IMG_6418_JPG_jpg.rf.8704ad22fc91e12764d7579f013a0613.jpg'\n",
      "\u001b[34m\u001b[1mtrain: \u001b[0mWARNING ⚠️ /Users/trangttdang/Downloads/food_data_1/train/images/IMG_6418_JPG_jpg.rf.9a7d17d666e11c77dd74041252ac2e20.jpg: ignoring corrupt image/label: cannot identify image file '/Users/trangttdang/Downloads/food_data_1/train/images/IMG_6418_JPG_jpg.rf.9a7d17d666e11c77dd74041252ac2e20.jpg'\n",
      "\u001b[34m\u001b[1mtrain: \u001b[0mWARNING ⚠️ /Users/trangttdang/Downloads/food_data_1/train/images/WhatsApp-Image-2023-06-02-at-18-24-21-3-_jpeg_jpg.rf.f19c487a875bd0f80190285280e2873e.jpg: ignoring corrupt image/label: cannot identify image file '/Users/trangttdang/Downloads/food_data_1/train/images/WhatsApp-Image-2023-06-02-at-18-24-21-3-_jpeg_jpg.rf.f19c487a875bd0f80190285280e2873e.jpg'\n",
      "\u001b[34m\u001b[1mtrain: \u001b[0mWARNING ⚠️ /Users/trangttdang/Downloads/food_data_1/train/images/WhatsApp-Image-2023-06-02-at-18-24-21-3-_jpeg_jpg.rf.f80541606be92959e3b4fd0bf6ebb6bd.jpg: ignoring corrupt image/label: cannot identify image file '/Users/trangttdang/Downloads/food_data_1/train/images/WhatsApp-Image-2023-06-02-at-18-24-21-3-_jpeg_jpg.rf.f80541606be92959e3b4fd0bf6ebb6bd.jpg'\n",
      "\u001b[34m\u001b[1mtrain: \u001b[0mWARNING ⚠️ /Users/trangttdang/Downloads/food_data_1/train/images/WhatsApp-Image-2023-06-02-at-18-24-21-3-_jpeg_jpg.rf.fb48eb7fd491286ad54be6c230bddf86.jpg: ignoring corrupt image/label: cannot identify image file '/Users/trangttdang/Downloads/food_data_1/train/images/WhatsApp-Image-2023-06-02-at-18-24-21-3-_jpeg_jpg.rf.fb48eb7fd491286ad54be6c230bddf86.jpg'\n",
      "\u001b[34m\u001b[1mtrain: \u001b[0mWARNING ⚠️ /Users/trangttdang/Downloads/food_data_1/train/images/WhatsApp-Image-2023-06-02-at-18-24-22-2-_jpeg_jpg.rf.04ddac27625f52e3b28ba1feec9c3699.jpg: ignoring corrupt image/label: cannot identify image file '/Users/trangttdang/Downloads/food_data_1/train/images/WhatsApp-Image-2023-06-02-at-18-24-22-2-_jpeg_jpg.rf.04ddac27625f52e3b28ba1feec9c3699.jpg'\n",
      "\u001b[34m\u001b[1mtrain: \u001b[0mWARNING ⚠️ /Users/trangttdang/Downloads/food_data_1/train/images/WhatsApp-Image-2023-06-02-at-18-24-22-2-_jpeg_jpg.rf.760975e8f0485e738c28cbe5f7eb4353.jpg: ignoring corrupt image/label: cannot identify image file '/Users/trangttdang/Downloads/food_data_1/train/images/WhatsApp-Image-2023-06-02-at-18-24-22-2-_jpeg_jpg.rf.760975e8f0485e738c28cbe5f7eb4353.jpg'\n",
      "\u001b[34m\u001b[1mtrain: \u001b[0mWARNING ⚠️ /Users/trangttdang/Downloads/food_data_1/train/images/WhatsApp-Image-2023-06-02-at-18-24-22-3-_jpeg_jpg.rf.0b58ef68af94069cb91145c316655a52.jpg: ignoring corrupt image/label: cannot identify image file '/Users/trangttdang/Downloads/food_data_1/train/images/WhatsApp-Image-2023-06-02-at-18-24-22-3-_jpeg_jpg.rf.0b58ef68af94069cb91145c316655a52.jpg'\n",
      "\u001b[34m\u001b[1mtrain: \u001b[0mWARNING ⚠️ /Users/trangttdang/Downloads/food_data_1/train/images/WhatsApp-Image-2023-06-02-at-18-24-22-3-_jpeg_jpg.rf.5621ff09465bef775c04e7b9c2409bd4.jpg: ignoring corrupt image/label: cannot identify image file '/Users/trangttdang/Downloads/food_data_1/train/images/WhatsApp-Image-2023-06-02-at-18-24-22-3-_jpeg_jpg.rf.5621ff09465bef775c04e7b9c2409bd4.jpg'\n",
      "\u001b[34m\u001b[1mtrain: \u001b[0mWARNING ⚠️ /Users/trangttdang/Downloads/food_data_1/train/images/WhatsApp-Image-2023-06-02-at-18-24-22_jpeg_jpg.rf.0cd3438c374e8b3d726388e987e040be.jpg: ignoring corrupt image/label: cannot identify image file '/Users/trangttdang/Downloads/food_data_1/train/images/WhatsApp-Image-2023-06-02-at-18-24-22_jpeg_jpg.rf.0cd3438c374e8b3d726388e987e040be.jpg'\n",
      "\u001b[34m\u001b[1mtrain: \u001b[0mWARNING ⚠️ /Users/trangttdang/Downloads/food_data_1/train/images/WhatsApp-Image-2023-06-02-at-18-24-22_jpeg_jpg.rf.41642682e426ac56eb60960261f2ee29.jpg: ignoring corrupt image/label: cannot identify image file '/Users/trangttdang/Downloads/food_data_1/train/images/WhatsApp-Image-2023-06-02-at-18-24-22_jpeg_jpg.rf.41642682e426ac56eb60960261f2ee29.jpg'\n",
      "\u001b[34m\u001b[1mtrain: \u001b[0mWARNING ⚠️ /Users/trangttdang/Downloads/food_data_1/train/images/WhatsApp-Image-2023-06-02-at-18-24-23-2-_jpeg_jpg.rf.188f3a2d1ba47936c4d8dbb0623d4a19.jpg: ignoring corrupt image/label: image file is truncated (17 bytes not processed)\n",
      "\u001b[34m\u001b[1mtrain: \u001b[0mWARNING ⚠️ /Users/trangttdang/Downloads/food_data_1/train/images/WhatsApp-Image-2023-06-02-at-18-24-23-2-_jpeg_jpg.rf.ae397477a72d6cd0fee63f0b427ca22b.jpg: ignoring corrupt image/label: image file is truncated (51 bytes not processed)\n",
      "\u001b[34m\u001b[1mtrain: \u001b[0mWARNING ⚠️ /Users/trangttdang/Downloads/food_data_1/train/images/WhatsApp-Image-2023-06-02-at-18-24-23-2-_jpeg_jpg.rf.f03c76f7e4fe3b7a5d1d812fddda0692.jpg: ignoring corrupt image/label: cannot identify image file '/Users/trangttdang/Downloads/food_data_1/train/images/WhatsApp-Image-2023-06-02-at-18-24-23-2-_jpeg_jpg.rf.f03c76f7e4fe3b7a5d1d812fddda0692.jpg'\n",
      "\u001b[34m\u001b[1mtrain: \u001b[0mWARNING ⚠️ /Users/trangttdang/Downloads/food_data_1/train/images/WhatsApp-Image-2023-06-02-at-18-24-23-2-_jpeg_jpg.rf.f3ac2a4246b6a018abad3d377131db8e.jpg: ignoring corrupt image/label: cannot identify image file '/Users/trangttdang/Downloads/food_data_1/train/images/WhatsApp-Image-2023-06-02-at-18-24-23-2-_jpeg_jpg.rf.f3ac2a4246b6a018abad3d377131db8e.jpg'\n",
      "\u001b[34m\u001b[1mtrain: \u001b[0mWARNING ⚠️ /Users/trangttdang/Downloads/food_data_1/train/images/WhatsApp-Image-2023-06-02-at-18-24-23-2-_jpeg_jpg.rf.f59208f8c150f4700bab375b43fbcd1d.jpg: ignoring corrupt image/label: cannot identify image file '/Users/trangttdang/Downloads/food_data_1/train/images/WhatsApp-Image-2023-06-02-at-18-24-23-2-_jpeg_jpg.rf.f59208f8c150f4700bab375b43fbcd1d.jpg'\n",
      "\u001b[34m\u001b[1mtrain: \u001b[0mWARNING ⚠️ /Users/trangttdang/Downloads/food_data_1/train/images/WhatsApp-Image-2023-06-02-at-18-24-23_jpeg_jpg.rf.c8499fddf884f871b6ff1216217ae218.jpg: ignoring corrupt image/label: cannot identify image file '/Users/trangttdang/Downloads/food_data_1/train/images/WhatsApp-Image-2023-06-02-at-18-24-23_jpeg_jpg.rf.c8499fddf884f871b6ff1216217ae218.jpg'\n",
      "\u001b[34m\u001b[1mtrain: \u001b[0mWARNING ⚠️ /Users/trangttdang/Downloads/food_data_1/train/images/WhatsApp-Image-2023-06-02-at-18-24-23_jpeg_jpg.rf.d826d18d6fa7e570856d54dcb98d6ba0.jpg: ignoring corrupt image/label: cannot identify image file '/Users/trangttdang/Downloads/food_data_1/train/images/WhatsApp-Image-2023-06-02-at-18-24-23_jpeg_jpg.rf.d826d18d6fa7e570856d54dcb98d6ba0.jpg'\n",
      "\u001b[34m\u001b[1mtrain: \u001b[0mWARNING ⚠️ /Users/trangttdang/Downloads/food_data_1/train/images/WhatsApp-Image-2023-06-02-at-18-24-24-1-_jpeg_jpg.rf.051a5dacf79185c8b7a2a9717623f6bd.jpg: ignoring corrupt image/label: cannot identify image file '/Users/trangttdang/Downloads/food_data_1/train/images/WhatsApp-Image-2023-06-02-at-18-24-24-1-_jpeg_jpg.rf.051a5dacf79185c8b7a2a9717623f6bd.jpg'\n",
      "\u001b[34m\u001b[1mtrain: \u001b[0mWARNING ⚠️ /Users/trangttdang/Downloads/food_data_1/train/images/WhatsApp-Image-2023-06-02-at-18-24-24-1-_jpeg_jpg.rf.0e24f8c6fcf96a72fda1b5c1986468d4.jpg: ignoring corrupt image/label: cannot identify image file '/Users/trangttdang/Downloads/food_data_1/train/images/WhatsApp-Image-2023-06-02-at-18-24-24-1-_jpeg_jpg.rf.0e24f8c6fcf96a72fda1b5c1986468d4.jpg'\n",
      "\u001b[34m\u001b[1mtrain: \u001b[0mWARNING ⚠️ /Users/trangttdang/Downloads/food_data_1/train/images/WhatsApp-Image-2023-06-02-at-18-24-24-1-_jpeg_jpg.rf.397d98804f6261e0977a2400306ea7fb.jpg: ignoring corrupt image/label: cannot identify image file '/Users/trangttdang/Downloads/food_data_1/train/images/WhatsApp-Image-2023-06-02-at-18-24-24-1-_jpeg_jpg.rf.397d98804f6261e0977a2400306ea7fb.jpg'\n",
      "\u001b[34m\u001b[1mtrain: \u001b[0mWARNING ⚠️ /Users/trangttdang/Downloads/food_data_1/train/images/WhatsApp-Image-2023-06-02-at-18-24-24-1-_jpeg_jpg.rf.992d8bc2f9a51fb9b4cce301d4400bbc.jpg: ignoring corrupt image/label: cannot identify image file '/Users/trangttdang/Downloads/food_data_1/train/images/WhatsApp-Image-2023-06-02-at-18-24-24-1-_jpeg_jpg.rf.992d8bc2f9a51fb9b4cce301d4400bbc.jpg'\n",
      "\u001b[34m\u001b[1mtrain: \u001b[0mWARNING ⚠️ /Users/trangttdang/Downloads/food_data_1/train/images/WhatsApp-Image-2023-06-02-at-18-24-24-1-_jpeg_jpg.rf.f6dfda88d48623b66da3d38a98ea8669.jpg: ignoring corrupt image/label: cannot identify image file '/Users/trangttdang/Downloads/food_data_1/train/images/WhatsApp-Image-2023-06-02-at-18-24-24-1-_jpeg_jpg.rf.f6dfda88d48623b66da3d38a98ea8669.jpg'\n",
      "\u001b[34m\u001b[1mtrain: \u001b[0mWARNING ⚠️ /Users/trangttdang/Downloads/food_data_1/train/images/WhatsApp-Image-2023-06-02-at-18-24-24-2-_jpeg_jpg.rf.b14bb67f67685cec68bf98495a7798e6.jpg: ignoring corrupt image/label: cannot identify image file '/Users/trangttdang/Downloads/food_data_1/train/images/WhatsApp-Image-2023-06-02-at-18-24-24-2-_jpeg_jpg.rf.b14bb67f67685cec68bf98495a7798e6.jpg'\n",
      "\u001b[34m\u001b[1mtrain: \u001b[0mWARNING ⚠️ /Users/trangttdang/Downloads/food_data_1/train/images/WhatsApp-Image-2023-06-02-at-18-24-24-2-_jpeg_jpg.rf.d867d62406c0643b78cab81ad6a1137e.jpg: ignoring corrupt image/label: cannot identify image file '/Users/trangttdang/Downloads/food_data_1/train/images/WhatsApp-Image-2023-06-02-at-18-24-24-2-_jpeg_jpg.rf.d867d62406c0643b78cab81ad6a1137e.jpg'\n",
      "\u001b[34m\u001b[1mtrain: \u001b[0mWARNING ⚠️ /Users/trangttdang/Downloads/food_data_1/train/images/WhatsApp-Image-2023-06-02-at-18-24-24-2-_jpeg_jpg.rf.de390c96d0638978b9dd6b07eb5cdb34.jpg: ignoring corrupt image/label: cannot identify image file '/Users/trangttdang/Downloads/food_data_1/train/images/WhatsApp-Image-2023-06-02-at-18-24-24-2-_jpeg_jpg.rf.de390c96d0638978b9dd6b07eb5cdb34.jpg'\n",
      "\u001b[34m\u001b[1mtrain: \u001b[0mWARNING ⚠️ /Users/trangttdang/Downloads/food_data_1/train/images/WhatsApp-Image-2023-06-02-at-18-24-24-4-_jpeg_jpg.rf.3747d71fc49f61b36e3fbab3850800f4.jpg: ignoring corrupt image/label: cannot identify image file '/Users/trangttdang/Downloads/food_data_1/train/images/WhatsApp-Image-2023-06-02-at-18-24-24-4-_jpeg_jpg.rf.3747d71fc49f61b36e3fbab3850800f4.jpg'\n",
      "\u001b[34m\u001b[1mtrain: \u001b[0mWARNING ⚠️ /Users/trangttdang/Downloads/food_data_1/train/images/WhatsApp-Image-2023-06-02-at-18-24-24-4-_jpeg_jpg.rf.3e6375f85c0d2c0442914f6a3e3814e9.jpg: ignoring corrupt image/label: cannot identify image file '/Users/trangttdang/Downloads/food_data_1/train/images/WhatsApp-Image-2023-06-02-at-18-24-24-4-_jpeg_jpg.rf.3e6375f85c0d2c0442914f6a3e3814e9.jpg'\n",
      "\u001b[34m\u001b[1mtrain: \u001b[0mWARNING ⚠️ /Users/trangttdang/Downloads/food_data_1/train/images/WhatsApp-Image-2023-06-02-at-18-24-24-4-_jpeg_jpg.rf.d7436c0e9ca035f4db63f0cad24d2520.jpg: ignoring corrupt image/label: cannot identify image file '/Users/trangttdang/Downloads/food_data_1/train/images/WhatsApp-Image-2023-06-02-at-18-24-24-4-_jpeg_jpg.rf.d7436c0e9ca035f4db63f0cad24d2520.jpg'\n",
      "\u001b[34m\u001b[1mtrain: \u001b[0mWARNING ⚠️ /Users/trangttdang/Downloads/food_data_1/train/images/WhatsApp-Image-2023-06-02-at-18-24-24-4-_jpeg_jpg.rf.db99b00b23f780966ad62256779ed937.jpg: ignoring corrupt image/label: cannot identify image file '/Users/trangttdang/Downloads/food_data_1/train/images/WhatsApp-Image-2023-06-02-at-18-24-24-4-_jpeg_jpg.rf.db99b00b23f780966ad62256779ed937.jpg'\n",
      "\u001b[34m\u001b[1mtrain: \u001b[0mWARNING ⚠️ /Users/trangttdang/Downloads/food_data_1/train/images/WhatsApp-Image-2023-06-02-at-18-24-24-4-_jpeg_jpg.rf.e41d5e317cc8daeb04108479b73b78dd.jpg: ignoring corrupt image/label: image file is truncated (72 bytes not processed)\n",
      "\u001b[34m\u001b[1mtrain: \u001b[0mWARNING ⚠️ /Users/trangttdang/Downloads/food_data_1/train/images/WhatsApp-Image-2023-06-10-at-08-15-27_jpeg_jpg.rf.1dd1762d4f8d28a6b2fd7a97ca62fa3a.jpg: ignoring corrupt image/label: cannot identify image file '/Users/trangttdang/Downloads/food_data_1/train/images/WhatsApp-Image-2023-06-10-at-08-15-27_jpeg_jpg.rf.1dd1762d4f8d28a6b2fd7a97ca62fa3a.jpg'\n",
      "\u001b[34m\u001b[1mtrain: \u001b[0mWARNING ⚠️ /Users/trangttdang/Downloads/food_data_1/train/images/WhatsApp-Image-2023-06-10-at-08-15-27_jpeg_jpg.rf.3add32a63c3eccfe6792c505a73d1968.jpg: ignoring corrupt image/label: cannot identify image file '/Users/trangttdang/Downloads/food_data_1/train/images/WhatsApp-Image-2023-06-10-at-08-15-27_jpeg_jpg.rf.3add32a63c3eccfe6792c505a73d1968.jpg'\n",
      "\u001b[34m\u001b[1mtrain: \u001b[0mWARNING ⚠️ /Users/trangttdang/Downloads/food_data_1/train/images/WhatsApp-Image-2023-06-10-at-08-15-27_jpeg_jpg.rf.3dc0897ca27460a2c4b3e61a02beac9a.jpg: ignoring corrupt image/label: cannot identify image file '/Users/trangttdang/Downloads/food_data_1/train/images/WhatsApp-Image-2023-06-10-at-08-15-27_jpeg_jpg.rf.3dc0897ca27460a2c4b3e61a02beac9a.jpg'\n",
      "\u001b[34m\u001b[1mtrain: \u001b[0mWARNING ⚠️ /Users/trangttdang/Downloads/food_data_1/train/images/WhatsApp-Image-2023-06-10-at-08-15-27_jpeg_jpg.rf.4b9f995a6eb421f88af8116ecbf87ed3.jpg: ignoring corrupt image/label: cannot identify image file '/Users/trangttdang/Downloads/food_data_1/train/images/WhatsApp-Image-2023-06-10-at-08-15-27_jpeg_jpg.rf.4b9f995a6eb421f88af8116ecbf87ed3.jpg'\n",
      "\u001b[34m\u001b[1mtrain: \u001b[0mWARNING ⚠️ /Users/trangttdang/Downloads/food_data_1/train/images/WhatsApp-Image-2023-06-10-at-08-15-27_jpeg_jpg.rf.c3b6525b71ffe958d03c93d31707ff9d.jpg: ignoring corrupt image/label: cannot identify image file '/Users/trangttdang/Downloads/food_data_1/train/images/WhatsApp-Image-2023-06-10-at-08-15-27_jpeg_jpg.rf.c3b6525b71ffe958d03c93d31707ff9d.jpg'\n",
      "\u001b[34m\u001b[1mtrain: \u001b[0mWARNING ⚠️ /Users/trangttdang/Downloads/food_data_1/train/images/WhatsApp-Image-2023-06-10-at-08-15-27_jpeg_jpg.rf.e0e967f904f6372b2769ad16d8fbb48c.jpg: ignoring corrupt image/label: cannot identify image file '/Users/trangttdang/Downloads/food_data_1/train/images/WhatsApp-Image-2023-06-10-at-08-15-27_jpeg_jpg.rf.e0e967f904f6372b2769ad16d8fbb48c.jpg'\n",
      "\u001b[34m\u001b[1mtrain: \u001b[0mWARNING ⚠️ /Users/trangttdang/Downloads/food_data_1/train/images/WhatsApp-Image-2023-06-10-at-08-15-28-1-_jpeg_jpg.rf.23fc965d69fbf369f797767eda9e05b0.jpg: ignoring corrupt image/label: cannot identify image file '/Users/trangttdang/Downloads/food_data_1/train/images/WhatsApp-Image-2023-06-10-at-08-15-28-1-_jpeg_jpg.rf.23fc965d69fbf369f797767eda9e05b0.jpg'\n",
      "\u001b[34m\u001b[1mtrain: \u001b[0mWARNING ⚠️ /Users/trangttdang/Downloads/food_data_1/train/images/WhatsApp-Image-2023-06-10-at-08-15-28-1-_jpeg_jpg.rf.28babbb9398933bf924271976600acef.jpg: ignoring corrupt image/label: cannot identify image file '/Users/trangttdang/Downloads/food_data_1/train/images/WhatsApp-Image-2023-06-10-at-08-15-28-1-_jpeg_jpg.rf.28babbb9398933bf924271976600acef.jpg'\n",
      "\u001b[34m\u001b[1mtrain: \u001b[0mWARNING ⚠️ /Users/trangttdang/Downloads/food_data_1/train/images/WhatsApp-Image-2023-06-10-at-08-15-28-1-_jpeg_jpg.rf.3347b25ce205a5e6dfc61984e74ebee4.jpg: ignoring corrupt image/label: cannot identify image file '/Users/trangttdang/Downloads/food_data_1/train/images/WhatsApp-Image-2023-06-10-at-08-15-28-1-_jpeg_jpg.rf.3347b25ce205a5e6dfc61984e74ebee4.jpg'\n",
      "\u001b[34m\u001b[1mtrain: \u001b[0mWARNING ⚠️ /Users/trangttdang/Downloads/food_data_1/train/images/WhatsApp-Image-2023-06-10-at-08-15-28-1-_jpeg_jpg.rf.451f1d9ea6784ffc95c5f65f681972de.jpg: ignoring corrupt image/label: cannot identify image file '/Users/trangttdang/Downloads/food_data_1/train/images/WhatsApp-Image-2023-06-10-at-08-15-28-1-_jpeg_jpg.rf.451f1d9ea6784ffc95c5f65f681972de.jpg'\n",
      "\u001b[34m\u001b[1mtrain: \u001b[0mWARNING ⚠️ /Users/trangttdang/Downloads/food_data_1/train/images/WhatsApp-Image-2023-06-10-at-08-15-28-1-_jpeg_jpg.rf.498cca97162c30354b5ec9b2a2809c3d.jpg: ignoring corrupt image/label: cannot identify image file '/Users/trangttdang/Downloads/food_data_1/train/images/WhatsApp-Image-2023-06-10-at-08-15-28-1-_jpeg_jpg.rf.498cca97162c30354b5ec9b2a2809c3d.jpg'\n",
      "\u001b[34m\u001b[1mtrain: \u001b[0mWARNING ⚠️ /Users/trangttdang/Downloads/food_data_1/train/images/WhatsApp-Image-2023-06-10-at-08-15-28-1-_jpeg_jpg.rf.6ad8736500089037689ef45a25d9ff9e.jpg: ignoring corrupt image/label: cannot identify image file '/Users/trangttdang/Downloads/food_data_1/train/images/WhatsApp-Image-2023-06-10-at-08-15-28-1-_jpeg_jpg.rf.6ad8736500089037689ef45a25d9ff9e.jpg'\n",
      "\u001b[34m\u001b[1mtrain: \u001b[0mWARNING ⚠️ /Users/trangttdang/Downloads/food_data_1/train/images/WhatsApp-Image-2023-06-10-at-08-15-28-1-_jpeg_jpg.rf.cbcbea567005bddf02c20ed79a251cad.jpg: ignoring corrupt image/label: cannot identify image file '/Users/trangttdang/Downloads/food_data_1/train/images/WhatsApp-Image-2023-06-10-at-08-15-28-1-_jpeg_jpg.rf.cbcbea567005bddf02c20ed79a251cad.jpg'\n",
      "\u001b[34m\u001b[1mtrain: \u001b[0mWARNING ⚠️ /Users/trangttdang/Downloads/food_data_1/train/images/WhatsApp-Image-2023-06-10-at-08-15-28-1-_jpeg_jpg.rf.f41af9aabd55bfaacf2a1b20904d1909.jpg: ignoring corrupt image/label: cannot identify image file '/Users/trangttdang/Downloads/food_data_1/train/images/WhatsApp-Image-2023-06-10-at-08-15-28-1-_jpeg_jpg.rf.f41af9aabd55bfaacf2a1b20904d1909.jpg'\n",
      "\u001b[34m\u001b[1mtrain: \u001b[0mWARNING ⚠️ /Users/trangttdang/Downloads/food_data_1/train/images/WhatsApp-Image-2023-06-10-at-08-15-28-2-_jpeg_jpg.rf.ddc9d807b205c873dc50c260a28303b6.jpg: ignoring corrupt image/label: cannot identify image file '/Users/trangttdang/Downloads/food_data_1/train/images/WhatsApp-Image-2023-06-10-at-08-15-28-2-_jpeg_jpg.rf.ddc9d807b205c873dc50c260a28303b6.jpg'\n",
      "\u001b[34m\u001b[1mtrain: \u001b[0mWARNING ⚠️ /Users/trangttdang/Downloads/food_data_1/train/images/WhatsApp-Image-2023-06-10-at-08-15-28-2-_jpeg_jpg.rf.e10f4cbba02ba1ed4192ff52532ff8e1.jpg: ignoring corrupt image/label: cannot identify image file '/Users/trangttdang/Downloads/food_data_1/train/images/WhatsApp-Image-2023-06-10-at-08-15-28-2-_jpeg_jpg.rf.e10f4cbba02ba1ed4192ff52532ff8e1.jpg'\n",
      "\u001b[34m\u001b[1mtrain: \u001b[0mWARNING ⚠️ /Users/trangttdang/Downloads/food_data_1/train/images/WhatsApp-Image-2023-06-10-at-08-15-28-2-_jpeg_jpg.rf.e29d07886caf1612a6331153199dfdb9.jpg: ignoring corrupt image/label: cannot identify image file '/Users/trangttdang/Downloads/food_data_1/train/images/WhatsApp-Image-2023-06-10-at-08-15-28-2-_jpeg_jpg.rf.e29d07886caf1612a6331153199dfdb9.jpg'\n",
      "\u001b[34m\u001b[1mtrain: \u001b[0mWARNING ⚠️ /Users/trangttdang/Downloads/food_data_1/train/images/WhatsApp-Image-2023-06-10-at-08-15-28-2-_jpeg_jpg.rf.e748f75239b2bf3660ea324c854b49a3.jpg: ignoring corrupt image/label: cannot identify image file '/Users/trangttdang/Downloads/food_data_1/train/images/WhatsApp-Image-2023-06-10-at-08-15-28-2-_jpeg_jpg.rf.e748f75239b2bf3660ea324c854b49a3.jpg'\n",
      "\u001b[34m\u001b[1mtrain: \u001b[0mWARNING ⚠️ /Users/trangttdang/Downloads/food_data_1/train/images/WhatsApp-Image-2023-06-10-at-08-15-28-2-_jpeg_jpg.rf.ecb0d75b5056c3bfc24f6b6fe3438fcb.jpg: ignoring corrupt image/label: cannot identify image file '/Users/trangttdang/Downloads/food_data_1/train/images/WhatsApp-Image-2023-06-10-at-08-15-28-2-_jpeg_jpg.rf.ecb0d75b5056c3bfc24f6b6fe3438fcb.jpg'\n",
      "\u001b[34m\u001b[1mtrain: \u001b[0mWARNING ⚠️ /Users/trangttdang/Downloads/food_data_1/train/images/WhatsApp-Image-2023-06-10-at-08-15-28-3-_jpeg_jpg.rf.46683b45ff2a8407e6b0333e91dfc2c9.jpg: ignoring corrupt image/label: cannot identify image file '/Users/trangttdang/Downloads/food_data_1/train/images/WhatsApp-Image-2023-06-10-at-08-15-28-3-_jpeg_jpg.rf.46683b45ff2a8407e6b0333e91dfc2c9.jpg'\n",
      "\u001b[34m\u001b[1mtrain: \u001b[0mWARNING ⚠️ /Users/trangttdang/Downloads/food_data_1/train/images/WhatsApp-Image-2023-06-10-at-08-15-28-3-_jpeg_jpg.rf.4dc7ee369ec573c498dd9b3130dde9e8.jpg: ignoring corrupt image/label: cannot identify image file '/Users/trangttdang/Downloads/food_data_1/train/images/WhatsApp-Image-2023-06-10-at-08-15-28-3-_jpeg_jpg.rf.4dc7ee369ec573c498dd9b3130dde9e8.jpg'\n",
      "\u001b[34m\u001b[1mtrain: \u001b[0mWARNING ⚠️ /Users/trangttdang/Downloads/food_data_1/train/images/WhatsApp-Image-2023-06-10-at-08-15-28-3-_jpeg_jpg.rf.4e27590f7642c92e56c7ec8b909c5465.jpg: ignoring corrupt image/label: cannot identify image file '/Users/trangttdang/Downloads/food_data_1/train/images/WhatsApp-Image-2023-06-10-at-08-15-28-3-_jpeg_jpg.rf.4e27590f7642c92e56c7ec8b909c5465.jpg'\n",
      "\u001b[34m\u001b[1mtrain: \u001b[0mWARNING ⚠️ /Users/trangttdang/Downloads/food_data_1/train/images/WhatsApp-Image-2023-06-10-at-08-15-28-3-_jpeg_jpg.rf.87ba5e33d36e53dca68038374cc73d14.jpg: ignoring corrupt image/label: cannot identify image file '/Users/trangttdang/Downloads/food_data_1/train/images/WhatsApp-Image-2023-06-10-at-08-15-28-3-_jpeg_jpg.rf.87ba5e33d36e53dca68038374cc73d14.jpg'\n",
      "\u001b[34m\u001b[1mtrain: \u001b[0mWARNING ⚠️ /Users/trangttdang/Downloads/food_data_1/train/images/WhatsApp-Image-2023-06-10-at-08-15-28-3-_jpeg_jpg.rf.8b36a3329f45a87324f05903c6a0fe00.jpg: ignoring corrupt image/label: cannot identify image file '/Users/trangttdang/Downloads/food_data_1/train/images/WhatsApp-Image-2023-06-10-at-08-15-28-3-_jpeg_jpg.rf.8b36a3329f45a87324f05903c6a0fe00.jpg'\n",
      "\u001b[34m\u001b[1mtrain: \u001b[0mWARNING ⚠️ /Users/trangttdang/Downloads/food_data_1/train/images/WhatsApp-Image-2023-06-10-at-08-15-28-4-_jpeg_jpg.rf.5f71c1c2bce99e79803f1f17696e0709.jpg: ignoring corrupt image/label: image file is truncated (53 bytes not processed)\n",
      "\u001b[34m\u001b[1mtrain: \u001b[0mWARNING ⚠️ /Users/trangttdang/Downloads/food_data_1/train/images/WhatsApp-Image-2023-06-10-at-08-15-28-4-_jpeg_jpg.rf.63fab4e25a3a8ea7dd2a96d441da327d.jpg: ignoring corrupt image/label: cannot identify image file '/Users/trangttdang/Downloads/food_data_1/train/images/WhatsApp-Image-2023-06-10-at-08-15-28-4-_jpeg_jpg.rf.63fab4e25a3a8ea7dd2a96d441da327d.jpg'\n",
      "\u001b[34m\u001b[1mtrain: \u001b[0mWARNING ⚠️ /Users/trangttdang/Downloads/food_data_1/train/images/WhatsApp-Image-2023-06-10-at-08-15-28-4-_jpeg_jpg.rf.9002db3fa4c2a87e19685ab8178126aa.jpg: ignoring corrupt image/label: cannot identify image file '/Users/trangttdang/Downloads/food_data_1/train/images/WhatsApp-Image-2023-06-10-at-08-15-28-4-_jpeg_jpg.rf.9002db3fa4c2a87e19685ab8178126aa.jpg'\n",
      "\u001b[34m\u001b[1mtrain: \u001b[0mWARNING ⚠️ /Users/trangttdang/Downloads/food_data_1/train/images/WhatsApp-Image-2023-06-10-at-08-15-28-4-_jpeg_jpg.rf.94a3c34e403827be0babfa657a93201e.jpg: ignoring corrupt image/label: cannot identify image file '/Users/trangttdang/Downloads/food_data_1/train/images/WhatsApp-Image-2023-06-10-at-08-15-28-4-_jpeg_jpg.rf.94a3c34e403827be0babfa657a93201e.jpg'\n",
      "\u001b[34m\u001b[1mtrain: \u001b[0mWARNING ⚠️ /Users/trangttdang/Downloads/food_data_1/train/images/WhatsApp-Image-2023-06-10-at-08-15-28-4-_jpeg_jpg.rf.cb03d140d3f469b427a8fea76511ffab.jpg: ignoring corrupt image/label: cannot identify image file '/Users/trangttdang/Downloads/food_data_1/train/images/WhatsApp-Image-2023-06-10-at-08-15-28-4-_jpeg_jpg.rf.cb03d140d3f469b427a8fea76511ffab.jpg'\n",
      "\u001b[34m\u001b[1mtrain: \u001b[0mWARNING ⚠️ /Users/trangttdang/Downloads/food_data_1/train/images/WhatsApp-Image-2023-06-10-at-08-15-28-4-_jpeg_jpg.rf.d4ba841b5c405ae51034b6d137368ade.jpg: ignoring corrupt image/label: cannot identify image file '/Users/trangttdang/Downloads/food_data_1/train/images/WhatsApp-Image-2023-06-10-at-08-15-28-4-_jpeg_jpg.rf.d4ba841b5c405ae51034b6d137368ade.jpg'\n",
      "\u001b[34m\u001b[1mtrain: \u001b[0mWARNING ⚠️ /Users/trangttdang/Downloads/food_data_1/train/images/WhatsApp-Image-2023-06-10-at-08-15-28-4-_jpeg_jpg.rf.f243b07384c617249dc32831fbdc3d32.jpg: ignoring corrupt image/label: cannot identify image file '/Users/trangttdang/Downloads/food_data_1/train/images/WhatsApp-Image-2023-06-10-at-08-15-28-4-_jpeg_jpg.rf.f243b07384c617249dc32831fbdc3d32.jpg'\n",
      "\u001b[34m\u001b[1mtrain: \u001b[0mWARNING ⚠️ /Users/trangttdang/Downloads/food_data_1/train/images/WhatsApp-Image-2023-06-10-at-08-15-28-5-_jpeg_jpg.rf.1685aa2b65847e18167492532e21bc28.jpg: ignoring corrupt image/label: cannot identify image file '/Users/trangttdang/Downloads/food_data_1/train/images/WhatsApp-Image-2023-06-10-at-08-15-28-5-_jpeg_jpg.rf.1685aa2b65847e18167492532e21bc28.jpg'\n",
      "\u001b[34m\u001b[1mtrain: \u001b[0mWARNING ⚠️ /Users/trangttdang/Downloads/food_data_1/train/images/WhatsApp-Image-2023-06-10-at-08-15-28-5-_jpeg_jpg.rf.18bf96ffb89f36bb4844962ccd2e3f46.jpg: ignoring corrupt image/label: cannot identify image file '/Users/trangttdang/Downloads/food_data_1/train/images/WhatsApp-Image-2023-06-10-at-08-15-28-5-_jpeg_jpg.rf.18bf96ffb89f36bb4844962ccd2e3f46.jpg'\n",
      "\u001b[34m\u001b[1mtrain: \u001b[0mWARNING ⚠️ /Users/trangttdang/Downloads/food_data_1/train/images/WhatsApp-Image-2023-06-10-at-08-15-28-5-_jpeg_jpg.rf.54f73a9112b40f96df3a01d343da22fe.jpg: ignoring corrupt image/label: cannot identify image file '/Users/trangttdang/Downloads/food_data_1/train/images/WhatsApp-Image-2023-06-10-at-08-15-28-5-_jpeg_jpg.rf.54f73a9112b40f96df3a01d343da22fe.jpg'\n",
      "\u001b[34m\u001b[1mtrain: \u001b[0mWARNING ⚠️ /Users/trangttdang/Downloads/food_data_1/train/images/WhatsApp-Image-2023-06-10-at-08-15-28-5-_jpeg_jpg.rf.59a8df725e223f17181e4cbeb43b1289.jpg: ignoring corrupt image/label: cannot identify image file '/Users/trangttdang/Downloads/food_data_1/train/images/WhatsApp-Image-2023-06-10-at-08-15-28-5-_jpeg_jpg.rf.59a8df725e223f17181e4cbeb43b1289.jpg'\n",
      "\u001b[34m\u001b[1mtrain: \u001b[0mWARNING ⚠️ /Users/trangttdang/Downloads/food_data_1/train/images/WhatsApp-Image-2023-06-10-at-08-15-29-1-_jpeg_jpg.rf.49fe5377734f2e6cb7fa0f508ce0b854.jpg: ignoring corrupt image/label: cannot identify image file '/Users/trangttdang/Downloads/food_data_1/train/images/WhatsApp-Image-2023-06-10-at-08-15-29-1-_jpeg_jpg.rf.49fe5377734f2e6cb7fa0f508ce0b854.jpg'\n",
      "\u001b[34m\u001b[1mtrain: \u001b[0mWARNING ⚠️ /Users/trangttdang/Downloads/food_data_1/train/images/WhatsApp-Image-2023-06-10-at-08-15-29-1-_jpeg_jpg.rf.61b55730742e70b2ecb3e748bdd8dc9a.jpg: ignoring corrupt image/label: cannot identify image file '/Users/trangttdang/Downloads/food_data_1/train/images/WhatsApp-Image-2023-06-10-at-08-15-29-1-_jpeg_jpg.rf.61b55730742e70b2ecb3e748bdd8dc9a.jpg'\n",
      "\u001b[34m\u001b[1mtrain: \u001b[0mWARNING ⚠️ /Users/trangttdang/Downloads/food_data_1/train/images/WhatsApp-Image-2023-06-10-at-08-15-29-1-_jpeg_jpg.rf.743524594c48beee25f0ae6f53b4247a.jpg: ignoring corrupt image/label: cannot identify image file '/Users/trangttdang/Downloads/food_data_1/train/images/WhatsApp-Image-2023-06-10-at-08-15-29-1-_jpeg_jpg.rf.743524594c48beee25f0ae6f53b4247a.jpg'\n",
      "\u001b[34m\u001b[1mtrain: \u001b[0mWARNING ⚠️ /Users/trangttdang/Downloads/food_data_1/train/images/WhatsApp-Image-2023-06-10-at-08-15-29-1-_jpeg_jpg.rf.8d00275672590a5083bd446251726ee0.jpg: ignoring corrupt image/label: cannot identify image file '/Users/trangttdang/Downloads/food_data_1/train/images/WhatsApp-Image-2023-06-10-at-08-15-29-1-_jpeg_jpg.rf.8d00275672590a5083bd446251726ee0.jpg'\n",
      "\u001b[34m\u001b[1mtrain: \u001b[0mWARNING ⚠️ /Users/trangttdang/Downloads/food_data_1/train/images/WhatsApp-Image-2023-06-10-at-08-15-29-1-_jpeg_jpg.rf.9c24fbc02e83bdc2fe1eceefa78e7417.jpg: ignoring corrupt image/label: cannot identify image file '/Users/trangttdang/Downloads/food_data_1/train/images/WhatsApp-Image-2023-06-10-at-08-15-29-1-_jpeg_jpg.rf.9c24fbc02e83bdc2fe1eceefa78e7417.jpg'\n",
      "\u001b[34m\u001b[1mtrain: \u001b[0mWARNING ⚠️ /Users/trangttdang/Downloads/food_data_1/train/images/WhatsApp-Image-2023-06-10-at-08-15-29-1-_jpeg_jpg.rf.9f87ac9c3cc5a72b5a0c5ca782f799c2.jpg: ignoring corrupt image/label: cannot identify image file '/Users/trangttdang/Downloads/food_data_1/train/images/WhatsApp-Image-2023-06-10-at-08-15-29-1-_jpeg_jpg.rf.9f87ac9c3cc5a72b5a0c5ca782f799c2.jpg'\n",
      "\u001b[34m\u001b[1mtrain: \u001b[0mWARNING ⚠️ /Users/trangttdang/Downloads/food_data_1/train/images/WhatsApp-Image-2023-06-10-at-08-15-29-1-_jpeg_jpg.rf.cf72bb1c7623973b5181889825e60cd9.jpg: ignoring corrupt image/label: cannot identify image file '/Users/trangttdang/Downloads/food_data_1/train/images/WhatsApp-Image-2023-06-10-at-08-15-29-1-_jpeg_jpg.rf.cf72bb1c7623973b5181889825e60cd9.jpg'\n",
      "\u001b[34m\u001b[1mtrain: \u001b[0mWARNING ⚠️ /Users/trangttdang/Downloads/food_data_1/train/images/WhatsApp-Image-2023-06-10-at-08-15-29-1-_jpeg_jpg.rf.d9a9e29509853d627c9d5fa7d713aac8.jpg: ignoring corrupt image/label: cannot identify image file '/Users/trangttdang/Downloads/food_data_1/train/images/WhatsApp-Image-2023-06-10-at-08-15-29-1-_jpeg_jpg.rf.d9a9e29509853d627c9d5fa7d713aac8.jpg'\n",
      "\u001b[34m\u001b[1mtrain: \u001b[0mWARNING ⚠️ /Users/trangttdang/Downloads/food_data_1/train/images/WhatsApp-Image-2023-06-10-at-08-15-29-1-_jpeg_jpg.rf.ec5fae0bca3ce82014daf79ce788147e.jpg: ignoring corrupt image/label: cannot identify image file '/Users/trangttdang/Downloads/food_data_1/train/images/WhatsApp-Image-2023-06-10-at-08-15-29-1-_jpeg_jpg.rf.ec5fae0bca3ce82014daf79ce788147e.jpg'\n",
      "\u001b[34m\u001b[1mtrain: \u001b[0mWARNING ⚠️ /Users/trangttdang/Downloads/food_data_1/train/images/WhatsApp-Image-2023-06-10-at-08-15-29-4-_jpeg_jpg.rf.1a98f688f04380330f061ae39308904a.jpg: ignoring corrupt image/label: cannot identify image file '/Users/trangttdang/Downloads/food_data_1/train/images/WhatsApp-Image-2023-06-10-at-08-15-29-4-_jpeg_jpg.rf.1a98f688f04380330f061ae39308904a.jpg'\n",
      "\u001b[34m\u001b[1mtrain: \u001b[0mWARNING ⚠️ /Users/trangttdang/Downloads/food_data_1/train/images/WhatsApp-Image-2023-06-10-at-08-15-29-4-_jpeg_jpg.rf.2f109b687a38da514810b378e0ecd343.jpg: ignoring corrupt image/label: cannot identify image file '/Users/trangttdang/Downloads/food_data_1/train/images/WhatsApp-Image-2023-06-10-at-08-15-29-4-_jpeg_jpg.rf.2f109b687a38da514810b378e0ecd343.jpg'\n",
      "\u001b[34m\u001b[1mtrain: \u001b[0mWARNING ⚠️ /Users/trangttdang/Downloads/food_data_1/train/images/WhatsApp-Image-2023-06-10-at-08-15-29-4-_jpeg_jpg.rf.47a6cf1a5ba31ac7f1e2a5e79e15646f.jpg: ignoring corrupt image/label: cannot identify image file '/Users/trangttdang/Downloads/food_data_1/train/images/WhatsApp-Image-2023-06-10-at-08-15-29-4-_jpeg_jpg.rf.47a6cf1a5ba31ac7f1e2a5e79e15646f.jpg'\n",
      "\u001b[34m\u001b[1mtrain: \u001b[0mWARNING ⚠️ /Users/trangttdang/Downloads/food_data_1/train/images/WhatsApp-Image-2023-06-10-at-08-15-29-4-_jpeg_jpg.rf.9e13cc354664ef79e6421afb686384b7.jpg: ignoring corrupt image/label: cannot identify image file '/Users/trangttdang/Downloads/food_data_1/train/images/WhatsApp-Image-2023-06-10-at-08-15-29-4-_jpeg_jpg.rf.9e13cc354664ef79e6421afb686384b7.jpg'\n",
      "\u001b[34m\u001b[1mtrain: \u001b[0mWARNING ⚠️ /Users/trangttdang/Downloads/food_data_1/train/images/WhatsApp-Image-2023-06-10-at-08-15-29-4-_jpeg_jpg.rf.b227c747ee7e1d9f5d4d89d634f170c9.jpg: ignoring corrupt image/label: cannot identify image file '/Users/trangttdang/Downloads/food_data_1/train/images/WhatsApp-Image-2023-06-10-at-08-15-29-4-_jpeg_jpg.rf.b227c747ee7e1d9f5d4d89d634f170c9.jpg'\n",
      "\u001b[34m\u001b[1mtrain: \u001b[0mWARNING ⚠️ /Users/trangttdang/Downloads/food_data_1/train/images/WhatsApp-Image-2023-06-10-at-08-15-29-4-_jpeg_jpg.rf.b414bf0aef8ade2a91daae5975e61d1b.jpg: ignoring corrupt image/label: cannot identify image file '/Users/trangttdang/Downloads/food_data_1/train/images/WhatsApp-Image-2023-06-10-at-08-15-29-4-_jpeg_jpg.rf.b414bf0aef8ade2a91daae5975e61d1b.jpg'\n",
      "\u001b[34m\u001b[1mtrain: \u001b[0mWARNING ⚠️ /Users/trangttdang/Downloads/food_data_1/train/images/WhatsApp-Image-2023-06-10-at-08-15-29-4-_jpeg_jpg.rf.b539fc3880b0e68137e3d17a5b20dd41.jpg: ignoring corrupt image/label: cannot identify image file '/Users/trangttdang/Downloads/food_data_1/train/images/WhatsApp-Image-2023-06-10-at-08-15-29-4-_jpeg_jpg.rf.b539fc3880b0e68137e3d17a5b20dd41.jpg'\n",
      "\u001b[34m\u001b[1mtrain: \u001b[0mWARNING ⚠️ /Users/trangttdang/Downloads/food_data_1/train/images/WhatsApp-Image-2023-06-10-at-08-15-29-4-_jpeg_jpg.rf.d007be2976905d64412147c3915466bd.jpg: ignoring corrupt image/label: cannot identify image file '/Users/trangttdang/Downloads/food_data_1/train/images/WhatsApp-Image-2023-06-10-at-08-15-29-4-_jpeg_jpg.rf.d007be2976905d64412147c3915466bd.jpg'\n",
      "\u001b[34m\u001b[1mtrain: \u001b[0mWARNING ⚠️ /Users/trangttdang/Downloads/food_data_1/train/images/WhatsApp-Image-2023-06-10-at-08-15-29-4-_jpeg_jpg.rf.d399991e21e4a66d129ac4fbc68398f5.jpg: ignoring corrupt image/label: cannot identify image file '/Users/trangttdang/Downloads/food_data_1/train/images/WhatsApp-Image-2023-06-10-at-08-15-29-4-_jpeg_jpg.rf.d399991e21e4a66d129ac4fbc68398f5.jpg'\n",
      "\u001b[34m\u001b[1mtrain: \u001b[0mWARNING ⚠️ /Users/trangttdang/Downloads/food_data_1/train/images/WhatsApp-Image-2023-06-10-at-08-15-29-4-_jpeg_jpg.rf.ef2f7daa94ad142a831fc0d3d3b14184.jpg: ignoring corrupt image/label: cannot identify image file '/Users/trangttdang/Downloads/food_data_1/train/images/WhatsApp-Image-2023-06-10-at-08-15-29-4-_jpeg_jpg.rf.ef2f7daa94ad142a831fc0d3d3b14184.jpg'\n",
      "\u001b[34m\u001b[1mtrain: \u001b[0mWARNING ⚠️ /Users/trangttdang/Downloads/food_data_1/train/images/WhatsApp-Image-2023-06-10-at-08-15-29-4-_jpeg_jpg.rf.f8dbe8a601e8495e11f40019c208c6a5.jpg: ignoring corrupt image/label: cannot identify image file '/Users/trangttdang/Downloads/food_data_1/train/images/WhatsApp-Image-2023-06-10-at-08-15-29-4-_jpeg_jpg.rf.f8dbe8a601e8495e11f40019c208c6a5.jpg'\n",
      "\u001b[34m\u001b[1mtrain: \u001b[0mWARNING ⚠️ /Users/trangttdang/Downloads/food_data_1/train/images/WhatsApp-Image-2023-06-10-at-08-15-29-5-_jpeg_jpg.rf.52c3b1b7fc54b5b069149db00f7b7ba2.jpg: ignoring corrupt image/label: cannot identify image file '/Users/trangttdang/Downloads/food_data_1/train/images/WhatsApp-Image-2023-06-10-at-08-15-29-5-_jpeg_jpg.rf.52c3b1b7fc54b5b069149db00f7b7ba2.jpg'\n",
      "\u001b[34m\u001b[1mtrain: \u001b[0mWARNING ⚠️ /Users/trangttdang/Downloads/food_data_1/train/images/WhatsApp-Image-2023-06-10-at-08-15-29-5-_jpeg_jpg.rf.5eb124c0a1cb8dc8acd1df93e3a7712d.jpg: ignoring corrupt image/label: cannot identify image file '/Users/trangttdang/Downloads/food_data_1/train/images/WhatsApp-Image-2023-06-10-at-08-15-29-5-_jpeg_jpg.rf.5eb124c0a1cb8dc8acd1df93e3a7712d.jpg'\n",
      "\u001b[34m\u001b[1mtrain: \u001b[0mWARNING ⚠️ /Users/trangttdang/Downloads/food_data_1/train/images/WhatsApp-Image-2023-06-10-at-08-15-29-5-_jpeg_jpg.rf.89fbb60554c213a2011ced2eac0219aa.jpg: ignoring corrupt image/label: cannot identify image file '/Users/trangttdang/Downloads/food_data_1/train/images/WhatsApp-Image-2023-06-10-at-08-15-29-5-_jpeg_jpg.rf.89fbb60554c213a2011ced2eac0219aa.jpg'\n",
      "\u001b[34m\u001b[1mtrain: \u001b[0mWARNING ⚠️ /Users/trangttdang/Downloads/food_data_1/train/images/WhatsApp-Image-2023-06-10-at-08-15-29-5-_jpeg_jpg.rf.c75d96ee920a264d644df0fd9f6d2e5e.jpg: ignoring corrupt image/label: cannot identify image file '/Users/trangttdang/Downloads/food_data_1/train/images/WhatsApp-Image-2023-06-10-at-08-15-29-5-_jpeg_jpg.rf.c75d96ee920a264d644df0fd9f6d2e5e.jpg'\n",
      "\u001b[34m\u001b[1mtrain: \u001b[0mWARNING ⚠️ /Users/trangttdang/Downloads/food_data_1/train/images/WhatsApp-Image-2023-06-10-at-08-15-29-5-_jpeg_jpg.rf.cf97e53dc84346088a0ddbe1bc231aac.jpg: ignoring corrupt image/label: cannot identify image file '/Users/trangttdang/Downloads/food_data_1/train/images/WhatsApp-Image-2023-06-10-at-08-15-29-5-_jpeg_jpg.rf.cf97e53dc84346088a0ddbe1bc231aac.jpg'\n",
      "\u001b[34m\u001b[1mtrain: \u001b[0mWARNING ⚠️ /Users/trangttdang/Downloads/food_data_1/train/images/WhatsApp-Image-2023-06-10-at-08-15-30-1-_jpeg_jpg.rf.1df2488369b16179cc1e656049fcba89.jpg: ignoring corrupt image/label: cannot identify image file '/Users/trangttdang/Downloads/food_data_1/train/images/WhatsApp-Image-2023-06-10-at-08-15-30-1-_jpeg_jpg.rf.1df2488369b16179cc1e656049fcba89.jpg'\n",
      "\u001b[34m\u001b[1mtrain: \u001b[0mWARNING ⚠️ /Users/trangttdang/Downloads/food_data_1/train/images/WhatsApp-Image-2023-06-10-at-08-15-30-1-_jpeg_jpg.rf.37f61b35da921c5e8c634f90d33a2fe4.jpg: ignoring corrupt image/label: cannot identify image file '/Users/trangttdang/Downloads/food_data_1/train/images/WhatsApp-Image-2023-06-10-at-08-15-30-1-_jpeg_jpg.rf.37f61b35da921c5e8c634f90d33a2fe4.jpg'\n",
      "\u001b[34m\u001b[1mtrain: \u001b[0mWARNING ⚠️ /Users/trangttdang/Downloads/food_data_1/train/images/WhatsApp-Image-2023-06-10-at-08-15-30-1-_jpeg_jpg.rf.42a51ff89e35e8bcea73298291a853de.jpg: ignoring corrupt image/label: cannot identify image file '/Users/trangttdang/Downloads/food_data_1/train/images/WhatsApp-Image-2023-06-10-at-08-15-30-1-_jpeg_jpg.rf.42a51ff89e35e8bcea73298291a853de.jpg'\n",
      "\u001b[34m\u001b[1mtrain: \u001b[0mWARNING ⚠️ /Users/trangttdang/Downloads/food_data_1/train/images/WhatsApp-Image-2023-06-10-at-08-15-30-1-_jpeg_jpg.rf.a415efa931107b7241c68e2f88a127c8.jpg: ignoring corrupt image/label: cannot identify image file '/Users/trangttdang/Downloads/food_data_1/train/images/WhatsApp-Image-2023-06-10-at-08-15-30-1-_jpeg_jpg.rf.a415efa931107b7241c68e2f88a127c8.jpg'\n",
      "\u001b[34m\u001b[1mtrain: \u001b[0mWARNING ⚠️ /Users/trangttdang/Downloads/food_data_1/train/images/WhatsApp-Image-2023-06-10-at-08-15-30-1-_jpeg_jpg.rf.ce2969955761cc7eedd269470d6404da.jpg: ignoring corrupt image/label: cannot identify image file '/Users/trangttdang/Downloads/food_data_1/train/images/WhatsApp-Image-2023-06-10-at-08-15-30-1-_jpeg_jpg.rf.ce2969955761cc7eedd269470d6404da.jpg'\n",
      "\u001b[34m\u001b[1mtrain: \u001b[0mWARNING ⚠️ /Users/trangttdang/Downloads/food_data_1/train/images/WhatsApp-Image-2023-06-10-at-08-15-30-1-_jpeg_jpg.rf.e18eb008e9a4f4f30a0ff445e6062a6a.jpg: ignoring corrupt image/label: cannot identify image file '/Users/trangttdang/Downloads/food_data_1/train/images/WhatsApp-Image-2023-06-10-at-08-15-30-1-_jpeg_jpg.rf.e18eb008e9a4f4f30a0ff445e6062a6a.jpg'\n",
      "\u001b[34m\u001b[1mtrain: \u001b[0mWARNING ⚠️ /Users/trangttdang/Downloads/food_data_1/train/images/WhatsApp-Image-2023-06-10-at-08-15-30-1-_jpeg_jpg.rf.f4e89bd90d78d97d505596d7a75aebda.jpg: ignoring corrupt image/label: cannot identify image file '/Users/trangttdang/Downloads/food_data_1/train/images/WhatsApp-Image-2023-06-10-at-08-15-30-1-_jpeg_jpg.rf.f4e89bd90d78d97d505596d7a75aebda.jpg'\n",
      "\u001b[34m\u001b[1mtrain: \u001b[0mWARNING ⚠️ /Users/trangttdang/Downloads/food_data_1/train/images/WhatsApp-Image-2023-06-10-at-08-15-30-2-_jpeg_jpg.rf.0027c0d3c3e764393509dffcffcb2fe1.jpg: ignoring corrupt image/label: cannot identify image file '/Users/trangttdang/Downloads/food_data_1/train/images/WhatsApp-Image-2023-06-10-at-08-15-30-2-_jpeg_jpg.rf.0027c0d3c3e764393509dffcffcb2fe1.jpg'\n",
      "\u001b[34m\u001b[1mtrain: \u001b[0mWARNING ⚠️ /Users/trangttdang/Downloads/food_data_1/train/images/WhatsApp-Image-2023-06-10-at-08-15-30-2-_jpeg_jpg.rf.2cdc03c5de095f690c901647d404d69d.jpg: ignoring corrupt image/label: image file is truncated (36 bytes not processed)\n",
      "\u001b[34m\u001b[1mtrain: \u001b[0mWARNING ⚠️ /Users/trangttdang/Downloads/food_data_1/train/images/WhatsApp-Image-2023-06-10-at-08-15-30-2-_jpeg_jpg.rf.3779ab232c09ceafa9806a6c479eec80.jpg: ignoring corrupt image/label: cannot identify image file '/Users/trangttdang/Downloads/food_data_1/train/images/WhatsApp-Image-2023-06-10-at-08-15-30-2-_jpeg_jpg.rf.3779ab232c09ceafa9806a6c479eec80.jpg'\n",
      "\u001b[34m\u001b[1mtrain: \u001b[0mWARNING ⚠️ /Users/trangttdang/Downloads/food_data_1/train/images/WhatsApp-Image-2023-06-10-at-08-15-30-2-_jpeg_jpg.rf.55e950f98c3b714ad95381619271f424.jpg: ignoring corrupt image/label: cannot identify image file '/Users/trangttdang/Downloads/food_data_1/train/images/WhatsApp-Image-2023-06-10-at-08-15-30-2-_jpeg_jpg.rf.55e950f98c3b714ad95381619271f424.jpg'\n",
      "\u001b[34m\u001b[1mtrain: \u001b[0mWARNING ⚠️ /Users/trangttdang/Downloads/food_data_1/train/images/WhatsApp-Image-2023-06-10-at-08-15-30-2-_jpeg_jpg.rf.ae226da32c540321bbed1f60a4f4a889.jpg: ignoring corrupt image/label: cannot identify image file '/Users/trangttdang/Downloads/food_data_1/train/images/WhatsApp-Image-2023-06-10-at-08-15-30-2-_jpeg_jpg.rf.ae226da32c540321bbed1f60a4f4a889.jpg'\n",
      "\u001b[34m\u001b[1mtrain: \u001b[0mWARNING ⚠️ /Users/trangttdang/Downloads/food_data_1/train/images/WhatsApp-Image-2023-06-10-at-08-15-30-2-_jpeg_jpg.rf.be62537551983083c040c438a5ac417c.jpg: ignoring corrupt image/label: cannot identify image file '/Users/trangttdang/Downloads/food_data_1/train/images/WhatsApp-Image-2023-06-10-at-08-15-30-2-_jpeg_jpg.rf.be62537551983083c040c438a5ac417c.jpg'\n",
      "\u001b[34m\u001b[1mtrain: \u001b[0mWARNING ⚠️ /Users/trangttdang/Downloads/food_data_1/train/images/WhatsApp-Image-2023-06-10-at-08-15-30-2-_jpeg_jpg.rf.bedebc9ab7225f300c4bc58424b714d6.jpg: ignoring corrupt image/label: cannot identify image file '/Users/trangttdang/Downloads/food_data_1/train/images/WhatsApp-Image-2023-06-10-at-08-15-30-2-_jpeg_jpg.rf.bedebc9ab7225f300c4bc58424b714d6.jpg'\n",
      "\u001b[34m\u001b[1mtrain: \u001b[0mWARNING ⚠️ /Users/trangttdang/Downloads/food_data_1/train/images/WhatsApp-Image-2023-06-10-at-08-15-30-3-_jpeg_jpg.rf.1a2a9a63adc6bc2e35950c226a7df56f.jpg: ignoring corrupt image/label: cannot identify image file '/Users/trangttdang/Downloads/food_data_1/train/images/WhatsApp-Image-2023-06-10-at-08-15-30-3-_jpeg_jpg.rf.1a2a9a63adc6bc2e35950c226a7df56f.jpg'\n",
      "\u001b[34m\u001b[1mtrain: \u001b[0mWARNING ⚠️ /Users/trangttdang/Downloads/food_data_1/train/images/WhatsApp-Image-2023-06-10-at-08-15-30-3-_jpeg_jpg.rf.3bc5cddba8193fc3c4260bf75b4900da.jpg: ignoring corrupt image/label: cannot identify image file '/Users/trangttdang/Downloads/food_data_1/train/images/WhatsApp-Image-2023-06-10-at-08-15-30-3-_jpeg_jpg.rf.3bc5cddba8193fc3c4260bf75b4900da.jpg'\n",
      "\u001b[34m\u001b[1mtrain: \u001b[0mWARNING ⚠️ /Users/trangttdang/Downloads/food_data_1/train/images/WhatsApp-Image-2023-06-10-at-08-15-30-3-_jpeg_jpg.rf.42e2e5a0cb0ed3ff2468e8b0329d2b87.jpg: ignoring corrupt image/label: image file is truncated (74 bytes not processed)\n",
      "\u001b[34m\u001b[1mtrain: \u001b[0mWARNING ⚠️ /Users/trangttdang/Downloads/food_data_1/train/images/WhatsApp-Image-2023-06-10-at-08-15-30-3-_jpeg_jpg.rf.b45a91316fac3c7c58ef4d90d196ba78.jpg: ignoring corrupt image/label: cannot identify image file '/Users/trangttdang/Downloads/food_data_1/train/images/WhatsApp-Image-2023-06-10-at-08-15-30-3-_jpeg_jpg.rf.b45a91316fac3c7c58ef4d90d196ba78.jpg'\n",
      "\u001b[34m\u001b[1mtrain: \u001b[0mWARNING ⚠️ /Users/trangttdang/Downloads/food_data_1/train/images/WhatsApp-Image-2023-06-10-at-08-15-30-3-_jpeg_jpg.rf.bc9c371504ba8c47735d3d5cc6c1078f.jpg: ignoring corrupt image/label: cannot identify image file '/Users/trangttdang/Downloads/food_data_1/train/images/WhatsApp-Image-2023-06-10-at-08-15-30-3-_jpeg_jpg.rf.bc9c371504ba8c47735d3d5cc6c1078f.jpg'\n",
      "\u001b[34m\u001b[1mtrain: \u001b[0mWARNING ⚠️ /Users/trangttdang/Downloads/food_data_1/train/images/WhatsApp-Image-2023-06-10-at-08-15-30-3-_jpeg_jpg.rf.e2c89bea6928d5e4b6152cbb479cec15.jpg: ignoring corrupt image/label: cannot identify image file '/Users/trangttdang/Downloads/food_data_1/train/images/WhatsApp-Image-2023-06-10-at-08-15-30-3-_jpeg_jpg.rf.e2c89bea6928d5e4b6152cbb479cec15.jpg'\n",
      "\u001b[34m\u001b[1mtrain: \u001b[0mWARNING ⚠️ /Users/trangttdang/Downloads/food_data_1/train/images/WhatsApp-Image-2023-06-10-at-08-15-30-3-_jpeg_jpg.rf.ebd620f0d08926b4374a82a140b3f5d5.jpg: ignoring corrupt image/label: cannot identify image file '/Users/trangttdang/Downloads/food_data_1/train/images/WhatsApp-Image-2023-06-10-at-08-15-30-3-_jpeg_jpg.rf.ebd620f0d08926b4374a82a140b3f5d5.jpg'\n",
      "\u001b[34m\u001b[1mtrain: \u001b[0mWARNING ⚠️ /Users/trangttdang/Downloads/food_data_1/train/images/WhatsApp-Image-2023-06-10-at-08-15-30-4-_jpeg_jpg.rf.30c369d6fb878d3a297684ea72c523d9.jpg: ignoring corrupt image/label: cannot identify image file '/Users/trangttdang/Downloads/food_data_1/train/images/WhatsApp-Image-2023-06-10-at-08-15-30-4-_jpeg_jpg.rf.30c369d6fb878d3a297684ea72c523d9.jpg'\n",
      "\u001b[34m\u001b[1mtrain: \u001b[0mWARNING ⚠️ /Users/trangttdang/Downloads/food_data_1/train/images/WhatsApp-Image-2023-06-10-at-08-15-30-4-_jpeg_jpg.rf.39f1aa85c2bdfa89e5850951b1f2c1bc.jpg: ignoring corrupt image/label: cannot identify image file '/Users/trangttdang/Downloads/food_data_1/train/images/WhatsApp-Image-2023-06-10-at-08-15-30-4-_jpeg_jpg.rf.39f1aa85c2bdfa89e5850951b1f2c1bc.jpg'\n",
      "\u001b[34m\u001b[1mtrain: \u001b[0mWARNING ⚠️ /Users/trangttdang/Downloads/food_data_1/train/images/WhatsApp-Image-2023-06-10-at-08-15-30-4-_jpeg_jpg.rf.57318d6d64263bf14aaf42d164ac6737.jpg: ignoring corrupt image/label: cannot identify image file '/Users/trangttdang/Downloads/food_data_1/train/images/WhatsApp-Image-2023-06-10-at-08-15-30-4-_jpeg_jpg.rf.57318d6d64263bf14aaf42d164ac6737.jpg'\n",
      "\u001b[34m\u001b[1mtrain: \u001b[0mWARNING ⚠️ /Users/trangttdang/Downloads/food_data_1/train/images/WhatsApp-Image-2023-06-10-at-08-15-30-4-_jpeg_jpg.rf.69bebc18eaf3af33a2963271c4426c5d.jpg: ignoring corrupt image/label: cannot identify image file '/Users/trangttdang/Downloads/food_data_1/train/images/WhatsApp-Image-2023-06-10-at-08-15-30-4-_jpeg_jpg.rf.69bebc18eaf3af33a2963271c4426c5d.jpg'\n",
      "\u001b[34m\u001b[1mtrain: \u001b[0mWARNING ⚠️ /Users/trangttdang/Downloads/food_data_1/train/images/WhatsApp-Image-2023-06-10-at-08-15-30-4-_jpeg_jpg.rf.985778b43ae80f2551b3e61cd797f58d.jpg: ignoring corrupt image/label: cannot identify image file '/Users/trangttdang/Downloads/food_data_1/train/images/WhatsApp-Image-2023-06-10-at-08-15-30-4-_jpeg_jpg.rf.985778b43ae80f2551b3e61cd797f58d.jpg'\n",
      "\u001b[34m\u001b[1mtrain: \u001b[0mWARNING ⚠️ /Users/trangttdang/Downloads/food_data_1/train/images/WhatsApp-Image-2023-06-10-at-08-15-30-4-_jpeg_jpg.rf.af6fa21ade842be9a6f49f2cb93fa3aa.jpg: ignoring corrupt image/label: image file is truncated (71 bytes not processed)\n",
      "\u001b[34m\u001b[1mtrain: \u001b[0mWARNING ⚠️ /Users/trangttdang/Downloads/food_data_1/train/images/WhatsApp-Image-2023-06-10-at-08-15-30-4-_jpeg_jpg.rf.b3f13081b95b402c4b5a412434f8a66a.jpg: ignoring corrupt image/label: cannot identify image file '/Users/trangttdang/Downloads/food_data_1/train/images/WhatsApp-Image-2023-06-10-at-08-15-30-4-_jpeg_jpg.rf.b3f13081b95b402c4b5a412434f8a66a.jpg'\n",
      "\u001b[34m\u001b[1mtrain: \u001b[0mWARNING ⚠️ /Users/trangttdang/Downloads/food_data_1/train/images/WhatsApp-Image-2023-06-10-at-08-15-30-4-_jpeg_jpg.rf.bcc9a4ed2af00149da6b76ee9c1a1a99.jpg: ignoring corrupt image/label: cannot identify image file '/Users/trangttdang/Downloads/food_data_1/train/images/WhatsApp-Image-2023-06-10-at-08-15-30-4-_jpeg_jpg.rf.bcc9a4ed2af00149da6b76ee9c1a1a99.jpg'\n",
      "\u001b[34m\u001b[1mtrain: \u001b[0mWARNING ⚠️ /Users/trangttdang/Downloads/food_data_1/train/images/WhatsApp-Image-2023-06-10-at-08-15-30-4-_jpeg_jpg.rf.dfff844cfeb03b2ea8534ef4e1cba960.jpg: ignoring corrupt image/label: cannot identify image file '/Users/trangttdang/Downloads/food_data_1/train/images/WhatsApp-Image-2023-06-10-at-08-15-30-4-_jpeg_jpg.rf.dfff844cfeb03b2ea8534ef4e1cba960.jpg'\n",
      "\u001b[34m\u001b[1mtrain: \u001b[0mWARNING ⚠️ /Users/trangttdang/Downloads/food_data_1/train/images/WhatsApp-Image-2023-06-10-at-08-15-33_jpeg_jpg.rf.1a8a7f294fbcf177afad691d2c730a36.jpg: ignoring corrupt image/label: cannot identify image file '/Users/trangttdang/Downloads/food_data_1/train/images/WhatsApp-Image-2023-06-10-at-08-15-33_jpeg_jpg.rf.1a8a7f294fbcf177afad691d2c730a36.jpg'\n",
      "\u001b[34m\u001b[1mtrain: \u001b[0mWARNING ⚠️ /Users/trangttdang/Downloads/food_data_1/train/images/WhatsApp-Image-2023-06-10-at-08-15-33_jpeg_jpg.rf.2934a43b4481a3a6a205f16ba4673dde.jpg: ignoring corrupt image/label: cannot identify image file '/Users/trangttdang/Downloads/food_data_1/train/images/WhatsApp-Image-2023-06-10-at-08-15-33_jpeg_jpg.rf.2934a43b4481a3a6a205f16ba4673dde.jpg'\n",
      "\u001b[34m\u001b[1mtrain: \u001b[0mWARNING ⚠️ /Users/trangttdang/Downloads/food_data_1/train/images/WhatsApp-Image-2023-06-10-at-08-15-33_jpeg_jpg.rf.44485d6f7d238228c6715539ffe73e6f.jpg: ignoring corrupt image/label: cannot identify image file '/Users/trangttdang/Downloads/food_data_1/train/images/WhatsApp-Image-2023-06-10-at-08-15-33_jpeg_jpg.rf.44485d6f7d238228c6715539ffe73e6f.jpg'\n",
      "\u001b[34m\u001b[1mtrain: \u001b[0mWARNING ⚠️ /Users/trangttdang/Downloads/food_data_1/train/images/WhatsApp-Image-2023-06-10-at-08-15-33_jpeg_jpg.rf.8104a20d3076b4607728f39a7358f5cb.jpg: ignoring corrupt image/label: cannot identify image file '/Users/trangttdang/Downloads/food_data_1/train/images/WhatsApp-Image-2023-06-10-at-08-15-33_jpeg_jpg.rf.8104a20d3076b4607728f39a7358f5cb.jpg'\n",
      "\u001b[34m\u001b[1mtrain: \u001b[0mWARNING ⚠️ /Users/trangttdang/Downloads/food_data_1/train/images/WhatsApp-Image-2023-06-10-at-08-15-33_jpeg_jpg.rf.83439015fbeddb9fd4850eada2dda323.jpg: ignoring corrupt image/label: cannot identify image file '/Users/trangttdang/Downloads/food_data_1/train/images/WhatsApp-Image-2023-06-10-at-08-15-33_jpeg_jpg.rf.83439015fbeddb9fd4850eada2dda323.jpg'\n",
      "\u001b[34m\u001b[1mtrain: \u001b[0mWARNING ⚠️ /Users/trangttdang/Downloads/food_data_1/train/images/WhatsApp-Image-2023-06-10-at-08-15-33_jpeg_jpg.rf.86c5f942cc9bc058923a1e9e95a46ef5.jpg: ignoring corrupt image/label: cannot identify image file '/Users/trangttdang/Downloads/food_data_1/train/images/WhatsApp-Image-2023-06-10-at-08-15-33_jpeg_jpg.rf.86c5f942cc9bc058923a1e9e95a46ef5.jpg'\n",
      "\u001b[34m\u001b[1mtrain: \u001b[0mWARNING ⚠️ /Users/trangttdang/Downloads/food_data_1/train/images/WhatsApp-Image-2023-06-10-at-08-15-33_jpeg_jpg.rf.ad151b1d3bd4dfddd20414449d6f2bf0.jpg: ignoring corrupt image/label: cannot identify image file '/Users/trangttdang/Downloads/food_data_1/train/images/WhatsApp-Image-2023-06-10-at-08-15-33_jpeg_jpg.rf.ad151b1d3bd4dfddd20414449d6f2bf0.jpg'\n",
      "\u001b[34m\u001b[1mtrain: \u001b[0mWARNING ⚠️ /Users/trangttdang/Downloads/food_data_1/train/images/WhatsApp-Image-2023-06-10-at-08-15-33_jpeg_jpg.rf.f8a223ba8dfb082ce4f31cffbb3f4fc8.jpg: ignoring corrupt image/label: cannot identify image file '/Users/trangttdang/Downloads/food_data_1/train/images/WhatsApp-Image-2023-06-10-at-08-15-33_jpeg_jpg.rf.f8a223ba8dfb082ce4f31cffbb3f4fc8.jpg'\n",
      "\u001b[34m\u001b[1mtrain: \u001b[0mWARNING ⚠️ /Users/trangttdang/Downloads/food_data_1/train/images/WhatsApp-Image-2023-06-10-at-08-15-34-2-_jpeg_jpg.rf.00b23714648142c1fecc6f67c4081644.jpg: ignoring corrupt image/label: cannot identify image file '/Users/trangttdang/Downloads/food_data_1/train/images/WhatsApp-Image-2023-06-10-at-08-15-34-2-_jpeg_jpg.rf.00b23714648142c1fecc6f67c4081644.jpg'\n",
      "\u001b[34m\u001b[1mtrain: \u001b[0mWARNING ⚠️ /Users/trangttdang/Downloads/food_data_1/train/images/WhatsApp-Image-2023-06-10-at-08-15-34-2-_jpeg_jpg.rf.578c15fd1033f07809fd5265c71311c6.jpg: ignoring corrupt image/label: cannot identify image file '/Users/trangttdang/Downloads/food_data_1/train/images/WhatsApp-Image-2023-06-10-at-08-15-34-2-_jpeg_jpg.rf.578c15fd1033f07809fd5265c71311c6.jpg'\n",
      "\u001b[34m\u001b[1mtrain: \u001b[0mWARNING ⚠️ /Users/trangttdang/Downloads/food_data_1/train/images/WhatsApp-Image-2023-06-10-at-08-15-34-2-_jpeg_jpg.rf.66ab6021f59bf371abb304e912af3d5a.jpg: ignoring corrupt image/label: image file is truncated (95 bytes not processed)\n",
      "\u001b[34m\u001b[1mtrain: \u001b[0mWARNING ⚠️ /Users/trangttdang/Downloads/food_data_1/train/images/WhatsApp-Image-2023-06-10-at-08-15-34-2-_jpeg_jpg.rf.80d70401a470fa51e639a8815f338bb1.jpg: ignoring corrupt image/label: image file is truncated (4 bytes not processed)\n",
      "\u001b[34m\u001b[1mtrain: \u001b[0mWARNING ⚠️ /Users/trangttdang/Downloads/food_data_1/train/images/WhatsApp-Image-2023-06-10-at-08-15-34-2-_jpeg_jpg.rf.b7e3ceb464dd7247b8290dbd48fe8b00.jpg: ignoring corrupt image/label: cannot identify image file '/Users/trangttdang/Downloads/food_data_1/train/images/WhatsApp-Image-2023-06-10-at-08-15-34-2-_jpeg_jpg.rf.b7e3ceb464dd7247b8290dbd48fe8b00.jpg'\n",
      "\u001b[34m\u001b[1mtrain: \u001b[0mWARNING ⚠️ /Users/trangttdang/Downloads/food_data_1/train/images/WhatsApp-Image-2023-06-10-at-08-15-34-3-_jpeg_jpg.rf.4d9b4d16efa61292430b1ec1af2ebe47.jpg: ignoring corrupt image/label: cannot identify image file '/Users/trangttdang/Downloads/food_data_1/train/images/WhatsApp-Image-2023-06-10-at-08-15-34-3-_jpeg_jpg.rf.4d9b4d16efa61292430b1ec1af2ebe47.jpg'\n",
      "\u001b[34m\u001b[1mtrain: \u001b[0mWARNING ⚠️ /Users/trangttdang/Downloads/food_data_1/train/images/WhatsApp-Image-2023-06-10-at-08-15-34-3-_jpeg_jpg.rf.75e430892a20883bfa868e6c83ec13c4.jpg: ignoring corrupt image/label: cannot identify image file '/Users/trangttdang/Downloads/food_data_1/train/images/WhatsApp-Image-2023-06-10-at-08-15-34-3-_jpeg_jpg.rf.75e430892a20883bfa868e6c83ec13c4.jpg'\n",
      "\u001b[34m\u001b[1mtrain: \u001b[0mWARNING ⚠️ /Users/trangttdang/Downloads/food_data_1/train/images/WhatsApp-Image-2023-06-10-at-08-15-34-3-_jpeg_jpg.rf.76bf2aeac4d30739ace04f7e8e31dd93.jpg: ignoring corrupt image/label: cannot identify image file '/Users/trangttdang/Downloads/food_data_1/train/images/WhatsApp-Image-2023-06-10-at-08-15-34-3-_jpeg_jpg.rf.76bf2aeac4d30739ace04f7e8e31dd93.jpg'\n",
      "\u001b[34m\u001b[1mtrain: \u001b[0mWARNING ⚠️ /Users/trangttdang/Downloads/food_data_1/train/images/WhatsApp-Image-2023-06-10-at-08-15-34-3-_jpeg_jpg.rf.e3d4cf85f3c5408c8291107aec3e5764.jpg: ignoring corrupt image/label: image file is truncated (14 bytes not processed)\n",
      "\u001b[34m\u001b[1mtrain: \u001b[0mWARNING ⚠️ /Users/trangttdang/Downloads/food_data_1/train/images/WhatsApp-Image-2023-06-10-at-08-15-34-3-_jpeg_jpg.rf.f31b4f9072c0a9434308dc80a6354f7a.jpg: ignoring corrupt image/label: cannot identify image file '/Users/trangttdang/Downloads/food_data_1/train/images/WhatsApp-Image-2023-06-10-at-08-15-34-3-_jpeg_jpg.rf.f31b4f9072c0a9434308dc80a6354f7a.jpg'\n",
      "\u001b[34m\u001b[1mtrain: \u001b[0mWARNING ⚠️ /Users/trangttdang/Downloads/food_data_1/train/images/WhatsApp-Image-2023-06-10-at-08-15-34-3-_jpeg_jpg.rf.ff7afdf5f8633b762eb5561324e856d0.jpg: ignoring corrupt image/label: cannot identify image file '/Users/trangttdang/Downloads/food_data_1/train/images/WhatsApp-Image-2023-06-10-at-08-15-34-3-_jpeg_jpg.rf.ff7afdf5f8633b762eb5561324e856d0.jpg'\n",
      "\u001b[34m\u001b[1mtrain: \u001b[0mWARNING ⚠️ /Users/trangttdang/Downloads/food_data_1/train/images/WhatsApp-Image-2023-06-10-at-08-15-34_jpeg_jpg.rf.04e2d0d4704edf5b8972ba3b53b5b7f4.jpg: ignoring corrupt image/label: cannot identify image file '/Users/trangttdang/Downloads/food_data_1/train/images/WhatsApp-Image-2023-06-10-at-08-15-34_jpeg_jpg.rf.04e2d0d4704edf5b8972ba3b53b5b7f4.jpg'\n",
      "\u001b[34m\u001b[1mtrain: \u001b[0mWARNING ⚠️ /Users/trangttdang/Downloads/food_data_1/train/images/WhatsApp-Image-2023-06-10-at-08-15-34_jpeg_jpg.rf.1a804b68d11b844e70fdfaa0c26781a9.jpg: ignoring corrupt image/label: cannot identify image file '/Users/trangttdang/Downloads/food_data_1/train/images/WhatsApp-Image-2023-06-10-at-08-15-34_jpeg_jpg.rf.1a804b68d11b844e70fdfaa0c26781a9.jpg'\n",
      "\u001b[34m\u001b[1mtrain: \u001b[0mWARNING ⚠️ /Users/trangttdang/Downloads/food_data_1/train/images/WhatsApp-Image-2023-06-10-at-08-15-34_jpeg_jpg.rf.1d7c0d70761b0bc2aec4b3bb61646c2d.jpg: ignoring corrupt image/label: cannot identify image file '/Users/trangttdang/Downloads/food_data_1/train/images/WhatsApp-Image-2023-06-10-at-08-15-34_jpeg_jpg.rf.1d7c0d70761b0bc2aec4b3bb61646c2d.jpg'\n",
      "\u001b[34m\u001b[1mtrain: \u001b[0mWARNING ⚠️ /Users/trangttdang/Downloads/food_data_1/train/images/WhatsApp-Image-2023-06-10-at-08-15-34_jpeg_jpg.rf.216a8ab106ad56cc4041d5d57f479aa2.jpg: ignoring corrupt image/label: cannot identify image file '/Users/trangttdang/Downloads/food_data_1/train/images/WhatsApp-Image-2023-06-10-at-08-15-34_jpeg_jpg.rf.216a8ab106ad56cc4041d5d57f479aa2.jpg'\n",
      "\u001b[34m\u001b[1mtrain: \u001b[0mWARNING ⚠️ /Users/trangttdang/Downloads/food_data_1/train/images/WhatsApp-Image-2023-06-10-at-08-15-34_jpeg_jpg.rf.327f0bb5e1b80d6b6dc6537bf306a584.jpg: ignoring corrupt image/label: cannot identify image file '/Users/trangttdang/Downloads/food_data_1/train/images/WhatsApp-Image-2023-06-10-at-08-15-34_jpeg_jpg.rf.327f0bb5e1b80d6b6dc6537bf306a584.jpg'\n",
      "\u001b[34m\u001b[1mtrain: \u001b[0mWARNING ⚠️ /Users/trangttdang/Downloads/food_data_1/train/images/WhatsApp-Image-2023-06-10-at-08-15-34_jpeg_jpg.rf.373a310321cc8ceafdb002a612a923ef.jpg: ignoring corrupt image/label: cannot identify image file '/Users/trangttdang/Downloads/food_data_1/train/images/WhatsApp-Image-2023-06-10-at-08-15-34_jpeg_jpg.rf.373a310321cc8ceafdb002a612a923ef.jpg'\n",
      "\u001b[34m\u001b[1mtrain: \u001b[0mWARNING ⚠️ /Users/trangttdang/Downloads/food_data_1/train/images/WhatsApp-Image-2023-06-10-at-08-15-34_jpeg_jpg.rf.5a1e01ea8d640c0aba98cbd6f96d213a.jpg: ignoring corrupt image/label: cannot identify image file '/Users/trangttdang/Downloads/food_data_1/train/images/WhatsApp-Image-2023-06-10-at-08-15-34_jpeg_jpg.rf.5a1e01ea8d640c0aba98cbd6f96d213a.jpg'\n",
      "\u001b[34m\u001b[1mtrain: \u001b[0mWARNING ⚠️ /Users/trangttdang/Downloads/food_data_1/train/images/WhatsApp-Image-2023-06-10-at-08-15-34_jpeg_jpg.rf.5a41c11cc12b555141c77838ec3842aa.jpg: ignoring corrupt image/label: cannot identify image file '/Users/trangttdang/Downloads/food_data_1/train/images/WhatsApp-Image-2023-06-10-at-08-15-34_jpeg_jpg.rf.5a41c11cc12b555141c77838ec3842aa.jpg'\n",
      "\u001b[34m\u001b[1mtrain: \u001b[0mWARNING ⚠️ /Users/trangttdang/Downloads/food_data_1/train/images/WhatsApp-Image-2023-06-10-at-08-15-34_jpeg_jpg.rf.5ea55d4a66af13d774ec04e9edd79c97.jpg: ignoring corrupt image/label: cannot identify image file '/Users/trangttdang/Downloads/food_data_1/train/images/WhatsApp-Image-2023-06-10-at-08-15-34_jpeg_jpg.rf.5ea55d4a66af13d774ec04e9edd79c97.jpg'\n",
      "\u001b[34m\u001b[1mtrain: \u001b[0mWARNING ⚠️ /Users/trangttdang/Downloads/food_data_1/train/images/WhatsApp-Image-2023-06-10-at-08-15-35-1-_jpeg_jpg.rf.83eda8d4da4eab8444b9f053a737078f.jpg: ignoring corrupt image/label: cannot identify image file '/Users/trangttdang/Downloads/food_data_1/train/images/WhatsApp-Image-2023-06-10-at-08-15-35-1-_jpeg_jpg.rf.83eda8d4da4eab8444b9f053a737078f.jpg'\n",
      "\u001b[34m\u001b[1mtrain: \u001b[0mWARNING ⚠️ /Users/trangttdang/Downloads/food_data_1/train/images/WhatsApp-Image-2023-06-10-at-08-15-35-1-_jpeg_jpg.rf.8b33aa3bfc8abdf66ff19b623b3ee26a.jpg: ignoring corrupt image/label: cannot identify image file '/Users/trangttdang/Downloads/food_data_1/train/images/WhatsApp-Image-2023-06-10-at-08-15-35-1-_jpeg_jpg.rf.8b33aa3bfc8abdf66ff19b623b3ee26a.jpg'\n",
      "\u001b[34m\u001b[1mtrain: \u001b[0mWARNING ⚠️ /Users/trangttdang/Downloads/food_data_1/train/images/WhatsApp-Image-2023-06-10-at-08-15-35-1-_jpeg_jpg.rf.99c49bc2311a2a1e758f0c894e291747.jpg: ignoring corrupt image/label: cannot identify image file '/Users/trangttdang/Downloads/food_data_1/train/images/WhatsApp-Image-2023-06-10-at-08-15-35-1-_jpeg_jpg.rf.99c49bc2311a2a1e758f0c894e291747.jpg'\n",
      "\u001b[34m\u001b[1mtrain: \u001b[0mWARNING ⚠️ /Users/trangttdang/Downloads/food_data_1/train/images/WhatsApp-Image-2023-06-10-at-08-15-35-1-_jpeg_jpg.rf.a00b34c39acc58f4fcf2c9b48cfbb447.jpg: ignoring corrupt image/label: cannot identify image file '/Users/trangttdang/Downloads/food_data_1/train/images/WhatsApp-Image-2023-06-10-at-08-15-35-1-_jpeg_jpg.rf.a00b34c39acc58f4fcf2c9b48cfbb447.jpg'\n",
      "\u001b[34m\u001b[1mtrain: \u001b[0mWARNING ⚠️ /Users/trangttdang/Downloads/food_data_1/train/images/WhatsApp-Image-2023-06-10-at-08-15-35-1-_jpeg_jpg.rf.a46e2ee89a40fae2832a1688fa094139.jpg: ignoring corrupt image/label: cannot identify image file '/Users/trangttdang/Downloads/food_data_1/train/images/WhatsApp-Image-2023-06-10-at-08-15-35-1-_jpeg_jpg.rf.a46e2ee89a40fae2832a1688fa094139.jpg'\n",
      "\u001b[34m\u001b[1mtrain: \u001b[0mWARNING ⚠️ /Users/trangttdang/Downloads/food_data_1/train/images/WhatsApp-Image-2023-06-10-at-08-15-35-1-_jpeg_jpg.rf.c686907a82feb3e19d491c35ea40a542.jpg: ignoring corrupt image/label: cannot identify image file '/Users/trangttdang/Downloads/food_data_1/train/images/WhatsApp-Image-2023-06-10-at-08-15-35-1-_jpeg_jpg.rf.c686907a82feb3e19d491c35ea40a542.jpg'\n",
      "\u001b[34m\u001b[1mtrain: \u001b[0mWARNING ⚠️ /Users/trangttdang/Downloads/food_data_1/train/images/WhatsApp-Image-2023-06-10-at-08-15-35-1-_jpeg_jpg.rf.f36e4f80aaf91d3421559ae6c7466ebf.jpg: ignoring corrupt image/label: cannot identify image file '/Users/trangttdang/Downloads/food_data_1/train/images/WhatsApp-Image-2023-06-10-at-08-15-35-1-_jpeg_jpg.rf.f36e4f80aaf91d3421559ae6c7466ebf.jpg'\n",
      "\u001b[34m\u001b[1mtrain: \u001b[0mWARNING ⚠️ /Users/trangttdang/Downloads/food_data_1/train/images/WhatsApp-Image-2023-06-10-at-08-15-35-1-_jpeg_jpg.rf.f976171a46ea510397c11eff04aebe74.jpg: ignoring corrupt image/label: cannot identify image file '/Users/trangttdang/Downloads/food_data_1/train/images/WhatsApp-Image-2023-06-10-at-08-15-35-1-_jpeg_jpg.rf.f976171a46ea510397c11eff04aebe74.jpg'\n",
      "\u001b[34m\u001b[1mtrain: \u001b[0mWARNING ⚠️ /Users/trangttdang/Downloads/food_data_1/train/images/WhatsApp-Image-2023-06-10-at-08-15-35-1-_jpeg_jpg.rf.fdeb7ce7476d13ead41892914edf6126.jpg: ignoring corrupt image/label: image file is truncated (22 bytes not processed)\n",
      "\u001b[34m\u001b[1mtrain: \u001b[0mWARNING ⚠️ /Users/trangttdang/Downloads/food_data_1/train/images/WhatsApp-Image-2023-06-10-at-08-15-35-2-_jpeg_jpg.rf.8e73fe165839bc9ef3678fcb21c588c2.jpg: ignoring corrupt image/label: cannot identify image file '/Users/trangttdang/Downloads/food_data_1/train/images/WhatsApp-Image-2023-06-10-at-08-15-35-2-_jpeg_jpg.rf.8e73fe165839bc9ef3678fcb21c588c2.jpg'\n",
      "\u001b[34m\u001b[1mtrain: \u001b[0mWARNING ⚠️ /Users/trangttdang/Downloads/food_data_1/train/images/WhatsApp-Image-2023-06-10-at-08-15-35-2-_jpeg_jpg.rf.93ccc5b8b9ed3d31b52395008dc65919.jpg: ignoring corrupt image/label: image file is truncated (59 bytes not processed)\n",
      "\u001b[34m\u001b[1mtrain: \u001b[0mWARNING ⚠️ /Users/trangttdang/Downloads/food_data_1/train/images/WhatsApp-Image-2023-06-10-at-08-15-35-2-_jpeg_jpg.rf.98b6757713ee1d068289af7f960d95a8.jpg: ignoring corrupt image/label: cannot identify image file '/Users/trangttdang/Downloads/food_data_1/train/images/WhatsApp-Image-2023-06-10-at-08-15-35-2-_jpeg_jpg.rf.98b6757713ee1d068289af7f960d95a8.jpg'\n",
      "\u001b[34m\u001b[1mtrain: \u001b[0mWARNING ⚠️ /Users/trangttdang/Downloads/food_data_1/train/images/WhatsApp-Image-2023-06-10-at-08-15-35-2-_jpeg_jpg.rf.a815aa46de1e75dcc28b10be2c9b4ff3.jpg: ignoring corrupt image/label: cannot identify image file '/Users/trangttdang/Downloads/food_data_1/train/images/WhatsApp-Image-2023-06-10-at-08-15-35-2-_jpeg_jpg.rf.a815aa46de1e75dcc28b10be2c9b4ff3.jpg'\n",
      "\u001b[34m\u001b[1mtrain: \u001b[0mWARNING ⚠️ /Users/trangttdang/Downloads/food_data_1/train/images/WhatsApp-Image-2023-06-10-at-08-15-35-2-_jpeg_jpg.rf.a982783e513a647f9864c9ec0d8566dd.jpg: ignoring corrupt image/label: cannot identify image file '/Users/trangttdang/Downloads/food_data_1/train/images/WhatsApp-Image-2023-06-10-at-08-15-35-2-_jpeg_jpg.rf.a982783e513a647f9864c9ec0d8566dd.jpg'\n",
      "\u001b[34m\u001b[1mtrain: \u001b[0mWARNING ⚠️ /Users/trangttdang/Downloads/food_data_1/train/images/WhatsApp-Image-2023-06-10-at-08-15-35-4-_jpeg_jpg.rf.539df9f5d812f8f3110a3fde1e532550.jpg: ignoring corrupt image/label: cannot identify image file '/Users/trangttdang/Downloads/food_data_1/train/images/WhatsApp-Image-2023-06-10-at-08-15-35-4-_jpeg_jpg.rf.539df9f5d812f8f3110a3fde1e532550.jpg'\n",
      "\u001b[34m\u001b[1mtrain: \u001b[0mWARNING ⚠️ /Users/trangttdang/Downloads/food_data_1/train/images/WhatsApp-Image-2023-06-10-at-08-15-35-4-_jpeg_jpg.rf.6b4b0c98692b375ca9c08a6432d411b0.jpg: ignoring corrupt image/label: cannot identify image file '/Users/trangttdang/Downloads/food_data_1/train/images/WhatsApp-Image-2023-06-10-at-08-15-35-4-_jpeg_jpg.rf.6b4b0c98692b375ca9c08a6432d411b0.jpg'\n",
      "\u001b[34m\u001b[1mtrain: \u001b[0mWARNING ⚠️ /Users/trangttdang/Downloads/food_data_1/train/images/WhatsApp-Image-2023-06-10-at-08-15-35-4-_jpeg_jpg.rf.9adea0757e95a1958b5479d2b417a3c4.jpg: ignoring corrupt image/label: cannot identify image file '/Users/trangttdang/Downloads/food_data_1/train/images/WhatsApp-Image-2023-06-10-at-08-15-35-4-_jpeg_jpg.rf.9adea0757e95a1958b5479d2b417a3c4.jpg'\n",
      "\u001b[34m\u001b[1mtrain: \u001b[0mWARNING ⚠️ /Users/trangttdang/Downloads/food_data_1/train/images/WhatsApp-Image-2023-06-10-at-08-15-35-4-_jpeg_jpg.rf.a0f9589a3dfcf5d240fe90a066afd7b1.jpg: ignoring corrupt image/label: cannot identify image file '/Users/trangttdang/Downloads/food_data_1/train/images/WhatsApp-Image-2023-06-10-at-08-15-35-4-_jpeg_jpg.rf.a0f9589a3dfcf5d240fe90a066afd7b1.jpg'\n",
      "\u001b[34m\u001b[1mtrain: \u001b[0mWARNING ⚠️ /Users/trangttdang/Downloads/food_data_1/train/images/WhatsApp-Image-2023-06-10-at-08-15-36-3-_jpeg_jpg.rf.bcedccd3cce86253aeec519e291095b0.jpg: corrupt JPEG restored and saved\n",
      "\u001b[34m\u001b[1mtrain: \u001b[0mWARNING ⚠️ /Users/trangttdang/Downloads/food_data_1/train/images/WhatsApp-Image-2023-06-10-at-08-15-36-5-_jpeg_jpg.rf.13e8a5375c5ddf34b809de275955b600.jpg: ignoring corrupt image/label: cannot identify image file '/Users/trangttdang/Downloads/food_data_1/train/images/WhatsApp-Image-2023-06-10-at-08-15-36-5-_jpeg_jpg.rf.13e8a5375c5ddf34b809de275955b600.jpg'\n",
      "\u001b[34m\u001b[1mtrain: \u001b[0mWARNING ⚠️ /Users/trangttdang/Downloads/food_data_1/train/images/WhatsApp-Image-2023-06-10-at-08-15-36-5-_jpeg_jpg.rf.a92e1ab3008370e64924af51ff88f570.jpg: ignoring corrupt image/label: cannot identify image file '/Users/trangttdang/Downloads/food_data_1/train/images/WhatsApp-Image-2023-06-10-at-08-15-36-5-_jpeg_jpg.rf.a92e1ab3008370e64924af51ff88f570.jpg'\n",
      "\u001b[34m\u001b[1mtrain: \u001b[0mWARNING ⚠️ /Users/trangttdang/Downloads/food_data_1/train/images/WhatsApp-Image-2023-06-10-at-08-15-36-5-_jpeg_jpg.rf.b11ea2830cd3abe29125f3dc543a4c39.jpg: ignoring corrupt image/label: cannot identify image file '/Users/trangttdang/Downloads/food_data_1/train/images/WhatsApp-Image-2023-06-10-at-08-15-36-5-_jpeg_jpg.rf.b11ea2830cd3abe29125f3dc543a4c39.jpg'\n",
      "\u001b[34m\u001b[1mtrain: \u001b[0mWARNING ⚠️ /Users/trangttdang/Downloads/food_data_1/train/images/WhatsApp-Image-2023-06-10-at-08-15-36-5-_jpeg_jpg.rf.c7d4dfb5aa49c8bc18b213de89d24aac.jpg: ignoring corrupt image/label: cannot identify image file '/Users/trangttdang/Downloads/food_data_1/train/images/WhatsApp-Image-2023-06-10-at-08-15-36-5-_jpeg_jpg.rf.c7d4dfb5aa49c8bc18b213de89d24aac.jpg'\n",
      "\u001b[34m\u001b[1mtrain: \u001b[0mWARNING ⚠️ /Users/trangttdang/Downloads/food_data_1/train/images/WhatsApp-Image-2023-06-10-at-08-15-36-5-_jpeg_jpg.rf.d8431037765978353b9181790a9b1c24.jpg: ignoring corrupt image/label: cannot identify image file '/Users/trangttdang/Downloads/food_data_1/train/images/WhatsApp-Image-2023-06-10-at-08-15-36-5-_jpeg_jpg.rf.d8431037765978353b9181790a9b1c24.jpg'\n",
      "\u001b[34m\u001b[1mtrain: \u001b[0mWARNING ⚠️ /Users/trangttdang/Downloads/food_data_1/train/images/WhatsApp-Image-2023-06-10-at-08-15-36-5-_jpeg_jpg.rf.d98d44bc7fc6521ea250de589b76f1b9.jpg: ignoring corrupt image/label: cannot identify image file '/Users/trangttdang/Downloads/food_data_1/train/images/WhatsApp-Image-2023-06-10-at-08-15-36-5-_jpeg_jpg.rf.d98d44bc7fc6521ea250de589b76f1b9.jpg'\n",
      "\u001b[34m\u001b[1mtrain: \u001b[0mWARNING ⚠️ /Users/trangttdang/Downloads/food_data_1/train/images/WhatsApp-Image-2023-06-10-at-08-15-37-2-_jpeg_jpg.rf.da1f2afe9ed3c2120f7319a0cc851d5e.jpg: ignoring corrupt image/label: cannot identify image file '/Users/trangttdang/Downloads/food_data_1/train/images/WhatsApp-Image-2023-06-10-at-08-15-37-2-_jpeg_jpg.rf.da1f2afe9ed3c2120f7319a0cc851d5e.jpg'\n",
      "\u001b[34m\u001b[1mtrain: \u001b[0mWARNING ⚠️ /Users/trangttdang/Downloads/food_data_1/train/images/WhatsApp-Image-2023-06-10-at-08-15-37-2-_jpeg_jpg.rf.e8f2960d84334e575f2a3b4fe2efa85f.jpg: ignoring corrupt image/label: cannot identify image file '/Users/trangttdang/Downloads/food_data_1/train/images/WhatsApp-Image-2023-06-10-at-08-15-37-2-_jpeg_jpg.rf.e8f2960d84334e575f2a3b4fe2efa85f.jpg'\n",
      "\u001b[34m\u001b[1mtrain: \u001b[0mWARNING ⚠️ /Users/trangttdang/Downloads/food_data_1/train/images/WhatsApp-Image-2023-06-10-at-08-15-37-3-_jpeg_jpg.rf.3882727c9bfff282fc154073cb46e021.jpg: ignoring corrupt image/label: cannot identify image file '/Users/trangttdang/Downloads/food_data_1/train/images/WhatsApp-Image-2023-06-10-at-08-15-37-3-_jpeg_jpg.rf.3882727c9bfff282fc154073cb46e021.jpg'\n",
      "\u001b[34m\u001b[1mtrain: \u001b[0mWARNING ⚠️ /Users/trangttdang/Downloads/food_data_1/train/images/WhatsApp-Image-2023-06-10-at-08-15-37-4-_jpeg_jpg.rf.1c0416a134b79df32aecf3b9e77c4872.jpg: ignoring corrupt image/label: cannot identify image file '/Users/trangttdang/Downloads/food_data_1/train/images/WhatsApp-Image-2023-06-10-at-08-15-37-4-_jpeg_jpg.rf.1c0416a134b79df32aecf3b9e77c4872.jpg'\n",
      "\u001b[34m\u001b[1mtrain: \u001b[0mWARNING ⚠️ /Users/trangttdang/Downloads/food_data_1/train/images/WhatsApp-Image-2023-06-10-at-08-15-37-4-_jpeg_jpg.rf.4ccb0e226e054949cbf582805fd9244c.jpg: ignoring corrupt image/label: cannot identify image file '/Users/trangttdang/Downloads/food_data_1/train/images/WhatsApp-Image-2023-06-10-at-08-15-37-4-_jpeg_jpg.rf.4ccb0e226e054949cbf582805fd9244c.jpg'\n",
      "\u001b[34m\u001b[1mtrain: \u001b[0mWARNING ⚠️ /Users/trangttdang/Downloads/food_data_1/train/images/WhatsApp-Image-2023-06-10-at-08-15-37-4-_jpeg_jpg.rf.52763272f30feb6cee41eec4077d4c23.jpg: ignoring corrupt image/label: cannot identify image file '/Users/trangttdang/Downloads/food_data_1/train/images/WhatsApp-Image-2023-06-10-at-08-15-37-4-_jpeg_jpg.rf.52763272f30feb6cee41eec4077d4c23.jpg'\n",
      "\u001b[34m\u001b[1mtrain: \u001b[0mWARNING ⚠️ /Users/trangttdang/Downloads/food_data_1/train/images/WhatsApp-Image-2023-06-10-at-08-15-37-4-_jpeg_jpg.rf.5eb2be1909ef2fcf5277417098a83499.jpg: ignoring corrupt image/label: cannot identify image file '/Users/trangttdang/Downloads/food_data_1/train/images/WhatsApp-Image-2023-06-10-at-08-15-37-4-_jpeg_jpg.rf.5eb2be1909ef2fcf5277417098a83499.jpg'\n",
      "\u001b[34m\u001b[1mtrain: \u001b[0mWARNING ⚠️ /Users/trangttdang/Downloads/food_data_1/train/images/WhatsApp-Image-2023-06-10-at-08-15-37-4-_jpeg_jpg.rf.62e593d21206f0c2c638dcf2e60d7a61.jpg: ignoring corrupt image/label: cannot identify image file '/Users/trangttdang/Downloads/food_data_1/train/images/WhatsApp-Image-2023-06-10-at-08-15-37-4-_jpeg_jpg.rf.62e593d21206f0c2c638dcf2e60d7a61.jpg'\n",
      "\u001b[34m\u001b[1mtrain: \u001b[0mWARNING ⚠️ /Users/trangttdang/Downloads/food_data_1/train/images/WhatsApp-Image-2023-06-10-at-08-15-37-4-_jpeg_jpg.rf.b81a222d04ecc670470cf7c4d478e69e.jpg: ignoring corrupt image/label: cannot identify image file '/Users/trangttdang/Downloads/food_data_1/train/images/WhatsApp-Image-2023-06-10-at-08-15-37-4-_jpeg_jpg.rf.b81a222d04ecc670470cf7c4d478e69e.jpg'\n",
      "\u001b[34m\u001b[1mtrain: \u001b[0mWARNING ⚠️ /Users/trangttdang/Downloads/food_data_1/train/images/WhatsApp-Image-2023-06-10-at-08-15-37-5-_jpeg_jpg.rf.b6563424f1017d80e24625c1ef4da42c.jpg: ignoring corrupt image/label: cannot identify image file '/Users/trangttdang/Downloads/food_data_1/train/images/WhatsApp-Image-2023-06-10-at-08-15-37-5-_jpeg_jpg.rf.b6563424f1017d80e24625c1ef4da42c.jpg'\n",
      "\u001b[34m\u001b[1mtrain: \u001b[0mWARNING ⚠️ /Users/trangttdang/Downloads/food_data_1/train/images/WhatsApp-Image-2023-06-10-at-08-15-38-2-_jpeg_jpg.rf.3db44c97d876b1bad8a637d142643668.jpg: ignoring corrupt image/label: cannot identify image file '/Users/trangttdang/Downloads/food_data_1/train/images/WhatsApp-Image-2023-06-10-at-08-15-38-2-_jpeg_jpg.rf.3db44c97d876b1bad8a637d142643668.jpg'\n",
      "\u001b[34m\u001b[1mtrain: \u001b[0mWARNING ⚠️ /Users/trangttdang/Downloads/food_data_1/train/images/WhatsApp-Image-2023-06-10-at-08-15-38-2-_jpeg_jpg.rf.9ac2c53ce2d1ea9a5a66b06a2b2f0040.jpg: ignoring corrupt image/label: cannot identify image file '/Users/trangttdang/Downloads/food_data_1/train/images/WhatsApp-Image-2023-06-10-at-08-15-38-2-_jpeg_jpg.rf.9ac2c53ce2d1ea9a5a66b06a2b2f0040.jpg'\n",
      "\u001b[34m\u001b[1mtrain: \u001b[0mWARNING ⚠️ /Users/trangttdang/Downloads/food_data_1/train/images/WhatsApp-Image-2023-06-10-at-08-15-38-2-_jpeg_jpg.rf.d120acd419329a75a469de74b2e34a74.jpg: ignoring corrupt image/label: cannot identify image file '/Users/trangttdang/Downloads/food_data_1/train/images/WhatsApp-Image-2023-06-10-at-08-15-38-2-_jpeg_jpg.rf.d120acd419329a75a469de74b2e34a74.jpg'\n",
      "\u001b[34m\u001b[1mtrain: \u001b[0mWARNING ⚠️ /Users/trangttdang/Downloads/food_data_1/train/images/WhatsApp-Image-2023-06-10-at-08-15-38-2-_jpeg_jpg.rf.e72f8a5fb6fdcb8972a65a973ecff070.jpg: ignoring corrupt image/label: cannot identify image file '/Users/trangttdang/Downloads/food_data_1/train/images/WhatsApp-Image-2023-06-10-at-08-15-38-2-_jpeg_jpg.rf.e72f8a5fb6fdcb8972a65a973ecff070.jpg'\n",
      "\u001b[34m\u001b[1mtrain: \u001b[0mWARNING ⚠️ /Users/trangttdang/Downloads/food_data_1/train/images/WhatsApp-Image-2023-06-10-at-08-15-38-3-_jpeg_jpg.rf.8a2782cfcacc4e77551852886aa50c0b.jpg: ignoring corrupt image/label: cannot identify image file '/Users/trangttdang/Downloads/food_data_1/train/images/WhatsApp-Image-2023-06-10-at-08-15-38-3-_jpeg_jpg.rf.8a2782cfcacc4e77551852886aa50c0b.jpg'\n",
      "\u001b[34m\u001b[1mtrain: \u001b[0mWARNING ⚠️ /Users/trangttdang/Downloads/food_data_1/train/images/WhatsApp-Image-2023-06-10-at-08-15-39-1-_jpeg_jpg.rf.6a66ceb20adab9e9ecae6b9e8435a323.jpg: ignoring corrupt image/label: cannot identify image file '/Users/trangttdang/Downloads/food_data_1/train/images/WhatsApp-Image-2023-06-10-at-08-15-39-1-_jpeg_jpg.rf.6a66ceb20adab9e9ecae6b9e8435a323.jpg'\n",
      "\u001b[34m\u001b[1mtrain: \u001b[0mWARNING ⚠️ /Users/trangttdang/Downloads/food_data_1/train/images/WhatsApp-Image-2023-06-10-at-08-15-39-1-_jpeg_jpg.rf.98e5b65d495b98441818ba8a1a8da5d1.jpg: ignoring corrupt image/label: cannot identify image file '/Users/trangttdang/Downloads/food_data_1/train/images/WhatsApp-Image-2023-06-10-at-08-15-39-1-_jpeg_jpg.rf.98e5b65d495b98441818ba8a1a8da5d1.jpg'\n",
      "\u001b[34m\u001b[1mtrain: \u001b[0mWARNING ⚠️ /Users/trangttdang/Downloads/food_data_1/train/images/WhatsApp-Image-2023-06-10-at-08-15-39-1-_jpeg_jpg.rf.aceebcd73c6e0fae582a9b19d94d831e.jpg: ignoring corrupt image/label: cannot identify image file '/Users/trangttdang/Downloads/food_data_1/train/images/WhatsApp-Image-2023-06-10-at-08-15-39-1-_jpeg_jpg.rf.aceebcd73c6e0fae582a9b19d94d831e.jpg'\n",
      "\u001b[34m\u001b[1mtrain: \u001b[0mWARNING ⚠️ /Users/trangttdang/Downloads/food_data_1/train/images/WhatsApp-Image-2023-06-10-at-08-15-39-1-_jpeg_jpg.rf.dbc8b2a4ecdfe6a6f2a9cb007d61ca96.jpg: ignoring corrupt image/label: cannot identify image file '/Users/trangttdang/Downloads/food_data_1/train/images/WhatsApp-Image-2023-06-10-at-08-15-39-1-_jpeg_jpg.rf.dbc8b2a4ecdfe6a6f2a9cb007d61ca96.jpg'\n",
      "\u001b[34m\u001b[1mtrain: \u001b[0mWARNING ⚠️ /Users/trangttdang/Downloads/food_data_1/train/images/WhatsApp-Image-2023-06-10-at-08-15-39-1-_jpeg_jpg.rf.edfbc1a58a256f708f81d2fb7807096c.jpg: ignoring corrupt image/label: cannot identify image file '/Users/trangttdang/Downloads/food_data_1/train/images/WhatsApp-Image-2023-06-10-at-08-15-39-1-_jpeg_jpg.rf.edfbc1a58a256f708f81d2fb7807096c.jpg'\n",
      "\u001b[34m\u001b[1mtrain: \u001b[0mWARNING ⚠️ /Users/trangttdang/Downloads/food_data_1/train/images/WhatsApp-Image-2023-06-10-at-08-15-39-1-_jpeg_jpg.rf.f47a931395f9ad1a8b16419fc9a72c01.jpg: ignoring corrupt image/label: cannot identify image file '/Users/trangttdang/Downloads/food_data_1/train/images/WhatsApp-Image-2023-06-10-at-08-15-39-1-_jpeg_jpg.rf.f47a931395f9ad1a8b16419fc9a72c01.jpg'\n",
      "\u001b[34m\u001b[1mtrain: \u001b[0mWARNING ⚠️ /Users/trangttdang/Downloads/food_data_1/train/images/WhatsApp-Image-2023-06-10-at-08-15-39-2-_jpeg_jpg.rf.7e5c8e50ad4b8f3bf6b7931ee2e5d824.jpg: ignoring corrupt image/label: cannot identify image file '/Users/trangttdang/Downloads/food_data_1/train/images/WhatsApp-Image-2023-06-10-at-08-15-39-2-_jpeg_jpg.rf.7e5c8e50ad4b8f3bf6b7931ee2e5d824.jpg'\n",
      "\u001b[34m\u001b[1mtrain: \u001b[0mWARNING ⚠️ /Users/trangttdang/Downloads/food_data_1/train/images/WhatsApp-Image-2023-06-10-at-08-15-39-4-_jpeg_jpg.rf.185b67969a08c9d76a5a430406a08508.jpg: ignoring corrupt image/label: cannot identify image file '/Users/trangttdang/Downloads/food_data_1/train/images/WhatsApp-Image-2023-06-10-at-08-15-39-4-_jpeg_jpg.rf.185b67969a08c9d76a5a430406a08508.jpg'\n",
      "\u001b[34m\u001b[1mtrain: \u001b[0mWARNING ⚠️ /Users/trangttdang/Downloads/food_data_1/train/images/WhatsApp-Image-2023-06-10-at-08-15-39-4-_jpeg_jpg.rf.476e7b9087418416b11ae82e0967f004.jpg: ignoring corrupt image/label: cannot identify image file '/Users/trangttdang/Downloads/food_data_1/train/images/WhatsApp-Image-2023-06-10-at-08-15-39-4-_jpeg_jpg.rf.476e7b9087418416b11ae82e0967f004.jpg'\n",
      "\u001b[34m\u001b[1mtrain: \u001b[0mWARNING ⚠️ /Users/trangttdang/Downloads/food_data_1/train/images/WhatsApp-Image-2023-06-10-at-08-15-39-4-_jpeg_jpg.rf.48d741690aaebe9895d39849b11e49ed.jpg: ignoring corrupt image/label: cannot identify image file '/Users/trangttdang/Downloads/food_data_1/train/images/WhatsApp-Image-2023-06-10-at-08-15-39-4-_jpeg_jpg.rf.48d741690aaebe9895d39849b11e49ed.jpg'\n",
      "\u001b[34m\u001b[1mtrain: \u001b[0mWARNING ⚠️ /Users/trangttdang/Downloads/food_data_1/train/images/WhatsApp-Image-2023-06-10-at-08-15-39-4-_jpeg_jpg.rf.5d7af4fd04c5158fb4bb2380af42b0e0.jpg: ignoring corrupt image/label: cannot identify image file '/Users/trangttdang/Downloads/food_data_1/train/images/WhatsApp-Image-2023-06-10-at-08-15-39-4-_jpeg_jpg.rf.5d7af4fd04c5158fb4bb2380af42b0e0.jpg'\n",
      "\u001b[34m\u001b[1mtrain: \u001b[0mWARNING ⚠️ /Users/trangttdang/Downloads/food_data_1/train/images/WhatsApp-Image-2023-06-10-at-08-15-39-4-_jpeg_jpg.rf.7cc8ad7ba3a2a67f909413ae55440f0d.jpg: ignoring corrupt image/label: cannot identify image file '/Users/trangttdang/Downloads/food_data_1/train/images/WhatsApp-Image-2023-06-10-at-08-15-39-4-_jpeg_jpg.rf.7cc8ad7ba3a2a67f909413ae55440f0d.jpg'\n",
      "\u001b[34m\u001b[1mtrain: \u001b[0mWARNING ⚠️ /Users/trangttdang/Downloads/food_data_1/train/images/WhatsApp-Image-2023-06-10-at-08-15-39-4-_jpeg_jpg.rf.7d616a3378c6d90c6fbd06bad1ef7a81.jpg: ignoring corrupt image/label: cannot identify image file '/Users/trangttdang/Downloads/food_data_1/train/images/WhatsApp-Image-2023-06-10-at-08-15-39-4-_jpeg_jpg.rf.7d616a3378c6d90c6fbd06bad1ef7a81.jpg'\n",
      "\u001b[34m\u001b[1mtrain: \u001b[0mWARNING ⚠️ /Users/trangttdang/Downloads/food_data_1/train/images/WhatsApp-Image-2023-06-10-at-08-15-39-4-_jpeg_jpg.rf.86d9cfad27105a2ee14ae281be85a051.jpg: ignoring corrupt image/label: cannot identify image file '/Users/trangttdang/Downloads/food_data_1/train/images/WhatsApp-Image-2023-06-10-at-08-15-39-4-_jpeg_jpg.rf.86d9cfad27105a2ee14ae281be85a051.jpg'\n",
      "\u001b[34m\u001b[1mtrain: \u001b[0mWARNING ⚠️ /Users/trangttdang/Downloads/food_data_1/train/images/WhatsApp-Image-2023-06-10-at-08-15-39-4-_jpeg_jpg.rf.8de385056df952007b979a6b5e955c07.jpg: ignoring corrupt image/label: cannot identify image file '/Users/trangttdang/Downloads/food_data_1/train/images/WhatsApp-Image-2023-06-10-at-08-15-39-4-_jpeg_jpg.rf.8de385056df952007b979a6b5e955c07.jpg'\n",
      "\u001b[34m\u001b[1mtrain: \u001b[0mWARNING ⚠️ /Users/trangttdang/Downloads/food_data_1/train/images/WhatsApp-Image-2023-06-10-at-08-15-39-4-_jpeg_jpg.rf.bda14dd8d5d6b51ea9858d3e08dc8f55.jpg: ignoring corrupt image/label: cannot identify image file '/Users/trangttdang/Downloads/food_data_1/train/images/WhatsApp-Image-2023-06-10-at-08-15-39-4-_jpeg_jpg.rf.bda14dd8d5d6b51ea9858d3e08dc8f55.jpg'\n",
      "\u001b[34m\u001b[1mtrain: \u001b[0mWARNING ⚠️ /Users/trangttdang/Downloads/food_data_1/train/images/WhatsApp-Image-2023-06-10-at-08-15-39-4-_jpeg_jpg.rf.e97464142c7c7aeaadf8c907dd08234a.jpg: ignoring corrupt image/label: cannot identify image file '/Users/trangttdang/Downloads/food_data_1/train/images/WhatsApp-Image-2023-06-10-at-08-15-39-4-_jpeg_jpg.rf.e97464142c7c7aeaadf8c907dd08234a.jpg'\n",
      "\u001b[34m\u001b[1mtrain: \u001b[0mWARNING ⚠️ /Users/trangttdang/Downloads/food_data_1/train/images/WhatsApp-Image-2023-06-10-at-08-15-39-4-_jpeg_jpg.rf.ec4a89b885cebed58a04d7a2834b54a0.jpg: ignoring corrupt image/label: cannot identify image file '/Users/trangttdang/Downloads/food_data_1/train/images/WhatsApp-Image-2023-06-10-at-08-15-39-4-_jpeg_jpg.rf.ec4a89b885cebed58a04d7a2834b54a0.jpg'\n",
      "\u001b[34m\u001b[1mtrain: \u001b[0mWARNING ⚠️ /Users/trangttdang/Downloads/food_data_1/train/images/WhatsApp-Image-2023-06-10-at-08-15-39_jpeg_jpg.rf.0af58bf763e12ab775c0717cf109a8f2.jpg: ignoring corrupt image/label: cannot identify image file '/Users/trangttdang/Downloads/food_data_1/train/images/WhatsApp-Image-2023-06-10-at-08-15-39_jpeg_jpg.rf.0af58bf763e12ab775c0717cf109a8f2.jpg'\n",
      "\u001b[34m\u001b[1mtrain: \u001b[0mWARNING ⚠️ /Users/trangttdang/Downloads/food_data_1/train/images/WhatsApp-Image-2023-06-10-at-08-15-39_jpeg_jpg.rf.1d66a4ce84f406220bedb2e7323ca74a.jpg: ignoring corrupt image/label: cannot identify image file '/Users/trangttdang/Downloads/food_data_1/train/images/WhatsApp-Image-2023-06-10-at-08-15-39_jpeg_jpg.rf.1d66a4ce84f406220bedb2e7323ca74a.jpg'\n",
      "\u001b[34m\u001b[1mtrain: \u001b[0mWARNING ⚠️ /Users/trangttdang/Downloads/food_data_1/train/images/WhatsApp-Image-2023-06-10-at-08-15-39_jpeg_jpg.rf.615bacd318189dbbf6ab917608cb6929.jpg: ignoring corrupt image/label: cannot identify image file '/Users/trangttdang/Downloads/food_data_1/train/images/WhatsApp-Image-2023-06-10-at-08-15-39_jpeg_jpg.rf.615bacd318189dbbf6ab917608cb6929.jpg'\n",
      "\u001b[34m\u001b[1mtrain: \u001b[0mWARNING ⚠️ /Users/trangttdang/Downloads/food_data_1/train/images/WhatsApp-Image-2023-06-10-at-08-15-39_jpeg_jpg.rf.7e2120df2bcec6a1302e7c8c6a293473.jpg: ignoring corrupt image/label: cannot identify image file '/Users/trangttdang/Downloads/food_data_1/train/images/WhatsApp-Image-2023-06-10-at-08-15-39_jpeg_jpg.rf.7e2120df2bcec6a1302e7c8c6a293473.jpg'\n",
      "\u001b[34m\u001b[1mtrain: \u001b[0mWARNING ⚠️ /Users/trangttdang/Downloads/food_data_1/train/images/WhatsApp-Image-2023-06-10-at-08-15-39_jpeg_jpg.rf.8f4ae7ce8bbb74d7f9b7edb92a114756.jpg: ignoring corrupt image/label: cannot identify image file '/Users/trangttdang/Downloads/food_data_1/train/images/WhatsApp-Image-2023-06-10-at-08-15-39_jpeg_jpg.rf.8f4ae7ce8bbb74d7f9b7edb92a114756.jpg'\n",
      "\u001b[34m\u001b[1mtrain: \u001b[0mWARNING ⚠️ /Users/trangttdang/Downloads/food_data_1/train/images/WhatsApp-Image-2023-06-10-at-08-15-39_jpeg_jpg.rf.9774f8d661538790a6f0c80f9d67f0aa.jpg: ignoring corrupt image/label: image file is truncated (87 bytes not processed)\n",
      "\u001b[34m\u001b[1mtrain: \u001b[0mWARNING ⚠️ /Users/trangttdang/Downloads/food_data_1/train/images/chicken_371_jpg.rf.92a92c5163e7affcf3930039deaa68fa.jpg: ignoring corrupt image/label: cannot identify image file '/Users/trangttdang/Downloads/food_data_1/train/images/chicken_371_jpg.rf.92a92c5163e7affcf3930039deaa68fa.jpg'\n",
      "\u001b[34m\u001b[1mtrain: \u001b[0mWARNING ⚠️ /Users/trangttdang/Downloads/food_data_1/train/images/chicken_371_jpg.rf.a94e84a5d652c991ca782cbf57c62c1a.jpg: ignoring corrupt image/label: cannot identify image file '/Users/trangttdang/Downloads/food_data_1/train/images/chicken_371_jpg.rf.a94e84a5d652c991ca782cbf57c62c1a.jpg'\n",
      "\u001b[34m\u001b[1mtrain: \u001b[0mWARNING ⚠️ /Users/trangttdang/Downloads/food_data_1/train/images/chicken_5814_jpg.rf.f3b4e05711546c5cf69a08b37d737459.jpg: ignoring corrupt image/label: cannot identify image file '/Users/trangttdang/Downloads/food_data_1/train/images/chicken_5814_jpg.rf.f3b4e05711546c5cf69a08b37d737459.jpg'\n",
      "\u001b[34m\u001b[1mtrain: \u001b[0mWARNING ⚠️ /Users/trangttdang/Downloads/food_data_1/train/images/fridge3_jpeg_jpg.rf.0ef8a941de076d81737cdcd0f580dd7c.jpg: ignoring corrupt image/label: cannot identify image file '/Users/trangttdang/Downloads/food_data_1/train/images/fridge3_jpeg_jpg.rf.0ef8a941de076d81737cdcd0f580dd7c.jpg'\n",
      "\u001b[34m\u001b[1mtrain: \u001b[0mWARNING ⚠️ /Users/trangttdang/Downloads/food_data_1/train/images/fridge3_jpeg_jpg.rf.17fa8e70a20d4cfb18e25bfa5dfe7cc6.jpg: ignoring corrupt image/label: cannot identify image file '/Users/trangttdang/Downloads/food_data_1/train/images/fridge3_jpeg_jpg.rf.17fa8e70a20d4cfb18e25bfa5dfe7cc6.jpg'\n",
      "\u001b[34m\u001b[1mtrain: \u001b[0mWARNING ⚠️ /Users/trangttdang/Downloads/food_data_1/train/images/fridge3_jpeg_jpg.rf.3381d521da653fb4cf09f027c6359364.jpg: ignoring corrupt image/label: cannot identify image file '/Users/trangttdang/Downloads/food_data_1/train/images/fridge3_jpeg_jpg.rf.3381d521da653fb4cf09f027c6359364.jpg'\n",
      "\u001b[34m\u001b[1mtrain: \u001b[0mWARNING ⚠️ /Users/trangttdang/Downloads/food_data_1/train/images/fridge3_jpeg_jpg.rf.572d597a93fe697614845ac06e8da4fc.jpg: ignoring corrupt image/label: cannot identify image file '/Users/trangttdang/Downloads/food_data_1/train/images/fridge3_jpeg_jpg.rf.572d597a93fe697614845ac06e8da4fc.jpg'\n",
      "\u001b[34m\u001b[1mtrain: \u001b[0mWARNING ⚠️ /Users/trangttdang/Downloads/food_data_1/train/images/fridge3_jpeg_jpg.rf.5fa607ab63bb5bb8089ef53049e0c316.jpg: ignoring corrupt image/label: cannot identify image file '/Users/trangttdang/Downloads/food_data_1/train/images/fridge3_jpeg_jpg.rf.5fa607ab63bb5bb8089ef53049e0c316.jpg'\n",
      "\u001b[34m\u001b[1mtrain: \u001b[0mWARNING ⚠️ /Users/trangttdang/Downloads/food_data_1/train/images/fridge3_jpeg_jpg.rf.b8ce1f003f96bcba5c05401a1ecbaaff.jpg: ignoring corrupt image/label: cannot identify image file '/Users/trangttdang/Downloads/food_data_1/train/images/fridge3_jpeg_jpg.rf.b8ce1f003f96bcba5c05401a1ecbaaff.jpg'\n",
      "\u001b[34m\u001b[1mtrain: \u001b[0mWARNING ⚠️ /Users/trangttdang/Downloads/food_data_1/train/images/fridge3_jpeg_jpg.rf.c8282b1681814ad04b98c308bb904f44.jpg: ignoring corrupt image/label: cannot identify image file '/Users/trangttdang/Downloads/food_data_1/train/images/fridge3_jpeg_jpg.rf.c8282b1681814ad04b98c308bb904f44.jpg'\n",
      "\u001b[34m\u001b[1mtrain: \u001b[0mWARNING ⚠️ /Users/trangttdang/Downloads/food_data_1/train/images/fridge3_jpeg_jpg.rf.e84d2b638d96748192ca9ec0e6ddb2d0.jpg: ignoring corrupt image/label: cannot identify image file '/Users/trangttdang/Downloads/food_data_1/train/images/fridge3_jpeg_jpg.rf.e84d2b638d96748192ca9ec0e6ddb2d0.jpg'\n",
      "\u001b[34m\u001b[1mtrain: \u001b[0mWARNING ⚠️ /Users/trangttdang/Downloads/food_data_1/train/images/fridge3_jpeg_jpg.rf.f6b4b8ec26f0e51456eec8858556795d.jpg: ignoring corrupt image/label: image file is truncated (93 bytes not processed)\n",
      "\u001b[34m\u001b[1mtrain: \u001b[0mWARNING ⚠️ /Users/trangttdang/Downloads/food_data_1/train/images/image30_jpeg_jpg.rf.3c19b94e15a0247d82efaa67a0e58e78.jpg: ignoring corrupt image/label: cannot identify image file '/Users/trangttdang/Downloads/food_data_1/train/images/image30_jpeg_jpg.rf.3c19b94e15a0247d82efaa67a0e58e78.jpg'\n",
      "\u001b[34m\u001b[1mtrain: \u001b[0mWARNING ⚠️ /Users/trangttdang/Downloads/food_data_1/train/images/image30_jpeg_jpg.rf.4411108131e600365acfc8e9a1f5abb2.jpg: ignoring corrupt image/label: cannot identify image file '/Users/trangttdang/Downloads/food_data_1/train/images/image30_jpeg_jpg.rf.4411108131e600365acfc8e9a1f5abb2.jpg'\n",
      "\u001b[34m\u001b[1mtrain: \u001b[0mWARNING ⚠️ /Users/trangttdang/Downloads/food_data_1/train/images/image30_jpeg_jpg.rf.7aef005b5f3eb491acb26377b4969d6b.jpg: ignoring corrupt image/label: cannot identify image file '/Users/trangttdang/Downloads/food_data_1/train/images/image30_jpeg_jpg.rf.7aef005b5f3eb491acb26377b4969d6b.jpg'\n",
      "\u001b[34m\u001b[1mtrain: \u001b[0mWARNING ⚠️ /Users/trangttdang/Downloads/food_data_1/train/images/istockphoto-1048223300-612x612_jpg.rf.c47b929857405ab54ed1492916494c1c.jpg: ignoring corrupt image/label: cannot identify image file '/Users/trangttdang/Downloads/food_data_1/train/images/istockphoto-1048223300-612x612_jpg.rf.c47b929857405ab54ed1492916494c1c.jpg'\n",
      "\u001b[34m\u001b[1mtrain: \u001b[0mWARNING ⚠️ /Users/trangttdang/Downloads/food_data_1/train/images/istockphoto-1048223300-612x612_jpg.rf.ed00087df7b5d0256c6988cd02fe5289.jpg: ignoring corrupt image/label: cannot identify image file '/Users/trangttdang/Downloads/food_data_1/train/images/istockphoto-1048223300-612x612_jpg.rf.ed00087df7b5d0256c6988cd02fe5289.jpg'\n",
      "\u001b[34m\u001b[1mtrain: \u001b[0mWARNING ⚠️ /Users/trangttdang/Downloads/food_data_1/train/images/istockphoto-1195258022-612x612_jpg.rf.3050e0f263e756cb86071bd5aa824605.jpg: ignoring corrupt image/label: cannot identify image file '/Users/trangttdang/Downloads/food_data_1/train/images/istockphoto-1195258022-612x612_jpg.rf.3050e0f263e756cb86071bd5aa824605.jpg'\n",
      "\u001b[34m\u001b[1mtrain: \u001b[0mWARNING ⚠️ /Users/trangttdang/Downloads/food_data_1/train/images/istockphoto-1195258022-612x612_jpg.rf.47b3390cc24903fc18b45c8e784bab21.jpg: ignoring corrupt image/label: cannot identify image file '/Users/trangttdang/Downloads/food_data_1/train/images/istockphoto-1195258022-612x612_jpg.rf.47b3390cc24903fc18b45c8e784bab21.jpg'\n",
      "\u001b[34m\u001b[1mtrain: \u001b[0mWARNING ⚠️ /Users/trangttdang/Downloads/food_data_1/train/images/istockphoto-1195258022-612x612_jpg.rf.5be58dac08d6092126cd69ede8f5048f.jpg: ignoring corrupt image/label: cannot identify image file '/Users/trangttdang/Downloads/food_data_1/train/images/istockphoto-1195258022-612x612_jpg.rf.5be58dac08d6092126cd69ede8f5048f.jpg'\n",
      "\u001b[34m\u001b[1mtrain: \u001b[0mWARNING ⚠️ /Users/trangttdang/Downloads/food_data_1/train/images/istockphoto-1195258022-612x612_jpg.rf.639d4d29fcccf52472dd6ef10587365a.jpg: ignoring corrupt image/label: cannot identify image file '/Users/trangttdang/Downloads/food_data_1/train/images/istockphoto-1195258022-612x612_jpg.rf.639d4d29fcccf52472dd6ef10587365a.jpg'\n",
      "\u001b[34m\u001b[1mtrain: \u001b[0mWARNING ⚠️ /Users/trangttdang/Downloads/food_data_1/train/images/istockphoto-1195258022-612x612_jpg.rf.6fab44e684af2c28a286d33be8f62b9a.jpg: ignoring corrupt image/label: cannot identify image file '/Users/trangttdang/Downloads/food_data_1/train/images/istockphoto-1195258022-612x612_jpg.rf.6fab44e684af2c28a286d33be8f62b9a.jpg'\n",
      "\u001b[34m\u001b[1mtrain: \u001b[0mWARNING ⚠️ /Users/trangttdang/Downloads/food_data_1/train/images/istockphoto-1195258022-612x612_jpg.rf.743867217355a1e8db240fe27e78a64a.jpg: ignoring corrupt image/label: cannot identify image file '/Users/trangttdang/Downloads/food_data_1/train/images/istockphoto-1195258022-612x612_jpg.rf.743867217355a1e8db240fe27e78a64a.jpg'\n",
      "\u001b[34m\u001b[1mtrain: \u001b[0mWARNING ⚠️ /Users/trangttdang/Downloads/food_data_1/train/images/istockphoto-1195258022-612x612_jpg.rf.7cc1baf73b7fe8e5193b9c85eb0930c2.jpg: ignoring corrupt image/label: cannot identify image file '/Users/trangttdang/Downloads/food_data_1/train/images/istockphoto-1195258022-612x612_jpg.rf.7cc1baf73b7fe8e5193b9c85eb0930c2.jpg'\n",
      "\u001b[34m\u001b[1mtrain: \u001b[0mWARNING ⚠️ /Users/trangttdang/Downloads/food_data_1/train/images/istockphoto-1195258022-612x612_jpg.rf.b8abd4a98c7b5674475d33f4056f1afe.jpg: ignoring corrupt image/label: cannot identify image file '/Users/trangttdang/Downloads/food_data_1/train/images/istockphoto-1195258022-612x612_jpg.rf.b8abd4a98c7b5674475d33f4056f1afe.jpg'\n",
      "\u001b[34m\u001b[1mtrain: \u001b[0mWARNING ⚠️ /Users/trangttdang/Downloads/food_data_1/train/images/istockphoto-1200775692-612x612_jpg.rf.0972baaa7e1f2a97feb438233cdc117d.jpg: ignoring corrupt image/label: cannot identify image file '/Users/trangttdang/Downloads/food_data_1/train/images/istockphoto-1200775692-612x612_jpg.rf.0972baaa7e1f2a97feb438233cdc117d.jpg'\n",
      "\u001b[34m\u001b[1mtrain: \u001b[0mWARNING ⚠️ /Users/trangttdang/Downloads/food_data_1/train/images/istockphoto-1200775692-612x612_jpg.rf.0a4bd828840a56aee6413fae6ae85fa3.jpg: ignoring corrupt image/label: cannot identify image file '/Users/trangttdang/Downloads/food_data_1/train/images/istockphoto-1200775692-612x612_jpg.rf.0a4bd828840a56aee6413fae6ae85fa3.jpg'\n",
      "\u001b[34m\u001b[1mtrain: \u001b[0mWARNING ⚠️ /Users/trangttdang/Downloads/food_data_1/train/images/istockphoto-1200775692-612x612_jpg.rf.38560fc3f80ad7c4140f511920635be8.jpg: ignoring corrupt image/label: cannot identify image file '/Users/trangttdang/Downloads/food_data_1/train/images/istockphoto-1200775692-612x612_jpg.rf.38560fc3f80ad7c4140f511920635be8.jpg'\n",
      "\u001b[34m\u001b[1mtrain: \u001b[0mWARNING ⚠️ /Users/trangttdang/Downloads/food_data_1/train/images/istockphoto-1200775692-612x612_jpg.rf.43b28f2dc1998d9529fdaec35ef5e17f.jpg: ignoring corrupt image/label: cannot identify image file '/Users/trangttdang/Downloads/food_data_1/train/images/istockphoto-1200775692-612x612_jpg.rf.43b28f2dc1998d9529fdaec35ef5e17f.jpg'\n",
      "\u001b[34m\u001b[1mtrain: \u001b[0mWARNING ⚠️ /Users/trangttdang/Downloads/food_data_1/train/images/istockphoto-1200775692-612x612_jpg.rf.4b780ca6776d648c1a7fca1c59cbf925.jpg: ignoring corrupt image/label: cannot identify image file '/Users/trangttdang/Downloads/food_data_1/train/images/istockphoto-1200775692-612x612_jpg.rf.4b780ca6776d648c1a7fca1c59cbf925.jpg'\n",
      "\u001b[34m\u001b[1mtrain: \u001b[0mWARNING ⚠️ /Users/trangttdang/Downloads/food_data_1/train/images/istockphoto-1200775692-612x612_jpg.rf.7b515f95972865fa102a719ef966132b.jpg: ignoring corrupt image/label: cannot identify image file '/Users/trangttdang/Downloads/food_data_1/train/images/istockphoto-1200775692-612x612_jpg.rf.7b515f95972865fa102a719ef966132b.jpg'\n",
      "\u001b[34m\u001b[1mtrain: \u001b[0mWARNING ⚠️ /Users/trangttdang/Downloads/food_data_1/train/images/istockphoto-1200775692-612x612_jpg.rf.8df8c91d1612de5cd4937920c74f84f1.jpg: ignoring corrupt image/label: cannot identify image file '/Users/trangttdang/Downloads/food_data_1/train/images/istockphoto-1200775692-612x612_jpg.rf.8df8c91d1612de5cd4937920c74f84f1.jpg'\n",
      "\u001b[34m\u001b[1mtrain: \u001b[0mWARNING ⚠️ /Users/trangttdang/Downloads/food_data_1/train/images/istockphoto-1200775692-612x612_jpg.rf.8ec16b08d582aa86079935fa7f4f551e.jpg: ignoring corrupt image/label: cannot identify image file '/Users/trangttdang/Downloads/food_data_1/train/images/istockphoto-1200775692-612x612_jpg.rf.8ec16b08d582aa86079935fa7f4f551e.jpg'\n",
      "\u001b[34m\u001b[1mtrain: \u001b[0mWARNING ⚠️ /Users/trangttdang/Downloads/food_data_1/train/images/istockphoto-1200775692-612x612_jpg.rf.994fb5fd99e753c866a20b72ce7c89f7.jpg: ignoring corrupt image/label: cannot identify image file '/Users/trangttdang/Downloads/food_data_1/train/images/istockphoto-1200775692-612x612_jpg.rf.994fb5fd99e753c866a20b72ce7c89f7.jpg'\n",
      "\u001b[34m\u001b[1mtrain: \u001b[0mWARNING ⚠️ /Users/trangttdang/Downloads/food_data_1/train/images/istockphoto-1200775692-612x612_jpg.rf.9f4d5e13892fc3ce6c4da890d2eb8d75.jpg: ignoring corrupt image/label: cannot identify image file '/Users/trangttdang/Downloads/food_data_1/train/images/istockphoto-1200775692-612x612_jpg.rf.9f4d5e13892fc3ce6c4da890d2eb8d75.jpg'\n",
      "\u001b[34m\u001b[1mtrain: \u001b[0mWARNING ⚠️ /Users/trangttdang/Downloads/food_data_1/train/images/istockphoto-1200775692-612x612_jpg.rf.b63d8ede838d9d490bf4de300c427df2.jpg: ignoring corrupt image/label: cannot identify image file '/Users/trangttdang/Downloads/food_data_1/train/images/istockphoto-1200775692-612x612_jpg.rf.b63d8ede838d9d490bf4de300c427df2.jpg'\n",
      "\u001b[34m\u001b[1mtrain: \u001b[0mWARNING ⚠️ /Users/trangttdang/Downloads/food_data_1/train/images/istockphoto-1200775692-612x612_jpg.rf.b6cbd612b7e9550ab8b7a5512f8ad90b.jpg: ignoring corrupt image/label: cannot identify image file '/Users/trangttdang/Downloads/food_data_1/train/images/istockphoto-1200775692-612x612_jpg.rf.b6cbd612b7e9550ab8b7a5512f8ad90b.jpg'\n",
      "\u001b[34m\u001b[1mtrain: \u001b[0mWARNING ⚠️ /Users/trangttdang/Downloads/food_data_1/train/images/istockphoto-1200775692-612x612_jpg.rf.be1083b2185f9f084b6b1bc1fe95b003.jpg: ignoring corrupt image/label: cannot identify image file '/Users/trangttdang/Downloads/food_data_1/train/images/istockphoto-1200775692-612x612_jpg.rf.be1083b2185f9f084b6b1bc1fe95b003.jpg'\n",
      "\u001b[34m\u001b[1mtrain: \u001b[0mWARNING ⚠️ /Users/trangttdang/Downloads/food_data_1/train/images/istockphoto-1200775692-612x612_jpg.rf.eb1ff5838166b314ff0b507fe30a2ff8.jpg: ignoring corrupt image/label: cannot identify image file '/Users/trangttdang/Downloads/food_data_1/train/images/istockphoto-1200775692-612x612_jpg.rf.eb1ff5838166b314ff0b507fe30a2ff8.jpg'\n",
      "\u001b[34m\u001b[1mtrain: \u001b[0mWARNING ⚠️ /Users/trangttdang/Downloads/food_data_1/train/images/istockphoto-1200775716-612x612_jpg.rf.053aed89e16025f1abfa085b4b2197f3.jpg: ignoring corrupt image/label: cannot identify image file '/Users/trangttdang/Downloads/food_data_1/train/images/istockphoto-1200775716-612x612_jpg.rf.053aed89e16025f1abfa085b4b2197f3.jpg'\n",
      "\u001b[34m\u001b[1mtrain: \u001b[0mWARNING ⚠️ /Users/trangttdang/Downloads/food_data_1/train/images/istockphoto-1200775716-612x612_jpg.rf.41389cb836db45d41730641487dfe467.jpg: ignoring corrupt image/label: cannot identify image file '/Users/trangttdang/Downloads/food_data_1/train/images/istockphoto-1200775716-612x612_jpg.rf.41389cb836db45d41730641487dfe467.jpg'\n",
      "\u001b[34m\u001b[1mtrain: \u001b[0mWARNING ⚠️ /Users/trangttdang/Downloads/food_data_1/train/images/istockphoto-1200775716-612x612_jpg.rf.5ae05cfb725c283394971ad356e3a49f.jpg: ignoring corrupt image/label: cannot identify image file '/Users/trangttdang/Downloads/food_data_1/train/images/istockphoto-1200775716-612x612_jpg.rf.5ae05cfb725c283394971ad356e3a49f.jpg'\n",
      "\u001b[34m\u001b[1mtrain: \u001b[0mWARNING ⚠️ /Users/trangttdang/Downloads/food_data_1/train/images/istockphoto-1200775716-612x612_jpg.rf.6a909464bfd8c18eb27a238b72af4708.jpg: ignoring corrupt image/label: cannot identify image file '/Users/trangttdang/Downloads/food_data_1/train/images/istockphoto-1200775716-612x612_jpg.rf.6a909464bfd8c18eb27a238b72af4708.jpg'\n",
      "\u001b[34m\u001b[1mtrain: \u001b[0mWARNING ⚠️ /Users/trangttdang/Downloads/food_data_1/train/images/istockphoto-1200775716-612x612_jpg.rf.765555b5322ba56885f585972e4a12c7.jpg: ignoring corrupt image/label: cannot identify image file '/Users/trangttdang/Downloads/food_data_1/train/images/istockphoto-1200775716-612x612_jpg.rf.765555b5322ba56885f585972e4a12c7.jpg'\n",
      "\u001b[34m\u001b[1mtrain: \u001b[0mWARNING ⚠️ /Users/trangttdang/Downloads/food_data_1/train/images/istockphoto-1200775716-612x612_jpg.rf.77528a2846857892aeac2ce055cdd581.jpg: ignoring corrupt image/label: cannot identify image file '/Users/trangttdang/Downloads/food_data_1/train/images/istockphoto-1200775716-612x612_jpg.rf.77528a2846857892aeac2ce055cdd581.jpg'\n",
      "\u001b[34m\u001b[1mtrain: \u001b[0mWARNING ⚠️ /Users/trangttdang/Downloads/food_data_1/train/images/istockphoto-1200775716-612x612_jpg.rf.8227cdd91b6f3a35d06a4f0efe0f87ac.jpg: ignoring corrupt image/label: cannot identify image file '/Users/trangttdang/Downloads/food_data_1/train/images/istockphoto-1200775716-612x612_jpg.rf.8227cdd91b6f3a35d06a4f0efe0f87ac.jpg'\n",
      "\u001b[34m\u001b[1mtrain: \u001b[0mWARNING ⚠️ /Users/trangttdang/Downloads/food_data_1/train/images/istockphoto-1200775716-612x612_jpg.rf.cb582eb20ea99b697db1003ce7357eb0.jpg: ignoring corrupt image/label: cannot identify image file '/Users/trangttdang/Downloads/food_data_1/train/images/istockphoto-1200775716-612x612_jpg.rf.cb582eb20ea99b697db1003ce7357eb0.jpg'\n",
      "\u001b[34m\u001b[1mtrain: \u001b[0mWARNING ⚠️ /Users/trangttdang/Downloads/food_data_1/train/images/istockphoto-1200775716-612x612_jpg.rf.d9154c4ef6d4a62f3259f8b3b45e07e8.jpg: ignoring corrupt image/label: cannot identify image file '/Users/trangttdang/Downloads/food_data_1/train/images/istockphoto-1200775716-612x612_jpg.rf.d9154c4ef6d4a62f3259f8b3b45e07e8.jpg'\n",
      "\u001b[34m\u001b[1mtrain: \u001b[0mWARNING ⚠️ /Users/trangttdang/Downloads/food_data_1/train/images/istockphoto-1200775716-612x612_jpg.rf.d9d8d59b3c9872dea7bc9025b511fb33.jpg: ignoring corrupt image/label: cannot identify image file '/Users/trangttdang/Downloads/food_data_1/train/images/istockphoto-1200775716-612x612_jpg.rf.d9d8d59b3c9872dea7bc9025b511fb33.jpg'\n",
      "\u001b[34m\u001b[1mtrain: \u001b[0mWARNING ⚠️ /Users/trangttdang/Downloads/food_data_1/train/images/istockphoto-121106515-612x612_jpg.rf.3a53a04c801c5efaf9cb46fdf415d0c4.jpg: ignoring corrupt image/label: cannot identify image file '/Users/trangttdang/Downloads/food_data_1/train/images/istockphoto-121106515-612x612_jpg.rf.3a53a04c801c5efaf9cb46fdf415d0c4.jpg'\n",
      "\u001b[34m\u001b[1mtrain: \u001b[0mWARNING ⚠️ /Users/trangttdang/Downloads/food_data_1/train/images/istockphoto-121106515-612x612_jpg.rf.8cfde325ae800156254e2a60964d5cda.jpg: ignoring corrupt image/label: cannot identify image file '/Users/trangttdang/Downloads/food_data_1/train/images/istockphoto-121106515-612x612_jpg.rf.8cfde325ae800156254e2a60964d5cda.jpg'\n",
      "\u001b[34m\u001b[1mtrain: \u001b[0mWARNING ⚠️ /Users/trangttdang/Downloads/food_data_1/train/images/istockphoto-121106515-612x612_jpg.rf.8d70b6fcca690b7e29739f1bda5d8d76.jpg: ignoring corrupt image/label: cannot identify image file '/Users/trangttdang/Downloads/food_data_1/train/images/istockphoto-121106515-612x612_jpg.rf.8d70b6fcca690b7e29739f1bda5d8d76.jpg'\n",
      "\u001b[34m\u001b[1mtrain: \u001b[0mWARNING ⚠️ /Users/trangttdang/Downloads/food_data_1/train/images/istockphoto-121106515-612x612_jpg.rf.d43e2cf2c49a37491cdf185dba8b9e6b.jpg: ignoring corrupt image/label: cannot identify image file '/Users/trangttdang/Downloads/food_data_1/train/images/istockphoto-121106515-612x612_jpg.rf.d43e2cf2c49a37491cdf185dba8b9e6b.jpg'\n",
      "\u001b[34m\u001b[1mtrain: \u001b[0mWARNING ⚠️ /Users/trangttdang/Downloads/food_data_1/train/images/istockphoto-1292729563-612x612_jpg.rf.f78c4fb81da5ffa82e27cc23f9fd4a3f.jpg: ignoring corrupt image/label: cannot identify image file '/Users/trangttdang/Downloads/food_data_1/train/images/istockphoto-1292729563-612x612_jpg.rf.f78c4fb81da5ffa82e27cc23f9fd4a3f.jpg'\n",
      "\u001b[34m\u001b[1mtrain: \u001b[0mWARNING ⚠️ /Users/trangttdang/Downloads/food_data_1/train/images/istockphoto-1293713314-612x612_jpg.rf.0085d3b8ae6abcdade900f2e367060ef.jpg: ignoring corrupt image/label: cannot identify image file '/Users/trangttdang/Downloads/food_data_1/train/images/istockphoto-1293713314-612x612_jpg.rf.0085d3b8ae6abcdade900f2e367060ef.jpg'\n",
      "\u001b[34m\u001b[1mtrain: \u001b[0mWARNING ⚠️ /Users/trangttdang/Downloads/food_data_1/train/images/istockphoto-1455232692-612x612_jpg.rf.d03cb76006e01cd1b9baef915905de3f.jpg: ignoring corrupt image/label: cannot identify image file '/Users/trangttdang/Downloads/food_data_1/train/images/istockphoto-1455232692-612x612_jpg.rf.d03cb76006e01cd1b9baef915905de3f.jpg'\n",
      "\u001b[34m\u001b[1mtrain: \u001b[0mWARNING ⚠️ /Users/trangttdang/Downloads/food_data_1/train/images/istockphoto-1455232692-612x612_jpg.rf.e1dca4f0456c8bff7bbc83f0def5aa9e.jpg: ignoring corrupt image/label: cannot identify image file '/Users/trangttdang/Downloads/food_data_1/train/images/istockphoto-1455232692-612x612_jpg.rf.e1dca4f0456c8bff7bbc83f0def5aa9e.jpg'\n",
      "\u001b[34m\u001b[1mtrain: \u001b[0mWARNING ⚠️ /Users/trangttdang/Downloads/food_data_1/train/images/istockphoto-1455232692-612x612_jpg.rf.f413f81b5d3b34a04a593a00267aa134.jpg: ignoring corrupt image/label: cannot identify image file '/Users/trangttdang/Downloads/food_data_1/train/images/istockphoto-1455232692-612x612_jpg.rf.f413f81b5d3b34a04a593a00267aa134.jpg'\n",
      "\u001b[34m\u001b[1mtrain: \u001b[0mWARNING ⚠️ /Users/trangttdang/Downloads/food_data_1/train/images/istockphoto-1455232692-612x612_jpg.rf.f95525fdd9617452b5e0ced5e12e46d9.jpg: ignoring corrupt image/label: cannot identify image file '/Users/trangttdang/Downloads/food_data_1/train/images/istockphoto-1455232692-612x612_jpg.rf.f95525fdd9617452b5e0ced5e12e46d9.jpg'\n",
      "\u001b[34m\u001b[1mtrain: \u001b[0mWARNING ⚠️ /Users/trangttdang/Downloads/food_data_1/train/images/istockphoto-1455232692-612x612_jpg.rf.fa696858306528ae7287f2874718bd84.jpg: ignoring corrupt image/label: cannot identify image file '/Users/trangttdang/Downloads/food_data_1/train/images/istockphoto-1455232692-612x612_jpg.rf.fa696858306528ae7287f2874718bd84.jpg'\n",
      "\u001b[34m\u001b[1mtrain: \u001b[0mWARNING ⚠️ /Users/trangttdang/Downloads/food_data_1/train/images/istockphoto-153830434-612x612_jpg.rf.4bacdcb49f75f3014cea5faf23650b02.jpg: ignoring corrupt image/label: cannot identify image file '/Users/trangttdang/Downloads/food_data_1/train/images/istockphoto-153830434-612x612_jpg.rf.4bacdcb49f75f3014cea5faf23650b02.jpg'\n",
      "\u001b[34m\u001b[1mtrain: \u001b[0mWARNING ⚠️ /Users/trangttdang/Downloads/food_data_1/train/images/istockphoto-153830434-612x612_jpg.rf.6278ddaa3fcec7df7f33e8d2f664c52a.jpg: ignoring corrupt image/label: cannot identify image file '/Users/trangttdang/Downloads/food_data_1/train/images/istockphoto-153830434-612x612_jpg.rf.6278ddaa3fcec7df7f33e8d2f664c52a.jpg'\n",
      "\u001b[34m\u001b[1mtrain: \u001b[0mWARNING ⚠️ /Users/trangttdang/Downloads/food_data_1/train/images/istockphoto-153830434-612x612_jpg.rf.7aceed357b3b5132d7cc1a91a5b5838a.jpg: ignoring corrupt image/label: cannot identify image file '/Users/trangttdang/Downloads/food_data_1/train/images/istockphoto-153830434-612x612_jpg.rf.7aceed357b3b5132d7cc1a91a5b5838a.jpg'\n",
      "\u001b[34m\u001b[1mtrain: \u001b[0mWARNING ⚠️ /Users/trangttdang/Downloads/food_data_1/train/images/istockphoto-153830434-612x612_jpg.rf.8357772befaa0ff68e94c4e96ade193e.jpg: ignoring corrupt image/label: cannot identify image file '/Users/trangttdang/Downloads/food_data_1/train/images/istockphoto-153830434-612x612_jpg.rf.8357772befaa0ff68e94c4e96ade193e.jpg'\n",
      "\u001b[34m\u001b[1mtrain: \u001b[0mWARNING ⚠️ /Users/trangttdang/Downloads/food_data_1/train/images/istockphoto-153830434-612x612_jpg.rf.8cf5e25afed323e29700fd38c8cfa3e4.jpg: ignoring corrupt image/label: cannot identify image file '/Users/trangttdang/Downloads/food_data_1/train/images/istockphoto-153830434-612x612_jpg.rf.8cf5e25afed323e29700fd38c8cfa3e4.jpg'\n",
      "\u001b[34m\u001b[1mtrain: \u001b[0mWARNING ⚠️ /Users/trangttdang/Downloads/food_data_1/train/images/istockphoto-153830434-612x612_jpg.rf.cd3008d6741932a59b428e3948d7095d.jpg: ignoring corrupt image/label: cannot identify image file '/Users/trangttdang/Downloads/food_data_1/train/images/istockphoto-153830434-612x612_jpg.rf.cd3008d6741932a59b428e3948d7095d.jpg'\n",
      "\u001b[34m\u001b[1mtrain: \u001b[0mWARNING ⚠️ /Users/trangttdang/Downloads/food_data_1/train/images/istockphoto-153830434-612x612_jpg.rf.d4b62679bd5e6ab285aee236bbdee45a.jpg: ignoring corrupt image/label: cannot identify image file '/Users/trangttdang/Downloads/food_data_1/train/images/istockphoto-153830434-612x612_jpg.rf.d4b62679bd5e6ab285aee236bbdee45a.jpg'\n",
      "\u001b[34m\u001b[1mtrain: \u001b[0mWARNING ⚠️ /Users/trangttdang/Downloads/food_data_1/train/images/istockphoto-153830434-612x612_jpg.rf.eadaa00b7edfc86dfd833898faf4b050.jpg: ignoring corrupt image/label: cannot identify image file '/Users/trangttdang/Downloads/food_data_1/train/images/istockphoto-153830434-612x612_jpg.rf.eadaa00b7edfc86dfd833898faf4b050.jpg'\n",
      "\u001b[34m\u001b[1mtrain: \u001b[0mWARNING ⚠️ /Users/trangttdang/Downloads/food_data_1/train/images/istockphoto-153830434-612x612_jpg.rf.fe0a9ca9251da1e370c240e0de31c249.jpg: ignoring corrupt image/label: cannot identify image file '/Users/trangttdang/Downloads/food_data_1/train/images/istockphoto-153830434-612x612_jpg.rf.fe0a9ca9251da1e370c240e0de31c249.jpg'\n",
      "\u001b[34m\u001b[1mtrain: \u001b[0mWARNING ⚠️ /Users/trangttdang/Downloads/food_data_1/train/images/istockphoto-154960528-612x612_jpg.rf.6de406bdb12a59023ee2b9f0034cf6a2.jpg: ignoring corrupt image/label: cannot identify image file '/Users/trangttdang/Downloads/food_data_1/train/images/istockphoto-154960528-612x612_jpg.rf.6de406bdb12a59023ee2b9f0034cf6a2.jpg'\n",
      "\u001b[34m\u001b[1mtrain: \u001b[0mWARNING ⚠️ /Users/trangttdang/Downloads/food_data_1/train/images/istockphoto-163690459-612x612_jpg.rf.28fd445a3779ae341782428b0eef7e45.jpg: ignoring corrupt image/label: cannot identify image file '/Users/trangttdang/Downloads/food_data_1/train/images/istockphoto-163690459-612x612_jpg.rf.28fd445a3779ae341782428b0eef7e45.jpg'\n",
      "\u001b[34m\u001b[1mtrain: \u001b[0mWARNING ⚠️ /Users/trangttdang/Downloads/food_data_1/train/images/istockphoto-163690459-612x612_jpg.rf.bb16535b66458935964a25a2e894aa11.jpg: ignoring corrupt image/label: cannot identify image file '/Users/trangttdang/Downloads/food_data_1/train/images/istockphoto-163690459-612x612_jpg.rf.bb16535b66458935964a25a2e894aa11.jpg'\n",
      "\u001b[34m\u001b[1mtrain: \u001b[0mWARNING ⚠️ /Users/trangttdang/Downloads/food_data_1/train/images/istockphoto-178107172-612x612_jpg.rf.01c2063db9ecf3a17c4ff8ef75e307a0.jpg: ignoring corrupt image/label: cannot identify image file '/Users/trangttdang/Downloads/food_data_1/train/images/istockphoto-178107172-612x612_jpg.rf.01c2063db9ecf3a17c4ff8ef75e307a0.jpg'\n",
      "\u001b[34m\u001b[1mtrain: \u001b[0mWARNING ⚠️ /Users/trangttdang/Downloads/food_data_1/train/images/istockphoto-178107172-612x612_jpg.rf.714addb6833a5c67f356adf31fd2a397.jpg: ignoring corrupt image/label: cannot identify image file '/Users/trangttdang/Downloads/food_data_1/train/images/istockphoto-178107172-612x612_jpg.rf.714addb6833a5c67f356adf31fd2a397.jpg'\n",
      "\u001b[34m\u001b[1mtrain: \u001b[0mWARNING ⚠️ /Users/trangttdang/Downloads/food_data_1/train/images/istockphoto-178107172-612x612_jpg.rf.a8545cc98d1ae1db3d8e2594c822894a.jpg: ignoring corrupt image/label: cannot identify image file '/Users/trangttdang/Downloads/food_data_1/train/images/istockphoto-178107172-612x612_jpg.rf.a8545cc98d1ae1db3d8e2594c822894a.jpg'\n",
      "\u001b[34m\u001b[1mtrain: \u001b[0mWARNING ⚠️ /Users/trangttdang/Downloads/food_data_1/train/images/istockphoto-500304690-612x612_jpg.rf.93cb0f8cb14cfb983d1f18fd4a60acea.jpg: ignoring corrupt image/label: cannot identify image file '/Users/trangttdang/Downloads/food_data_1/train/images/istockphoto-500304690-612x612_jpg.rf.93cb0f8cb14cfb983d1f18fd4a60acea.jpg'\n",
      "\u001b[34m\u001b[1mtrain: \u001b[0mWARNING ⚠️ /Users/trangttdang/Downloads/food_data_1/train/images/istockphoto-500304690-612x612_jpg.rf.b55379985bfbbf524fb242f1f45cee5d.jpg: ignoring corrupt image/label: image file is truncated (9 bytes not processed)\n",
      "\u001b[34m\u001b[1mtrain: \u001b[0mWARNING ⚠️ /Users/trangttdang/Downloads/food_data_1/train/images/istockphoto-500304690-612x612_jpg.rf.e8dbbe002a7a07ed2a66c4d5946e524e.jpg: ignoring corrupt image/label: cannot identify image file '/Users/trangttdang/Downloads/food_data_1/train/images/istockphoto-500304690-612x612_jpg.rf.e8dbbe002a7a07ed2a66c4d5946e524e.jpg'\n",
      "\u001b[34m\u001b[1mtrain: \u001b[0mWARNING ⚠️ /Users/trangttdang/Downloads/food_data_1/train/images/istockphoto-500304690-612x612_jpg.rf.eab33a33056329d1400ac77b5ba3cd7b.jpg: ignoring corrupt image/label: cannot identify image file '/Users/trangttdang/Downloads/food_data_1/train/images/istockphoto-500304690-612x612_jpg.rf.eab33a33056329d1400ac77b5ba3cd7b.jpg'\n",
      "\u001b[34m\u001b[1mtrain: \u001b[0mWARNING ⚠️ /Users/trangttdang/Downloads/food_data_1/train/images/istockphoto-500304690-612x612_jpg.rf.fcdae70c59404cb3e6fa1b82242519d7.jpg: ignoring corrupt image/label: cannot identify image file '/Users/trangttdang/Downloads/food_data_1/train/images/istockphoto-500304690-612x612_jpg.rf.fcdae70c59404cb3e6fa1b82242519d7.jpg'\n",
      "\u001b[34m\u001b[1mtrain: \u001b[0mWARNING ⚠️ /Users/trangttdang/Downloads/food_data_1/train/images/istockphoto-500304690-612x612_jpg.rf.fdaf95a718a1e21a2e4e4f4a3b3328a5.jpg: ignoring corrupt image/label: cannot identify image file '/Users/trangttdang/Downloads/food_data_1/train/images/istockphoto-500304690-612x612_jpg.rf.fdaf95a718a1e21a2e4e4f4a3b3328a5.jpg'\n",
      "\u001b[34m\u001b[1mtrain: \u001b[0mWARNING ⚠️ /Users/trangttdang/Downloads/food_data_1/train/images/istockphoto-612231600-612x612_jpg.rf.10b7dfb9a79db4a0ebfabd8bb79ee8d6.jpg: ignoring corrupt image/label: cannot identify image file '/Users/trangttdang/Downloads/food_data_1/train/images/istockphoto-612231600-612x612_jpg.rf.10b7dfb9a79db4a0ebfabd8bb79ee8d6.jpg'\n",
      "\u001b[34m\u001b[1mtrain: \u001b[0mWARNING ⚠️ /Users/trangttdang/Downloads/food_data_1/train/images/istockphoto-612231600-612x612_jpg.rf.20d9d4949b9c08281a6f38ffbb0efb1c.jpg: ignoring corrupt image/label: cannot identify image file '/Users/trangttdang/Downloads/food_data_1/train/images/istockphoto-612231600-612x612_jpg.rf.20d9d4949b9c08281a6f38ffbb0efb1c.jpg'\n",
      "\u001b[34m\u001b[1mtrain: \u001b[0mWARNING ⚠️ /Users/trangttdang/Downloads/food_data_1/train/images/istockphoto-612231600-612x612_jpg.rf.3285419b871714ca69d42d484f59aca1.jpg: ignoring corrupt image/label: cannot identify image file '/Users/trangttdang/Downloads/food_data_1/train/images/istockphoto-612231600-612x612_jpg.rf.3285419b871714ca69d42d484f59aca1.jpg'\n",
      "\u001b[34m\u001b[1mtrain: \u001b[0mWARNING ⚠️ /Users/trangttdang/Downloads/food_data_1/train/images/istockphoto-612231600-612x612_jpg.rf.e2f111ccd48d32c1ae96326969763e06.jpg: ignoring corrupt image/label: cannot identify image file '/Users/trangttdang/Downloads/food_data_1/train/images/istockphoto-612231600-612x612_jpg.rf.e2f111ccd48d32c1ae96326969763e06.jpg'\n",
      "\u001b[34m\u001b[1mtrain: \u001b[0mWARNING ⚠️ /Users/trangttdang/Downloads/food_data_1/train/images/istockphoto-612231600-612x612_jpg.rf.f02d861bc74f508ed24c9df2cbf15d5d.jpg: ignoring corrupt image/label: cannot identify image file '/Users/trangttdang/Downloads/food_data_1/train/images/istockphoto-612231600-612x612_jpg.rf.f02d861bc74f508ed24c9df2cbf15d5d.jpg'\n",
      "\u001b[34m\u001b[1mtrain: \u001b[0mWARNING ⚠️ /Users/trangttdang/Downloads/food_data_1/train/images/istockphoto-612231600-612x612_jpg.rf.f77a1ced08c074cbe04aad402de9bc5e.jpg: ignoring corrupt image/label: cannot identify image file '/Users/trangttdang/Downloads/food_data_1/train/images/istockphoto-612231600-612x612_jpg.rf.f77a1ced08c074cbe04aad402de9bc5e.jpg'\n",
      "\u001b[34m\u001b[1mtrain: \u001b[0mWARNING ⚠️ /Users/trangttdang/Downloads/food_data_1/train/images/istockphoto-637813908-612x612_jpg.rf.1606c65468ac87492c3292efb359a427.jpg: ignoring corrupt image/label: cannot identify image file '/Users/trangttdang/Downloads/food_data_1/train/images/istockphoto-637813908-612x612_jpg.rf.1606c65468ac87492c3292efb359a427.jpg'\n",
      "\u001b[34m\u001b[1mtrain: \u001b[0mWARNING ⚠️ /Users/trangttdang/Downloads/food_data_1/train/images/istockphoto-649687494-612x612_jpg.rf.1fed4379ca7fe36deeff4aa23e9eb631.jpg: ignoring corrupt image/label: cannot identify image file '/Users/trangttdang/Downloads/food_data_1/train/images/istockphoto-649687494-612x612_jpg.rf.1fed4379ca7fe36deeff4aa23e9eb631.jpg'\n",
      "\u001b[34m\u001b[1mtrain: \u001b[0mWARNING ⚠️ /Users/trangttdang/Downloads/food_data_1/train/images/istockphoto-649687494-612x612_jpg.rf.c4211d5356cb58c69131e70fdb2fc888.jpg: ignoring corrupt image/label: cannot identify image file '/Users/trangttdang/Downloads/food_data_1/train/images/istockphoto-649687494-612x612_jpg.rf.c4211d5356cb58c69131e70fdb2fc888.jpg'\n",
      "\u001b[34m\u001b[1mtrain: \u001b[0mWARNING ⚠️ /Users/trangttdang/Downloads/food_data_1/train/images/istockphoto-649687494-612x612_jpg.rf.c4dde23da25297fbd927c20e88016009.jpg: ignoring corrupt image/label: cannot identify image file '/Users/trangttdang/Downloads/food_data_1/train/images/istockphoto-649687494-612x612_jpg.rf.c4dde23da25297fbd927c20e88016009.jpg'\n",
      "\u001b[34m\u001b[1mtrain: \u001b[0mWARNING ⚠️ /Users/trangttdang/Downloads/food_data_1/train/images/istockphoto-649687494-612x612_jpg.rf.fe014cbb7cd62628892d64d1feca6e51.jpg: ignoring corrupt image/label: cannot identify image file '/Users/trangttdang/Downloads/food_data_1/train/images/istockphoto-649687494-612x612_jpg.rf.fe014cbb7cd62628892d64d1feca6e51.jpg'\n",
      "\u001b[34m\u001b[1mtrain: \u001b[0mWARNING ⚠️ /Users/trangttdang/Downloads/food_data_1/train/images/istockphoto-995651942-612x612_jpg.rf.85381724207cf490c1e14925f902b1ac.jpg: ignoring corrupt image/label: cannot identify image file '/Users/trangttdang/Downloads/food_data_1/train/images/istockphoto-995651942-612x612_jpg.rf.85381724207cf490c1e14925f902b1ac.jpg'\n",
      "\u001b[34m\u001b[1mtrain: \u001b[0mWARNING ⚠️ /Users/trangttdang/Downloads/food_data_1/train/images/photo_10_2023-03-11_21-51-48_jpg.rf.0ffbb657fac86b30c8c6b3c76a3049f0.jpg: ignoring corrupt image/label: cannot identify image file '/Users/trangttdang/Downloads/food_data_1/train/images/photo_10_2023-03-11_21-51-48_jpg.rf.0ffbb657fac86b30c8c6b3c76a3049f0.jpg'\n",
      "\u001b[34m\u001b[1mtrain: \u001b[0mWARNING ⚠️ /Users/trangttdang/Downloads/food_data_1/train/images/photo_10_2023-03-11_21-51-48_jpg.rf.29aca9debabfebeb4a2b3bc6634986c1.jpg: ignoring corrupt image/label: cannot identify image file '/Users/trangttdang/Downloads/food_data_1/train/images/photo_10_2023-03-11_21-51-48_jpg.rf.29aca9debabfebeb4a2b3bc6634986c1.jpg'\n",
      "\u001b[34m\u001b[1mtrain: \u001b[0mWARNING ⚠️ /Users/trangttdang/Downloads/food_data_1/train/images/photo_10_2023-03-11_21-51-48_jpg.rf.44b392a4890bf4f345f73f026d9e6ddb.jpg: ignoring corrupt image/label: cannot identify image file '/Users/trangttdang/Downloads/food_data_1/train/images/photo_10_2023-03-11_21-51-48_jpg.rf.44b392a4890bf4f345f73f026d9e6ddb.jpg'\n",
      "\u001b[34m\u001b[1mtrain: \u001b[0mWARNING ⚠️ /Users/trangttdang/Downloads/food_data_1/train/images/photo_10_2023-03-11_21-51-48_jpg.rf.d61c2fa708e1345cb826b7d784db4e16.jpg: ignoring corrupt image/label: cannot identify image file '/Users/trangttdang/Downloads/food_data_1/train/images/photo_10_2023-03-11_21-51-48_jpg.rf.d61c2fa708e1345cb826b7d784db4e16.jpg'\n",
      "\u001b[34m\u001b[1mtrain: \u001b[0mWARNING ⚠️ /Users/trangttdang/Downloads/food_data_1/train/images/photo_10_2023-03-11_21-51-48_jpg.rf.da9506fa9ff515ce48ee1242c18852dd.jpg: ignoring corrupt image/label: cannot identify image file '/Users/trangttdang/Downloads/food_data_1/train/images/photo_10_2023-03-11_21-51-48_jpg.rf.da9506fa9ff515ce48ee1242c18852dd.jpg'\n",
      "\u001b[34m\u001b[1mtrain: \u001b[0mWARNING ⚠️ /Users/trangttdang/Downloads/food_data_1/train/images/photo_10_2023-03-11_21-51-48_jpg.rf.f12597253452d6e1b6dd41d70b67aeb4.jpg: ignoring corrupt image/label: cannot identify image file '/Users/trangttdang/Downloads/food_data_1/train/images/photo_10_2023-03-11_21-51-48_jpg.rf.f12597253452d6e1b6dd41d70b67aeb4.jpg'\n",
      "\u001b[34m\u001b[1mtrain: \u001b[0mWARNING ⚠️ /Users/trangttdang/Downloads/food_data_1/train/images/photo_10_2023-03-18_23-58-35_jpg.rf.05ff3a2e84367eb781639bf8a0543af1.jpg: ignoring corrupt image/label: cannot identify image file '/Users/trangttdang/Downloads/food_data_1/train/images/photo_10_2023-03-18_23-58-35_jpg.rf.05ff3a2e84367eb781639bf8a0543af1.jpg'\n",
      "\u001b[34m\u001b[1mtrain: \u001b[0mWARNING ⚠️ /Users/trangttdang/Downloads/food_data_1/train/images/photo_10_2023-03-18_23-58-35_jpg.rf.0ddcb8f8c01ac0846fb25dde7acf92d7.jpg: ignoring corrupt image/label: cannot identify image file '/Users/trangttdang/Downloads/food_data_1/train/images/photo_10_2023-03-18_23-58-35_jpg.rf.0ddcb8f8c01ac0846fb25dde7acf92d7.jpg'\n",
      "\u001b[34m\u001b[1mtrain: \u001b[0mWARNING ⚠️ /Users/trangttdang/Downloads/food_data_1/train/images/photo_10_2023-03-18_23-58-35_jpg.rf.1248cd6249e428777593b87867b8d6e3.jpg: ignoring corrupt image/label: cannot identify image file '/Users/trangttdang/Downloads/food_data_1/train/images/photo_10_2023-03-18_23-58-35_jpg.rf.1248cd6249e428777593b87867b8d6e3.jpg'\n",
      "\u001b[34m\u001b[1mtrain: \u001b[0mWARNING ⚠️ /Users/trangttdang/Downloads/food_data_1/train/images/photo_10_2023-03-18_23-58-35_jpg.rf.5718c332393d4336954c84238d201a22.jpg: ignoring corrupt image/label: cannot identify image file '/Users/trangttdang/Downloads/food_data_1/train/images/photo_10_2023-03-18_23-58-35_jpg.rf.5718c332393d4336954c84238d201a22.jpg'\n",
      "\u001b[34m\u001b[1mtrain: \u001b[0mWARNING ⚠️ /Users/trangttdang/Downloads/food_data_1/train/images/photo_10_2023-03-18_23-58-35_jpg.rf.612a2f542454ef036a5885a0c0537834.jpg: ignoring corrupt image/label: cannot identify image file '/Users/trangttdang/Downloads/food_data_1/train/images/photo_10_2023-03-18_23-58-35_jpg.rf.612a2f542454ef036a5885a0c0537834.jpg'\n",
      "\u001b[34m\u001b[1mtrain: \u001b[0mWARNING ⚠️ /Users/trangttdang/Downloads/food_data_1/train/images/photo_10_2023-03-18_23-58-35_jpg.rf.86876382b9f50fac6577be37484ad868.jpg: ignoring corrupt image/label: cannot identify image file '/Users/trangttdang/Downloads/food_data_1/train/images/photo_10_2023-03-18_23-58-35_jpg.rf.86876382b9f50fac6577be37484ad868.jpg'\n",
      "\u001b[34m\u001b[1mtrain: \u001b[0mWARNING ⚠️ /Users/trangttdang/Downloads/food_data_1/train/images/photo_10_2023-03-18_23-58-35_jpg.rf.a0ce634f0bb02d8565cdda07549d7aa2.jpg: ignoring corrupt image/label: cannot identify image file '/Users/trangttdang/Downloads/food_data_1/train/images/photo_10_2023-03-18_23-58-35_jpg.rf.a0ce634f0bb02d8565cdda07549d7aa2.jpg'\n",
      "\u001b[34m\u001b[1mtrain: \u001b[0mWARNING ⚠️ /Users/trangttdang/Downloads/food_data_1/train/images/photo_10_2023-03-18_23-58-35_jpg.rf.bca3f95fab69a6d83fe9809b0b0edaf4.jpg: ignoring corrupt image/label: cannot identify image file '/Users/trangttdang/Downloads/food_data_1/train/images/photo_10_2023-03-18_23-58-35_jpg.rf.bca3f95fab69a6d83fe9809b0b0edaf4.jpg'\n",
      "\u001b[34m\u001b[1mtrain: \u001b[0mWARNING ⚠️ /Users/trangttdang/Downloads/food_data_1/train/images/photo_11_2023-03-18_23-58-14_jpg.rf.07e29716c9b945ddac38f2e665865cbe.jpg: ignoring corrupt image/label: cannot identify image file '/Users/trangttdang/Downloads/food_data_1/train/images/photo_11_2023-03-18_23-58-14_jpg.rf.07e29716c9b945ddac38f2e665865cbe.jpg'\n",
      "\u001b[34m\u001b[1mtrain: \u001b[0mWARNING ⚠️ /Users/trangttdang/Downloads/food_data_1/train/images/photo_11_2023-03-18_23-58-41_jpg.rf.43fb14b887c2bf8c27b8dc7e01a1b179.jpg: ignoring corrupt image/label: cannot identify image file '/Users/trangttdang/Downloads/food_data_1/train/images/photo_11_2023-03-18_23-58-41_jpg.rf.43fb14b887c2bf8c27b8dc7e01a1b179.jpg'\n",
      "\u001b[34m\u001b[1mtrain: \u001b[0mWARNING ⚠️ /Users/trangttdang/Downloads/food_data_1/train/images/photo_12_2023-03-11_21-51-48_jpg.rf.a0282bc4248169e313399219ed32a1d5.jpg: ignoring corrupt image/label: cannot identify image file '/Users/trangttdang/Downloads/food_data_1/train/images/photo_12_2023-03-11_21-51-48_jpg.rf.a0282bc4248169e313399219ed32a1d5.jpg'\n",
      "\u001b[34m\u001b[1mtrain: \u001b[0mWARNING ⚠️ /Users/trangttdang/Downloads/food_data_1/train/images/photo_12_2023-03-11_21-51-48_jpg.rf.b7dcd5e00478f7d05233b49fe3d77aad.jpg: ignoring corrupt image/label: cannot identify image file '/Users/trangttdang/Downloads/food_data_1/train/images/photo_12_2023-03-11_21-51-48_jpg.rf.b7dcd5e00478f7d05233b49fe3d77aad.jpg'\n",
      "\u001b[34m\u001b[1mtrain: \u001b[0mWARNING ⚠️ /Users/trangttdang/Downloads/food_data_1/train/images/photo_12_2023-03-18_23-58-14_jpg.rf.0664c4213731e7eadd46c40da4f53208.jpg: ignoring corrupt image/label: cannot identify image file '/Users/trangttdang/Downloads/food_data_1/train/images/photo_12_2023-03-18_23-58-14_jpg.rf.0664c4213731e7eadd46c40da4f53208.jpg'\n",
      "\u001b[34m\u001b[1mtrain: \u001b[0mWARNING ⚠️ /Users/trangttdang/Downloads/food_data_1/train/images/photo_12_2023-03-18_23-58-14_jpg.rf.45f6ce8414dce3e5322314142d3c58b2.jpg: ignoring corrupt image/label: cannot identify image file '/Users/trangttdang/Downloads/food_data_1/train/images/photo_12_2023-03-18_23-58-14_jpg.rf.45f6ce8414dce3e5322314142d3c58b2.jpg'\n",
      "\u001b[34m\u001b[1mtrain: \u001b[0mWARNING ⚠️ /Users/trangttdang/Downloads/food_data_1/train/images/photo_12_2023-03-18_23-58-14_jpg.rf.f19990b17b7c6c5a23367f774b6e6ebc.jpg: ignoring corrupt image/label: cannot identify image file '/Users/trangttdang/Downloads/food_data_1/train/images/photo_12_2023-03-18_23-58-14_jpg.rf.f19990b17b7c6c5a23367f774b6e6ebc.jpg'\n",
      "\u001b[34m\u001b[1mtrain: \u001b[0mWARNING ⚠️ /Users/trangttdang/Downloads/food_data_1/train/images/photo_12_2023-03-18_23-58-35_jpg.rf.3bc25d4700256f9978525a8d30d645d6.jpg: ignoring corrupt image/label: cannot identify image file '/Users/trangttdang/Downloads/food_data_1/train/images/photo_12_2023-03-18_23-58-35_jpg.rf.3bc25d4700256f9978525a8d30d645d6.jpg'\n",
      "\u001b[34m\u001b[1mtrain: \u001b[0mWARNING ⚠️ /Users/trangttdang/Downloads/food_data_1/train/images/photo_12_2023-03-18_23-58-35_jpg.rf.419aace3ae3e18425c71ec317e699573.jpg: ignoring corrupt image/label: cannot identify image file '/Users/trangttdang/Downloads/food_data_1/train/images/photo_12_2023-03-18_23-58-35_jpg.rf.419aace3ae3e18425c71ec317e699573.jpg'\n",
      "\u001b[34m\u001b[1mtrain: \u001b[0mWARNING ⚠️ /Users/trangttdang/Downloads/food_data_1/train/images/photo_12_2023-03-18_23-58-35_jpg.rf.42c38fa4fd0af81ae0e168451d78d7c1.jpg: ignoring corrupt image/label: cannot identify image file '/Users/trangttdang/Downloads/food_data_1/train/images/photo_12_2023-03-18_23-58-35_jpg.rf.42c38fa4fd0af81ae0e168451d78d7c1.jpg'\n",
      "\u001b[34m\u001b[1mtrain: \u001b[0mWARNING ⚠️ /Users/trangttdang/Downloads/food_data_1/train/images/photo_12_2023-03-18_23-58-35_jpg.rf.84a1779b1281de4684beb5a1f5b4db3d.jpg: ignoring corrupt image/label: cannot identify image file '/Users/trangttdang/Downloads/food_data_1/train/images/photo_12_2023-03-18_23-58-35_jpg.rf.84a1779b1281de4684beb5a1f5b4db3d.jpg'\n",
      "\u001b[34m\u001b[1mtrain: \u001b[0mWARNING ⚠️ /Users/trangttdang/Downloads/food_data_1/train/images/photo_12_2023-03-18_23-58-35_jpg.rf.f8e3571ef9908b2feb4ecdf8ddf4403e.jpg: ignoring corrupt image/label: cannot identify image file '/Users/trangttdang/Downloads/food_data_1/train/images/photo_12_2023-03-18_23-58-35_jpg.rf.f8e3571ef9908b2feb4ecdf8ddf4403e.jpg'\n",
      "\u001b[34m\u001b[1mtrain: \u001b[0mWARNING ⚠️ /Users/trangttdang/Downloads/food_data_1/train/images/photo_13_2023-03-11_21-51-48_jpg.rf.b6318ad9b1eb83d0aabe9e876d35f484.jpg: ignoring corrupt image/label: cannot identify image file '/Users/trangttdang/Downloads/food_data_1/train/images/photo_13_2023-03-11_21-51-48_jpg.rf.b6318ad9b1eb83d0aabe9e876d35f484.jpg'\n",
      "\u001b[34m\u001b[1mtrain: \u001b[0mWARNING ⚠️ /Users/trangttdang/Downloads/food_data_1/train/images/photo_13_2023-03-11_21-51-48_jpg.rf.c1bdea6926cb170a3c32950eab2bd3b1.jpg: ignoring corrupt image/label: cannot identify image file '/Users/trangttdang/Downloads/food_data_1/train/images/photo_13_2023-03-11_21-51-48_jpg.rf.c1bdea6926cb170a3c32950eab2bd3b1.jpg'\n",
      "\u001b[34m\u001b[1mtrain: \u001b[0mWARNING ⚠️ /Users/trangttdang/Downloads/food_data_1/train/images/photo_13_2023-03-11_21-51-48_jpg.rf.c3ebb317acb1b074994369da2b896af5.jpg: ignoring corrupt image/label: cannot identify image file '/Users/trangttdang/Downloads/food_data_1/train/images/photo_13_2023-03-11_21-51-48_jpg.rf.c3ebb317acb1b074994369da2b896af5.jpg'\n",
      "\u001b[34m\u001b[1mtrain: \u001b[0mWARNING ⚠️ /Users/trangttdang/Downloads/food_data_1/train/images/photo_13_2023-03-18_23-58-14_jpg.rf.4068c39d3ec329045be9a24012682440.jpg: ignoring corrupt image/label: cannot identify image file '/Users/trangttdang/Downloads/food_data_1/train/images/photo_13_2023-03-18_23-58-14_jpg.rf.4068c39d3ec329045be9a24012682440.jpg'\n",
      "\u001b[34m\u001b[1mtrain: \u001b[0mWARNING ⚠️ /Users/trangttdang/Downloads/food_data_1/train/images/photo_13_2023-03-18_23-58-14_jpg.rf.a054966a43f12ea2792a6ed02cfeb399.jpg: ignoring corrupt image/label: cannot identify image file '/Users/trangttdang/Downloads/food_data_1/train/images/photo_13_2023-03-18_23-58-14_jpg.rf.a054966a43f12ea2792a6ed02cfeb399.jpg'\n",
      "\u001b[34m\u001b[1mtrain: \u001b[0mWARNING ⚠️ /Users/trangttdang/Downloads/food_data_1/train/images/photo_13_2023-03-18_23-58-35_jpg.rf.243d468790ea7930a2e4dd69c9345e7f.jpg: ignoring corrupt image/label: cannot identify image file '/Users/trangttdang/Downloads/food_data_1/train/images/photo_13_2023-03-18_23-58-35_jpg.rf.243d468790ea7930a2e4dd69c9345e7f.jpg'\n",
      "\u001b[34m\u001b[1mtrain: \u001b[0mWARNING ⚠️ /Users/trangttdang/Downloads/food_data_1/train/images/photo_13_2023-03-18_23-58-35_jpg.rf.25a2766481e9bfc8b156112e2bf78bda.jpg: ignoring corrupt image/label: cannot identify image file '/Users/trangttdang/Downloads/food_data_1/train/images/photo_13_2023-03-18_23-58-35_jpg.rf.25a2766481e9bfc8b156112e2bf78bda.jpg'\n",
      "\u001b[34m\u001b[1mtrain: \u001b[0mWARNING ⚠️ /Users/trangttdang/Downloads/food_data_1/train/images/photo_13_2023-03-18_23-58-35_jpg.rf.25b2bbc57b7f87657ceb507caca360d8.jpg: ignoring corrupt image/label: cannot identify image file '/Users/trangttdang/Downloads/food_data_1/train/images/photo_13_2023-03-18_23-58-35_jpg.rf.25b2bbc57b7f87657ceb507caca360d8.jpg'\n",
      "\u001b[34m\u001b[1mtrain: \u001b[0mWARNING ⚠️ /Users/trangttdang/Downloads/food_data_1/train/images/photo_13_2023-03-18_23-58-35_jpg.rf.3988200bf2186c31e574930d316276cc.jpg: ignoring corrupt image/label: cannot identify image file '/Users/trangttdang/Downloads/food_data_1/train/images/photo_13_2023-03-18_23-58-35_jpg.rf.3988200bf2186c31e574930d316276cc.jpg'\n",
      "\u001b[34m\u001b[1mtrain: \u001b[0mWARNING ⚠️ /Users/trangttdang/Downloads/food_data_1/train/images/photo_13_2023-03-18_23-58-35_jpg.rf.46bc8f8650ca9e8527c93d73ae9566fa.jpg: ignoring corrupt image/label: cannot identify image file '/Users/trangttdang/Downloads/food_data_1/train/images/photo_13_2023-03-18_23-58-35_jpg.rf.46bc8f8650ca9e8527c93d73ae9566fa.jpg'\n",
      "\u001b[34m\u001b[1mtrain: \u001b[0mWARNING ⚠️ /Users/trangttdang/Downloads/food_data_1/train/images/photo_13_2023-03-18_23-58-35_jpg.rf.77c855ad167ed3db59534821329d4ed3.jpg: ignoring corrupt image/label: cannot identify image file '/Users/trangttdang/Downloads/food_data_1/train/images/photo_13_2023-03-18_23-58-35_jpg.rf.77c855ad167ed3db59534821329d4ed3.jpg'\n",
      "\u001b[34m\u001b[1mtrain: \u001b[0mWARNING ⚠️ /Users/trangttdang/Downloads/food_data_1/train/images/photo_13_2023-03-18_23-58-35_jpg.rf.93425c56f9d7b13d1f3f0966bfc1b1ee.jpg: ignoring corrupt image/label: cannot identify image file '/Users/trangttdang/Downloads/food_data_1/train/images/photo_13_2023-03-18_23-58-35_jpg.rf.93425c56f9d7b13d1f3f0966bfc1b1ee.jpg'\n",
      "\u001b[34m\u001b[1mtrain: \u001b[0mWARNING ⚠️ /Users/trangttdang/Downloads/food_data_1/train/images/photo_13_2023-03-18_23-58-35_jpg.rf.a0b466cb6ec8221f4c9d9028082e5d34.jpg: ignoring corrupt image/label: cannot identify image file '/Users/trangttdang/Downloads/food_data_1/train/images/photo_13_2023-03-18_23-58-35_jpg.rf.a0b466cb6ec8221f4c9d9028082e5d34.jpg'\n",
      "\u001b[34m\u001b[1mtrain: \u001b[0mWARNING ⚠️ /Users/trangttdang/Downloads/food_data_1/train/images/photo_13_2023-03-18_23-58-35_jpg.rf.c05de5202a705954948e54a39c2c9cf6.jpg: ignoring corrupt image/label: cannot identify image file '/Users/trangttdang/Downloads/food_data_1/train/images/photo_13_2023-03-18_23-58-35_jpg.rf.c05de5202a705954948e54a39c2c9cf6.jpg'\n",
      "\u001b[34m\u001b[1mtrain: \u001b[0mWARNING ⚠️ /Users/trangttdang/Downloads/food_data_1/train/images/photo_13_2023-03-18_23-58-35_jpg.rf.d2fe4cbc522d6f674486aed3ca1b4136.jpg: ignoring corrupt image/label: cannot identify image file '/Users/trangttdang/Downloads/food_data_1/train/images/photo_13_2023-03-18_23-58-35_jpg.rf.d2fe4cbc522d6f674486aed3ca1b4136.jpg'\n",
      "\u001b[34m\u001b[1mtrain: \u001b[0mWARNING ⚠️ /Users/trangttdang/Downloads/food_data_1/train/images/photo_13_2023-03-18_23-58-35_jpg.rf.dbedc783b0ad0abc4008c4d767d41f9f.jpg: ignoring corrupt image/label: cannot identify image file '/Users/trangttdang/Downloads/food_data_1/train/images/photo_13_2023-03-18_23-58-35_jpg.rf.dbedc783b0ad0abc4008c4d767d41f9f.jpg'\n",
      "\u001b[34m\u001b[1mtrain: \u001b[0mWARNING ⚠️ /Users/trangttdang/Downloads/food_data_1/train/images/photo_13_2023-03-18_23-58-35_jpg.rf.f5234fd78f4bc56cb8ccc48549299597.jpg: ignoring corrupt image/label: cannot identify image file '/Users/trangttdang/Downloads/food_data_1/train/images/photo_13_2023-03-18_23-58-35_jpg.rf.f5234fd78f4bc56cb8ccc48549299597.jpg'\n",
      "\u001b[34m\u001b[1mtrain: \u001b[0mWARNING ⚠️ /Users/trangttdang/Downloads/food_data_1/train/images/photo_13_2023-03-18_23-58-35_jpg.rf.f548ef1094133878e5d0c6a659481f55.jpg: ignoring corrupt image/label: cannot identify image file '/Users/trangttdang/Downloads/food_data_1/train/images/photo_13_2023-03-18_23-58-35_jpg.rf.f548ef1094133878e5d0c6a659481f55.jpg'\n",
      "\u001b[34m\u001b[1mtrain: \u001b[0mWARNING ⚠️ /Users/trangttdang/Downloads/food_data_1/train/images/photo_14_2023-03-11_21-51-48_jpg.rf.4327dd3cad0c3541947db915a4832b73.jpg: ignoring corrupt image/label: image file is truncated (48 bytes not processed)\n",
      "\u001b[34m\u001b[1mtrain: \u001b[0mWARNING ⚠️ /Users/trangttdang/Downloads/food_data_1/train/images/photo_14_2023-03-11_21-51-48_jpg.rf.a1e79c41d73d1be6bbd58883070d27e2.jpg: ignoring corrupt image/label: cannot identify image file '/Users/trangttdang/Downloads/food_data_1/train/images/photo_14_2023-03-11_21-51-48_jpg.rf.a1e79c41d73d1be6bbd58883070d27e2.jpg'\n",
      "\u001b[34m\u001b[1mtrain: \u001b[0mWARNING ⚠️ /Users/trangttdang/Downloads/food_data_1/train/images/photo_14_2023-03-11_21-51-48_jpg.rf.ea9a3d6f3c48ec0853412afb2b4f1638.jpg: ignoring corrupt image/label: cannot identify image file '/Users/trangttdang/Downloads/food_data_1/train/images/photo_14_2023-03-11_21-51-48_jpg.rf.ea9a3d6f3c48ec0853412afb2b4f1638.jpg'\n",
      "\u001b[34m\u001b[1mtrain: \u001b[0mWARNING ⚠️ /Users/trangttdang/Downloads/food_data_1/train/images/photo_14_2023-03-18_23-58-41_jpg.rf.86db9668f973cf7acf37f5dd0e80130f.jpg: ignoring corrupt image/label: cannot identify image file '/Users/trangttdang/Downloads/food_data_1/train/images/photo_14_2023-03-18_23-58-41_jpg.rf.86db9668f973cf7acf37f5dd0e80130f.jpg'\n",
      "\u001b[34m\u001b[1mtrain: \u001b[0mWARNING ⚠️ /Users/trangttdang/Downloads/food_data_1/train/images/photo_14_2023-03-18_23-58-41_jpg.rf.c374cc9a84629b750c25b1258ad37731.jpg: ignoring corrupt image/label: image file is truncated (81 bytes not processed)\n",
      "\u001b[34m\u001b[1mtrain: \u001b[0mWARNING ⚠️ /Users/trangttdang/Downloads/food_data_1/train/images/photo_15_2023-03-18_23-58-14_jpg.rf.11d035457f6eb0e6f6907405531a44b1.jpg: ignoring corrupt image/label: cannot identify image file '/Users/trangttdang/Downloads/food_data_1/train/images/photo_15_2023-03-18_23-58-14_jpg.rf.11d035457f6eb0e6f6907405531a44b1.jpg'\n",
      "\u001b[34m\u001b[1mtrain: \u001b[0mWARNING ⚠️ /Users/trangttdang/Downloads/food_data_1/train/images/photo_15_2023-03-18_23-58-14_jpg.rf.453b625c917fd8026926a54bd32e8543.jpg: ignoring corrupt image/label: cannot identify image file '/Users/trangttdang/Downloads/food_data_1/train/images/photo_15_2023-03-18_23-58-14_jpg.rf.453b625c917fd8026926a54bd32e8543.jpg'\n",
      "\u001b[34m\u001b[1mtrain: \u001b[0mWARNING ⚠️ /Users/trangttdang/Downloads/food_data_1/train/images/photo_15_2023-03-18_23-58-14_jpg.rf.58b25aa0c7f7c194c868f014f1e7b572.jpg: ignoring corrupt image/label: cannot identify image file '/Users/trangttdang/Downloads/food_data_1/train/images/photo_15_2023-03-18_23-58-14_jpg.rf.58b25aa0c7f7c194c868f014f1e7b572.jpg'\n",
      "\u001b[34m\u001b[1mtrain: \u001b[0mWARNING ⚠️ /Users/trangttdang/Downloads/food_data_1/train/images/photo_15_2023-03-18_23-58-14_jpg.rf.c79925f2e08fda01cfb2ac4b34ea21d4.jpg: ignoring corrupt image/label: cannot identify image file '/Users/trangttdang/Downloads/food_data_1/train/images/photo_15_2023-03-18_23-58-14_jpg.rf.c79925f2e08fda01cfb2ac4b34ea21d4.jpg'\n",
      "\u001b[34m\u001b[1mtrain: \u001b[0mWARNING ⚠️ /Users/trangttdang/Downloads/food_data_1/train/images/photo_15_2023-03-18_23-58-14_jpg.rf.e1dec2ea171406f29d465763ae5c41c5.jpg: ignoring corrupt image/label: cannot identify image file '/Users/trangttdang/Downloads/food_data_1/train/images/photo_15_2023-03-18_23-58-14_jpg.rf.e1dec2ea171406f29d465763ae5c41c5.jpg'\n",
      "\u001b[34m\u001b[1mtrain: \u001b[0mWARNING ⚠️ /Users/trangttdang/Downloads/food_data_1/train/images/photo_15_2023-03-18_23-58-35_jpg.rf.23e8e252be2d7acb8698c425620a367e.jpg: ignoring corrupt image/label: cannot identify image file '/Users/trangttdang/Downloads/food_data_1/train/images/photo_15_2023-03-18_23-58-35_jpg.rf.23e8e252be2d7acb8698c425620a367e.jpg'\n",
      "\u001b[34m\u001b[1mtrain: \u001b[0mWARNING ⚠️ /Users/trangttdang/Downloads/food_data_1/train/images/photo_15_2023-03-18_23-58-35_jpg.rf.f1c3518b593cf008b6b4ce8b8185eaba.jpg: ignoring corrupt image/label: image file is truncated (46 bytes not processed)\n",
      "\u001b[34m\u001b[1mtrain: \u001b[0mWARNING ⚠️ /Users/trangttdang/Downloads/food_data_1/train/images/photo_15_2023-03-18_23-58-41_jpg.rf.13b8a4f27d40003803622b709a730e14.jpg: ignoring corrupt image/label: cannot identify image file '/Users/trangttdang/Downloads/food_data_1/train/images/photo_15_2023-03-18_23-58-41_jpg.rf.13b8a4f27d40003803622b709a730e14.jpg'\n",
      "\u001b[34m\u001b[1mtrain: \u001b[0mWARNING ⚠️ /Users/trangttdang/Downloads/food_data_1/train/images/photo_16_2023-03-18_23-58-14_jpg.rf.cc7193ce77f0c12a5a51bc898217af0f.jpg: ignoring corrupt image/label: cannot identify image file '/Users/trangttdang/Downloads/food_data_1/train/images/photo_16_2023-03-18_23-58-14_jpg.rf.cc7193ce77f0c12a5a51bc898217af0f.jpg'\n",
      "\u001b[34m\u001b[1mtrain: \u001b[0mWARNING ⚠️ /Users/trangttdang/Downloads/food_data_1/train/images/photo_16_2023-03-18_23-58-35_jpg.rf.1e768953606e256677730a3b7b7cffc6.jpg: ignoring corrupt image/label: cannot identify image file '/Users/trangttdang/Downloads/food_data_1/train/images/photo_16_2023-03-18_23-58-35_jpg.rf.1e768953606e256677730a3b7b7cffc6.jpg'\n",
      "\u001b[34m\u001b[1mtrain: \u001b[0mWARNING ⚠️ /Users/trangttdang/Downloads/food_data_1/train/images/photo_16_2023-03-18_23-58-35_jpg.rf.3008e0c73c996e391aa79bd2ceadcb92.jpg: ignoring corrupt image/label: image file is truncated (48 bytes not processed)\n",
      "\u001b[34m\u001b[1mtrain: \u001b[0mWARNING ⚠️ /Users/trangttdang/Downloads/food_data_1/train/images/photo_18_2023-03-11_21-51-48_jpg.rf.6f43ba1cd6c4c8d793a2581af72e9065.jpg: ignoring corrupt image/label: image file is truncated (50 bytes not processed)\n",
      "\u001b[34m\u001b[1mtrain: \u001b[0mWARNING ⚠️ /Users/trangttdang/Downloads/food_data_1/train/images/photo_18_2023-03-18_23-58-14_jpg.rf.a8abe4c28c551a4cc729a6ae349182cd.jpg: ignoring corrupt image/label: image file is truncated (46 bytes not processed)\n",
      "\u001b[34m\u001b[1mtrain: \u001b[0mWARNING ⚠️ /Users/trangttdang/Downloads/food_data_1/train/images/photo_18_2023-03-18_23-58-35_jpg.rf.4be9831e51fa196600e3e8d40972f669.jpg: ignoring corrupt image/label: image file is truncated (8 bytes not processed)\n",
      "\u001b[34m\u001b[1mtrain: \u001b[0mWARNING ⚠️ /Users/trangttdang/Downloads/food_data_1/train/images/photo_18_2023-03-18_23-58-41_jpg.rf.f04a1ff173d651e453bffbbd135b5d39.jpg: ignoring corrupt image/label: image file is truncated (10 bytes not processed)\n",
      "\u001b[34m\u001b[1mtrain: \u001b[0mWARNING ⚠️ /Users/trangttdang/Downloads/food_data_1/train/images/photo_1_2023-03-11_21-51-48_jpg.rf.cf2d0460e65d0c19ecea5cb4e7731689.jpg: ignoring corrupt image/label: cannot identify image file '/Users/trangttdang/Downloads/food_data_1/train/images/photo_1_2023-03-11_21-51-48_jpg.rf.cf2d0460e65d0c19ecea5cb4e7731689.jpg'\n",
      "\u001b[34m\u001b[1mtrain: \u001b[0mWARNING ⚠️ /Users/trangttdang/Downloads/food_data_1/train/images/photo_1_2023-03-11_21-51-48_jpg.rf.d5a5161e7ffa96c7839f69751b158016.jpg: ignoring corrupt image/label: cannot identify image file '/Users/trangttdang/Downloads/food_data_1/train/images/photo_1_2023-03-11_21-51-48_jpg.rf.d5a5161e7ffa96c7839f69751b158016.jpg'\n",
      "\u001b[34m\u001b[1mtrain: \u001b[0mWARNING ⚠️ /Users/trangttdang/Downloads/food_data_1/train/images/photo_1_2023-03-18_23-58-14_jpg.rf.15db6dd0f3401c00935164204175dda5.jpg: ignoring corrupt image/label: cannot identify image file '/Users/trangttdang/Downloads/food_data_1/train/images/photo_1_2023-03-18_23-58-14_jpg.rf.15db6dd0f3401c00935164204175dda5.jpg'\n",
      "\u001b[34m\u001b[1mtrain: \u001b[0mWARNING ⚠️ /Users/trangttdang/Downloads/food_data_1/train/images/photo_1_2023-03-18_23-58-35_jpg.rf.b7c78d27b9ca6ff16ff1f164032650b4.jpg: ignoring corrupt image/label: cannot identify image file '/Users/trangttdang/Downloads/food_data_1/train/images/photo_1_2023-03-18_23-58-35_jpg.rf.b7c78d27b9ca6ff16ff1f164032650b4.jpg'\n",
      "\u001b[34m\u001b[1mtrain: \u001b[0mWARNING ⚠️ /Users/trangttdang/Downloads/food_data_1/train/images/photo_1_2023-03-18_23-58-41_jpg.rf.2d0868f34d923e47c19c1b8119bec33a.jpg: ignoring corrupt image/label: cannot identify image file '/Users/trangttdang/Downloads/food_data_1/train/images/photo_1_2023-03-18_23-58-41_jpg.rf.2d0868f34d923e47c19c1b8119bec33a.jpg'\n",
      "\u001b[34m\u001b[1mtrain: \u001b[0mWARNING ⚠️ /Users/trangttdang/Downloads/food_data_1/train/images/photo_1_2023-03-18_23-58-41_jpg.rf.2f1a5725803627d7be41324b9aff17d2.jpg: ignoring corrupt image/label: cannot identify image file '/Users/trangttdang/Downloads/food_data_1/train/images/photo_1_2023-03-18_23-58-41_jpg.rf.2f1a5725803627d7be41324b9aff17d2.jpg'\n",
      "\u001b[34m\u001b[1mtrain: \u001b[0mWARNING ⚠️ /Users/trangttdang/Downloads/food_data_1/train/images/photo_1_2023-03-18_23-58-41_jpg.rf.ef9b8395e11d928e7a4c0c093e0019fe.jpg: ignoring corrupt image/label: cannot identify image file '/Users/trangttdang/Downloads/food_data_1/train/images/photo_1_2023-03-18_23-58-41_jpg.rf.ef9b8395e11d928e7a4c0c093e0019fe.jpg'\n",
      "\u001b[34m\u001b[1mtrain: \u001b[0mWARNING ⚠️ /Users/trangttdang/Downloads/food_data_1/train/images/photo_20_2023-03-11_21-51-48_jpg.rf.1d239708be1da70974fd3043cdb98aa4.jpg: ignoring corrupt image/label: cannot identify image file '/Users/trangttdang/Downloads/food_data_1/train/images/photo_20_2023-03-11_21-51-48_jpg.rf.1d239708be1da70974fd3043cdb98aa4.jpg'\n",
      "\u001b[34m\u001b[1mtrain: \u001b[0mWARNING ⚠️ /Users/trangttdang/Downloads/food_data_1/train/images/photo_20_2023-03-11_21-51-48_jpg.rf.3a8342b8a960c237fa6132f537a903d2.jpg: ignoring corrupt image/label: cannot identify image file '/Users/trangttdang/Downloads/food_data_1/train/images/photo_20_2023-03-11_21-51-48_jpg.rf.3a8342b8a960c237fa6132f537a903d2.jpg'\n",
      "\u001b[34m\u001b[1mtrain: \u001b[0mWARNING ⚠️ /Users/trangttdang/Downloads/food_data_1/train/images/photo_20_2023-03-11_21-51-48_jpg.rf.72f6664e9fa4877344f005d57f908a6b.jpg: ignoring corrupt image/label: cannot identify image file '/Users/trangttdang/Downloads/food_data_1/train/images/photo_20_2023-03-11_21-51-48_jpg.rf.72f6664e9fa4877344f005d57f908a6b.jpg'\n",
      "\u001b[34m\u001b[1mtrain: \u001b[0mWARNING ⚠️ /Users/trangttdang/Downloads/food_data_1/train/images/photo_20_2023-03-11_21-51-48_jpg.rf.8d37def86c617e9a38ff6a3b6747b490.jpg: ignoring corrupt image/label: cannot identify image file '/Users/trangttdang/Downloads/food_data_1/train/images/photo_20_2023-03-11_21-51-48_jpg.rf.8d37def86c617e9a38ff6a3b6747b490.jpg'\n",
      "\u001b[34m\u001b[1mtrain: \u001b[0mWARNING ⚠️ /Users/trangttdang/Downloads/food_data_1/train/images/photo_20_2023-03-11_21-51-48_jpg.rf.daaad438512bb32260236cf6fe6ae43f.jpg: ignoring corrupt image/label: cannot identify image file '/Users/trangttdang/Downloads/food_data_1/train/images/photo_20_2023-03-11_21-51-48_jpg.rf.daaad438512bb32260236cf6fe6ae43f.jpg'\n",
      "\u001b[34m\u001b[1mtrain: \u001b[0mWARNING ⚠️ /Users/trangttdang/Downloads/food_data_1/train/images/photo_20_2023-03-11_21-51-48_jpg.rf.eee95852a107fa264c6db61327479cf2.jpg: ignoring corrupt image/label: cannot identify image file '/Users/trangttdang/Downloads/food_data_1/train/images/photo_20_2023-03-11_21-51-48_jpg.rf.eee95852a107fa264c6db61327479cf2.jpg'\n",
      "\u001b[34m\u001b[1mtrain: \u001b[0mWARNING ⚠️ /Users/trangttdang/Downloads/food_data_1/train/images/photo_20_2023-03-18_23-58-14_jpg.rf.0c7d088ec2085af5761efef44971fdb9.jpg: ignoring corrupt image/label: cannot identify image file '/Users/trangttdang/Downloads/food_data_1/train/images/photo_20_2023-03-18_23-58-14_jpg.rf.0c7d088ec2085af5761efef44971fdb9.jpg'\n",
      "\u001b[34m\u001b[1mtrain: \u001b[0mWARNING ⚠️ /Users/trangttdang/Downloads/food_data_1/train/images/photo_20_2023-03-18_23-58-14_jpg.rf.1e85178723ac742b52f30903e1357a8d.jpg: ignoring corrupt image/label: cannot identify image file '/Users/trangttdang/Downloads/food_data_1/train/images/photo_20_2023-03-18_23-58-14_jpg.rf.1e85178723ac742b52f30903e1357a8d.jpg'\n",
      "\u001b[34m\u001b[1mtrain: \u001b[0mWARNING ⚠️ /Users/trangttdang/Downloads/food_data_1/train/images/photo_20_2023-03-18_23-58-14_jpg.rf.294aa0251115e63947f26520af7ba5ad.jpg: ignoring corrupt image/label: cannot identify image file '/Users/trangttdang/Downloads/food_data_1/train/images/photo_20_2023-03-18_23-58-14_jpg.rf.294aa0251115e63947f26520af7ba5ad.jpg'\n",
      "\u001b[34m\u001b[1mtrain: \u001b[0mWARNING ⚠️ /Users/trangttdang/Downloads/food_data_1/train/images/photo_20_2023-03-18_23-58-14_jpg.rf.6eaa0ebc63903fb1809d214e3025f0c8.jpg: ignoring corrupt image/label: cannot identify image file '/Users/trangttdang/Downloads/food_data_1/train/images/photo_20_2023-03-18_23-58-14_jpg.rf.6eaa0ebc63903fb1809d214e3025f0c8.jpg'\n",
      "\u001b[34m\u001b[1mtrain: \u001b[0mWARNING ⚠️ /Users/trangttdang/Downloads/food_data_1/train/images/photo_20_2023-03-18_23-58-14_jpg.rf.7bade943fb2d1db471b9c9a0d08aac8d.jpg: ignoring corrupt image/label: cannot identify image file '/Users/trangttdang/Downloads/food_data_1/train/images/photo_20_2023-03-18_23-58-14_jpg.rf.7bade943fb2d1db471b9c9a0d08aac8d.jpg'\n",
      "\u001b[34m\u001b[1mtrain: \u001b[0mWARNING ⚠️ /Users/trangttdang/Downloads/food_data_1/train/images/photo_20_2023-03-18_23-58-14_jpg.rf.af6932ce6a7e58aa7a13e71a795d8356.jpg: ignoring corrupt image/label: cannot identify image file '/Users/trangttdang/Downloads/food_data_1/train/images/photo_20_2023-03-18_23-58-14_jpg.rf.af6932ce6a7e58aa7a13e71a795d8356.jpg'\n",
      "\u001b[34m\u001b[1mtrain: \u001b[0mWARNING ⚠️ /Users/trangttdang/Downloads/food_data_1/train/images/photo_20_2023-03-18_23-58-35_jpg.rf.094a55b9be503b4a09da8038a54068c2.jpg: ignoring corrupt image/label: cannot identify image file '/Users/trangttdang/Downloads/food_data_1/train/images/photo_20_2023-03-18_23-58-35_jpg.rf.094a55b9be503b4a09da8038a54068c2.jpg'\n",
      "\u001b[34m\u001b[1mtrain: \u001b[0mWARNING ⚠️ /Users/trangttdang/Downloads/food_data_1/train/images/photo_20_2023-03-18_23-58-35_jpg.rf.265c809e471f18fb7d01780a53dba2be.jpg: ignoring corrupt image/label: cannot identify image file '/Users/trangttdang/Downloads/food_data_1/train/images/photo_20_2023-03-18_23-58-35_jpg.rf.265c809e471f18fb7d01780a53dba2be.jpg'\n",
      "\u001b[34m\u001b[1mtrain: \u001b[0mWARNING ⚠️ /Users/trangttdang/Downloads/food_data_1/train/images/photo_20_2023-03-18_23-58-35_jpg.rf.2855a8f14aa818d9a190ce85945e66a6.jpg: ignoring corrupt image/label: cannot identify image file '/Users/trangttdang/Downloads/food_data_1/train/images/photo_20_2023-03-18_23-58-35_jpg.rf.2855a8f14aa818d9a190ce85945e66a6.jpg'\n",
      "\u001b[34m\u001b[1mtrain: \u001b[0mWARNING ⚠️ /Users/trangttdang/Downloads/food_data_1/train/images/photo_20_2023-03-18_23-58-35_jpg.rf.47a532436a27e716006056b04ec44b69.jpg: ignoring corrupt image/label: cannot identify image file '/Users/trangttdang/Downloads/food_data_1/train/images/photo_20_2023-03-18_23-58-35_jpg.rf.47a532436a27e716006056b04ec44b69.jpg'\n",
      "\u001b[34m\u001b[1mtrain: \u001b[0mWARNING ⚠️ /Users/trangttdang/Downloads/food_data_1/train/images/photo_20_2023-03-18_23-58-35_jpg.rf.b76c22bcd71695ecff648617dd6bda89.jpg: ignoring corrupt image/label: cannot identify image file '/Users/trangttdang/Downloads/food_data_1/train/images/photo_20_2023-03-18_23-58-35_jpg.rf.b76c22bcd71695ecff648617dd6bda89.jpg'\n",
      "\u001b[34m\u001b[1mtrain: \u001b[0mWARNING ⚠️ /Users/trangttdang/Downloads/food_data_1/train/images/photo_20_2023-03-18_23-58-35_jpg.rf.cbf3265eade81ab8296e2eaaab49e0c5.jpg: ignoring corrupt image/label: cannot identify image file '/Users/trangttdang/Downloads/food_data_1/train/images/photo_20_2023-03-18_23-58-35_jpg.rf.cbf3265eade81ab8296e2eaaab49e0c5.jpg'\n",
      "\u001b[34m\u001b[1mtrain: \u001b[0mWARNING ⚠️ /Users/trangttdang/Downloads/food_data_1/train/images/photo_20_2023-03-18_23-58-35_jpg.rf.d4c0f8e8160c8413e1f66701da6cb2a1.jpg: ignoring corrupt image/label: cannot identify image file '/Users/trangttdang/Downloads/food_data_1/train/images/photo_20_2023-03-18_23-58-35_jpg.rf.d4c0f8e8160c8413e1f66701da6cb2a1.jpg'\n",
      "\u001b[34m\u001b[1mtrain: \u001b[0mWARNING ⚠️ /Users/trangttdang/Downloads/food_data_1/train/images/photo_20_2023-03-18_23-58-35_jpg.rf.e9858bffb6edba91083e76e821647f9d.jpg: ignoring corrupt image/label: cannot identify image file '/Users/trangttdang/Downloads/food_data_1/train/images/photo_20_2023-03-18_23-58-35_jpg.rf.e9858bffb6edba91083e76e821647f9d.jpg'\n",
      "\u001b[34m\u001b[1mtrain: \u001b[0mWARNING ⚠️ /Users/trangttdang/Downloads/food_data_1/train/images/photo_20_2023-03-18_23-58-41_jpg.rf.28a9988045af18a3747695d41a5c139c.jpg: ignoring corrupt image/label: cannot identify image file '/Users/trangttdang/Downloads/food_data_1/train/images/photo_20_2023-03-18_23-58-41_jpg.rf.28a9988045af18a3747695d41a5c139c.jpg'\n",
      "\u001b[34m\u001b[1mtrain: \u001b[0mWARNING ⚠️ /Users/trangttdang/Downloads/food_data_1/train/images/photo_20_2023-03-18_23-58-41_jpg.rf.64fbcd1c8d235e1f58c39e93d0280b3f.jpg: ignoring corrupt image/label: cannot identify image file '/Users/trangttdang/Downloads/food_data_1/train/images/photo_20_2023-03-18_23-58-41_jpg.rf.64fbcd1c8d235e1f58c39e93d0280b3f.jpg'\n",
      "\u001b[34m\u001b[1mtrain: \u001b[0mWARNING ⚠️ /Users/trangttdang/Downloads/food_data_1/train/images/photo_20_2023-03-18_23-58-41_jpg.rf.8bd5bb3354d78085892cd1b7a715078e.jpg: ignoring corrupt image/label: cannot identify image file '/Users/trangttdang/Downloads/food_data_1/train/images/photo_20_2023-03-18_23-58-41_jpg.rf.8bd5bb3354d78085892cd1b7a715078e.jpg'\n",
      "\u001b[34m\u001b[1mtrain: \u001b[0mWARNING ⚠️ /Users/trangttdang/Downloads/food_data_1/train/images/photo_20_2023-03-18_23-58-41_jpg.rf.ac6457a148d8995bd76f85088cb3f814.jpg: ignoring corrupt image/label: cannot identify image file '/Users/trangttdang/Downloads/food_data_1/train/images/photo_20_2023-03-18_23-58-41_jpg.rf.ac6457a148d8995bd76f85088cb3f814.jpg'\n",
      "\u001b[34m\u001b[1mtrain: \u001b[0mWARNING ⚠️ /Users/trangttdang/Downloads/food_data_1/train/images/photo_20_2023-03-18_23-58-41_jpg.rf.e4482c941a85e51e81416f5987640e6d.jpg: ignoring corrupt image/label: cannot identify image file '/Users/trangttdang/Downloads/food_data_1/train/images/photo_20_2023-03-18_23-58-41_jpg.rf.e4482c941a85e51e81416f5987640e6d.jpg'\n",
      "\u001b[34m\u001b[1mtrain: \u001b[0mWARNING ⚠️ /Users/trangttdang/Downloads/food_data_1/train/images/photo_20_2023-03-18_23-58-41_jpg.rf.fb80350468933ab52feed2c7add34dcb.jpg: ignoring corrupt image/label: cannot identify image file '/Users/trangttdang/Downloads/food_data_1/train/images/photo_20_2023-03-18_23-58-41_jpg.rf.fb80350468933ab52feed2c7add34dcb.jpg'\n",
      "\u001b[34m\u001b[1mtrain: \u001b[0mWARNING ⚠️ /Users/trangttdang/Downloads/food_data_1/train/images/photo_21_2023-03-18_23-58-14_jpg.rf.1fb6256a1755d8b23947a8e1ab8c004b.jpg: ignoring corrupt image/label: cannot identify image file '/Users/trangttdang/Downloads/food_data_1/train/images/photo_21_2023-03-18_23-58-14_jpg.rf.1fb6256a1755d8b23947a8e1ab8c004b.jpg'\n",
      "\u001b[34m\u001b[1mtrain: \u001b[0mWARNING ⚠️ /Users/trangttdang/Downloads/food_data_1/train/images/photo_21_2023-03-18_23-58-14_jpg.rf.2b5a7e612c40cf2b305cf46299606a91.jpg: ignoring corrupt image/label: cannot identify image file '/Users/trangttdang/Downloads/food_data_1/train/images/photo_21_2023-03-18_23-58-14_jpg.rf.2b5a7e612c40cf2b305cf46299606a91.jpg'\n",
      "\u001b[34m\u001b[1mtrain: \u001b[0mWARNING ⚠️ /Users/trangttdang/Downloads/food_data_1/train/images/photo_21_2023-03-18_23-58-14_jpg.rf.319a1d2d8bcb8720029fa19924e3150c.jpg: ignoring corrupt image/label: cannot identify image file '/Users/trangttdang/Downloads/food_data_1/train/images/photo_21_2023-03-18_23-58-14_jpg.rf.319a1d2d8bcb8720029fa19924e3150c.jpg'\n",
      "\u001b[34m\u001b[1mtrain: \u001b[0mWARNING ⚠️ /Users/trangttdang/Downloads/food_data_1/train/images/photo_21_2023-03-18_23-58-14_jpg.rf.5db8ea5bf9f78dffa7baa16d3a7e54f3.jpg: ignoring corrupt image/label: cannot identify image file '/Users/trangttdang/Downloads/food_data_1/train/images/photo_21_2023-03-18_23-58-14_jpg.rf.5db8ea5bf9f78dffa7baa16d3a7e54f3.jpg'\n",
      "\u001b[34m\u001b[1mtrain: \u001b[0mWARNING ⚠️ /Users/trangttdang/Downloads/food_data_1/train/images/photo_21_2023-03-18_23-58-14_jpg.rf.6c62b16a07b122ce340481282580a6ed.jpg: ignoring corrupt image/label: cannot identify image file '/Users/trangttdang/Downloads/food_data_1/train/images/photo_21_2023-03-18_23-58-14_jpg.rf.6c62b16a07b122ce340481282580a6ed.jpg'\n",
      "\u001b[34m\u001b[1mtrain: \u001b[0mWARNING ⚠️ /Users/trangttdang/Downloads/food_data_1/train/images/photo_21_2023-03-18_23-58-14_jpg.rf.b47ce9a65e0850fa68a7ddde5348870c.jpg: ignoring corrupt image/label: cannot identify image file '/Users/trangttdang/Downloads/food_data_1/train/images/photo_21_2023-03-18_23-58-14_jpg.rf.b47ce9a65e0850fa68a7ddde5348870c.jpg'\n",
      "\u001b[34m\u001b[1mtrain: \u001b[0mWARNING ⚠️ /Users/trangttdang/Downloads/food_data_1/train/images/photo_21_2023-03-18_23-58-14_jpg.rf.c0eca00e755f54343c0d66600a7a3ea6.jpg: ignoring corrupt image/label: cannot identify image file '/Users/trangttdang/Downloads/food_data_1/train/images/photo_21_2023-03-18_23-58-14_jpg.rf.c0eca00e755f54343c0d66600a7a3ea6.jpg'\n",
      "\u001b[34m\u001b[1mtrain: \u001b[0mWARNING ⚠️ /Users/trangttdang/Downloads/food_data_1/train/images/photo_22_2023-03-18_23-58-14_jpg.rf.4e0ff1afc60f498061288241fcc2049b.jpg: ignoring corrupt image/label: cannot identify image file '/Users/trangttdang/Downloads/food_data_1/train/images/photo_22_2023-03-18_23-58-14_jpg.rf.4e0ff1afc60f498061288241fcc2049b.jpg'\n",
      "\u001b[34m\u001b[1mtrain: \u001b[0mWARNING ⚠️ /Users/trangttdang/Downloads/food_data_1/train/images/photo_23_2023-03-11_21-51-48_jpg.rf.851ecc7fcf520ed591b04a33a18d1f1f.jpg: ignoring corrupt image/label: cannot identify image file '/Users/trangttdang/Downloads/food_data_1/train/images/photo_23_2023-03-11_21-51-48_jpg.rf.851ecc7fcf520ed591b04a33a18d1f1f.jpg'\n",
      "\u001b[34m\u001b[1mtrain: \u001b[0mWARNING ⚠️ /Users/trangttdang/Downloads/food_data_1/train/images/photo_23_2023-03-11_21-51-48_jpg.rf.ee330717aeb4c09b556d915cb640f0ff.jpg: ignoring corrupt image/label: cannot identify image file '/Users/trangttdang/Downloads/food_data_1/train/images/photo_23_2023-03-11_21-51-48_jpg.rf.ee330717aeb4c09b556d915cb640f0ff.jpg'\n",
      "\u001b[34m\u001b[1mtrain: \u001b[0mWARNING ⚠️ /Users/trangttdang/Downloads/food_data_1/train/images/photo_23_2023-03-18_23-58-14_jpg.rf.25ed133857cac9b25e2cc4fd0410c454.jpg: ignoring corrupt image/label: cannot identify image file '/Users/trangttdang/Downloads/food_data_1/train/images/photo_23_2023-03-18_23-58-14_jpg.rf.25ed133857cac9b25e2cc4fd0410c454.jpg'\n",
      "\u001b[34m\u001b[1mtrain: \u001b[0mWARNING ⚠️ /Users/trangttdang/Downloads/food_data_1/train/images/photo_23_2023-03-18_23-58-14_jpg.rf.5409c87caf50635dcf429f04e4738f02.jpg: ignoring corrupt image/label: cannot identify image file '/Users/trangttdang/Downloads/food_data_1/train/images/photo_23_2023-03-18_23-58-14_jpg.rf.5409c87caf50635dcf429f04e4738f02.jpg'\n",
      "\u001b[34m\u001b[1mtrain: \u001b[0mWARNING ⚠️ /Users/trangttdang/Downloads/food_data_1/train/images/photo_23_2023-03-18_23-58-35_jpg.rf.7f23ba436a5100c3443ba8606fd61ec7.jpg: ignoring corrupt image/label: cannot identify image file '/Users/trangttdang/Downloads/food_data_1/train/images/photo_23_2023-03-18_23-58-35_jpg.rf.7f23ba436a5100c3443ba8606fd61ec7.jpg'\n",
      "\u001b[34m\u001b[1mtrain: \u001b[0mWARNING ⚠️ /Users/trangttdang/Downloads/food_data_1/train/images/photo_23_2023-03-18_23-58-35_jpg.rf.c0a68ae8e7771f9b37a500138a7651f0.jpg: ignoring corrupt image/label: cannot identify image file '/Users/trangttdang/Downloads/food_data_1/train/images/photo_23_2023-03-18_23-58-35_jpg.rf.c0a68ae8e7771f9b37a500138a7651f0.jpg'\n",
      "\u001b[34m\u001b[1mtrain: \u001b[0mWARNING ⚠️ /Users/trangttdang/Downloads/food_data_1/train/images/photo_23_2023-03-18_23-58-35_jpg.rf.e4c9a96a50fdf7d504677a94ade3256d.jpg: ignoring corrupt image/label: cannot identify image file '/Users/trangttdang/Downloads/food_data_1/train/images/photo_23_2023-03-18_23-58-35_jpg.rf.e4c9a96a50fdf7d504677a94ade3256d.jpg'\n",
      "\u001b[34m\u001b[1mtrain: \u001b[0mWARNING ⚠️ /Users/trangttdang/Downloads/food_data_1/train/images/photo_23_2023-03-18_23-58-35_jpg.rf.ed6ea3ec5819b4827c7cb6b432621fbe.jpg: ignoring corrupt image/label: cannot identify image file '/Users/trangttdang/Downloads/food_data_1/train/images/photo_23_2023-03-18_23-58-35_jpg.rf.ed6ea3ec5819b4827c7cb6b432621fbe.jpg'\n",
      "\u001b[34m\u001b[1mtrain: \u001b[0mWARNING ⚠️ /Users/trangttdang/Downloads/food_data_1/train/images/photo_24_2023-03-18_23-58-35_jpg.rf.1b34897c80fae2ba8eda9c4519806c41.jpg: ignoring corrupt image/label: cannot identify image file '/Users/trangttdang/Downloads/food_data_1/train/images/photo_24_2023-03-18_23-58-35_jpg.rf.1b34897c80fae2ba8eda9c4519806c41.jpg'\n",
      "\u001b[34m\u001b[1mtrain: \u001b[0mWARNING ⚠️ /Users/trangttdang/Downloads/food_data_1/train/images/photo_24_2023-03-18_23-58-35_jpg.rf.46c6b44d44207f1a0aac3ab5070ff281.jpg: ignoring corrupt image/label: cannot identify image file '/Users/trangttdang/Downloads/food_data_1/train/images/photo_24_2023-03-18_23-58-35_jpg.rf.46c6b44d44207f1a0aac3ab5070ff281.jpg'\n",
      "\u001b[34m\u001b[1mtrain: \u001b[0mWARNING ⚠️ /Users/trangttdang/Downloads/food_data_1/train/images/photo_24_2023-03-18_23-58-35_jpg.rf.9296b552333e32139d3e3512da0b2f49.jpg: ignoring corrupt image/label: image file is truncated (38 bytes not processed)\n",
      "\u001b[34m\u001b[1mtrain: \u001b[0mWARNING ⚠️ /Users/trangttdang/Downloads/food_data_1/train/images/photo_25_2023-03-11_21-51-48_jpg.rf.4f40caaa2f4093cb0c88cddf30ea9560.jpg: ignoring corrupt image/label: cannot identify image file '/Users/trangttdang/Downloads/food_data_1/train/images/photo_25_2023-03-11_21-51-48_jpg.rf.4f40caaa2f4093cb0c88cddf30ea9560.jpg'\n",
      "\u001b[34m\u001b[1mtrain: \u001b[0mWARNING ⚠️ /Users/trangttdang/Downloads/food_data_1/train/images/photo_26_2023-03-11_21-51-48_jpg.rf.b88ad2c06dd2c96a9d6ebdee9f882ba7.jpg: ignoring corrupt image/label: cannot identify image file '/Users/trangttdang/Downloads/food_data_1/train/images/photo_26_2023-03-11_21-51-48_jpg.rf.b88ad2c06dd2c96a9d6ebdee9f882ba7.jpg'\n",
      "\u001b[34m\u001b[1mtrain: \u001b[0mWARNING ⚠️ /Users/trangttdang/Downloads/food_data_1/train/images/photo_26_2023-03-11_21-51-48_jpg.rf.faae8cec775a2f510e512401b041d370.jpg: ignoring corrupt image/label: cannot identify image file '/Users/trangttdang/Downloads/food_data_1/train/images/photo_26_2023-03-11_21-51-48_jpg.rf.faae8cec775a2f510e512401b041d370.jpg'\n",
      "\u001b[34m\u001b[1mtrain: \u001b[0mWARNING ⚠️ /Users/trangttdang/Downloads/food_data_1/train/images/photo_26_2023-03-18_23-58-35_jpg.rf.0c2cd14825a982b663decfbab2bbd54e.jpg: ignoring corrupt image/label: cannot identify image file '/Users/trangttdang/Downloads/food_data_1/train/images/photo_26_2023-03-18_23-58-35_jpg.rf.0c2cd14825a982b663decfbab2bbd54e.jpg'\n",
      "\u001b[34m\u001b[1mtrain: \u001b[0mWARNING ⚠️ /Users/trangttdang/Downloads/food_data_1/train/images/photo_26_2023-03-18_23-58-35_jpg.rf.72a7e80af8a7cc0dd9367d56329419de.jpg: ignoring corrupt image/label: cannot identify image file '/Users/trangttdang/Downloads/food_data_1/train/images/photo_26_2023-03-18_23-58-35_jpg.rf.72a7e80af8a7cc0dd9367d56329419de.jpg'\n",
      "\u001b[34m\u001b[1mtrain: \u001b[0mWARNING ⚠️ /Users/trangttdang/Downloads/food_data_1/train/images/photo_26_2023-03-18_23-58-35_jpg.rf.a8391c39c8395cd9e741114ce15fd5a1.jpg: ignoring corrupt image/label: cannot identify image file '/Users/trangttdang/Downloads/food_data_1/train/images/photo_26_2023-03-18_23-58-35_jpg.rf.a8391c39c8395cd9e741114ce15fd5a1.jpg'\n",
      "\u001b[34m\u001b[1mtrain: \u001b[0mWARNING ⚠️ /Users/trangttdang/Downloads/food_data_1/train/images/photo_26_2023-03-18_23-58-35_jpg.rf.e3c8007892ec9c31e089163611d6bd30.jpg: ignoring corrupt image/label: cannot identify image file '/Users/trangttdang/Downloads/food_data_1/train/images/photo_26_2023-03-18_23-58-35_jpg.rf.e3c8007892ec9c31e089163611d6bd30.jpg'\n",
      "\u001b[34m\u001b[1mtrain: \u001b[0mWARNING ⚠️ /Users/trangttdang/Downloads/food_data_1/train/images/photo_27_2023-03-11_21-51-48_jpg.rf.9ece680337841d999a31eae761e4e498.jpg: ignoring corrupt image/label: cannot identify image file '/Users/trangttdang/Downloads/food_data_1/train/images/photo_27_2023-03-11_21-51-48_jpg.rf.9ece680337841d999a31eae761e4e498.jpg'\n",
      "\u001b[34m\u001b[1mtrain: \u001b[0mWARNING ⚠️ /Users/trangttdang/Downloads/food_data_1/train/images/photo_27_2023-03-18_23-58-35_jpg.rf.20e7288d7741f05476f543b0a7df7c8f.jpg: ignoring corrupt image/label: cannot identify image file '/Users/trangttdang/Downloads/food_data_1/train/images/photo_27_2023-03-18_23-58-35_jpg.rf.20e7288d7741f05476f543b0a7df7c8f.jpg'\n",
      "\u001b[34m\u001b[1mtrain: \u001b[0mWARNING ⚠️ /Users/trangttdang/Downloads/food_data_1/train/images/photo_27_2023-03-18_23-58-35_jpg.rf.a5192b1e5d49387059de2a90123c575c.jpg: ignoring corrupt image/label: cannot identify image file '/Users/trangttdang/Downloads/food_data_1/train/images/photo_27_2023-03-18_23-58-35_jpg.rf.a5192b1e5d49387059de2a90123c575c.jpg'\n",
      "\u001b[34m\u001b[1mtrain: \u001b[0mWARNING ⚠️ /Users/trangttdang/Downloads/food_data_1/train/images/photo_27_2023-03-18_23-58-35_jpg.rf.e8240dbdcad1cf4c4b226009c83a62bc.jpg: ignoring corrupt image/label: cannot identify image file '/Users/trangttdang/Downloads/food_data_1/train/images/photo_27_2023-03-18_23-58-35_jpg.rf.e8240dbdcad1cf4c4b226009c83a62bc.jpg'\n",
      "\u001b[34m\u001b[1mtrain: \u001b[0mWARNING ⚠️ /Users/trangttdang/Downloads/food_data_1/train/images/photo_27_2023-03-18_23-58-35_jpg.rf.ed5b769cdda2078760dfbd1a222a01e5.jpg: ignoring corrupt image/label: cannot identify image file '/Users/trangttdang/Downloads/food_data_1/train/images/photo_27_2023-03-18_23-58-35_jpg.rf.ed5b769cdda2078760dfbd1a222a01e5.jpg'\n",
      "\u001b[34m\u001b[1mtrain: \u001b[0mWARNING ⚠️ /Users/trangttdang/Downloads/food_data_1/train/images/photo_28_2023-03-11_21-51-48_jpg.rf.141d329283b1f51b9b468fb7ed1b6da4.jpg: ignoring corrupt image/label: cannot identify image file '/Users/trangttdang/Downloads/food_data_1/train/images/photo_28_2023-03-11_21-51-48_jpg.rf.141d329283b1f51b9b468fb7ed1b6da4.jpg'\n",
      "\u001b[34m\u001b[1mtrain: \u001b[0mWARNING ⚠️ /Users/trangttdang/Downloads/food_data_1/train/images/photo_28_2023-03-11_21-51-48_jpg.rf.b8e50e82996fb256023fa005edf98bcd.jpg: ignoring corrupt image/label: cannot identify image file '/Users/trangttdang/Downloads/food_data_1/train/images/photo_28_2023-03-11_21-51-48_jpg.rf.b8e50e82996fb256023fa005edf98bcd.jpg'\n",
      "\u001b[34m\u001b[1mtrain: \u001b[0mWARNING ⚠️ /Users/trangttdang/Downloads/food_data_1/train/images/photo_28_2023-03-11_21-51-48_jpg.rf.e16db7c76ab3a1b2b4e2cb0ff8c68c77.jpg: ignoring corrupt image/label: cannot identify image file '/Users/trangttdang/Downloads/food_data_1/train/images/photo_28_2023-03-11_21-51-48_jpg.rf.e16db7c76ab3a1b2b4e2cb0ff8c68c77.jpg'\n",
      "\u001b[34m\u001b[1mtrain: \u001b[0mWARNING ⚠️ /Users/trangttdang/Downloads/food_data_1/train/images/photo_29_2023-03-11_21-51-48_jpg.rf.303804e0825ac1ab67be2f37d90574a4.jpg: ignoring corrupt image/label: cannot identify image file '/Users/trangttdang/Downloads/food_data_1/train/images/photo_29_2023-03-11_21-51-48_jpg.rf.303804e0825ac1ab67be2f37d90574a4.jpg'\n",
      "\u001b[34m\u001b[1mtrain: \u001b[0mWARNING ⚠️ /Users/trangttdang/Downloads/food_data_1/train/images/photo_29_2023-03-11_21-51-48_jpg.rf.4b9e57736bf012e78474639b648cc36c.jpg: ignoring corrupt image/label: cannot identify image file '/Users/trangttdang/Downloads/food_data_1/train/images/photo_29_2023-03-11_21-51-48_jpg.rf.4b9e57736bf012e78474639b648cc36c.jpg'\n",
      "\u001b[34m\u001b[1mtrain: \u001b[0mWARNING ⚠️ /Users/trangttdang/Downloads/food_data_1/train/images/photo_29_2023-03-11_21-51-48_jpg.rf.a70cdac821ad108e8ff9749c69cfdad5.jpg: ignoring corrupt image/label: cannot identify image file '/Users/trangttdang/Downloads/food_data_1/train/images/photo_29_2023-03-11_21-51-48_jpg.rf.a70cdac821ad108e8ff9749c69cfdad5.jpg'\n",
      "\u001b[34m\u001b[1mtrain: \u001b[0mWARNING ⚠️ /Users/trangttdang/Downloads/food_data_1/train/images/photo_29_2023-03-11_21-51-48_jpg.rf.dab83d0c9125a10c05163d62e1c2a791.jpg: ignoring corrupt image/label: cannot identify image file '/Users/trangttdang/Downloads/food_data_1/train/images/photo_29_2023-03-11_21-51-48_jpg.rf.dab83d0c9125a10c05163d62e1c2a791.jpg'\n",
      "\u001b[34m\u001b[1mtrain: \u001b[0mWARNING ⚠️ /Users/trangttdang/Downloads/food_data_1/train/images/photo_29_2023-03-18_23-58-35_jpg.rf.2848420999214493cd6e109352455189.jpg: ignoring corrupt image/label: cannot identify image file '/Users/trangttdang/Downloads/food_data_1/train/images/photo_29_2023-03-18_23-58-35_jpg.rf.2848420999214493cd6e109352455189.jpg'\n",
      "\u001b[34m\u001b[1mtrain: \u001b[0mWARNING ⚠️ /Users/trangttdang/Downloads/food_data_1/train/images/photo_29_2023-03-18_23-58-35_jpg.rf.82cbb77441f2fed0a732f305ec0c9127.jpg: ignoring corrupt image/label: cannot identify image file '/Users/trangttdang/Downloads/food_data_1/train/images/photo_29_2023-03-18_23-58-35_jpg.rf.82cbb77441f2fed0a732f305ec0c9127.jpg'\n",
      "\u001b[34m\u001b[1mtrain: \u001b[0mWARNING ⚠️ /Users/trangttdang/Downloads/food_data_1/train/images/photo_2_2023-03-11_21-51-48_jpg.rf.4001ba04bc7c5176ab86cd4c08f219a8.jpg: ignoring corrupt image/label: cannot identify image file '/Users/trangttdang/Downloads/food_data_1/train/images/photo_2_2023-03-11_21-51-48_jpg.rf.4001ba04bc7c5176ab86cd4c08f219a8.jpg'\n",
      "\u001b[34m\u001b[1mtrain: \u001b[0mWARNING ⚠️ /Users/trangttdang/Downloads/food_data_1/train/images/photo_2_2023-03-11_21-51-48_jpg.rf.50caa43dd9e30b86f1ea93115c732c16.jpg: ignoring corrupt image/label: cannot identify image file '/Users/trangttdang/Downloads/food_data_1/train/images/photo_2_2023-03-11_21-51-48_jpg.rf.50caa43dd9e30b86f1ea93115c732c16.jpg'\n",
      "\u001b[34m\u001b[1mtrain: \u001b[0mWARNING ⚠️ /Users/trangttdang/Downloads/food_data_1/train/images/photo_2_2023-03-11_21-51-48_jpg.rf.886c2347e862a3f77b61793734ad00bb.jpg: ignoring corrupt image/label: cannot identify image file '/Users/trangttdang/Downloads/food_data_1/train/images/photo_2_2023-03-11_21-51-48_jpg.rf.886c2347e862a3f77b61793734ad00bb.jpg'\n",
      "\u001b[34m\u001b[1mtrain: \u001b[0mWARNING ⚠️ /Users/trangttdang/Downloads/food_data_1/train/images/photo_2_2023-03-11_21-51-48_jpg.rf.ecb1cb793e7a045b6f9765c65bdd1e90.jpg: ignoring corrupt image/label: cannot identify image file '/Users/trangttdang/Downloads/food_data_1/train/images/photo_2_2023-03-11_21-51-48_jpg.rf.ecb1cb793e7a045b6f9765c65bdd1e90.jpg'\n",
      "\u001b[34m\u001b[1mtrain: \u001b[0mWARNING ⚠️ /Users/trangttdang/Downloads/food_data_1/train/images/photo_2_2023-03-18_23-58-35_jpg.rf.89f7cd3a24c4d00aaee60c25a45e0ad2.jpg: ignoring corrupt image/label: cannot identify image file '/Users/trangttdang/Downloads/food_data_1/train/images/photo_2_2023-03-18_23-58-35_jpg.rf.89f7cd3a24c4d00aaee60c25a45e0ad2.jpg'\n",
      "\u001b[34m\u001b[1mtrain: \u001b[0mWARNING ⚠️ /Users/trangttdang/Downloads/food_data_1/train/images/photo_2_2023-03-18_23-58-41_jpg.rf.0487392b748862d48102ecc8d4bf34da.jpg: ignoring corrupt image/label: cannot identify image file '/Users/trangttdang/Downloads/food_data_1/train/images/photo_2_2023-03-18_23-58-41_jpg.rf.0487392b748862d48102ecc8d4bf34da.jpg'\n",
      "\u001b[34m\u001b[1mtrain: \u001b[0mWARNING ⚠️ /Users/trangttdang/Downloads/food_data_1/train/images/photo_2_2023-03-18_23-58-41_jpg.rf.280ff413801abf7ccdae2644af809477.jpg: ignoring corrupt image/label: cannot identify image file '/Users/trangttdang/Downloads/food_data_1/train/images/photo_2_2023-03-18_23-58-41_jpg.rf.280ff413801abf7ccdae2644af809477.jpg'\n",
      "\u001b[34m\u001b[1mtrain: \u001b[0mWARNING ⚠️ /Users/trangttdang/Downloads/food_data_1/train/images/photo_30_2023-03-18_23-58-35_jpg.rf.f5e13228b1c00618bfd1a6c60dd1fe20.jpg: ignoring corrupt image/label: cannot identify image file '/Users/trangttdang/Downloads/food_data_1/train/images/photo_30_2023-03-18_23-58-35_jpg.rf.f5e13228b1c00618bfd1a6c60dd1fe20.jpg'\n",
      "\u001b[34m\u001b[1mtrain: \u001b[0mWARNING ⚠️ /Users/trangttdang/Downloads/food_data_1/train/images/photo_3_2023-03-11_21-51-48_jpg.rf.c4609d9470f5d5821febea1935cffb5e.jpg: ignoring corrupt image/label: cannot identify image file '/Users/trangttdang/Downloads/food_data_1/train/images/photo_3_2023-03-11_21-51-48_jpg.rf.c4609d9470f5d5821febea1935cffb5e.jpg'\n",
      "\u001b[34m\u001b[1mtrain: \u001b[0mWARNING ⚠️ /Users/trangttdang/Downloads/food_data_1/train/images/photo_3_2023-03-11_21-51-48_jpg.rf.d3ee8af52bbfed241c8b544a4b7e07a3.jpg: ignoring corrupt image/label: cannot identify image file '/Users/trangttdang/Downloads/food_data_1/train/images/photo_3_2023-03-11_21-51-48_jpg.rf.d3ee8af52bbfed241c8b544a4b7e07a3.jpg'\n",
      "\u001b[34m\u001b[1mtrain: \u001b[0mWARNING ⚠️ /Users/trangttdang/Downloads/food_data_1/train/images/photo_3_2023-03-18_23-58-14_jpg.rf.2388e9956f925fb723459f4ceb3409c9.jpg: ignoring corrupt image/label: cannot identify image file '/Users/trangttdang/Downloads/food_data_1/train/images/photo_3_2023-03-18_23-58-14_jpg.rf.2388e9956f925fb723459f4ceb3409c9.jpg'\n",
      "\u001b[34m\u001b[1mtrain: \u001b[0mWARNING ⚠️ /Users/trangttdang/Downloads/food_data_1/train/images/photo_3_2023-03-18_23-58-14_jpg.rf.4d62472d4e46a53416dd9c467db96403.jpg: ignoring corrupt image/label: cannot identify image file '/Users/trangttdang/Downloads/food_data_1/train/images/photo_3_2023-03-18_23-58-14_jpg.rf.4d62472d4e46a53416dd9c467db96403.jpg'\n",
      "\u001b[34m\u001b[1mtrain: \u001b[0mWARNING ⚠️ /Users/trangttdang/Downloads/food_data_1/train/images/photo_3_2023-03-18_23-58-14_jpg.rf.7476b5046460e77b371591d3bdb5d425.jpg: ignoring corrupt image/label: cannot identify image file '/Users/trangttdang/Downloads/food_data_1/train/images/photo_3_2023-03-18_23-58-14_jpg.rf.7476b5046460e77b371591d3bdb5d425.jpg'\n",
      "\u001b[34m\u001b[1mtrain: \u001b[0mWARNING ⚠️ /Users/trangttdang/Downloads/food_data_1/train/images/photo_3_2023-03-18_23-58-14_jpg.rf.85f9bc81f15e273571a3489be0adbb1b.jpg: ignoring corrupt image/label: cannot identify image file '/Users/trangttdang/Downloads/food_data_1/train/images/photo_3_2023-03-18_23-58-14_jpg.rf.85f9bc81f15e273571a3489be0adbb1b.jpg'\n",
      "\u001b[34m\u001b[1mtrain: \u001b[0mWARNING ⚠️ /Users/trangttdang/Downloads/food_data_1/train/images/photo_3_2023-03-18_23-58-14_jpg.rf.bc20a86d385c1eadac88e4bb6113c0fb.jpg: ignoring corrupt image/label: cannot identify image file '/Users/trangttdang/Downloads/food_data_1/train/images/photo_3_2023-03-18_23-58-14_jpg.rf.bc20a86d385c1eadac88e4bb6113c0fb.jpg'\n",
      "\u001b[34m\u001b[1mtrain: \u001b[0mWARNING ⚠️ /Users/trangttdang/Downloads/food_data_1/train/images/photo_3_2023-03-18_23-58-14_jpg.rf.e309e820ffee3b46b23395c081e2c532.jpg: ignoring corrupt image/label: cannot identify image file '/Users/trangttdang/Downloads/food_data_1/train/images/photo_3_2023-03-18_23-58-14_jpg.rf.e309e820ffee3b46b23395c081e2c532.jpg'\n",
      "\u001b[34m\u001b[1mtrain: \u001b[0mWARNING ⚠️ /Users/trangttdang/Downloads/food_data_1/train/images/photo_4_2023-03-11_21-51-48_jpg.rf.4c6eb3b2b75a5e8ca8bf9108f6c97deb.jpg: ignoring corrupt image/label: cannot identify image file '/Users/trangttdang/Downloads/food_data_1/train/images/photo_4_2023-03-11_21-51-48_jpg.rf.4c6eb3b2b75a5e8ca8bf9108f6c97deb.jpg'\n",
      "\u001b[34m\u001b[1mtrain: \u001b[0mWARNING ⚠️ /Users/trangttdang/Downloads/food_data_1/train/images/photo_5_2023-03-11_21-51-48_jpg.rf.0d8a8eb15db25333d26b125a4d34d272.jpg: ignoring corrupt image/label: cannot identify image file '/Users/trangttdang/Downloads/food_data_1/train/images/photo_5_2023-03-11_21-51-48_jpg.rf.0d8a8eb15db25333d26b125a4d34d272.jpg'\n",
      "\u001b[34m\u001b[1mtrain: \u001b[0mWARNING ⚠️ /Users/trangttdang/Downloads/food_data_1/train/images/photo_5_2023-03-11_21-51-48_jpg.rf.3328901bc5a17284e377e9815151e7fe.jpg: ignoring corrupt image/label: cannot identify image file '/Users/trangttdang/Downloads/food_data_1/train/images/photo_5_2023-03-11_21-51-48_jpg.rf.3328901bc5a17284e377e9815151e7fe.jpg'\n",
      "\u001b[34m\u001b[1mtrain: \u001b[0mWARNING ⚠️ /Users/trangttdang/Downloads/food_data_1/train/images/photo_5_2023-03-18_23-58-35_jpg.rf.1b8525aba5a308482f86c93c2d9d0bf7.jpg: ignoring corrupt image/label: image file is truncated (62 bytes not processed)\n",
      "\u001b[34m\u001b[1mtrain: \u001b[0mWARNING ⚠️ /Users/trangttdang/Downloads/food_data_1/train/images/photo_5_2023-03-18_23-58-35_jpg.rf.3097b272f5ef8439adcec5c82f81298c.jpg: ignoring corrupt image/label: cannot identify image file '/Users/trangttdang/Downloads/food_data_1/train/images/photo_5_2023-03-18_23-58-35_jpg.rf.3097b272f5ef8439adcec5c82f81298c.jpg'\n",
      "\u001b[34m\u001b[1mtrain: \u001b[0mWARNING ⚠️ /Users/trangttdang/Downloads/food_data_1/train/images/photo_5_2023-03-18_23-58-35_jpg.rf.4e7625306d9cab42839c429a0b99e319.jpg: ignoring corrupt image/label: cannot identify image file '/Users/trangttdang/Downloads/food_data_1/train/images/photo_5_2023-03-18_23-58-35_jpg.rf.4e7625306d9cab42839c429a0b99e319.jpg'\n",
      "\u001b[34m\u001b[1mtrain: \u001b[0mWARNING ⚠️ /Users/trangttdang/Downloads/food_data_1/train/images/photo_5_2023-03-18_23-58-35_jpg.rf.5545a9dce4853fde5843492d55e0717e.jpg: ignoring corrupt image/label: cannot identify image file '/Users/trangttdang/Downloads/food_data_1/train/images/photo_5_2023-03-18_23-58-35_jpg.rf.5545a9dce4853fde5843492d55e0717e.jpg'\n",
      "\u001b[34m\u001b[1mtrain: \u001b[0mWARNING ⚠️ /Users/trangttdang/Downloads/food_data_1/train/images/photo_5_2023-03-18_23-58-35_jpg.rf.eb2782b8fb690c3301e6b9a4fca77d3f.jpg: ignoring corrupt image/label: cannot identify image file '/Users/trangttdang/Downloads/food_data_1/train/images/photo_5_2023-03-18_23-58-35_jpg.rf.eb2782b8fb690c3301e6b9a4fca77d3f.jpg'\n",
      "\u001b[34m\u001b[1mtrain: \u001b[0mWARNING ⚠️ /Users/trangttdang/Downloads/food_data_1/train/images/photo_5_2023-03-18_23-58-41_jpg.rf.90d198df928ba421754b1157d0519b63.jpg: ignoring corrupt image/label: cannot identify image file '/Users/trangttdang/Downloads/food_data_1/train/images/photo_5_2023-03-18_23-58-41_jpg.rf.90d198df928ba421754b1157d0519b63.jpg'\n",
      "\u001b[34m\u001b[1mtrain: \u001b[0mWARNING ⚠️ /Users/trangttdang/Downloads/food_data_1/train/images/photo_5_2023-03-18_23-58-41_jpg.rf.dc7f1cfc2fa5a3b5860277def88467ad.jpg: ignoring corrupt image/label: cannot identify image file '/Users/trangttdang/Downloads/food_data_1/train/images/photo_5_2023-03-18_23-58-41_jpg.rf.dc7f1cfc2fa5a3b5860277def88467ad.jpg'\n",
      "\u001b[34m\u001b[1mtrain: \u001b[0mWARNING ⚠️ /Users/trangttdang/Downloads/food_data_1/train/images/photo_5_2023-03-18_23-58-41_jpg.rf.ed78d691b6f1350e13eb724ed6671c35.jpg: ignoring corrupt image/label: cannot identify image file '/Users/trangttdang/Downloads/food_data_1/train/images/photo_5_2023-03-18_23-58-41_jpg.rf.ed78d691b6f1350e13eb724ed6671c35.jpg'\n",
      "\u001b[34m\u001b[1mtrain: \u001b[0mWARNING ⚠️ /Users/trangttdang/Downloads/food_data_1/train/images/photo_6_2023-03-18_23-58-14_jpg.rf.36a9ea2e8c03b43ffdeb5904c3802082.jpg: ignoring corrupt image/label: cannot identify image file '/Users/trangttdang/Downloads/food_data_1/train/images/photo_6_2023-03-18_23-58-14_jpg.rf.36a9ea2e8c03b43ffdeb5904c3802082.jpg'\n"
     ]
    },
    {
     "name": "stderr",
     "output_type": "stream",
     "text": [
      "\n"
     ]
    },
    {
     "name": "stdout",
     "output_type": "stream",
     "text": [
      "\u001b[34m\u001b[1mtrain: \u001b[0mNew cache created: /Users/trangttdang/Downloads/food_data_1/train/labels.cache\n"
     ]
    },
    {
     "name": "stderr",
     "output_type": "stream",
     "text": [
      "\u001b[34m\u001b[1mval: \u001b[0mScanning /Users/trangttdang/Downloads/food_data_1/valid/labels... 594 images, 0 backgrounds, 0 corrupt: 100%|██████████| 594/594 [00:00<00:00, 3183.45it/s]"
     ]
    },
    {
     "name": "stdout",
     "output_type": "stream",
     "text": [
      "\u001b[34m\u001b[1mval: \u001b[0mNew cache created: /Users/trangttdang/Downloads/food_data_1/valid/labels.cache\n"
     ]
    },
    {
     "name": "stderr",
     "output_type": "stream",
     "text": [
      "\n",
      "/opt/miniconda3/envs/hackAIConda/lib/python3.8/site-packages/scipy/__init__.py:146: UserWarning: A NumPy version >=1.16.5 and <1.23.0 is required for this version of SciPy (detected version 1.24.3\n",
      "  warnings.warn(f\"A NumPy version >={np_minversion} and <{np_maxversion}\"\n"
     ]
    },
    {
     "name": "stdout",
     "output_type": "stream",
     "text": [
      "Plotting labels to runs/detect/train2/labels.jpg... \n",
      "\u001b[34m\u001b[1moptimizer:\u001b[0m 'optimizer=auto' found, ignoring 'lr0=0.01' and 'momentum=0.937' and determining best 'optimizer', 'lr0' and 'momentum' automatically... \n",
      "\u001b[34m\u001b[1moptimizer:\u001b[0m AdamW(lr=9.5e-05, momentum=0.9) with parameter groups 57 weight(decay=0.0), 64 weight(decay=0.0005), 63 bias(decay=0.0)\n",
      "Image sizes 640 train, 640 val\n",
      "Using 0 dataloader workers\n",
      "Logging results to \u001b[1mruns/detect/train2\u001b[0m\n",
      "Starting training for 50 epochs...\n",
      "\n",
      "      Epoch    GPU_mem   box_loss   cls_loss   dfl_loss  Instances       Size\n"
     ]
    },
    {
     "name": "stderr",
     "output_type": "stream",
     "text": [
      "       1/50         0G      1.679      4.986      1.463         58        640: 100%|██████████| 304/304 [36:34<00:00,  7.22s/it]\n",
      "                 Class     Images  Instances      Box(P          R      mAP50  mAP50-95): 100%|██████████| 19/19 [01:47<00:00,  5.64s/it]"
     ]
    },
    {
     "name": "stdout",
     "output_type": "stream",
     "text": [
      "                   all        594       5898      0.404      0.105     0.0486     0.0284\n"
     ]
    },
    {
     "name": "stderr",
     "output_type": "stream",
     "text": [
      "\n"
     ]
    },
    {
     "name": "stdout",
     "output_type": "stream",
     "text": [
      "\n",
      "      Epoch    GPU_mem   box_loss   cls_loss   dfl_loss  Instances       Size\n"
     ]
    },
    {
     "name": "stderr",
     "output_type": "stream",
     "text": [
      "       2/50         0G       1.56      3.405      1.382        121        640: 100%|██████████| 304/304 [1:05:46<00:00, 12.98s/it] \n",
      "                 Class     Images  Instances      Box(P          R      mAP50  mAP50-95): 100%|██████████| 19/19 [01:44<00:00,  5.51s/it]"
     ]
    },
    {
     "name": "stdout",
     "output_type": "stream",
     "text": [
      "                   all        594       5898      0.543      0.277      0.255      0.156\n"
     ]
    },
    {
     "name": "stderr",
     "output_type": "stream",
     "text": [
      "\n"
     ]
    },
    {
     "name": "stdout",
     "output_type": "stream",
     "text": [
      "\n",
      "      Epoch    GPU_mem   box_loss   cls_loss   dfl_loss  Instances       Size\n"
     ]
    },
    {
     "name": "stderr",
     "output_type": "stream",
     "text": [
      "       3/50         0G      1.454        2.5       1.33         57        640: 100%|██████████| 304/304 [31:48<00:00,  6.28s/it]\n",
      "                 Class     Images  Instances      Box(P          R      mAP50  mAP50-95): 100%|██████████| 19/19 [01:45<00:00,  5.54s/it]"
     ]
    },
    {
     "name": "stdout",
     "output_type": "stream",
     "text": [
      "                   all        594       5898      0.571      0.354      0.366      0.229\n"
     ]
    },
    {
     "name": "stderr",
     "output_type": "stream",
     "text": [
      "\n"
     ]
    },
    {
     "name": "stdout",
     "output_type": "stream",
     "text": [
      "\n",
      "      Epoch    GPU_mem   box_loss   cls_loss   dfl_loss  Instances       Size\n"
     ]
    },
    {
     "name": "stderr",
     "output_type": "stream",
     "text": [
      "       4/50         0G      1.384      2.074       1.29         87        640: 100%|██████████| 304/304 [1:15:06<00:00, 14.82s/it]   \n",
      "                 Class     Images  Instances      Box(P          R      mAP50  mAP50-95): 100%|██████████| 19/19 [01:47<00:00,  5.66s/it]"
     ]
    },
    {
     "name": "stdout",
     "output_type": "stream",
     "text": [
      "                   all        594       5898      0.616      0.418      0.431      0.272\n"
     ]
    },
    {
     "name": "stderr",
     "output_type": "stream",
     "text": [
      "\n"
     ]
    },
    {
     "name": "stdout",
     "output_type": "stream",
     "text": [
      "\n",
      "      Epoch    GPU_mem   box_loss   cls_loss   dfl_loss  Instances       Size\n"
     ]
    },
    {
     "name": "stderr",
     "output_type": "stream",
     "text": [
      "       5/50         0G      1.323      1.832      1.248         92        640: 100%|██████████| 304/304 [57:44<00:00, 11.40s/it]   \n",
      "                 Class     Images  Instances      Box(P          R      mAP50  mAP50-95): 100%|██████████| 19/19 [01:50<00:00,  5.80s/it]"
     ]
    },
    {
     "name": "stdout",
     "output_type": "stream",
     "text": [
      "                   all        594       5898      0.649      0.451       0.47      0.302\n"
     ]
    },
    {
     "name": "stderr",
     "output_type": "stream",
     "text": [
      "\n"
     ]
    },
    {
     "name": "stdout",
     "output_type": "stream",
     "text": [
      "\n",
      "      Epoch    GPU_mem   box_loss   cls_loss   dfl_loss  Instances       Size\n"
     ]
    },
    {
     "name": "stderr",
     "output_type": "stream",
     "text": [
      "       6/50         0G      1.292      1.695      1.225        102        640: 100%|██████████| 304/304 [32:21<00:00,  6.39s/it]\n",
      "                 Class     Images  Instances      Box(P          R      mAP50  mAP50-95): 100%|██████████| 19/19 [01:46<00:00,  5.58s/it]"
     ]
    },
    {
     "name": "stdout",
     "output_type": "stream",
     "text": [
      "                   all        594       5898      0.666       0.46      0.502      0.328\n"
     ]
    },
    {
     "name": "stderr",
     "output_type": "stream",
     "text": [
      "\n"
     ]
    },
    {
     "name": "stdout",
     "output_type": "stream",
     "text": [
      "\n",
      "      Epoch    GPU_mem   box_loss   cls_loss   dfl_loss  Instances       Size\n"
     ]
    },
    {
     "name": "stderr",
     "output_type": "stream",
     "text": [
      "       7/50         0G       1.26      1.593      1.213         48        640: 100%|██████████| 304/304 [31:30<00:00,  6.22s/it]\n",
      "                 Class     Images  Instances      Box(P          R      mAP50  mAP50-95): 100%|██████████| 19/19 [01:44<00:00,  5.49s/it]"
     ]
    },
    {
     "name": "stdout",
     "output_type": "stream",
     "text": [
      "                   all        594       5898      0.545        0.5      0.517      0.337\n"
     ]
    },
    {
     "name": "stderr",
     "output_type": "stream",
     "text": [
      "\n"
     ]
    },
    {
     "name": "stdout",
     "output_type": "stream",
     "text": [
      "\n",
      "      Epoch    GPU_mem   box_loss   cls_loss   dfl_loss  Instances       Size\n"
     ]
    },
    {
     "name": "stderr",
     "output_type": "stream",
     "text": [
      "       8/50         0G      1.238      1.537      1.199         78        640: 100%|██████████| 304/304 [31:22<00:00,  6.19s/it]\n",
      "                 Class     Images  Instances      Box(P          R      mAP50  mAP50-95): 100%|██████████| 19/19 [01:47<00:00,  5.67s/it]"
     ]
    },
    {
     "name": "stdout",
     "output_type": "stream",
     "text": [
      "                   all        594       5898      0.633      0.527      0.543      0.359\n"
     ]
    },
    {
     "name": "stderr",
     "output_type": "stream",
     "text": [
      "\n"
     ]
    },
    {
     "name": "stdout",
     "output_type": "stream",
     "text": [
      "\n",
      "      Epoch    GPU_mem   box_loss   cls_loss   dfl_loss  Instances       Size\n"
     ]
    },
    {
     "name": "stderr",
     "output_type": "stream",
     "text": [
      "       9/50         0G      1.223      1.455      1.184         92        640: 100%|██████████| 304/304 [2:02:29<00:00, 24.18s/it]    \n",
      "                 Class     Images  Instances      Box(P          R      mAP50  mAP50-95): 100%|██████████| 19/19 [01:44<00:00,  5.52s/it]"
     ]
    },
    {
     "name": "stdout",
     "output_type": "stream",
     "text": [
      "                   all        594       5898      0.605       0.55      0.545      0.362\n"
     ]
    },
    {
     "name": "stderr",
     "output_type": "stream",
     "text": [
      "\n"
     ]
    },
    {
     "name": "stdout",
     "output_type": "stream",
     "text": [
      "\n",
      "      Epoch    GPU_mem   box_loss   cls_loss   dfl_loss  Instances       Size\n"
     ]
    },
    {
     "name": "stderr",
     "output_type": "stream",
     "text": [
      "      10/50         0G      1.206      1.413       1.18         71        640: 100%|██████████| 304/304 [36:18<00:00,  7.17s/it]\n",
      "                 Class     Images  Instances      Box(P          R      mAP50  mAP50-95): 100%|██████████| 19/19 [01:46<00:00,  5.59s/it]"
     ]
    },
    {
     "name": "stdout",
     "output_type": "stream",
     "text": [
      "                   all        594       5898      0.655      0.539      0.577      0.384\n"
     ]
    },
    {
     "name": "stderr",
     "output_type": "stream",
     "text": [
      "\n"
     ]
    },
    {
     "name": "stdout",
     "output_type": "stream",
     "text": [
      "\n",
      "      Epoch    GPU_mem   box_loss   cls_loss   dfl_loss  Instances       Size\n"
     ]
    },
    {
     "name": "stderr",
     "output_type": "stream",
     "text": [
      "      11/50         0G      1.189      1.368      1.168         84        640: 100%|██████████| 304/304 [37:46<00:00,  7.46s/it]\n",
      "                 Class     Images  Instances      Box(P          R      mAP50  mAP50-95): 100%|██████████| 19/19 [01:45<00:00,  5.54s/it]"
     ]
    },
    {
     "name": "stdout",
     "output_type": "stream",
     "text": [
      "                   all        594       5898      0.643      0.564      0.578      0.386\n"
     ]
    },
    {
     "name": "stderr",
     "output_type": "stream",
     "text": [
      "\n"
     ]
    },
    {
     "name": "stdout",
     "output_type": "stream",
     "text": [
      "\n",
      "      Epoch    GPU_mem   box_loss   cls_loss   dfl_loss  Instances       Size\n"
     ]
    },
    {
     "name": "stderr",
     "output_type": "stream",
     "text": [
      "      12/50         0G      1.174      1.312      1.163        125        640: 100%|██████████| 304/304 [37:18<00:00,  7.36s/it]\n",
      "                 Class     Images  Instances      Box(P          R      mAP50  mAP50-95): 100%|██████████| 19/19 [01:50<00:00,  5.82s/it]"
     ]
    },
    {
     "name": "stdout",
     "output_type": "stream",
     "text": [
      "                   all        594       5898      0.663      0.554      0.576      0.383\n"
     ]
    },
    {
     "name": "stderr",
     "output_type": "stream",
     "text": [
      "\n"
     ]
    },
    {
     "name": "stdout",
     "output_type": "stream",
     "text": [
      "\n",
      "      Epoch    GPU_mem   box_loss   cls_loss   dfl_loss  Instances       Size\n"
     ]
    },
    {
     "name": "stderr",
     "output_type": "stream",
     "text": [
      "      13/50         0G      1.164      1.286      1.159         75        640: 100%|██████████| 304/304 [41:58<00:00,  8.28s/it]\n",
      "                 Class     Images  Instances      Box(P          R      mAP50  mAP50-95): 100%|██████████| 19/19 [01:51<00:00,  5.89s/it]"
     ]
    },
    {
     "name": "stdout",
     "output_type": "stream",
     "text": [
      "                   all        594       5898      0.665      0.586      0.599      0.402\n"
     ]
    },
    {
     "name": "stderr",
     "output_type": "stream",
     "text": [
      "\n"
     ]
    },
    {
     "name": "stdout",
     "output_type": "stream",
     "text": [
      "\n",
      "      Epoch    GPU_mem   box_loss   cls_loss   dfl_loss  Instances       Size\n"
     ]
    },
    {
     "name": "stderr",
     "output_type": "stream",
     "text": [
      "      14/50         0G      1.162      1.275      1.156         87        640: 100%|██████████| 304/304 [48:20<00:00,  9.54s/it] \n",
      "                 Class     Images  Instances      Box(P          R      mAP50  mAP50-95): 100%|██████████| 19/19 [01:56<00:00,  6.15s/it]"
     ]
    },
    {
     "name": "stdout",
     "output_type": "stream",
     "text": [
      "                   all        594       5898       0.68      0.595       0.61      0.414\n"
     ]
    },
    {
     "name": "stderr",
     "output_type": "stream",
     "text": [
      "\n"
     ]
    },
    {
     "name": "stdout",
     "output_type": "stream",
     "text": [
      "\n",
      "      Epoch    GPU_mem   box_loss   cls_loss   dfl_loss  Instances       Size\n"
     ]
    },
    {
     "name": "stderr",
     "output_type": "stream",
     "text": [
      "      15/50         0G      1.139      1.239      1.143         48        640: 100%|██████████| 304/304 [39:29<00:00,  7.79s/it]\n",
      "                 Class     Images  Instances      Box(P          R      mAP50  mAP50-95): 100%|██████████| 19/19 [01:42<00:00,  5.41s/it]"
     ]
    },
    {
     "name": "stdout",
     "output_type": "stream",
     "text": [
      "                   all        594       5898      0.692       0.59      0.616      0.424\n"
     ]
    },
    {
     "name": "stderr",
     "output_type": "stream",
     "text": [
      "\n"
     ]
    },
    {
     "name": "stdout",
     "output_type": "stream",
     "text": [
      "\n",
      "      Epoch    GPU_mem   box_loss   cls_loss   dfl_loss  Instances       Size\n"
     ]
    },
    {
     "name": "stderr",
     "output_type": "stream",
     "text": [
      "      16/50         0G      1.139      1.222      1.144         65        640: 100%|██████████| 304/304 [38:10<00:00,  7.54s/it]  \n",
      "                 Class     Images  Instances      Box(P          R      mAP50  mAP50-95): 100%|██████████| 19/19 [01:53<00:00,  5.98s/it]"
     ]
    },
    {
     "name": "stdout",
     "output_type": "stream",
     "text": [
      "                   all        594       5898       0.69        0.6      0.626      0.426\n"
     ]
    },
    {
     "name": "stderr",
     "output_type": "stream",
     "text": [
      "\n"
     ]
    },
    {
     "name": "stdout",
     "output_type": "stream",
     "text": [
      "\n",
      "      Epoch    GPU_mem   box_loss   cls_loss   dfl_loss  Instances       Size\n"
     ]
    },
    {
     "name": "stderr",
     "output_type": "stream",
     "text": [
      "      17/50         0G      1.132      1.192      1.139         73        640: 100%|██████████| 304/304 [32:18<00:00,  6.38s/it]\n",
      "                 Class     Images  Instances      Box(P          R      mAP50  mAP50-95): 100%|██████████| 19/19 [01:42<00:00,  5.37s/it]"
     ]
    },
    {
     "name": "stdout",
     "output_type": "stream",
     "text": [
      "                   all        594       5898      0.687      0.607      0.629      0.425\n"
     ]
    },
    {
     "name": "stderr",
     "output_type": "stream",
     "text": [
      "\n"
     ]
    },
    {
     "name": "stdout",
     "output_type": "stream",
     "text": [
      "\n",
      "      Epoch    GPU_mem   box_loss   cls_loss   dfl_loss  Instances       Size\n"
     ]
    },
    {
     "name": "stderr",
     "output_type": "stream",
     "text": [
      "      18/50         0G      1.118      1.177      1.132         97        640: 100%|██████████| 304/304 [30:29<00:00,  6.02s/it]\n",
      "                 Class     Images  Instances      Box(P          R      mAP50  mAP50-95): 100%|██████████| 19/19 [01:42<00:00,  5.40s/it]"
     ]
    },
    {
     "name": "stdout",
     "output_type": "stream",
     "text": [
      "                   all        594       5898      0.659      0.612      0.637      0.433\n"
     ]
    },
    {
     "name": "stderr",
     "output_type": "stream",
     "text": [
      "\n"
     ]
    },
    {
     "name": "stdout",
     "output_type": "stream",
     "text": [
      "\n",
      "      Epoch    GPU_mem   box_loss   cls_loss   dfl_loss  Instances       Size\n"
     ]
    },
    {
     "name": "stderr",
     "output_type": "stream",
     "text": [
      "      19/50         0G      1.115      1.145      1.127         82        640: 100%|██████████| 304/304 [30:33<00:00,  6.03s/it]\n",
      "                 Class     Images  Instances      Box(P          R      mAP50  mAP50-95): 100%|██████████| 19/19 [01:42<00:00,  5.40s/it]"
     ]
    },
    {
     "name": "stdout",
     "output_type": "stream",
     "text": [
      "                   all        594       5898      0.694      0.619       0.64      0.437\n"
     ]
    },
    {
     "name": "stderr",
     "output_type": "stream",
     "text": [
      "\n"
     ]
    },
    {
     "name": "stdout",
     "output_type": "stream",
     "text": [
      "\n",
      "      Epoch    GPU_mem   box_loss   cls_loss   dfl_loss  Instances       Size\n"
     ]
    },
    {
     "name": "stderr",
     "output_type": "stream",
     "text": [
      "      20/50         0G      1.107      1.143      1.124         87        640: 100%|██████████| 304/304 [30:34<00:00,  6.04s/it]\n",
      "                 Class     Images  Instances      Box(P          R      mAP50  mAP50-95): 100%|██████████| 19/19 [01:43<00:00,  5.43s/it]"
     ]
    },
    {
     "name": "stdout",
     "output_type": "stream",
     "text": [
      "                   all        594       5898      0.687      0.621      0.641      0.441\n"
     ]
    },
    {
     "name": "stderr",
     "output_type": "stream",
     "text": [
      "\n"
     ]
    },
    {
     "name": "stdout",
     "output_type": "stream",
     "text": [
      "\n",
      "      Epoch    GPU_mem   box_loss   cls_loss   dfl_loss  Instances       Size\n"
     ]
    },
    {
     "name": "stderr",
     "output_type": "stream",
     "text": [
      "      21/50         0G      1.096      1.117      1.123         99        640: 100%|██████████| 304/304 [30:45<00:00,  6.07s/it]\n",
      "                 Class     Images  Instances      Box(P          R      mAP50  mAP50-95): 100%|██████████| 19/19 [01:44<00:00,  5.49s/it]"
     ]
    },
    {
     "name": "stdout",
     "output_type": "stream",
     "text": [
      "                   all        594       5898      0.723      0.613      0.648      0.446\n"
     ]
    },
    {
     "name": "stderr",
     "output_type": "stream",
     "text": [
      "\n"
     ]
    },
    {
     "name": "stdout",
     "output_type": "stream",
     "text": [
      "\n",
      "      Epoch    GPU_mem   box_loss   cls_loss   dfl_loss  Instances       Size\n"
     ]
    },
    {
     "name": "stderr",
     "output_type": "stream",
     "text": [
      "      22/50         0G      1.091      1.099      1.118        105        640: 100%|██████████| 304/304 [30:42<00:00,  6.06s/it]\n",
      "                 Class     Images  Instances      Box(P          R      mAP50  mAP50-95): 100%|██████████| 19/19 [01:43<00:00,  5.46s/it]"
     ]
    },
    {
     "name": "stdout",
     "output_type": "stream",
     "text": [
      "                   all        594       5898      0.661      0.648      0.661      0.453\n"
     ]
    },
    {
     "name": "stderr",
     "output_type": "stream",
     "text": [
      "\n"
     ]
    },
    {
     "name": "stdout",
     "output_type": "stream",
     "text": [
      "\n",
      "      Epoch    GPU_mem   box_loss   cls_loss   dfl_loss  Instances       Size\n"
     ]
    },
    {
     "name": "stderr",
     "output_type": "stream",
     "text": [
      "      23/50         0G      1.084      1.077      1.114        103        640: 100%|██████████| 304/304 [30:36<00:00,  6.04s/it]\n",
      "                 Class     Images  Instances      Box(P          R      mAP50  mAP50-95): 100%|██████████| 19/19 [01:42<00:00,  5.39s/it]"
     ]
    },
    {
     "name": "stdout",
     "output_type": "stream",
     "text": [
      "                   all        594       5898      0.725      0.637      0.666      0.459\n"
     ]
    },
    {
     "name": "stderr",
     "output_type": "stream",
     "text": [
      "\n"
     ]
    },
    {
     "name": "stdout",
     "output_type": "stream",
     "text": [
      "\n",
      "      Epoch    GPU_mem   box_loss   cls_loss   dfl_loss  Instances       Size\n"
     ]
    },
    {
     "name": "stderr",
     "output_type": "stream",
     "text": [
      "      24/50         0G      1.085      1.072      1.113         63        640: 100%|██████████| 304/304 [30:31<00:00,  6.02s/it]\n",
      "                 Class     Images  Instances      Box(P          R      mAP50  mAP50-95): 100%|██████████| 19/19 [01:42<00:00,  5.39s/it]"
     ]
    },
    {
     "name": "stdout",
     "output_type": "stream",
     "text": [
      "                   all        594       5898      0.696      0.647      0.668      0.465\n"
     ]
    },
    {
     "name": "stderr",
     "output_type": "stream",
     "text": [
      "\n"
     ]
    },
    {
     "name": "stdout",
     "output_type": "stream",
     "text": [
      "\n",
      "      Epoch    GPU_mem   box_loss   cls_loss   dfl_loss  Instances       Size\n"
     ]
    },
    {
     "name": "stderr",
     "output_type": "stream",
     "text": [
      "      25/50         0G      1.079      1.069      1.111         83        640: 100%|██████████| 304/304 [30:36<00:00,  6.04s/it]\n",
      "                 Class     Images  Instances      Box(P          R      mAP50  mAP50-95): 100%|██████████| 19/19 [01:41<00:00,  5.36s/it]"
     ]
    },
    {
     "name": "stdout",
     "output_type": "stream",
     "text": [
      "                   all        594       5898       0.68      0.657      0.666      0.462\n"
     ]
    },
    {
     "name": "stderr",
     "output_type": "stream",
     "text": [
      "\n"
     ]
    },
    {
     "name": "stdout",
     "output_type": "stream",
     "text": [
      "\n",
      "      Epoch    GPU_mem   box_loss   cls_loss   dfl_loss  Instances       Size\n"
     ]
    },
    {
     "name": "stderr",
     "output_type": "stream",
     "text": [
      "      26/50         0G      1.075      1.049      1.106         90        640: 100%|██████████| 304/304 [30:30<00:00,  6.02s/it]\n",
      "                 Class     Images  Instances      Box(P          R      mAP50  mAP50-95): 100%|██████████| 19/19 [01:43<00:00,  5.43s/it]"
     ]
    },
    {
     "name": "stdout",
     "output_type": "stream",
     "text": [
      "                   all        594       5898      0.691      0.654      0.674      0.466\n"
     ]
    },
    {
     "name": "stderr",
     "output_type": "stream",
     "text": [
      "\n"
     ]
    },
    {
     "name": "stdout",
     "output_type": "stream",
     "text": [
      "\n",
      "      Epoch    GPU_mem   box_loss   cls_loss   dfl_loss  Instances       Size\n"
     ]
    },
    {
     "name": "stderr",
     "output_type": "stream",
     "text": [
      "      27/50         0G      1.073      1.044      1.108         54        640: 100%|██████████| 304/304 [30:39<00:00,  6.05s/it]\n",
      "                 Class     Images  Instances      Box(P          R      mAP50  mAP50-95): 100%|██████████| 19/19 [01:42<00:00,  5.37s/it]"
     ]
    },
    {
     "name": "stdout",
     "output_type": "stream",
     "text": [
      "                   all        594       5898      0.705      0.665      0.681      0.471\n"
     ]
    },
    {
     "name": "stderr",
     "output_type": "stream",
     "text": [
      "\n"
     ]
    },
    {
     "name": "stdout",
     "output_type": "stream",
     "text": [
      "\n",
      "      Epoch    GPU_mem   box_loss   cls_loss   dfl_loss  Instances       Size\n"
     ]
    },
    {
     "name": "stderr",
     "output_type": "stream",
     "text": [
      "      28/50         0G      1.063      1.029      1.101         84        640: 100%|██████████| 304/304 [30:36<00:00,  6.04s/it]\n",
      "                 Class     Images  Instances      Box(P          R      mAP50  mAP50-95): 100%|██████████| 19/19 [01:43<00:00,  5.45s/it]"
     ]
    },
    {
     "name": "stdout",
     "output_type": "stream",
     "text": [
      "                   all        594       5898      0.731      0.645      0.679       0.47\n"
     ]
    },
    {
     "name": "stderr",
     "output_type": "stream",
     "text": [
      "\n"
     ]
    },
    {
     "name": "stdout",
     "output_type": "stream",
     "text": [
      "\n",
      "      Epoch    GPU_mem   box_loss   cls_loss   dfl_loss  Instances       Size\n"
     ]
    },
    {
     "name": "stderr",
     "output_type": "stream",
     "text": [
      "      29/50         0G      1.061      1.024      1.102         77        640: 100%|██████████| 304/304 [30:42<00:00,  6.06s/it]\n",
      "                 Class     Images  Instances      Box(P          R      mAP50  mAP50-95): 100%|██████████| 19/19 [01:43<00:00,  5.43s/it]"
     ]
    },
    {
     "name": "stdout",
     "output_type": "stream",
     "text": [
      "                   all        594       5898      0.744      0.641      0.682       0.47\n"
     ]
    },
    {
     "name": "stderr",
     "output_type": "stream",
     "text": [
      "\n"
     ]
    },
    {
     "name": "stdout",
     "output_type": "stream",
     "text": [
      "\n",
      "      Epoch    GPU_mem   box_loss   cls_loss   dfl_loss  Instances       Size\n"
     ]
    },
    {
     "name": "stderr",
     "output_type": "stream",
     "text": [
      "      30/50         0G      1.056      1.012        1.1         83        640: 100%|██████████| 304/304 [30:41<00:00,  6.06s/it]\n",
      "                 Class     Images  Instances      Box(P          R      mAP50  mAP50-95): 100%|██████████| 19/19 [01:42<00:00,  5.41s/it]"
     ]
    },
    {
     "name": "stdout",
     "output_type": "stream",
     "text": [
      "                   all        594       5898       0.73      0.664      0.689      0.473\n"
     ]
    },
    {
     "name": "stderr",
     "output_type": "stream",
     "text": [
      "\n"
     ]
    },
    {
     "name": "stdout",
     "output_type": "stream",
     "text": [
      "\n",
      "      Epoch    GPU_mem   box_loss   cls_loss   dfl_loss  Instances       Size\n"
     ]
    },
    {
     "name": "stderr",
     "output_type": "stream",
     "text": [
      "      31/50         0G       1.05      1.004      1.099         74        640: 100%|██████████| 304/304 [30:37<00:00,  6.05s/it]\n",
      "                 Class     Images  Instances      Box(P          R      mAP50  mAP50-95): 100%|██████████| 19/19 [01:42<00:00,  5.40s/it]"
     ]
    },
    {
     "name": "stdout",
     "output_type": "stream",
     "text": [
      "                   all        594       5898      0.734      0.655      0.689      0.478\n"
     ]
    },
    {
     "name": "stderr",
     "output_type": "stream",
     "text": [
      "\n"
     ]
    },
    {
     "name": "stdout",
     "output_type": "stream",
     "text": [
      "\n",
      "      Epoch    GPU_mem   box_loss   cls_loss   dfl_loss  Instances       Size\n"
     ]
    },
    {
     "name": "stderr",
     "output_type": "stream",
     "text": [
      "      32/50         0G      1.051      1.002      1.097         61        640: 100%|██████████| 304/304 [30:45<00:00,  6.07s/it]\n",
      "                 Class     Images  Instances      Box(P          R      mAP50  mAP50-95): 100%|██████████| 19/19 [01:43<00:00,  5.44s/it]"
     ]
    },
    {
     "name": "stdout",
     "output_type": "stream",
     "text": [
      "                   all        594       5898      0.697      0.685      0.699      0.487\n"
     ]
    },
    {
     "name": "stderr",
     "output_type": "stream",
     "text": [
      "\n"
     ]
    },
    {
     "name": "stdout",
     "output_type": "stream",
     "text": [
      "\n",
      "      Epoch    GPU_mem   box_loss   cls_loss   dfl_loss  Instances       Size\n"
     ]
    },
    {
     "name": "stderr",
     "output_type": "stream",
     "text": [
      "      33/50         0G      1.043     0.9834      1.094         78        640: 100%|██████████| 304/304 [30:46<00:00,  6.07s/it]\n",
      "                 Class     Images  Instances      Box(P          R      mAP50  mAP50-95): 100%|██████████| 19/19 [01:43<00:00,  5.46s/it]"
     ]
    },
    {
     "name": "stdout",
     "output_type": "stream",
     "text": [
      "                   all        594       5898       0.75      0.653      0.699      0.489\n"
     ]
    },
    {
     "name": "stderr",
     "output_type": "stream",
     "text": [
      "\n"
     ]
    },
    {
     "name": "stdout",
     "output_type": "stream",
     "text": [
      "\n",
      "      Epoch    GPU_mem   box_loss   cls_loss   dfl_loss  Instances       Size\n"
     ]
    },
    {
     "name": "stderr",
     "output_type": "stream",
     "text": [
      "      34/50         0G      1.043     0.9852      1.095         98        640: 100%|██████████| 304/304 [30:50<00:00,  6.09s/it]\n",
      "                 Class     Images  Instances      Box(P          R      mAP50  mAP50-95): 100%|██████████| 19/19 [01:43<00:00,  5.44s/it]"
     ]
    },
    {
     "name": "stdout",
     "output_type": "stream",
     "text": [
      "                   all        594       5898      0.736      0.657      0.695      0.486\n"
     ]
    },
    {
     "name": "stderr",
     "output_type": "stream",
     "text": [
      "\n"
     ]
    },
    {
     "name": "stdout",
     "output_type": "stream",
     "text": [
      "\n",
      "      Epoch    GPU_mem   box_loss   cls_loss   dfl_loss  Instances       Size\n"
     ]
    },
    {
     "name": "stderr",
     "output_type": "stream",
     "text": [
      "      35/50         0G      1.037     0.9668       1.09         79        640: 100%|██████████| 304/304 [30:52<00:00,  6.09s/it]\n",
      "                 Class     Images  Instances      Box(P          R      mAP50  mAP50-95): 100%|██████████| 19/19 [01:43<00:00,  5.44s/it]"
     ]
    },
    {
     "name": "stdout",
     "output_type": "stream",
     "text": [
      "                   all        594       5898      0.746       0.67      0.697      0.487\n"
     ]
    },
    {
     "name": "stderr",
     "output_type": "stream",
     "text": [
      "\n"
     ]
    },
    {
     "name": "stdout",
     "output_type": "stream",
     "text": [
      "\n",
      "      Epoch    GPU_mem   box_loss   cls_loss   dfl_loss  Instances       Size\n"
     ]
    },
    {
     "name": "stderr",
     "output_type": "stream",
     "text": [
      "      36/50         0G      1.034     0.9603      1.089         66        640: 100%|██████████| 304/304 [31:01<00:00,  6.12s/it]\n",
      "                 Class     Images  Instances      Box(P          R      mAP50  mAP50-95): 100%|██████████| 19/19 [01:42<00:00,  5.41s/it]"
     ]
    },
    {
     "name": "stdout",
     "output_type": "stream",
     "text": [
      "                   all        594       5898      0.724      0.673      0.698      0.486\n"
     ]
    },
    {
     "name": "stderr",
     "output_type": "stream",
     "text": [
      "\n"
     ]
    },
    {
     "name": "stdout",
     "output_type": "stream",
     "text": [
      "\n",
      "      Epoch    GPU_mem   box_loss   cls_loss   dfl_loss  Instances       Size\n"
     ]
    },
    {
     "name": "stderr",
     "output_type": "stream",
     "text": [
      "      37/50         0G      1.034      0.963       1.09         77        640: 100%|██████████| 304/304 [34:22<00:00,  6.78s/it]\n",
      "                 Class     Images  Instances      Box(P          R      mAP50  mAP50-95): 100%|██████████| 19/19 [01:48<00:00,  5.73s/it]"
     ]
    },
    {
     "name": "stdout",
     "output_type": "stream",
     "text": [
      "                   all        594       5898       0.73      0.679      0.696      0.488\n"
     ]
    },
    {
     "name": "stderr",
     "output_type": "stream",
     "text": [
      "\n"
     ]
    },
    {
     "name": "stdout",
     "output_type": "stream",
     "text": [
      "\n",
      "      Epoch    GPU_mem   box_loss   cls_loss   dfl_loss  Instances       Size\n"
     ]
    },
    {
     "name": "stderr",
     "output_type": "stream",
     "text": [
      "      38/50         0G      1.026     0.9466      1.084         52        640: 100%|██████████| 304/304 [35:13<00:00,  6.95s/it]\n",
      "                 Class     Images  Instances      Box(P          R      mAP50  mAP50-95): 100%|██████████| 19/19 [01:44<00:00,  5.49s/it]"
     ]
    },
    {
     "name": "stdout",
     "output_type": "stream",
     "text": [
      "                   all        594       5898      0.732      0.672      0.699      0.489\n"
     ]
    },
    {
     "name": "stderr",
     "output_type": "stream",
     "text": [
      "\n"
     ]
    },
    {
     "name": "stdout",
     "output_type": "stream",
     "text": [
      "\n",
      "      Epoch    GPU_mem   box_loss   cls_loss   dfl_loss  Instances       Size\n"
     ]
    },
    {
     "name": "stderr",
     "output_type": "stream",
     "text": [
      "      39/50         0G      1.027     0.9466      1.086         63        640: 100%|██████████| 304/304 [3:58:23<00:00, 47.05s/it]    \n",
      "                 Class     Images  Instances      Box(P          R      mAP50  mAP50-95): 100%|██████████| 19/19 [01:49<00:00,  5.79s/it]"
     ]
    },
    {
     "name": "stdout",
     "output_type": "stream",
     "text": [
      "                   all        594       5898      0.744      0.676      0.704      0.494\n"
     ]
    },
    {
     "name": "stderr",
     "output_type": "stream",
     "text": [
      "\n"
     ]
    },
    {
     "name": "stdout",
     "output_type": "stream",
     "text": [
      "\n",
      "      Epoch    GPU_mem   box_loss   cls_loss   dfl_loss  Instances       Size\n"
     ]
    },
    {
     "name": "stderr",
     "output_type": "stream",
     "text": [
      "      40/50         0G      1.022     0.9385      1.087         69        640: 100%|██████████| 304/304 [54:46<00:00, 10.81s/it]   \n",
      "                 Class     Images  Instances      Box(P          R      mAP50  mAP50-95): 100%|██████████| 19/19 [01:45<00:00,  5.53s/it]"
     ]
    },
    {
     "name": "stdout",
     "output_type": "stream",
     "text": [
      "                   all        594       5898      0.735      0.684      0.705      0.492\n"
     ]
    },
    {
     "name": "stderr",
     "output_type": "stream",
     "text": [
      "\n"
     ]
    },
    {
     "name": "stdout",
     "output_type": "stream",
     "text": [
      "Closing dataloader mosaic\n",
      "\n",
      "      Epoch    GPU_mem   box_loss   cls_loss   dfl_loss  Instances       Size\n"
     ]
    },
    {
     "name": "stderr",
     "output_type": "stream",
     "text": [
      "      41/50         0G     0.9884     0.8763      1.097         57        640: 100%|██████████| 304/304 [35:55<00:00,  7.09s/it]\n",
      "                 Class     Images  Instances      Box(P          R      mAP50  mAP50-95): 100%|██████████| 19/19 [01:46<00:00,  5.60s/it]"
     ]
    },
    {
     "name": "stdout",
     "output_type": "stream",
     "text": [
      "                   all        594       5898      0.739      0.672        0.7      0.491\n"
     ]
    },
    {
     "name": "stderr",
     "output_type": "stream",
     "text": [
      "\n"
     ]
    },
    {
     "name": "stdout",
     "output_type": "stream",
     "text": [
      "\n",
      "      Epoch    GPU_mem   box_loss   cls_loss   dfl_loss  Instances       Size\n"
     ]
    },
    {
     "name": "stderr",
     "output_type": "stream",
     "text": [
      "      42/50         0G     0.9679     0.8453      1.088         49        640: 100%|██████████| 304/304 [4:14:20<00:00, 50.20s/it]    \n",
      "                 Class     Images  Instances      Box(P          R      mAP50  mAP50-95): 100%|██████████| 19/19 [01:49<00:00,  5.78s/it]"
     ]
    },
    {
     "name": "stdout",
     "output_type": "stream",
     "text": [
      "                   all        594       5898      0.737      0.674      0.706      0.496\n"
     ]
    },
    {
     "name": "stderr",
     "output_type": "stream",
     "text": [
      "\n"
     ]
    },
    {
     "name": "stdout",
     "output_type": "stream",
     "text": [
      "\n",
      "      Epoch    GPU_mem   box_loss   cls_loss   dfl_loss  Instances       Size\n"
     ]
    },
    {
     "name": "stderr",
     "output_type": "stream",
     "text": [
      "      43/50         0G      0.962      0.831      1.083         51        640: 100%|██████████| 304/304 [39:31<00:00,  7.80s/it]\n",
      "                 Class     Images  Instances      Box(P          R      mAP50  mAP50-95): 100%|██████████| 19/19 [01:49<00:00,  5.79s/it]"
     ]
    },
    {
     "name": "stdout",
     "output_type": "stream",
     "text": [
      "                   all        594       5898      0.749      0.671      0.709      0.502\n"
     ]
    },
    {
     "name": "stderr",
     "output_type": "stream",
     "text": [
      "\n"
     ]
    },
    {
     "name": "stdout",
     "output_type": "stream",
     "text": [
      "\n",
      "      Epoch    GPU_mem   box_loss   cls_loss   dfl_loss  Instances       Size\n"
     ]
    },
    {
     "name": "stderr",
     "output_type": "stream",
     "text": [
      "      44/50         0G     0.9626      0.826      1.086         64        640: 100%|██████████| 304/304 [42:40<00:00,  8.42s/it]\n",
      "                 Class     Images  Instances      Box(P          R      mAP50  mAP50-95): 100%|██████████| 19/19 [01:46<00:00,  5.60s/it]"
     ]
    },
    {
     "name": "stdout",
     "output_type": "stream",
     "text": [
      "                   all        594       5898      0.745      0.683      0.709      0.503\n"
     ]
    },
    {
     "name": "stderr",
     "output_type": "stream",
     "text": [
      "\n"
     ]
    },
    {
     "name": "stdout",
     "output_type": "stream",
     "text": [
      "\n",
      "      Epoch    GPU_mem   box_loss   cls_loss   dfl_loss  Instances       Size\n"
     ]
    },
    {
     "name": "stderr",
     "output_type": "stream",
     "text": [
      "      45/50         0G     0.9545     0.8169      1.082         52        640: 100%|██████████| 304/304 [40:48<00:00,  8.05s/it]\n",
      "                 Class     Images  Instances      Box(P          R      mAP50  mAP50-95): 100%|██████████| 19/19 [01:53<00:00,  5.96s/it]"
     ]
    },
    {
     "name": "stdout",
     "output_type": "stream",
     "text": [
      "                   all        594       5898      0.747      0.689      0.715      0.507\n"
     ]
    },
    {
     "name": "stderr",
     "output_type": "stream",
     "text": [
      "\n"
     ]
    },
    {
     "name": "stdout",
     "output_type": "stream",
     "text": [
      "\n",
      "      Epoch    GPU_mem   box_loss   cls_loss   dfl_loss  Instances       Size\n"
     ]
    },
    {
     "name": "stderr",
     "output_type": "stream",
     "text": [
      "      46/50         0G     0.9493     0.8078      1.078         73        640: 100%|██████████| 304/304 [40:07<00:00,  7.92s/it]\n",
      "                 Class     Images  Instances      Box(P          R      mAP50  mAP50-95): 100%|██████████| 19/19 [01:48<00:00,  5.73s/it]"
     ]
    },
    {
     "name": "stdout",
     "output_type": "stream",
     "text": [
      "                   all        594       5898      0.734      0.702      0.714      0.507\n"
     ]
    },
    {
     "name": "stderr",
     "output_type": "stream",
     "text": [
      "\n"
     ]
    },
    {
     "name": "stdout",
     "output_type": "stream",
     "text": [
      "\n",
      "      Epoch    GPU_mem   box_loss   cls_loss   dfl_loss  Instances       Size\n"
     ]
    },
    {
     "name": "stderr",
     "output_type": "stream",
     "text": [
      "      47/50         0G     0.9506     0.7998      1.076         61        640: 100%|██████████| 304/304 [45:53<00:00,  9.06s/it]\n",
      "                 Class     Images  Instances      Box(P          R      mAP50  mAP50-95): 100%|██████████| 19/19 [01:50<00:00,  5.83s/it]"
     ]
    },
    {
     "name": "stdout",
     "output_type": "stream",
     "text": [
      "                   all        594       5898      0.728      0.697      0.716       0.51\n"
     ]
    },
    {
     "name": "stderr",
     "output_type": "stream",
     "text": [
      "\n"
     ]
    },
    {
     "name": "stdout",
     "output_type": "stream",
     "text": [
      "\n",
      "      Epoch    GPU_mem   box_loss   cls_loss   dfl_loss  Instances       Size\n"
     ]
    },
    {
     "name": "stderr",
     "output_type": "stream",
     "text": [
      "      48/50         0G      0.945     0.8033      1.079         64        640: 100%|██████████| 304/304 [1:01:11<00:00, 12.08s/it] \n",
      "                 Class     Images  Instances      Box(P          R      mAP50  mAP50-95): 100%|██████████| 19/19 [17:55<00:00, 56.61s/it] "
     ]
    },
    {
     "name": "stdout",
     "output_type": "stream",
     "text": [
      "                   all        594       5898      0.743      0.696      0.717      0.508\n"
     ]
    },
    {
     "name": "stderr",
     "output_type": "stream",
     "text": [
      "\n"
     ]
    },
    {
     "name": "stdout",
     "output_type": "stream",
     "text": [
      "\n",
      "      Epoch    GPU_mem   box_loss   cls_loss   dfl_loss  Instances       Size\n"
     ]
    },
    {
     "name": "stderr",
     "output_type": "stream",
     "text": [
      "      49/50         0G     0.9464     0.8007      1.078         55        640: 100%|██████████| 304/304 [1:24:41<00:00, 16.72s/it]  \n",
      "                 Class     Images  Instances      Box(P          R      mAP50  mAP50-95): 100%|██████████| 19/19 [03:21<00:00, 10.59s/it]"
     ]
    },
    {
     "name": "stdout",
     "output_type": "stream",
     "text": [
      "                   all        594       5898      0.744      0.697      0.717      0.511\n"
     ]
    },
    {
     "name": "stderr",
     "output_type": "stream",
     "text": [
      "\n"
     ]
    },
    {
     "name": "stdout",
     "output_type": "stream",
     "text": [
      "\n",
      "      Epoch    GPU_mem   box_loss   cls_loss   dfl_loss  Instances       Size\n"
     ]
    },
    {
     "name": "stderr",
     "output_type": "stream",
     "text": [
      "      50/50         0G     0.9459     0.8022      1.076         53        640: 100%|██████████| 304/304 [1:07:12<00:00, 13.27s/it]\n",
      "                 Class     Images  Instances      Box(P          R      mAP50  mAP50-95): 100%|██████████| 19/19 [03:47<00:00, 11.97s/it]"
     ]
    },
    {
     "name": "stdout",
     "output_type": "stream",
     "text": [
      "                   all        594       5898      0.743      0.693      0.716      0.509\n"
     ]
    },
    {
     "name": "stderr",
     "output_type": "stream",
     "text": [
      "\n"
     ]
    },
    {
     "name": "stdout",
     "output_type": "stream",
     "text": [
      "\n",
      "50 epochs completed in 42.716 hours.\n",
      "Optimizer stripped from runs/detect/train2/weights/last.pt, 6.9MB\n",
      "Optimizer stripped from runs/detect/train2/weights/best.pt, 6.9MB\n",
      "\n",
      "Validating runs/detect/train2/weights/best.pt...\n",
      "Ultralytics YOLOv8.2.90 🚀 Python-3.8.19 torch-2.4.1 CPU (Apple M1 Pro)\n",
      "Model summary (fused): 168 layers, 3,341,027 parameters, 0 gradients\n"
     ]
    },
    {
     "name": "stderr",
     "output_type": "stream",
     "text": [
      "                 Class     Images  Instances      Box(P          R      mAP50  mAP50-95): 100%|██████████| 19/19 [03:15<00:00, 10.29s/it]\n"
     ]
    },
    {
     "name": "stdout",
     "output_type": "stream",
     "text": [
      "                   all        594       5898      0.746      0.699      0.717      0.511\n",
      "                 apple        146        259      0.692      0.718      0.757       0.47\n",
      "             asparagus         19         19      0.815      0.465      0.567      0.384\n",
      "               avocado         32         49      0.729      0.219      0.332      0.218\n",
      "                banana        197        284      0.905      0.708      0.824      0.539\n",
      "                  beef         96         96      0.921      0.854      0.928      0.616\n",
      "           bell_pepper         33         53      0.783      0.408      0.548      0.363\n",
      "                 bento         10         10       0.93          1      0.995      0.839\n",
      "           blueberries        120        120      0.955      0.893      0.955      0.582\n",
      "                bottle          9         18      0.503      0.889      0.474      0.348\n",
      "                 bread         91         91      0.758      0.747      0.801       0.59\n",
      "              broccoli         18         18      0.774      0.722      0.817      0.606\n",
      "                butter        163        163      0.962      0.945      0.976      0.746\n",
      "                   can          6          6      0.409          1      0.459      0.381\n",
      "                carrot        166        201      0.895      0.826      0.903      0.616\n",
      "                cheese        269        290      0.894      0.752      0.835      0.562\n",
      "               chicken        134        134      0.971      0.995      0.983      0.765\n",
      "        chicken_breast         48         48      0.788      0.979      0.947      0.574\n",
      "             chocolate         48         48      0.977      0.881      0.953      0.544\n",
      "                coffee         16         16      0.959          1      0.995      0.827\n",
      "                  corn        154        154      0.965      0.929      0.972      0.688\n",
      "              cucumber         38         95      0.487      0.411      0.399        0.2\n",
      "                   egg         91        149      0.602       0.49      0.552      0.327\n",
      "                  eggs         44         44      0.394      0.636      0.423       0.28\n",
      "          energy_drink         11         11      0.609      0.849      0.763      0.592\n",
      "                  fish          1          1      0.707          1      0.995      0.895\n",
      "                 flour        135        174      0.956      0.931      0.975       0.66\n",
      "                garlic          8         10      0.712      0.255      0.429      0.251\n",
      "           goat_cheese         85         85      0.982      0.835      0.918      0.596\n",
      "         grated_cheese         38         42        0.9      0.524      0.619      0.432\n",
      "           green_beans        139        139      0.907      0.928      0.961      0.676\n",
      "           ground_beef         78         78      0.921      0.899      0.962       0.67\n",
      "             guacamole         12         12      0.909      0.667      0.739      0.564\n",
      "                   ham         68         68      0.956       0.97      0.984      0.671\n",
      "           heavy_cream        154        154      0.941      0.926      0.953      0.718\n",
      "                 humus         25         40      0.761      0.775      0.807      0.574\n",
      "                 juice          1          2          0          0          0          0\n",
      "                  leek          6          6      0.344      0.333      0.473      0.377\n",
      "                 lemon         30         33      0.331      0.212      0.213      0.102\n",
      "                  lime        117        124        0.9      0.944      0.957      0.636\n",
      "                 mango          9         10       0.72        0.5      0.532      0.441\n",
      "             marmelade         21         25      0.607      0.495      0.568      0.368\n",
      "             mayonaise         27         27          1      0.222      0.412      0.303\n",
      "                  milk        185        242      0.876      0.822      0.885      0.657\n",
      "             mushrooms        122        122      0.944      0.943      0.975      0.679\n",
      "                 onion        128        139      0.929      0.852      0.928        0.7\n",
      "                orange         29        109      0.705      0.881      0.881      0.509\n",
      "              pak_choi          8          8        0.6      0.875      0.874      0.666\n",
      "               parsley          1          1          1          0          0          0\n",
      "                  pear          7         15      0.668        0.2      0.275      0.177\n",
      "             pineapple         27         27      0.547      0.626      0.595       0.45\n",
      "     plasticsaveholder          1         14      0.252      0.714      0.606      0.282\n",
      "                   pot          1          1          0          0          0          0\n",
      "                potato        185        185      0.911      0.946      0.963      0.675\n",
      "               pudding         26         26      0.981          1      0.995      0.754\n",
      "           red_cabbage          1          1          0          0          0          0\n",
      "             rice_ball         20         20      0.971          1      0.995        0.7\n",
      "                 salad         39         44      0.696      0.659      0.675      0.536\n",
      "              sandwich         20         20      0.973          1      0.995      0.757\n",
      "               sausage         26         28      0.704      0.393      0.397      0.302\n",
      "                shrimp        155        155       0.94      0.903       0.96      0.607\n",
      "              smoothie         18         18          1      0.985      0.995      0.769\n",
      "               spinach        135        135      0.924      0.963      0.979      0.721\n",
      "          spring_onion          1          1          0          0          0          0\n",
      "          strawberries        189        189      0.978      0.954      0.988      0.723\n",
      "                 sugar        163        202       0.94      0.926      0.976      0.745\n",
      "          sweet_potato        101        111      0.962      0.921      0.954      0.689\n",
      "                 tea_a          8          8      0.544          1      0.775      0.582\n",
      "                 tea_i          8          8      0.441      0.693       0.62      0.485\n",
      "                tomato        263        390      0.817      0.799      0.847      0.542\n",
      "          tomato_sauce         26         27      0.727      0.591      0.635      0.509\n",
      "             tortillas         21         21        0.9       0.43       0.59      0.512\n",
      "                turkey          5          5      0.476      0.553      0.628      0.512\n",
      "                yogurt        114        220      0.814      0.632      0.714      0.462\n",
      "Speed: 1.3ms preprocess, 315.2ms inference, 0.0ms loss, 2.2ms postprocess per image\n",
      "Results saved to \u001b[1mruns/detect/train2\u001b[0m\n"
     ]
    },
    {
     "data": {
      "text/plain": [
       "ultralytics.utils.metrics.DetMetrics object with attributes:\n",
       "\n",
       "ap_class_index: array([ 0,  1,  2,  3,  4,  5,  6,  7,  8,  9, 10, 11, 12, 13, 15, 17, 18, 19, 20, 21, 23, 25, 27, 28, 29, 30, 31, 33, 36, 38, 39, 40, 41, 42, 43, 44, 47, 48, 50, 51, 52, 53, 54, 56, 60, 61, 62, 63, 65, 68, 69, 71, 72, 74, 76, 79, 80, 82, 83, 84, 85, 86, 87, 88, 89, 90, 92, 93, 94, 95, 96, 97, 99])\n",
       "box: ultralytics.utils.metrics.Metric object\n",
       "confusion_matrix: <ultralytics.utils.metrics.ConfusionMatrix object at 0x17740d2b0>\n",
       "curves: ['Precision-Recall(B)', 'F1-Confidence(B)', 'Precision-Confidence(B)', 'Recall-Confidence(B)']\n",
       "curves_results: [[array([          0,    0.001001,    0.002002,    0.003003,    0.004004,    0.005005,    0.006006,    0.007007,    0.008008,    0.009009,     0.01001,    0.011011,    0.012012,    0.013013,    0.014014,    0.015015,    0.016016,    0.017017,    0.018018,    0.019019,     0.02002,    0.021021,    0.022022,    0.023023,\n",
       "          0.024024,    0.025025,    0.026026,    0.027027,    0.028028,    0.029029,     0.03003,    0.031031,    0.032032,    0.033033,    0.034034,    0.035035,    0.036036,    0.037037,    0.038038,    0.039039,     0.04004,    0.041041,    0.042042,    0.043043,    0.044044,    0.045045,    0.046046,    0.047047,\n",
       "          0.048048,    0.049049,     0.05005,    0.051051,    0.052052,    0.053053,    0.054054,    0.055055,    0.056056,    0.057057,    0.058058,    0.059059,     0.06006,    0.061061,    0.062062,    0.063063,    0.064064,    0.065065,    0.066066,    0.067067,    0.068068,    0.069069,     0.07007,    0.071071,\n",
       "          0.072072,    0.073073,    0.074074,    0.075075,    0.076076,    0.077077,    0.078078,    0.079079,     0.08008,    0.081081,    0.082082,    0.083083,    0.084084,    0.085085,    0.086086,    0.087087,    0.088088,    0.089089,     0.09009,    0.091091,    0.092092,    0.093093,    0.094094,    0.095095,\n",
       "          0.096096,    0.097097,    0.098098,    0.099099,      0.1001,      0.1011,      0.1021,      0.1031,      0.1041,     0.10511,     0.10611,     0.10711,     0.10811,     0.10911,     0.11011,     0.11111,     0.11211,     0.11311,     0.11411,     0.11512,     0.11612,     0.11712,     0.11812,     0.11912,\n",
       "           0.12012,     0.12112,     0.12212,     0.12312,     0.12412,     0.12513,     0.12613,     0.12713,     0.12813,     0.12913,     0.13013,     0.13113,     0.13213,     0.13313,     0.13413,     0.13514,     0.13614,     0.13714,     0.13814,     0.13914,     0.14014,     0.14114,     0.14214,     0.14314,\n",
       "           0.14414,     0.14515,     0.14615,     0.14715,     0.14815,     0.14915,     0.15015,     0.15115,     0.15215,     0.15315,     0.15415,     0.15516,     0.15616,     0.15716,     0.15816,     0.15916,     0.16016,     0.16116,     0.16216,     0.16316,     0.16416,     0.16517,     0.16617,     0.16717,\n",
       "           0.16817,     0.16917,     0.17017,     0.17117,     0.17217,     0.17317,     0.17417,     0.17518,     0.17618,     0.17718,     0.17818,     0.17918,     0.18018,     0.18118,     0.18218,     0.18318,     0.18418,     0.18519,     0.18619,     0.18719,     0.18819,     0.18919,     0.19019,     0.19119,\n",
       "           0.19219,     0.19319,     0.19419,      0.1952,      0.1962,      0.1972,      0.1982,      0.1992,      0.2002,      0.2012,      0.2022,      0.2032,      0.2042,     0.20521,     0.20621,     0.20721,     0.20821,     0.20921,     0.21021,     0.21121,     0.21221,     0.21321,     0.21421,     0.21522,\n",
       "           0.21622,     0.21722,     0.21822,     0.21922,     0.22022,     0.22122,     0.22222,     0.22322,     0.22422,     0.22523,     0.22623,     0.22723,     0.22823,     0.22923,     0.23023,     0.23123,     0.23223,     0.23323,     0.23423,     0.23524,     0.23624,     0.23724,     0.23824,     0.23924,\n",
       "           0.24024,     0.24124,     0.24224,     0.24324,     0.24424,     0.24525,     0.24625,     0.24725,     0.24825,     0.24925,     0.25025,     0.25125,     0.25225,     0.25325,     0.25425,     0.25526,     0.25626,     0.25726,     0.25826,     0.25926,     0.26026,     0.26126,     0.26226,     0.26326,\n",
       "           0.26426,     0.26527,     0.26627,     0.26727,     0.26827,     0.26927,     0.27027,     0.27127,     0.27227,     0.27327,     0.27427,     0.27528,     0.27628,     0.27728,     0.27828,     0.27928,     0.28028,     0.28128,     0.28228,     0.28328,     0.28428,     0.28529,     0.28629,     0.28729,\n",
       "           0.28829,     0.28929,     0.29029,     0.29129,     0.29229,     0.29329,     0.29429,      0.2953,      0.2963,      0.2973,      0.2983,      0.2993,      0.3003,      0.3013,      0.3023,      0.3033,      0.3043,     0.30531,     0.30631,     0.30731,     0.30831,     0.30931,     0.31031,     0.31131,\n",
       "           0.31231,     0.31331,     0.31431,     0.31532,     0.31632,     0.31732,     0.31832,     0.31932,     0.32032,     0.32132,     0.32232,     0.32332,     0.32432,     0.32533,     0.32633,     0.32733,     0.32833,     0.32933,     0.33033,     0.33133,     0.33233,     0.33333,     0.33433,     0.33534,\n",
       "           0.33634,     0.33734,     0.33834,     0.33934,     0.34034,     0.34134,     0.34234,     0.34334,     0.34434,     0.34535,     0.34635,     0.34735,     0.34835,     0.34935,     0.35035,     0.35135,     0.35235,     0.35335,     0.35435,     0.35536,     0.35636,     0.35736,     0.35836,     0.35936,\n",
       "           0.36036,     0.36136,     0.36236,     0.36336,     0.36436,     0.36537,     0.36637,     0.36737,     0.36837,     0.36937,     0.37037,     0.37137,     0.37237,     0.37337,     0.37437,     0.37538,     0.37638,     0.37738,     0.37838,     0.37938,     0.38038,     0.38138,     0.38238,     0.38338,\n",
       "           0.38438,     0.38539,     0.38639,     0.38739,     0.38839,     0.38939,     0.39039,     0.39139,     0.39239,     0.39339,     0.39439,      0.3954,      0.3964,      0.3974,      0.3984,      0.3994,      0.4004,      0.4014,      0.4024,      0.4034,      0.4044,     0.40541,     0.40641,     0.40741,\n",
       "           0.40841,     0.40941,     0.41041,     0.41141,     0.41241,     0.41341,     0.41441,     0.41542,     0.41642,     0.41742,     0.41842,     0.41942,     0.42042,     0.42142,     0.42242,     0.42342,     0.42442,     0.42543,     0.42643,     0.42743,     0.42843,     0.42943,     0.43043,     0.43143,\n",
       "           0.43243,     0.43343,     0.43443,     0.43544,     0.43644,     0.43744,     0.43844,     0.43944,     0.44044,     0.44144,     0.44244,     0.44344,     0.44444,     0.44545,     0.44645,     0.44745,     0.44845,     0.44945,     0.45045,     0.45145,     0.45245,     0.45345,     0.45445,     0.45546,\n",
       "           0.45646,     0.45746,     0.45846,     0.45946,     0.46046,     0.46146,     0.46246,     0.46346,     0.46446,     0.46547,     0.46647,     0.46747,     0.46847,     0.46947,     0.47047,     0.47147,     0.47247,     0.47347,     0.47447,     0.47548,     0.47648,     0.47748,     0.47848,     0.47948,\n",
       "           0.48048,     0.48148,     0.48248,     0.48348,     0.48448,     0.48549,     0.48649,     0.48749,     0.48849,     0.48949,     0.49049,     0.49149,     0.49249,     0.49349,     0.49449,      0.4955,      0.4965,      0.4975,      0.4985,      0.4995,      0.5005,      0.5015,      0.5025,      0.5035,\n",
       "            0.5045,     0.50551,     0.50651,     0.50751,     0.50851,     0.50951,     0.51051,     0.51151,     0.51251,     0.51351,     0.51451,     0.51552,     0.51652,     0.51752,     0.51852,     0.51952,     0.52052,     0.52152,     0.52252,     0.52352,     0.52452,     0.52553,     0.52653,     0.52753,\n",
       "           0.52853,     0.52953,     0.53053,     0.53153,     0.53253,     0.53353,     0.53453,     0.53554,     0.53654,     0.53754,     0.53854,     0.53954,     0.54054,     0.54154,     0.54254,     0.54354,     0.54454,     0.54555,     0.54655,     0.54755,     0.54855,     0.54955,     0.55055,     0.55155,\n",
       "           0.55255,     0.55355,     0.55455,     0.55556,     0.55656,     0.55756,     0.55856,     0.55956,     0.56056,     0.56156,     0.56256,     0.56356,     0.56456,     0.56557,     0.56657,     0.56757,     0.56857,     0.56957,     0.57057,     0.57157,     0.57257,     0.57357,     0.57457,     0.57558,\n",
       "           0.57658,     0.57758,     0.57858,     0.57958,     0.58058,     0.58158,     0.58258,     0.58358,     0.58458,     0.58559,     0.58659,     0.58759,     0.58859,     0.58959,     0.59059,     0.59159,     0.59259,     0.59359,     0.59459,      0.5956,      0.5966,      0.5976,      0.5986,      0.5996,\n",
       "            0.6006,      0.6016,      0.6026,      0.6036,      0.6046,     0.60561,     0.60661,     0.60761,     0.60861,     0.60961,     0.61061,     0.61161,     0.61261,     0.61361,     0.61461,     0.61562,     0.61662,     0.61762,     0.61862,     0.61962,     0.62062,     0.62162,     0.62262,     0.62362,\n",
       "           0.62462,     0.62563,     0.62663,     0.62763,     0.62863,     0.62963,     0.63063,     0.63163,     0.63263,     0.63363,     0.63463,     0.63564,     0.63664,     0.63764,     0.63864,     0.63964,     0.64064,     0.64164,     0.64264,     0.64364,     0.64464,     0.64565,     0.64665,     0.64765,\n",
       "           0.64865,     0.64965,     0.65065,     0.65165,     0.65265,     0.65365,     0.65465,     0.65566,     0.65666,     0.65766,     0.65866,     0.65966,     0.66066,     0.66166,     0.66266,     0.66366,     0.66466,     0.66567,     0.66667,     0.66767,     0.66867,     0.66967,     0.67067,     0.67167,\n",
       "           0.67267,     0.67367,     0.67467,     0.67568,     0.67668,     0.67768,     0.67868,     0.67968,     0.68068,     0.68168,     0.68268,     0.68368,     0.68468,     0.68569,     0.68669,     0.68769,     0.68869,     0.68969,     0.69069,     0.69169,     0.69269,     0.69369,     0.69469,      0.6957,\n",
       "            0.6967,      0.6977,      0.6987,      0.6997,      0.7007,      0.7017,      0.7027,      0.7037,      0.7047,     0.70571,     0.70671,     0.70771,     0.70871,     0.70971,     0.71071,     0.71171,     0.71271,     0.71371,     0.71471,     0.71572,     0.71672,     0.71772,     0.71872,     0.71972,\n",
       "           0.72072,     0.72172,     0.72272,     0.72372,     0.72472,     0.72573,     0.72673,     0.72773,     0.72873,     0.72973,     0.73073,     0.73173,     0.73273,     0.73373,     0.73473,     0.73574,     0.73674,     0.73774,     0.73874,     0.73974,     0.74074,     0.74174,     0.74274,     0.74374,\n",
       "           0.74474,     0.74575,     0.74675,     0.74775,     0.74875,     0.74975,     0.75075,     0.75175,     0.75275,     0.75375,     0.75475,     0.75576,     0.75676,     0.75776,     0.75876,     0.75976,     0.76076,     0.76176,     0.76276,     0.76376,     0.76476,     0.76577,     0.76677,     0.76777,\n",
       "           0.76877,     0.76977,     0.77077,     0.77177,     0.77277,     0.77377,     0.77477,     0.77578,     0.77678,     0.77778,     0.77878,     0.77978,     0.78078,     0.78178,     0.78278,     0.78378,     0.78478,     0.78579,     0.78679,     0.78779,     0.78879,     0.78979,     0.79079,     0.79179,\n",
       "           0.79279,     0.79379,     0.79479,      0.7958,      0.7968,      0.7978,      0.7988,      0.7998,      0.8008,      0.8018,      0.8028,      0.8038,      0.8048,     0.80581,     0.80681,     0.80781,     0.80881,     0.80981,     0.81081,     0.81181,     0.81281,     0.81381,     0.81481,     0.81582,\n",
       "           0.81682,     0.81782,     0.81882,     0.81982,     0.82082,     0.82182,     0.82282,     0.82382,     0.82482,     0.82583,     0.82683,     0.82783,     0.82883,     0.82983,     0.83083,     0.83183,     0.83283,     0.83383,     0.83483,     0.83584,     0.83684,     0.83784,     0.83884,     0.83984,\n",
       "           0.84084,     0.84184,     0.84284,     0.84384,     0.84484,     0.84585,     0.84685,     0.84785,     0.84885,     0.84985,     0.85085,     0.85185,     0.85285,     0.85385,     0.85485,     0.85586,     0.85686,     0.85786,     0.85886,     0.85986,     0.86086,     0.86186,     0.86286,     0.86386,\n",
       "           0.86486,     0.86587,     0.86687,     0.86787,     0.86887,     0.86987,     0.87087,     0.87187,     0.87287,     0.87387,     0.87487,     0.87588,     0.87688,     0.87788,     0.87888,     0.87988,     0.88088,     0.88188,     0.88288,     0.88388,     0.88488,     0.88589,     0.88689,     0.88789,\n",
       "           0.88889,     0.88989,     0.89089,     0.89189,     0.89289,     0.89389,     0.89489,      0.8959,      0.8969,      0.8979,      0.8989,      0.8999,      0.9009,      0.9019,      0.9029,      0.9039,      0.9049,     0.90591,     0.90691,     0.90791,     0.90891,     0.90991,     0.91091,     0.91191,\n",
       "           0.91291,     0.91391,     0.91491,     0.91592,     0.91692,     0.91792,     0.91892,     0.91992,     0.92092,     0.92192,     0.92292,     0.92392,     0.92492,     0.92593,     0.92693,     0.92793,     0.92893,     0.92993,     0.93093,     0.93193,     0.93293,     0.93393,     0.93493,     0.93594,\n",
       "           0.93694,     0.93794,     0.93894,     0.93994,     0.94094,     0.94194,     0.94294,     0.94394,     0.94494,     0.94595,     0.94695,     0.94795,     0.94895,     0.94995,     0.95095,     0.95195,     0.95295,     0.95395,     0.95495,     0.95596,     0.95696,     0.95796,     0.95896,     0.95996,\n",
       "           0.96096,     0.96196,     0.96296,     0.96396,     0.96496,     0.96597,     0.96697,     0.96797,     0.96897,     0.96997,     0.97097,     0.97197,     0.97297,     0.97397,     0.97497,     0.97598,     0.97698,     0.97798,     0.97898,     0.97998,     0.98098,     0.98198,     0.98298,     0.98398,\n",
       "           0.98498,     0.98599,     0.98699,     0.98799,     0.98899,     0.98999,     0.99099,     0.99199,     0.99299,     0.99399,     0.99499,       0.996,       0.997,       0.998,       0.999,           1]), array([[          1,           1,           1, ...,   0.0012655,  0.00063274,           0],\n",
       "       [          1,           1,           1, ...,    0.061093,    0.061093,           0],\n",
       "       [          1,           1,           1, ...,  0.00031659,   0.0001583,           0],\n",
       "       ...,\n",
       "       [          1,           1,           1, ...,  0.00031183,  0.00015592,           0],\n",
       "       [          1,           1,           1, ...,     0.02008,     0.02008,           0],\n",
       "       [          1,           1,           1, ...,  0.00075514,  0.00037757,           0]]), 'Recall', 'Precision'], [array([          0,    0.001001,    0.002002,    0.003003,    0.004004,    0.005005,    0.006006,    0.007007,    0.008008,    0.009009,     0.01001,    0.011011,    0.012012,    0.013013,    0.014014,    0.015015,    0.016016,    0.017017,    0.018018,    0.019019,     0.02002,    0.021021,    0.022022,    0.023023,\n",
       "          0.024024,    0.025025,    0.026026,    0.027027,    0.028028,    0.029029,     0.03003,    0.031031,    0.032032,    0.033033,    0.034034,    0.035035,    0.036036,    0.037037,    0.038038,    0.039039,     0.04004,    0.041041,    0.042042,    0.043043,    0.044044,    0.045045,    0.046046,    0.047047,\n",
       "          0.048048,    0.049049,     0.05005,    0.051051,    0.052052,    0.053053,    0.054054,    0.055055,    0.056056,    0.057057,    0.058058,    0.059059,     0.06006,    0.061061,    0.062062,    0.063063,    0.064064,    0.065065,    0.066066,    0.067067,    0.068068,    0.069069,     0.07007,    0.071071,\n",
       "          0.072072,    0.073073,    0.074074,    0.075075,    0.076076,    0.077077,    0.078078,    0.079079,     0.08008,    0.081081,    0.082082,    0.083083,    0.084084,    0.085085,    0.086086,    0.087087,    0.088088,    0.089089,     0.09009,    0.091091,    0.092092,    0.093093,    0.094094,    0.095095,\n",
       "          0.096096,    0.097097,    0.098098,    0.099099,      0.1001,      0.1011,      0.1021,      0.1031,      0.1041,     0.10511,     0.10611,     0.10711,     0.10811,     0.10911,     0.11011,     0.11111,     0.11211,     0.11311,     0.11411,     0.11512,     0.11612,     0.11712,     0.11812,     0.11912,\n",
       "           0.12012,     0.12112,     0.12212,     0.12312,     0.12412,     0.12513,     0.12613,     0.12713,     0.12813,     0.12913,     0.13013,     0.13113,     0.13213,     0.13313,     0.13413,     0.13514,     0.13614,     0.13714,     0.13814,     0.13914,     0.14014,     0.14114,     0.14214,     0.14314,\n",
       "           0.14414,     0.14515,     0.14615,     0.14715,     0.14815,     0.14915,     0.15015,     0.15115,     0.15215,     0.15315,     0.15415,     0.15516,     0.15616,     0.15716,     0.15816,     0.15916,     0.16016,     0.16116,     0.16216,     0.16316,     0.16416,     0.16517,     0.16617,     0.16717,\n",
       "           0.16817,     0.16917,     0.17017,     0.17117,     0.17217,     0.17317,     0.17417,     0.17518,     0.17618,     0.17718,     0.17818,     0.17918,     0.18018,     0.18118,     0.18218,     0.18318,     0.18418,     0.18519,     0.18619,     0.18719,     0.18819,     0.18919,     0.19019,     0.19119,\n",
       "           0.19219,     0.19319,     0.19419,      0.1952,      0.1962,      0.1972,      0.1982,      0.1992,      0.2002,      0.2012,      0.2022,      0.2032,      0.2042,     0.20521,     0.20621,     0.20721,     0.20821,     0.20921,     0.21021,     0.21121,     0.21221,     0.21321,     0.21421,     0.21522,\n",
       "           0.21622,     0.21722,     0.21822,     0.21922,     0.22022,     0.22122,     0.22222,     0.22322,     0.22422,     0.22523,     0.22623,     0.22723,     0.22823,     0.22923,     0.23023,     0.23123,     0.23223,     0.23323,     0.23423,     0.23524,     0.23624,     0.23724,     0.23824,     0.23924,\n",
       "           0.24024,     0.24124,     0.24224,     0.24324,     0.24424,     0.24525,     0.24625,     0.24725,     0.24825,     0.24925,     0.25025,     0.25125,     0.25225,     0.25325,     0.25425,     0.25526,     0.25626,     0.25726,     0.25826,     0.25926,     0.26026,     0.26126,     0.26226,     0.26326,\n",
       "           0.26426,     0.26527,     0.26627,     0.26727,     0.26827,     0.26927,     0.27027,     0.27127,     0.27227,     0.27327,     0.27427,     0.27528,     0.27628,     0.27728,     0.27828,     0.27928,     0.28028,     0.28128,     0.28228,     0.28328,     0.28428,     0.28529,     0.28629,     0.28729,\n",
       "           0.28829,     0.28929,     0.29029,     0.29129,     0.29229,     0.29329,     0.29429,      0.2953,      0.2963,      0.2973,      0.2983,      0.2993,      0.3003,      0.3013,      0.3023,      0.3033,      0.3043,     0.30531,     0.30631,     0.30731,     0.30831,     0.30931,     0.31031,     0.31131,\n",
       "           0.31231,     0.31331,     0.31431,     0.31532,     0.31632,     0.31732,     0.31832,     0.31932,     0.32032,     0.32132,     0.32232,     0.32332,     0.32432,     0.32533,     0.32633,     0.32733,     0.32833,     0.32933,     0.33033,     0.33133,     0.33233,     0.33333,     0.33433,     0.33534,\n",
       "           0.33634,     0.33734,     0.33834,     0.33934,     0.34034,     0.34134,     0.34234,     0.34334,     0.34434,     0.34535,     0.34635,     0.34735,     0.34835,     0.34935,     0.35035,     0.35135,     0.35235,     0.35335,     0.35435,     0.35536,     0.35636,     0.35736,     0.35836,     0.35936,\n",
       "           0.36036,     0.36136,     0.36236,     0.36336,     0.36436,     0.36537,     0.36637,     0.36737,     0.36837,     0.36937,     0.37037,     0.37137,     0.37237,     0.37337,     0.37437,     0.37538,     0.37638,     0.37738,     0.37838,     0.37938,     0.38038,     0.38138,     0.38238,     0.38338,\n",
       "           0.38438,     0.38539,     0.38639,     0.38739,     0.38839,     0.38939,     0.39039,     0.39139,     0.39239,     0.39339,     0.39439,      0.3954,      0.3964,      0.3974,      0.3984,      0.3994,      0.4004,      0.4014,      0.4024,      0.4034,      0.4044,     0.40541,     0.40641,     0.40741,\n",
       "           0.40841,     0.40941,     0.41041,     0.41141,     0.41241,     0.41341,     0.41441,     0.41542,     0.41642,     0.41742,     0.41842,     0.41942,     0.42042,     0.42142,     0.42242,     0.42342,     0.42442,     0.42543,     0.42643,     0.42743,     0.42843,     0.42943,     0.43043,     0.43143,\n",
       "           0.43243,     0.43343,     0.43443,     0.43544,     0.43644,     0.43744,     0.43844,     0.43944,     0.44044,     0.44144,     0.44244,     0.44344,     0.44444,     0.44545,     0.44645,     0.44745,     0.44845,     0.44945,     0.45045,     0.45145,     0.45245,     0.45345,     0.45445,     0.45546,\n",
       "           0.45646,     0.45746,     0.45846,     0.45946,     0.46046,     0.46146,     0.46246,     0.46346,     0.46446,     0.46547,     0.46647,     0.46747,     0.46847,     0.46947,     0.47047,     0.47147,     0.47247,     0.47347,     0.47447,     0.47548,     0.47648,     0.47748,     0.47848,     0.47948,\n",
       "           0.48048,     0.48148,     0.48248,     0.48348,     0.48448,     0.48549,     0.48649,     0.48749,     0.48849,     0.48949,     0.49049,     0.49149,     0.49249,     0.49349,     0.49449,      0.4955,      0.4965,      0.4975,      0.4985,      0.4995,      0.5005,      0.5015,      0.5025,      0.5035,\n",
       "            0.5045,     0.50551,     0.50651,     0.50751,     0.50851,     0.50951,     0.51051,     0.51151,     0.51251,     0.51351,     0.51451,     0.51552,     0.51652,     0.51752,     0.51852,     0.51952,     0.52052,     0.52152,     0.52252,     0.52352,     0.52452,     0.52553,     0.52653,     0.52753,\n",
       "           0.52853,     0.52953,     0.53053,     0.53153,     0.53253,     0.53353,     0.53453,     0.53554,     0.53654,     0.53754,     0.53854,     0.53954,     0.54054,     0.54154,     0.54254,     0.54354,     0.54454,     0.54555,     0.54655,     0.54755,     0.54855,     0.54955,     0.55055,     0.55155,\n",
       "           0.55255,     0.55355,     0.55455,     0.55556,     0.55656,     0.55756,     0.55856,     0.55956,     0.56056,     0.56156,     0.56256,     0.56356,     0.56456,     0.56557,     0.56657,     0.56757,     0.56857,     0.56957,     0.57057,     0.57157,     0.57257,     0.57357,     0.57457,     0.57558,\n",
       "           0.57658,     0.57758,     0.57858,     0.57958,     0.58058,     0.58158,     0.58258,     0.58358,     0.58458,     0.58559,     0.58659,     0.58759,     0.58859,     0.58959,     0.59059,     0.59159,     0.59259,     0.59359,     0.59459,      0.5956,      0.5966,      0.5976,      0.5986,      0.5996,\n",
       "            0.6006,      0.6016,      0.6026,      0.6036,      0.6046,     0.60561,     0.60661,     0.60761,     0.60861,     0.60961,     0.61061,     0.61161,     0.61261,     0.61361,     0.61461,     0.61562,     0.61662,     0.61762,     0.61862,     0.61962,     0.62062,     0.62162,     0.62262,     0.62362,\n",
       "           0.62462,     0.62563,     0.62663,     0.62763,     0.62863,     0.62963,     0.63063,     0.63163,     0.63263,     0.63363,     0.63463,     0.63564,     0.63664,     0.63764,     0.63864,     0.63964,     0.64064,     0.64164,     0.64264,     0.64364,     0.64464,     0.64565,     0.64665,     0.64765,\n",
       "           0.64865,     0.64965,     0.65065,     0.65165,     0.65265,     0.65365,     0.65465,     0.65566,     0.65666,     0.65766,     0.65866,     0.65966,     0.66066,     0.66166,     0.66266,     0.66366,     0.66466,     0.66567,     0.66667,     0.66767,     0.66867,     0.66967,     0.67067,     0.67167,\n",
       "           0.67267,     0.67367,     0.67467,     0.67568,     0.67668,     0.67768,     0.67868,     0.67968,     0.68068,     0.68168,     0.68268,     0.68368,     0.68468,     0.68569,     0.68669,     0.68769,     0.68869,     0.68969,     0.69069,     0.69169,     0.69269,     0.69369,     0.69469,      0.6957,\n",
       "            0.6967,      0.6977,      0.6987,      0.6997,      0.7007,      0.7017,      0.7027,      0.7037,      0.7047,     0.70571,     0.70671,     0.70771,     0.70871,     0.70971,     0.71071,     0.71171,     0.71271,     0.71371,     0.71471,     0.71572,     0.71672,     0.71772,     0.71872,     0.71972,\n",
       "           0.72072,     0.72172,     0.72272,     0.72372,     0.72472,     0.72573,     0.72673,     0.72773,     0.72873,     0.72973,     0.73073,     0.73173,     0.73273,     0.73373,     0.73473,     0.73574,     0.73674,     0.73774,     0.73874,     0.73974,     0.74074,     0.74174,     0.74274,     0.74374,\n",
       "           0.74474,     0.74575,     0.74675,     0.74775,     0.74875,     0.74975,     0.75075,     0.75175,     0.75275,     0.75375,     0.75475,     0.75576,     0.75676,     0.75776,     0.75876,     0.75976,     0.76076,     0.76176,     0.76276,     0.76376,     0.76476,     0.76577,     0.76677,     0.76777,\n",
       "           0.76877,     0.76977,     0.77077,     0.77177,     0.77277,     0.77377,     0.77477,     0.77578,     0.77678,     0.77778,     0.77878,     0.77978,     0.78078,     0.78178,     0.78278,     0.78378,     0.78478,     0.78579,     0.78679,     0.78779,     0.78879,     0.78979,     0.79079,     0.79179,\n",
       "           0.79279,     0.79379,     0.79479,      0.7958,      0.7968,      0.7978,      0.7988,      0.7998,      0.8008,      0.8018,      0.8028,      0.8038,      0.8048,     0.80581,     0.80681,     0.80781,     0.80881,     0.80981,     0.81081,     0.81181,     0.81281,     0.81381,     0.81481,     0.81582,\n",
       "           0.81682,     0.81782,     0.81882,     0.81982,     0.82082,     0.82182,     0.82282,     0.82382,     0.82482,     0.82583,     0.82683,     0.82783,     0.82883,     0.82983,     0.83083,     0.83183,     0.83283,     0.83383,     0.83483,     0.83584,     0.83684,     0.83784,     0.83884,     0.83984,\n",
       "           0.84084,     0.84184,     0.84284,     0.84384,     0.84484,     0.84585,     0.84685,     0.84785,     0.84885,     0.84985,     0.85085,     0.85185,     0.85285,     0.85385,     0.85485,     0.85586,     0.85686,     0.85786,     0.85886,     0.85986,     0.86086,     0.86186,     0.86286,     0.86386,\n",
       "           0.86486,     0.86587,     0.86687,     0.86787,     0.86887,     0.86987,     0.87087,     0.87187,     0.87287,     0.87387,     0.87487,     0.87588,     0.87688,     0.87788,     0.87888,     0.87988,     0.88088,     0.88188,     0.88288,     0.88388,     0.88488,     0.88589,     0.88689,     0.88789,\n",
       "           0.88889,     0.88989,     0.89089,     0.89189,     0.89289,     0.89389,     0.89489,      0.8959,      0.8969,      0.8979,      0.8989,      0.8999,      0.9009,      0.9019,      0.9029,      0.9039,      0.9049,     0.90591,     0.90691,     0.90791,     0.90891,     0.90991,     0.91091,     0.91191,\n",
       "           0.91291,     0.91391,     0.91491,     0.91592,     0.91692,     0.91792,     0.91892,     0.91992,     0.92092,     0.92192,     0.92292,     0.92392,     0.92492,     0.92593,     0.92693,     0.92793,     0.92893,     0.92993,     0.93093,     0.93193,     0.93293,     0.93393,     0.93493,     0.93594,\n",
       "           0.93694,     0.93794,     0.93894,     0.93994,     0.94094,     0.94194,     0.94294,     0.94394,     0.94494,     0.94595,     0.94695,     0.94795,     0.94895,     0.94995,     0.95095,     0.95195,     0.95295,     0.95395,     0.95495,     0.95596,     0.95696,     0.95796,     0.95896,     0.95996,\n",
       "           0.96096,     0.96196,     0.96296,     0.96396,     0.96496,     0.96597,     0.96697,     0.96797,     0.96897,     0.96997,     0.97097,     0.97197,     0.97297,     0.97397,     0.97497,     0.97598,     0.97698,     0.97798,     0.97898,     0.97998,     0.98098,     0.98198,     0.98298,     0.98398,\n",
       "           0.98498,     0.98599,     0.98699,     0.98799,     0.98899,     0.98999,     0.99099,     0.99199,     0.99299,     0.99399,     0.99499,       0.996,       0.997,       0.998,       0.999,           1]), array([[   0.083899,    0.083899,      0.1019, ...,           0,           0,           0],\n",
       "       [   0.039707,    0.039707,     0.05921, ...,           0,           0,           0],\n",
       "       [   0.050092,    0.050111,    0.066176, ...,           0,           0,           0],\n",
       "       ...,\n",
       "       [   0.057239,    0.057239,    0.085671, ...,    0.093389,           0,           0],\n",
       "       [   0.031646,    0.031649,    0.039517, ...,           0,           0,           0],\n",
       "       [   0.084864,     0.08487,     0.11573, ...,           0,           0,           0]]), 'Confidence', 'F1'], [array([          0,    0.001001,    0.002002,    0.003003,    0.004004,    0.005005,    0.006006,    0.007007,    0.008008,    0.009009,     0.01001,    0.011011,    0.012012,    0.013013,    0.014014,    0.015015,    0.016016,    0.017017,    0.018018,    0.019019,     0.02002,    0.021021,    0.022022,    0.023023,\n",
       "          0.024024,    0.025025,    0.026026,    0.027027,    0.028028,    0.029029,     0.03003,    0.031031,    0.032032,    0.033033,    0.034034,    0.035035,    0.036036,    0.037037,    0.038038,    0.039039,     0.04004,    0.041041,    0.042042,    0.043043,    0.044044,    0.045045,    0.046046,    0.047047,\n",
       "          0.048048,    0.049049,     0.05005,    0.051051,    0.052052,    0.053053,    0.054054,    0.055055,    0.056056,    0.057057,    0.058058,    0.059059,     0.06006,    0.061061,    0.062062,    0.063063,    0.064064,    0.065065,    0.066066,    0.067067,    0.068068,    0.069069,     0.07007,    0.071071,\n",
       "          0.072072,    0.073073,    0.074074,    0.075075,    0.076076,    0.077077,    0.078078,    0.079079,     0.08008,    0.081081,    0.082082,    0.083083,    0.084084,    0.085085,    0.086086,    0.087087,    0.088088,    0.089089,     0.09009,    0.091091,    0.092092,    0.093093,    0.094094,    0.095095,\n",
       "          0.096096,    0.097097,    0.098098,    0.099099,      0.1001,      0.1011,      0.1021,      0.1031,      0.1041,     0.10511,     0.10611,     0.10711,     0.10811,     0.10911,     0.11011,     0.11111,     0.11211,     0.11311,     0.11411,     0.11512,     0.11612,     0.11712,     0.11812,     0.11912,\n",
       "           0.12012,     0.12112,     0.12212,     0.12312,     0.12412,     0.12513,     0.12613,     0.12713,     0.12813,     0.12913,     0.13013,     0.13113,     0.13213,     0.13313,     0.13413,     0.13514,     0.13614,     0.13714,     0.13814,     0.13914,     0.14014,     0.14114,     0.14214,     0.14314,\n",
       "           0.14414,     0.14515,     0.14615,     0.14715,     0.14815,     0.14915,     0.15015,     0.15115,     0.15215,     0.15315,     0.15415,     0.15516,     0.15616,     0.15716,     0.15816,     0.15916,     0.16016,     0.16116,     0.16216,     0.16316,     0.16416,     0.16517,     0.16617,     0.16717,\n",
       "           0.16817,     0.16917,     0.17017,     0.17117,     0.17217,     0.17317,     0.17417,     0.17518,     0.17618,     0.17718,     0.17818,     0.17918,     0.18018,     0.18118,     0.18218,     0.18318,     0.18418,     0.18519,     0.18619,     0.18719,     0.18819,     0.18919,     0.19019,     0.19119,\n",
       "           0.19219,     0.19319,     0.19419,      0.1952,      0.1962,      0.1972,      0.1982,      0.1992,      0.2002,      0.2012,      0.2022,      0.2032,      0.2042,     0.20521,     0.20621,     0.20721,     0.20821,     0.20921,     0.21021,     0.21121,     0.21221,     0.21321,     0.21421,     0.21522,\n",
       "           0.21622,     0.21722,     0.21822,     0.21922,     0.22022,     0.22122,     0.22222,     0.22322,     0.22422,     0.22523,     0.22623,     0.22723,     0.22823,     0.22923,     0.23023,     0.23123,     0.23223,     0.23323,     0.23423,     0.23524,     0.23624,     0.23724,     0.23824,     0.23924,\n",
       "           0.24024,     0.24124,     0.24224,     0.24324,     0.24424,     0.24525,     0.24625,     0.24725,     0.24825,     0.24925,     0.25025,     0.25125,     0.25225,     0.25325,     0.25425,     0.25526,     0.25626,     0.25726,     0.25826,     0.25926,     0.26026,     0.26126,     0.26226,     0.26326,\n",
       "           0.26426,     0.26527,     0.26627,     0.26727,     0.26827,     0.26927,     0.27027,     0.27127,     0.27227,     0.27327,     0.27427,     0.27528,     0.27628,     0.27728,     0.27828,     0.27928,     0.28028,     0.28128,     0.28228,     0.28328,     0.28428,     0.28529,     0.28629,     0.28729,\n",
       "           0.28829,     0.28929,     0.29029,     0.29129,     0.29229,     0.29329,     0.29429,      0.2953,      0.2963,      0.2973,      0.2983,      0.2993,      0.3003,      0.3013,      0.3023,      0.3033,      0.3043,     0.30531,     0.30631,     0.30731,     0.30831,     0.30931,     0.31031,     0.31131,\n",
       "           0.31231,     0.31331,     0.31431,     0.31532,     0.31632,     0.31732,     0.31832,     0.31932,     0.32032,     0.32132,     0.32232,     0.32332,     0.32432,     0.32533,     0.32633,     0.32733,     0.32833,     0.32933,     0.33033,     0.33133,     0.33233,     0.33333,     0.33433,     0.33534,\n",
       "           0.33634,     0.33734,     0.33834,     0.33934,     0.34034,     0.34134,     0.34234,     0.34334,     0.34434,     0.34535,     0.34635,     0.34735,     0.34835,     0.34935,     0.35035,     0.35135,     0.35235,     0.35335,     0.35435,     0.35536,     0.35636,     0.35736,     0.35836,     0.35936,\n",
       "           0.36036,     0.36136,     0.36236,     0.36336,     0.36436,     0.36537,     0.36637,     0.36737,     0.36837,     0.36937,     0.37037,     0.37137,     0.37237,     0.37337,     0.37437,     0.37538,     0.37638,     0.37738,     0.37838,     0.37938,     0.38038,     0.38138,     0.38238,     0.38338,\n",
       "           0.38438,     0.38539,     0.38639,     0.38739,     0.38839,     0.38939,     0.39039,     0.39139,     0.39239,     0.39339,     0.39439,      0.3954,      0.3964,      0.3974,      0.3984,      0.3994,      0.4004,      0.4014,      0.4024,      0.4034,      0.4044,     0.40541,     0.40641,     0.40741,\n",
       "           0.40841,     0.40941,     0.41041,     0.41141,     0.41241,     0.41341,     0.41441,     0.41542,     0.41642,     0.41742,     0.41842,     0.41942,     0.42042,     0.42142,     0.42242,     0.42342,     0.42442,     0.42543,     0.42643,     0.42743,     0.42843,     0.42943,     0.43043,     0.43143,\n",
       "           0.43243,     0.43343,     0.43443,     0.43544,     0.43644,     0.43744,     0.43844,     0.43944,     0.44044,     0.44144,     0.44244,     0.44344,     0.44444,     0.44545,     0.44645,     0.44745,     0.44845,     0.44945,     0.45045,     0.45145,     0.45245,     0.45345,     0.45445,     0.45546,\n",
       "           0.45646,     0.45746,     0.45846,     0.45946,     0.46046,     0.46146,     0.46246,     0.46346,     0.46446,     0.46547,     0.46647,     0.46747,     0.46847,     0.46947,     0.47047,     0.47147,     0.47247,     0.47347,     0.47447,     0.47548,     0.47648,     0.47748,     0.47848,     0.47948,\n",
       "           0.48048,     0.48148,     0.48248,     0.48348,     0.48448,     0.48549,     0.48649,     0.48749,     0.48849,     0.48949,     0.49049,     0.49149,     0.49249,     0.49349,     0.49449,      0.4955,      0.4965,      0.4975,      0.4985,      0.4995,      0.5005,      0.5015,      0.5025,      0.5035,\n",
       "            0.5045,     0.50551,     0.50651,     0.50751,     0.50851,     0.50951,     0.51051,     0.51151,     0.51251,     0.51351,     0.51451,     0.51552,     0.51652,     0.51752,     0.51852,     0.51952,     0.52052,     0.52152,     0.52252,     0.52352,     0.52452,     0.52553,     0.52653,     0.52753,\n",
       "           0.52853,     0.52953,     0.53053,     0.53153,     0.53253,     0.53353,     0.53453,     0.53554,     0.53654,     0.53754,     0.53854,     0.53954,     0.54054,     0.54154,     0.54254,     0.54354,     0.54454,     0.54555,     0.54655,     0.54755,     0.54855,     0.54955,     0.55055,     0.55155,\n",
       "           0.55255,     0.55355,     0.55455,     0.55556,     0.55656,     0.55756,     0.55856,     0.55956,     0.56056,     0.56156,     0.56256,     0.56356,     0.56456,     0.56557,     0.56657,     0.56757,     0.56857,     0.56957,     0.57057,     0.57157,     0.57257,     0.57357,     0.57457,     0.57558,\n",
       "           0.57658,     0.57758,     0.57858,     0.57958,     0.58058,     0.58158,     0.58258,     0.58358,     0.58458,     0.58559,     0.58659,     0.58759,     0.58859,     0.58959,     0.59059,     0.59159,     0.59259,     0.59359,     0.59459,      0.5956,      0.5966,      0.5976,      0.5986,      0.5996,\n",
       "            0.6006,      0.6016,      0.6026,      0.6036,      0.6046,     0.60561,     0.60661,     0.60761,     0.60861,     0.60961,     0.61061,     0.61161,     0.61261,     0.61361,     0.61461,     0.61562,     0.61662,     0.61762,     0.61862,     0.61962,     0.62062,     0.62162,     0.62262,     0.62362,\n",
       "           0.62462,     0.62563,     0.62663,     0.62763,     0.62863,     0.62963,     0.63063,     0.63163,     0.63263,     0.63363,     0.63463,     0.63564,     0.63664,     0.63764,     0.63864,     0.63964,     0.64064,     0.64164,     0.64264,     0.64364,     0.64464,     0.64565,     0.64665,     0.64765,\n",
       "           0.64865,     0.64965,     0.65065,     0.65165,     0.65265,     0.65365,     0.65465,     0.65566,     0.65666,     0.65766,     0.65866,     0.65966,     0.66066,     0.66166,     0.66266,     0.66366,     0.66466,     0.66567,     0.66667,     0.66767,     0.66867,     0.66967,     0.67067,     0.67167,\n",
       "           0.67267,     0.67367,     0.67467,     0.67568,     0.67668,     0.67768,     0.67868,     0.67968,     0.68068,     0.68168,     0.68268,     0.68368,     0.68468,     0.68569,     0.68669,     0.68769,     0.68869,     0.68969,     0.69069,     0.69169,     0.69269,     0.69369,     0.69469,      0.6957,\n",
       "            0.6967,      0.6977,      0.6987,      0.6997,      0.7007,      0.7017,      0.7027,      0.7037,      0.7047,     0.70571,     0.70671,     0.70771,     0.70871,     0.70971,     0.71071,     0.71171,     0.71271,     0.71371,     0.71471,     0.71572,     0.71672,     0.71772,     0.71872,     0.71972,\n",
       "           0.72072,     0.72172,     0.72272,     0.72372,     0.72472,     0.72573,     0.72673,     0.72773,     0.72873,     0.72973,     0.73073,     0.73173,     0.73273,     0.73373,     0.73473,     0.73574,     0.73674,     0.73774,     0.73874,     0.73974,     0.74074,     0.74174,     0.74274,     0.74374,\n",
       "           0.74474,     0.74575,     0.74675,     0.74775,     0.74875,     0.74975,     0.75075,     0.75175,     0.75275,     0.75375,     0.75475,     0.75576,     0.75676,     0.75776,     0.75876,     0.75976,     0.76076,     0.76176,     0.76276,     0.76376,     0.76476,     0.76577,     0.76677,     0.76777,\n",
       "           0.76877,     0.76977,     0.77077,     0.77177,     0.77277,     0.77377,     0.77477,     0.77578,     0.77678,     0.77778,     0.77878,     0.77978,     0.78078,     0.78178,     0.78278,     0.78378,     0.78478,     0.78579,     0.78679,     0.78779,     0.78879,     0.78979,     0.79079,     0.79179,\n",
       "           0.79279,     0.79379,     0.79479,      0.7958,      0.7968,      0.7978,      0.7988,      0.7998,      0.8008,      0.8018,      0.8028,      0.8038,      0.8048,     0.80581,     0.80681,     0.80781,     0.80881,     0.80981,     0.81081,     0.81181,     0.81281,     0.81381,     0.81481,     0.81582,\n",
       "           0.81682,     0.81782,     0.81882,     0.81982,     0.82082,     0.82182,     0.82282,     0.82382,     0.82482,     0.82583,     0.82683,     0.82783,     0.82883,     0.82983,     0.83083,     0.83183,     0.83283,     0.83383,     0.83483,     0.83584,     0.83684,     0.83784,     0.83884,     0.83984,\n",
       "           0.84084,     0.84184,     0.84284,     0.84384,     0.84484,     0.84585,     0.84685,     0.84785,     0.84885,     0.84985,     0.85085,     0.85185,     0.85285,     0.85385,     0.85485,     0.85586,     0.85686,     0.85786,     0.85886,     0.85986,     0.86086,     0.86186,     0.86286,     0.86386,\n",
       "           0.86486,     0.86587,     0.86687,     0.86787,     0.86887,     0.86987,     0.87087,     0.87187,     0.87287,     0.87387,     0.87487,     0.87588,     0.87688,     0.87788,     0.87888,     0.87988,     0.88088,     0.88188,     0.88288,     0.88388,     0.88488,     0.88589,     0.88689,     0.88789,\n",
       "           0.88889,     0.88989,     0.89089,     0.89189,     0.89289,     0.89389,     0.89489,      0.8959,      0.8969,      0.8979,      0.8989,      0.8999,      0.9009,      0.9019,      0.9029,      0.9039,      0.9049,     0.90591,     0.90691,     0.90791,     0.90891,     0.90991,     0.91091,     0.91191,\n",
       "           0.91291,     0.91391,     0.91491,     0.91592,     0.91692,     0.91792,     0.91892,     0.91992,     0.92092,     0.92192,     0.92292,     0.92392,     0.92492,     0.92593,     0.92693,     0.92793,     0.92893,     0.92993,     0.93093,     0.93193,     0.93293,     0.93393,     0.93493,     0.93594,\n",
       "           0.93694,     0.93794,     0.93894,     0.93994,     0.94094,     0.94194,     0.94294,     0.94394,     0.94494,     0.94595,     0.94695,     0.94795,     0.94895,     0.94995,     0.95095,     0.95195,     0.95295,     0.95395,     0.95495,     0.95596,     0.95696,     0.95796,     0.95896,     0.95996,\n",
       "           0.96096,     0.96196,     0.96296,     0.96396,     0.96496,     0.96597,     0.96697,     0.96797,     0.96897,     0.96997,     0.97097,     0.97197,     0.97297,     0.97397,     0.97497,     0.97598,     0.97698,     0.97798,     0.97898,     0.97998,     0.98098,     0.98198,     0.98298,     0.98398,\n",
       "           0.98498,     0.98599,     0.98699,     0.98799,     0.98899,     0.98999,     0.99099,     0.99199,     0.99299,     0.99399,     0.99499,       0.996,       0.997,       0.998,       0.999,           1]), array([[    0.04393,     0.04393,      0.0539, ...,           1,           1,           1],\n",
       "       [   0.020256,    0.020256,    0.030508, ...,           1,           1,           1],\n",
       "       [   0.025819,    0.025829,    0.034563, ...,           1,           1,           1],\n",
       "       ...,\n",
       "       [   0.029668,    0.029668,    0.045387, ...,           1,           1,           1],\n",
       "       [   0.016077,    0.016079,    0.020259, ...,           1,           1,           1],\n",
       "       [   0.044577,     0.04458,    0.061926, ...,           1,           1,           1]]), 'Confidence', 'Precision'], [array([          0,    0.001001,    0.002002,    0.003003,    0.004004,    0.005005,    0.006006,    0.007007,    0.008008,    0.009009,     0.01001,    0.011011,    0.012012,    0.013013,    0.014014,    0.015015,    0.016016,    0.017017,    0.018018,    0.019019,     0.02002,    0.021021,    0.022022,    0.023023,\n",
       "          0.024024,    0.025025,    0.026026,    0.027027,    0.028028,    0.029029,     0.03003,    0.031031,    0.032032,    0.033033,    0.034034,    0.035035,    0.036036,    0.037037,    0.038038,    0.039039,     0.04004,    0.041041,    0.042042,    0.043043,    0.044044,    0.045045,    0.046046,    0.047047,\n",
       "          0.048048,    0.049049,     0.05005,    0.051051,    0.052052,    0.053053,    0.054054,    0.055055,    0.056056,    0.057057,    0.058058,    0.059059,     0.06006,    0.061061,    0.062062,    0.063063,    0.064064,    0.065065,    0.066066,    0.067067,    0.068068,    0.069069,     0.07007,    0.071071,\n",
       "          0.072072,    0.073073,    0.074074,    0.075075,    0.076076,    0.077077,    0.078078,    0.079079,     0.08008,    0.081081,    0.082082,    0.083083,    0.084084,    0.085085,    0.086086,    0.087087,    0.088088,    0.089089,     0.09009,    0.091091,    0.092092,    0.093093,    0.094094,    0.095095,\n",
       "          0.096096,    0.097097,    0.098098,    0.099099,      0.1001,      0.1011,      0.1021,      0.1031,      0.1041,     0.10511,     0.10611,     0.10711,     0.10811,     0.10911,     0.11011,     0.11111,     0.11211,     0.11311,     0.11411,     0.11512,     0.11612,     0.11712,     0.11812,     0.11912,\n",
       "           0.12012,     0.12112,     0.12212,     0.12312,     0.12412,     0.12513,     0.12613,     0.12713,     0.12813,     0.12913,     0.13013,     0.13113,     0.13213,     0.13313,     0.13413,     0.13514,     0.13614,     0.13714,     0.13814,     0.13914,     0.14014,     0.14114,     0.14214,     0.14314,\n",
       "           0.14414,     0.14515,     0.14615,     0.14715,     0.14815,     0.14915,     0.15015,     0.15115,     0.15215,     0.15315,     0.15415,     0.15516,     0.15616,     0.15716,     0.15816,     0.15916,     0.16016,     0.16116,     0.16216,     0.16316,     0.16416,     0.16517,     0.16617,     0.16717,\n",
       "           0.16817,     0.16917,     0.17017,     0.17117,     0.17217,     0.17317,     0.17417,     0.17518,     0.17618,     0.17718,     0.17818,     0.17918,     0.18018,     0.18118,     0.18218,     0.18318,     0.18418,     0.18519,     0.18619,     0.18719,     0.18819,     0.18919,     0.19019,     0.19119,\n",
       "           0.19219,     0.19319,     0.19419,      0.1952,      0.1962,      0.1972,      0.1982,      0.1992,      0.2002,      0.2012,      0.2022,      0.2032,      0.2042,     0.20521,     0.20621,     0.20721,     0.20821,     0.20921,     0.21021,     0.21121,     0.21221,     0.21321,     0.21421,     0.21522,\n",
       "           0.21622,     0.21722,     0.21822,     0.21922,     0.22022,     0.22122,     0.22222,     0.22322,     0.22422,     0.22523,     0.22623,     0.22723,     0.22823,     0.22923,     0.23023,     0.23123,     0.23223,     0.23323,     0.23423,     0.23524,     0.23624,     0.23724,     0.23824,     0.23924,\n",
       "           0.24024,     0.24124,     0.24224,     0.24324,     0.24424,     0.24525,     0.24625,     0.24725,     0.24825,     0.24925,     0.25025,     0.25125,     0.25225,     0.25325,     0.25425,     0.25526,     0.25626,     0.25726,     0.25826,     0.25926,     0.26026,     0.26126,     0.26226,     0.26326,\n",
       "           0.26426,     0.26527,     0.26627,     0.26727,     0.26827,     0.26927,     0.27027,     0.27127,     0.27227,     0.27327,     0.27427,     0.27528,     0.27628,     0.27728,     0.27828,     0.27928,     0.28028,     0.28128,     0.28228,     0.28328,     0.28428,     0.28529,     0.28629,     0.28729,\n",
       "           0.28829,     0.28929,     0.29029,     0.29129,     0.29229,     0.29329,     0.29429,      0.2953,      0.2963,      0.2973,      0.2983,      0.2993,      0.3003,      0.3013,      0.3023,      0.3033,      0.3043,     0.30531,     0.30631,     0.30731,     0.30831,     0.30931,     0.31031,     0.31131,\n",
       "           0.31231,     0.31331,     0.31431,     0.31532,     0.31632,     0.31732,     0.31832,     0.31932,     0.32032,     0.32132,     0.32232,     0.32332,     0.32432,     0.32533,     0.32633,     0.32733,     0.32833,     0.32933,     0.33033,     0.33133,     0.33233,     0.33333,     0.33433,     0.33534,\n",
       "           0.33634,     0.33734,     0.33834,     0.33934,     0.34034,     0.34134,     0.34234,     0.34334,     0.34434,     0.34535,     0.34635,     0.34735,     0.34835,     0.34935,     0.35035,     0.35135,     0.35235,     0.35335,     0.35435,     0.35536,     0.35636,     0.35736,     0.35836,     0.35936,\n",
       "           0.36036,     0.36136,     0.36236,     0.36336,     0.36436,     0.36537,     0.36637,     0.36737,     0.36837,     0.36937,     0.37037,     0.37137,     0.37237,     0.37337,     0.37437,     0.37538,     0.37638,     0.37738,     0.37838,     0.37938,     0.38038,     0.38138,     0.38238,     0.38338,\n",
       "           0.38438,     0.38539,     0.38639,     0.38739,     0.38839,     0.38939,     0.39039,     0.39139,     0.39239,     0.39339,     0.39439,      0.3954,      0.3964,      0.3974,      0.3984,      0.3994,      0.4004,      0.4014,      0.4024,      0.4034,      0.4044,     0.40541,     0.40641,     0.40741,\n",
       "           0.40841,     0.40941,     0.41041,     0.41141,     0.41241,     0.41341,     0.41441,     0.41542,     0.41642,     0.41742,     0.41842,     0.41942,     0.42042,     0.42142,     0.42242,     0.42342,     0.42442,     0.42543,     0.42643,     0.42743,     0.42843,     0.42943,     0.43043,     0.43143,\n",
       "           0.43243,     0.43343,     0.43443,     0.43544,     0.43644,     0.43744,     0.43844,     0.43944,     0.44044,     0.44144,     0.44244,     0.44344,     0.44444,     0.44545,     0.44645,     0.44745,     0.44845,     0.44945,     0.45045,     0.45145,     0.45245,     0.45345,     0.45445,     0.45546,\n",
       "           0.45646,     0.45746,     0.45846,     0.45946,     0.46046,     0.46146,     0.46246,     0.46346,     0.46446,     0.46547,     0.46647,     0.46747,     0.46847,     0.46947,     0.47047,     0.47147,     0.47247,     0.47347,     0.47447,     0.47548,     0.47648,     0.47748,     0.47848,     0.47948,\n",
       "           0.48048,     0.48148,     0.48248,     0.48348,     0.48448,     0.48549,     0.48649,     0.48749,     0.48849,     0.48949,     0.49049,     0.49149,     0.49249,     0.49349,     0.49449,      0.4955,      0.4965,      0.4975,      0.4985,      0.4995,      0.5005,      0.5015,      0.5025,      0.5035,\n",
       "            0.5045,     0.50551,     0.50651,     0.50751,     0.50851,     0.50951,     0.51051,     0.51151,     0.51251,     0.51351,     0.51451,     0.51552,     0.51652,     0.51752,     0.51852,     0.51952,     0.52052,     0.52152,     0.52252,     0.52352,     0.52452,     0.52553,     0.52653,     0.52753,\n",
       "           0.52853,     0.52953,     0.53053,     0.53153,     0.53253,     0.53353,     0.53453,     0.53554,     0.53654,     0.53754,     0.53854,     0.53954,     0.54054,     0.54154,     0.54254,     0.54354,     0.54454,     0.54555,     0.54655,     0.54755,     0.54855,     0.54955,     0.55055,     0.55155,\n",
       "           0.55255,     0.55355,     0.55455,     0.55556,     0.55656,     0.55756,     0.55856,     0.55956,     0.56056,     0.56156,     0.56256,     0.56356,     0.56456,     0.56557,     0.56657,     0.56757,     0.56857,     0.56957,     0.57057,     0.57157,     0.57257,     0.57357,     0.57457,     0.57558,\n",
       "           0.57658,     0.57758,     0.57858,     0.57958,     0.58058,     0.58158,     0.58258,     0.58358,     0.58458,     0.58559,     0.58659,     0.58759,     0.58859,     0.58959,     0.59059,     0.59159,     0.59259,     0.59359,     0.59459,      0.5956,      0.5966,      0.5976,      0.5986,      0.5996,\n",
       "            0.6006,      0.6016,      0.6026,      0.6036,      0.6046,     0.60561,     0.60661,     0.60761,     0.60861,     0.60961,     0.61061,     0.61161,     0.61261,     0.61361,     0.61461,     0.61562,     0.61662,     0.61762,     0.61862,     0.61962,     0.62062,     0.62162,     0.62262,     0.62362,\n",
       "           0.62462,     0.62563,     0.62663,     0.62763,     0.62863,     0.62963,     0.63063,     0.63163,     0.63263,     0.63363,     0.63463,     0.63564,     0.63664,     0.63764,     0.63864,     0.63964,     0.64064,     0.64164,     0.64264,     0.64364,     0.64464,     0.64565,     0.64665,     0.64765,\n",
       "           0.64865,     0.64965,     0.65065,     0.65165,     0.65265,     0.65365,     0.65465,     0.65566,     0.65666,     0.65766,     0.65866,     0.65966,     0.66066,     0.66166,     0.66266,     0.66366,     0.66466,     0.66567,     0.66667,     0.66767,     0.66867,     0.66967,     0.67067,     0.67167,\n",
       "           0.67267,     0.67367,     0.67467,     0.67568,     0.67668,     0.67768,     0.67868,     0.67968,     0.68068,     0.68168,     0.68268,     0.68368,     0.68468,     0.68569,     0.68669,     0.68769,     0.68869,     0.68969,     0.69069,     0.69169,     0.69269,     0.69369,     0.69469,      0.6957,\n",
       "            0.6967,      0.6977,      0.6987,      0.6997,      0.7007,      0.7017,      0.7027,      0.7037,      0.7047,     0.70571,     0.70671,     0.70771,     0.70871,     0.70971,     0.71071,     0.71171,     0.71271,     0.71371,     0.71471,     0.71572,     0.71672,     0.71772,     0.71872,     0.71972,\n",
       "           0.72072,     0.72172,     0.72272,     0.72372,     0.72472,     0.72573,     0.72673,     0.72773,     0.72873,     0.72973,     0.73073,     0.73173,     0.73273,     0.73373,     0.73473,     0.73574,     0.73674,     0.73774,     0.73874,     0.73974,     0.74074,     0.74174,     0.74274,     0.74374,\n",
       "           0.74474,     0.74575,     0.74675,     0.74775,     0.74875,     0.74975,     0.75075,     0.75175,     0.75275,     0.75375,     0.75475,     0.75576,     0.75676,     0.75776,     0.75876,     0.75976,     0.76076,     0.76176,     0.76276,     0.76376,     0.76476,     0.76577,     0.76677,     0.76777,\n",
       "           0.76877,     0.76977,     0.77077,     0.77177,     0.77277,     0.77377,     0.77477,     0.77578,     0.77678,     0.77778,     0.77878,     0.77978,     0.78078,     0.78178,     0.78278,     0.78378,     0.78478,     0.78579,     0.78679,     0.78779,     0.78879,     0.78979,     0.79079,     0.79179,\n",
       "           0.79279,     0.79379,     0.79479,      0.7958,      0.7968,      0.7978,      0.7988,      0.7998,      0.8008,      0.8018,      0.8028,      0.8038,      0.8048,     0.80581,     0.80681,     0.80781,     0.80881,     0.80981,     0.81081,     0.81181,     0.81281,     0.81381,     0.81481,     0.81582,\n",
       "           0.81682,     0.81782,     0.81882,     0.81982,     0.82082,     0.82182,     0.82282,     0.82382,     0.82482,     0.82583,     0.82683,     0.82783,     0.82883,     0.82983,     0.83083,     0.83183,     0.83283,     0.83383,     0.83483,     0.83584,     0.83684,     0.83784,     0.83884,     0.83984,\n",
       "           0.84084,     0.84184,     0.84284,     0.84384,     0.84484,     0.84585,     0.84685,     0.84785,     0.84885,     0.84985,     0.85085,     0.85185,     0.85285,     0.85385,     0.85485,     0.85586,     0.85686,     0.85786,     0.85886,     0.85986,     0.86086,     0.86186,     0.86286,     0.86386,\n",
       "           0.86486,     0.86587,     0.86687,     0.86787,     0.86887,     0.86987,     0.87087,     0.87187,     0.87287,     0.87387,     0.87487,     0.87588,     0.87688,     0.87788,     0.87888,     0.87988,     0.88088,     0.88188,     0.88288,     0.88388,     0.88488,     0.88589,     0.88689,     0.88789,\n",
       "           0.88889,     0.88989,     0.89089,     0.89189,     0.89289,     0.89389,     0.89489,      0.8959,      0.8969,      0.8979,      0.8989,      0.8999,      0.9009,      0.9019,      0.9029,      0.9039,      0.9049,     0.90591,     0.90691,     0.90791,     0.90891,     0.90991,     0.91091,     0.91191,\n",
       "           0.91291,     0.91391,     0.91491,     0.91592,     0.91692,     0.91792,     0.91892,     0.91992,     0.92092,     0.92192,     0.92292,     0.92392,     0.92492,     0.92593,     0.92693,     0.92793,     0.92893,     0.92993,     0.93093,     0.93193,     0.93293,     0.93393,     0.93493,     0.93594,\n",
       "           0.93694,     0.93794,     0.93894,     0.93994,     0.94094,     0.94194,     0.94294,     0.94394,     0.94494,     0.94595,     0.94695,     0.94795,     0.94895,     0.94995,     0.95095,     0.95195,     0.95295,     0.95395,     0.95495,     0.95596,     0.95696,     0.95796,     0.95896,     0.95996,\n",
       "           0.96096,     0.96196,     0.96296,     0.96396,     0.96496,     0.96597,     0.96697,     0.96797,     0.96897,     0.96997,     0.97097,     0.97197,     0.97297,     0.97397,     0.97497,     0.97598,     0.97698,     0.97798,     0.97898,     0.97998,     0.98098,     0.98198,     0.98298,     0.98398,\n",
       "           0.98498,     0.98599,     0.98699,     0.98799,     0.98899,     0.98999,     0.99099,     0.99199,     0.99299,     0.99399,     0.99499,       0.996,       0.997,       0.998,       0.999,           1]), array([[     0.9305,      0.9305,      0.9305, ...,           0,           0,           0],\n",
       "       [          1,           1,           1, ...,           0,           0,           0],\n",
       "       [    0.83673,     0.83673,     0.77551, ...,           0,           0,           0],\n",
       "       ...,\n",
       "       [    0.80952,     0.80952,      0.7619, ...,    0.048982,           0,           0],\n",
       "       [          1,           1,         0.8, ...,           0,           0,           0],\n",
       "       [    0.88182,     0.88182,     0.88182, ...,           0,           0,           0]]), 'Confidence', 'Recall']]\n",
       "fitness: 0.5315282491901879\n",
       "keys: ['metrics/precision(B)', 'metrics/recall(B)', 'metrics/mAP50(B)', 'metrics/mAP50-95(B)']\n",
       "maps: array([    0.46979,     0.38422,     0.21764,      0.5387,     0.61585,     0.36255,     0.83852,     0.58174,     0.34783,     0.58993,     0.60551,     0.74605,     0.38141,     0.61647,     0.51089,      0.5618,     0.51089,     0.76481,     0.57449,     0.54408,     0.82734,      0.6875,     0.51089,     0.19983,\n",
       "           0.51089,     0.32747,     0.51089,     0.27998,       0.592,      0.8955,     0.65969,      0.2514,     0.51089,     0.59624,     0.51089,     0.51089,     0.43214,     0.51089,     0.67618,     0.66995,     0.56415,     0.67125,     0.71847,     0.57417,           0,     0.51089,     0.51089,     0.37725,\n",
       "           0.10222,     0.51089,     0.63571,     0.44108,      0.3678,      0.3025,     0.65715,     0.51089,     0.67946,     0.51089,     0.51089,     0.51089,     0.70046,     0.50878,      0.6664,           0,     0.51089,      0.1771,     0.51089,     0.51089,     0.44961,     0.28218,     0.51089,           0,\n",
       "           0.67491,     0.51089,     0.75388,     0.51089,           0,     0.51089,     0.51089,     0.69994,     0.53647,     0.51089,       0.757,     0.30208,     0.60728,     0.76948,     0.72086,           0,     0.72292,     0.74479,     0.68883,     0.51089,     0.58223,     0.48543,     0.54182,     0.50917,\n",
       "           0.51153,     0.51204,     0.51089,     0.46228,     0.51089])\n",
       "names: {0: 'apple', 1: 'asparagus', 2: 'avocado', 3: 'banana', 4: 'beef', 5: 'bell_pepper', 6: 'bento', 7: 'blueberries', 8: 'bottle', 9: 'bread', 10: 'broccoli', 11: 'butter', 12: 'can', 13: 'carrot', 14: 'cauliflower', 15: 'cheese', 16: 'cherry', 17: 'chicken', 18: 'chicken_breast', 19: 'chocolate', 20: 'coffee', 21: 'corn', 22: 'cream-cheese', 23: 'cucumber', 24: 'dates', 25: 'egg', 26: 'eggplant', 27: 'eggs', 28: 'energy_drink', 29: 'fish', 30: 'flour', 31: 'garlic', 32: 'ginger', 33: 'goat_cheese', 34: 'grapefruit', 35: 'grapes', 36: 'grated_cheese', 37: 'green-chillies', 38: 'green_beans', 39: 'ground_beef', 40: 'guacamole', 41: 'ham', 42: 'heavy_cream', 43: 'humus', 44: 'juice', 45: 'ketchup', 46: 'kiwi', 47: 'leek', 48: 'lemon', 49: 'lettuce', 50: 'lime', 51: 'mango', 52: 'marmelade', 53: 'mayonaise', 54: 'milk', 55: 'mint', 56: 'mushrooms', 57: 'mustard', 58: 'nuts', 59: 'olives', 60: 'onion', 61: 'orange', 62: 'pak_choi', 63: 'parsley', 64: 'peach', 65: 'pear', 66: 'peas', 67: 'pickles', 68: 'pineapple', 69: 'plasticsaveholder', 70: 'pomegrante', 71: 'pot', 72: 'potato', 73: 'potatoes', 74: 'pudding', 75: 'radish', 76: 'red_cabbage', 77: 'red_grapes', 78: 'red_onion', 79: 'rice_ball', 80: 'salad', 81: 'salami', 82: 'sandwich', 83: 'sausage', 84: 'shrimp', 85: 'smoothie', 86: 'spinach', 87: 'spring_onion', 88: 'strawberries', 89: 'sugar', 90: 'sweet_potato', 91: 'tangerine', 92: 'tea_a', 93: 'tea_i', 94: 'tomato', 95: 'tomato_sauce', 96: 'tortillas', 97: 'turkey', 98: 'watermelon', 99: 'yogurt', 100: 'zucchini'}\n",
       "plot: True\n",
       "results_dict: {'metrics/precision(B)': 0.7459113412800934, 'metrics/recall(B)': 0.6985424361290836, 'metrics/mAP50(B)': 0.7172357187288646, 'metrics/mAP50-95(B)': 0.5108940859081127, 'fitness': 0.5315282491901879}\n",
       "save_dir: PosixPath('runs/detect/train2')\n",
       "speed: {'preprocess': 1.2620912256465617, 'inference': 315.241920024859, 'loss': 0.0001384754373569681, 'postprocess': 2.1846739932744192}\n",
       "task: 'detect'"
      ]
     },
     "execution_count": 2,
     "metadata": {},
     "output_type": "execute_result"
    }
   ],
   "source": [
    "model.train(data='/Users/trangttdang/Downloads/food_data_1/data.yaml', epochs=50, imgsz=640)"
   ]
  },
  {
   "cell_type": "code",
   "execution_count": 3,
   "metadata": {},
   "outputs": [],
   "source": [
    "food_model = YOLO('./runs/detect/train2/weights/best.pt')"
   ]
  },
  {
   "cell_type": "code",
   "execution_count": 4,
   "metadata": {},
   "outputs": [
    {
     "name": "stdout",
     "output_type": "stream",
     "text": [
      "\n",
      "image 1/1 /Users/trangttdang/Documents/Projects/HackAI/NVIDIA-HackAI-FridgeLens-Recipe-Generator/test.jpg: 448x640 1 apple, 3 carrots, 1 orange, 1 tomato, 62.4ms\n",
      "Speed: 6.2ms preprocess, 62.4ms inference, 7.2ms postprocess per image at shape (1, 3, 448, 640)\n"
     ]
    }
   ],
   "source": [
    "detect_result = food_model('test.jpg')"
   ]
  }
 ],
 "metadata": {
  "kernelspec": {
   "display_name": "Python 3",
   "language": "python",
   "name": "python3"
  },
  "language_info": {
   "codemirror_mode": {
    "name": "ipython",
    "version": 3
   },
   "file_extension": ".py",
   "mimetype": "text/x-python",
   "name": "python",
   "nbconvert_exporter": "python",
   "pygments_lexer": "ipython3",
   "version": "3.8.19"
  }
 },
 "nbformat": 4,
 "nbformat_minor": 2
}
