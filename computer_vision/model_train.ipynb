{
 "cells": [
  {
   "cell_type": "code",
   "execution_count": 1,
   "id": "0c983d93",
   "metadata": {},
   "outputs": [],
   "source": [
    "# import libraries\n",
    "from ultralytics import YOLO\n",
    "import torch\n",
    "import cv2\n",
    "import numpy as np\n",
    "import gc"
   ]
  },
  {
   "cell_type": "code",
   "execution_count": 2,
   "id": "f82d5893-1168-4c51-a571-841cb932c09a",
   "metadata": {},
   "outputs": [
    {
     "data": {
      "text/plain": [
       "device(type='cuda')"
      ]
     },
     "execution_count": 2,
     "metadata": {},
     "output_type": "execute_result"
    }
   ],
   "source": [
    "# set model to use cuda\n",
    "device = torch.device(\"cuda\" if torch.cuda.is_available() else \"cpu\")\n",
    "device"
   ]
  },
  {
   "cell_type": "code",
   "execution_count": 13,
   "id": "af9a88f7",
   "metadata": {
    "scrolled": true
   },
   "outputs": [],
   "source": [
    "# train model using yolov8\n",
    "# model = YOLO(\"yolov8n.pt\")\n",
    "# model.train(data = \"C:/Users/antra/Documents/Study/Graduate/Fall 2024/AI-competition/aicook.v4-aicook-augmented.yolov8/data.yaml\", epochs = 20, batch = 24, imgsz = 640)"
   ]
  },
  {
   "cell_type": "code",
   "execution_count": 3,
   "id": "c74a8e3b-8cf8-4a75-9c28-284d1944b3f2",
   "metadata": {},
   "outputs": [
    {
     "data": {
      "text/plain": [
       "0"
      ]
     },
     "execution_count": 3,
     "metadata": {},
     "output_type": "execute_result"
    }
   ],
   "source": [
    "# clear gpu mem after training\n",
    "with torch.no_grad():\n",
    "    torch.cuda.empty_cache()\n",
    "gc.collect()"
   ]
  },
  {
   "cell_type": "code",
   "execution_count": 4,
   "id": "c860ee00",
   "metadata": {
    "scrolled": true
   },
   "outputs": [
    {
     "name": "stdout",
     "output_type": "stream",
     "text": [
      "\n",
      "image 1/1 D:\\HackAI\\FridgeLens\\computer_vision\\IMG_6792.jpg: 640x480 2 carrots, 1 chicken, 1 chocolate, 1 heavy_cream, 3 milks, 1 spinach, 1 sugar, 54.3ms\n",
      "Speed: 5.5ms preprocess, 54.3ms inference, 117.0ms postprocess per image at shape (1, 3, 640, 480)\n"
     ]
    }
   ],
   "source": [
    "# import the newly trained model\n",
    "classifier = YOLO(\"D:\\HackAI\\FridgeLens\\computer_vision/best.pt\")\n",
    "\n",
    "# test phase\n",
    "results = classifier.predict(source=\"D:\\HackAI\\FridgeLens\\computer_vision\\IMG_6792.jpg\")\n",
    "results[0].show()"
   ]
  },
  {
   "cell_type": "code",
   "execution_count": 5,
   "id": "27bf10ae",
   "metadata": {},
   "outputs": [
    {
     "name": "stdout",
     "output_type": "stream",
     "text": [
      "ultralytics.engine.results.Results object with attributes:\n",
      "\n",
      "boxes: ultralytics.engine.results.Boxes object\n",
      "keypoints: None\n",
      "masks: None\n",
      "names: {0: 'apple', 1: 'banana', 2: 'beef', 3: 'blueberries', 4: 'bread', 5: 'butter', 6: 'carrot', 7: 'cheese', 8: 'chicken', 9: 'chicken_breast', 10: 'chocolate', 11: 'corn', 12: 'eggs', 13: 'flour', 14: 'goat_cheese', 15: 'green_beans', 16: 'ground_beef', 17: 'ham', 18: 'heavy_cream', 19: 'lime', 20: 'milk', 21: 'mushrooms', 22: 'onion', 23: 'potato', 24: 'shrimp', 25: 'spinach', 26: 'strawberries', 27: 'sugar', 28: 'sweet_potato', 29: 'tomato'}\n",
      "obb: None\n",
      "orig_img: array([[[ 57,  49,  32],\n",
      "        [ 55,  47,  30],\n",
      "        [ 62,  54,  37],\n",
      "        ...,\n",
      "        [105,  93,  81],\n",
      "        [102,  90,  80],\n",
      "        [101,  89,  79]],\n",
      "\n",
      "       [[ 59,  51,  34],\n",
      "        [ 59,  51,  34],\n",
      "        [ 66,  58,  41],\n",
      "        ...,\n",
      "        [106,  94,  82],\n",
      "        [103,  91,  81],\n",
      "        [ 95,  83,  73]],\n",
      "\n",
      "       [[ 62,  54,  37],\n",
      "        [ 61,  53,  36],\n",
      "        [ 68,  60,  43],\n",
      "        ...,\n",
      "        [102,  90,  78],\n",
      "        [100,  88,  76],\n",
      "        [ 94,  82,  70]],\n",
      "\n",
      "       ...,\n",
      "\n",
      "       [[128, 122, 103],\n",
      "        [126, 120, 101],\n",
      "        [124, 118,  99],\n",
      "        ...,\n",
      "        [161, 139, 114],\n",
      "        [165, 143, 118],\n",
      "        [162, 140, 115]],\n",
      "\n",
      "       [[130, 124, 105],\n",
      "        [129, 123, 104],\n",
      "        [129, 123, 104],\n",
      "        ...,\n",
      "        [150, 127, 105],\n",
      "        [158, 135, 113],\n",
      "        [159, 136, 114]],\n",
      "\n",
      "       [[126, 120, 101],\n",
      "        [127, 121, 102],\n",
      "        [128, 122, 103],\n",
      "        ...,\n",
      "        [146, 123, 101],\n",
      "        [155, 132, 110],\n",
      "        [160, 137, 115]]], dtype=uint8)\n",
      "orig_shape: (4032, 3024)\n",
      "path: 'D:\\\\HackAI\\\\FridgeLens\\\\computer_vision\\\\IMG_6792.jpg'\n",
      "probs: None\n",
      "save_dir: 'runs\\\\detect\\\\predict'\n",
      "speed: {'preprocess': 5.5179595947265625, 'inference': 54.29649353027344, 'postprocess': 117.00248718261719}\n"
     ]
    }
   ],
   "source": [
    "print(results[0])"
   ]
  },
  {
   "cell_type": "code",
   "execution_count": 6,
   "id": "79a4f3d0",
   "metadata": {},
   "outputs": [
    {
     "name": "stdout",
     "output_type": "stream",
     "text": [
      "['apple', 'banana', 'beef', 'blueberries', 'bread', 'butter', 'carrot', 'cheese', 'chicken', 'chicken_breast', 'chocolate', 'corn', 'eggs', 'flour', 'goat_cheese', 'green_beans', 'ground_beef', 'ham', 'heavy_cream', 'lime', 'milk', 'mushrooms', 'onion', 'potato', 'shrimp', 'spinach', 'strawberries', 'sugar', 'sweet_potato', 'tomato']\n"
     ]
    }
   ],
   "source": [
    "item_dict = results[0].names\n",
    "print(list(item_dict.values()))"
   ]
  }
 ],
 "metadata": {
  "kernelspec": {
   "display_name": "fridgelens",
   "language": "python",
   "name": "python3"
  },
  "language_info": {
   "codemirror_mode": {
    "name": "ipython",
    "version": 3
   },
   "file_extension": ".py",
   "mimetype": "text/x-python",
   "name": "python",
   "nbconvert_exporter": "python",
   "pygments_lexer": "ipython3",
   "version": "3.11.9"
  }
 },
 "nbformat": 4,
 "nbformat_minor": 5
}
